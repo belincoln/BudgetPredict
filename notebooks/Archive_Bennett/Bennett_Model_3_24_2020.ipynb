{
 "cells": [
  {
   "cell_type": "code",
   "execution_count": 126,
   "metadata": {},
   "outputs": [],
   "source": [
    "# Import the necessary libraries \n",
    "\n",
    "# used for manipulating directory paths\n",
    "import os\n",
    "\n",
    "# Scientific and vector computation for python\n",
    "import numpy as np\n",
    "import pandas as pd\n",
    "\n",
    "# Plotting library\n",
    "from matplotlib import pyplot\n",
    "\n",
    "# import function to split data into train and test dfs\n",
    "from sklearn.model_selection import train_test_split\n",
    "\n",
    "# Optimization module in scipy\n",
    "from scipy import optimize\n",
    "\n",
    "# Import logistic regression model from SK Learn\n",
    "from sklearn.linear_model import LogisticRegression\n",
    "from sklearn.metrics import confusion_matrix\n",
    "\n",
    "# Import glob as glob, used to consolidate data files\n",
    "import glob"
   ]
  },
  {
   "cell_type": "code",
   "execution_count": 127,
   "metadata": {},
   "outputs": [
    {
     "name": "stdout",
     "output_type": "stream",
     "text": [
      "C:\\Users\\belincoln\\repos\\BudgetPredict\\data\n",
      "C:\\Users\\belincoln\\repos\\BudgetPredict\\data\\test_data\n"
     ]
    }
   ],
   "source": [
    "os.chdir('C:\\\\Users\\\\belincoln\\\\repos\\\\BudgetPredict')\n",
    "# Set working directory to the data folder so you can correctly read in the csv files\n",
    "%cd data\n",
    "%cd test_data"
   ]
  },
  {
   "cell_type": "code",
   "execution_count": 154,
   "metadata": {},
   "outputs": [],
   "source": [
    "# read all csv files within the test_data folder. This should be 2008-2018 (11 years), of DHS contract award data\n",
    "all_files = glob.glob(\"*.csv\")\n",
    "\n",
    "li = []\n",
    "\n",
    "for filename in all_files:\n",
    "    df = pd.read_csv(filename, header = 0, usecols = ['contract_transaction_unique_key',\n",
    "                        'contract_award_unique_key',\n",
    "                        'federal_action_obligation','total_dollars_obligated', 'base_and_exercised_options_value', \n",
    "                        'current_total_value_of_award', 'base_and_all_options_value','potential_total_value_of_award',\n",
    "                        'action_date'],\n",
    "                 dtype = {'contract_transaction_unique_key':'str','contract_transaction_unique_key':'str',\n",
    "                          'federal_action_obligation': 'float','total_dollars_obligated': 'float', \n",
    "                          'base_and_exercised_options_value': 'float', 'current_total_value_of_award': 'float', \n",
    "                          'base_and_all_options_value': 'float','potential_total_value_of_award': 'float',\n",
    "                          'action_date':'str'})\n",
    "    li.append(df)\n",
    "\n",
    "df = pd.concat(li, axis=0, ignore_index=True)\n"
   ]
  },
  {
   "cell_type": "code",
   "execution_count": 155,
   "metadata": {},
   "outputs": [
    {
     "data": {
      "text/html": [
       "<div>\n",
       "<style scoped>\n",
       "    .dataframe tbody tr th:only-of-type {\n",
       "        vertical-align: middle;\n",
       "    }\n",
       "\n",
       "    .dataframe tbody tr th {\n",
       "        vertical-align: top;\n",
       "    }\n",
       "\n",
       "    .dataframe thead th {\n",
       "        text-align: right;\n",
       "    }\n",
       "</style>\n",
       "<table border=\"1\" class=\"dataframe\">\n",
       "  <thead>\n",
       "    <tr style=\"text-align: right;\">\n",
       "      <th></th>\n",
       "      <th>contract_transaction_unique_key</th>\n",
       "      <th>contract_award_unique_key</th>\n",
       "      <th>federal_action_obligation</th>\n",
       "      <th>total_dollars_obligated</th>\n",
       "      <th>base_and_exercised_options_value</th>\n",
       "      <th>current_total_value_of_award</th>\n",
       "      <th>base_and_all_options_value</th>\n",
       "      <th>potential_total_value_of_award</th>\n",
       "      <th>action_date</th>\n",
       "    </tr>\n",
       "  </thead>\n",
       "  <tbody>\n",
       "    <tr>\n",
       "      <td>0</td>\n",
       "      <td>7014_4730_HSBP20080015201839_0_GS21F0031U_0</td>\n",
       "      <td>CONT_AWD_HSBP20080015201839_7014_GS21F0031U_4730</td>\n",
       "      <td>7830.75</td>\n",
       "      <td>NaN</td>\n",
       "      <td>7830.75</td>\n",
       "      <td>NaN</td>\n",
       "      <td>7830.75</td>\n",
       "      <td>NaN</td>\n",
       "      <td>2008-09-30</td>\n",
       "    </tr>\n",
       "    <tr>\n",
       "      <td>1</td>\n",
       "      <td>7001_-NONE-_HSHQDC06C00065_P00034_-NONE-_-NONE-</td>\n",
       "      <td>CONT_IDV_HSHQDC06C00065_7001</td>\n",
       "      <td>0.00</td>\n",
       "      <td>NaN</td>\n",
       "      <td>0.00</td>\n",
       "      <td>NaN</td>\n",
       "      <td>0.00</td>\n",
       "      <td>NaN</td>\n",
       "      <td>2008-09-30</td>\n",
       "    </tr>\n",
       "    <tr>\n",
       "      <td>2</td>\n",
       "      <td>7008_-NONE-_HSCG2808P7ABEC9_1_-NONE-_0</td>\n",
       "      <td>CONT_AWD_HSCG2808P7ABEC9_7008_-NONE-_-NONE-</td>\n",
       "      <td>-122.00</td>\n",
       "      <td>NaN</td>\n",
       "      <td>-122.00</td>\n",
       "      <td>NaN</td>\n",
       "      <td>-122.00</td>\n",
       "      <td>NaN</td>\n",
       "      <td>2008-09-30</td>\n",
       "    </tr>\n",
       "    <tr>\n",
       "      <td>3</td>\n",
       "      <td>7001_-NONE-_HSHQDC08C00190_0_-NONE-_-NONE-</td>\n",
       "      <td>CONT_IDV_HSHQDC08C00190_7001</td>\n",
       "      <td>492248.00</td>\n",
       "      <td>NaN</td>\n",
       "      <td>0.00</td>\n",
       "      <td>NaN</td>\n",
       "      <td>492248.00</td>\n",
       "      <td>NaN</td>\n",
       "      <td>2008-09-30</td>\n",
       "    </tr>\n",
       "    <tr>\n",
       "      <td>4</td>\n",
       "      <td>7008_-NONE-_HSCG4508P6K4ZHT_0_-NONE-_0</td>\n",
       "      <td>CONT_AWD_HSCG4508P6K4ZHT_7008_-NONE-_-NONE-</td>\n",
       "      <td>25218.00</td>\n",
       "      <td>NaN</td>\n",
       "      <td>25218.00</td>\n",
       "      <td>NaN</td>\n",
       "      <td>25218.00</td>\n",
       "      <td>NaN</td>\n",
       "      <td>2008-09-30</td>\n",
       "    </tr>\n",
       "    <tr>\n",
       "      <td>...</td>\n",
       "      <td>...</td>\n",
       "      <td>...</td>\n",
       "      <td>...</td>\n",
       "      <td>...</td>\n",
       "      <td>...</td>\n",
       "      <td>...</td>\n",
       "      <td>...</td>\n",
       "      <td>...</td>\n",
       "      <td>...</td>\n",
       "    </tr>\n",
       "    <tr>\n",
       "      <td>1020084</td>\n",
       "      <td>7001_-NONE-_HSHQDC10A00106_P00006_-NONE-_-NONE-</td>\n",
       "      <td>CONT_IDV_HSHQDC10A00106_7001</td>\n",
       "      <td>0.00</td>\n",
       "      <td>0.0</td>\n",
       "      <td>NaN</td>\n",
       "      <td>NaN</td>\n",
       "      <td>0.00</td>\n",
       "      <td>43000000.0</td>\n",
       "      <td>2017-10-01</td>\n",
       "    </tr>\n",
       "    <tr>\n",
       "      <td>1020085</td>\n",
       "      <td>7008_-NONE-_70Z02818P7P100100_0_-NONE-_0</td>\n",
       "      <td>CONT_AWD_70Z02818P7P100100_7008_-NONE-_-NONE-</td>\n",
       "      <td>688.80</td>\n",
       "      <td>NaN</td>\n",
       "      <td>688.80</td>\n",
       "      <td>2755.2</td>\n",
       "      <td>688.80</td>\n",
       "      <td>2755.2</td>\n",
       "      <td>2017-10-01</td>\n",
       "    </tr>\n",
       "    <tr>\n",
       "      <td>1020086</td>\n",
       "      <td>7013_7013_70T06018F4NMED018_0_HSTS0415ACT4026_0</td>\n",
       "      <td>CONT_AWD_70T06018F4NMED018_7013_HSTS0415ACT402...</td>\n",
       "      <td>12271.80</td>\n",
       "      <td>12271.8</td>\n",
       "      <td>12271.80</td>\n",
       "      <td>12271.8</td>\n",
       "      <td>12271.80</td>\n",
       "      <td>12271.8</td>\n",
       "      <td>2017-10-01</td>\n",
       "    </tr>\n",
       "    <tr>\n",
       "      <td>1020087</td>\n",
       "      <td>7013_7013_70T06018F4NMED016_0_HSTS0517ACT4006_0</td>\n",
       "      <td>CONT_AWD_70T06018F4NMED016_7013_HSTS0517ACT400...</td>\n",
       "      <td>9998.10</td>\n",
       "      <td>9998.1</td>\n",
       "      <td>9998.10</td>\n",
       "      <td>9998.1</td>\n",
       "      <td>9998.10</td>\n",
       "      <td>9998.1</td>\n",
       "      <td>2017-10-01</td>\n",
       "    </tr>\n",
       "    <tr>\n",
       "      <td>1020088</td>\n",
       "      <td>7008_-NONE-_HSCGG817PGLA003_P00006_-NONE-_0</td>\n",
       "      <td>CONT_AWD_HSCGG817PGLA003_7008_-NONE-_-NONE-</td>\n",
       "      <td>700.00</td>\n",
       "      <td>5568.5</td>\n",
       "      <td>700.00</td>\n",
       "      <td>5568.5</td>\n",
       "      <td>700.00</td>\n",
       "      <td>5568.5</td>\n",
       "      <td>2017-10-01</td>\n",
       "    </tr>\n",
       "  </tbody>\n",
       "</table>\n",
       "<p>1020089 rows × 9 columns</p>\n",
       "</div>"
      ],
      "text/plain": [
       "                         contract_transaction_unique_key  \\\n",
       "0            7014_4730_HSBP20080015201839_0_GS21F0031U_0   \n",
       "1        7001_-NONE-_HSHQDC06C00065_P00034_-NONE-_-NONE-   \n",
       "2                 7008_-NONE-_HSCG2808P7ABEC9_1_-NONE-_0   \n",
       "3             7001_-NONE-_HSHQDC08C00190_0_-NONE-_-NONE-   \n",
       "4                 7008_-NONE-_HSCG4508P6K4ZHT_0_-NONE-_0   \n",
       "...                                                  ...   \n",
       "1020084  7001_-NONE-_HSHQDC10A00106_P00006_-NONE-_-NONE-   \n",
       "1020085         7008_-NONE-_70Z02818P7P100100_0_-NONE-_0   \n",
       "1020086  7013_7013_70T06018F4NMED018_0_HSTS0415ACT4026_0   \n",
       "1020087  7013_7013_70T06018F4NMED016_0_HSTS0517ACT4006_0   \n",
       "1020088      7008_-NONE-_HSCGG817PGLA003_P00006_-NONE-_0   \n",
       "\n",
       "                                 contract_award_unique_key  \\\n",
       "0         CONT_AWD_HSBP20080015201839_7014_GS21F0031U_4730   \n",
       "1                             CONT_IDV_HSHQDC06C00065_7001   \n",
       "2              CONT_AWD_HSCG2808P7ABEC9_7008_-NONE-_-NONE-   \n",
       "3                             CONT_IDV_HSHQDC08C00190_7001   \n",
       "4              CONT_AWD_HSCG4508P6K4ZHT_7008_-NONE-_-NONE-   \n",
       "...                                                    ...   \n",
       "1020084                       CONT_IDV_HSHQDC10A00106_7001   \n",
       "1020085      CONT_AWD_70Z02818P7P100100_7008_-NONE-_-NONE-   \n",
       "1020086  CONT_AWD_70T06018F4NMED018_7013_HSTS0415ACT402...   \n",
       "1020087  CONT_AWD_70T06018F4NMED016_7013_HSTS0517ACT400...   \n",
       "1020088        CONT_AWD_HSCGG817PGLA003_7008_-NONE-_-NONE-   \n",
       "\n",
       "         federal_action_obligation  total_dollars_obligated  \\\n",
       "0                          7830.75                      NaN   \n",
       "1                             0.00                      NaN   \n",
       "2                          -122.00                      NaN   \n",
       "3                        492248.00                      NaN   \n",
       "4                         25218.00                      NaN   \n",
       "...                            ...                      ...   \n",
       "1020084                       0.00                      0.0   \n",
       "1020085                     688.80                      NaN   \n",
       "1020086                   12271.80                  12271.8   \n",
       "1020087                    9998.10                   9998.1   \n",
       "1020088                     700.00                   5568.5   \n",
       "\n",
       "         base_and_exercised_options_value  current_total_value_of_award  \\\n",
       "0                                 7830.75                           NaN   \n",
       "1                                    0.00                           NaN   \n",
       "2                                 -122.00                           NaN   \n",
       "3                                    0.00                           NaN   \n",
       "4                                25218.00                           NaN   \n",
       "...                                   ...                           ...   \n",
       "1020084                               NaN                           NaN   \n",
       "1020085                            688.80                        2755.2   \n",
       "1020086                          12271.80                       12271.8   \n",
       "1020087                           9998.10                        9998.1   \n",
       "1020088                            700.00                        5568.5   \n",
       "\n",
       "         base_and_all_options_value  potential_total_value_of_award  \\\n",
       "0                           7830.75                             NaN   \n",
       "1                              0.00                             NaN   \n",
       "2                           -122.00                             NaN   \n",
       "3                         492248.00                             NaN   \n",
       "4                          25218.00                             NaN   \n",
       "...                             ...                             ...   \n",
       "1020084                        0.00                      43000000.0   \n",
       "1020085                      688.80                          2755.2   \n",
       "1020086                    12271.80                         12271.8   \n",
       "1020087                     9998.10                          9998.1   \n",
       "1020088                      700.00                          5568.5   \n",
       "\n",
       "        action_date  \n",
       "0        2008-09-30  \n",
       "1        2008-09-30  \n",
       "2        2008-09-30  \n",
       "3        2008-09-30  \n",
       "4        2008-09-30  \n",
       "...             ...  \n",
       "1020084  2017-10-01  \n",
       "1020085  2017-10-01  \n",
       "1020086  2017-10-01  \n",
       "1020087  2017-10-01  \n",
       "1020088  2017-10-01  \n",
       "\n",
       "[1020089 rows x 9 columns]"
      ]
     },
     "execution_count": 155,
     "metadata": {},
     "output_type": "execute_result"
    }
   ],
   "source": [
    "df"
   ]
  },
  {
   "cell_type": "code",
   "execution_count": 156,
   "metadata": {},
   "outputs": [],
   "source": [
    "# Create 3 new features for analysis\n",
    "df['Percent awarded over potential total awarded'] = df['current_total_value_of_award'] / df['potential_total_value_of_award']\n",
    "# This is what we are using for our rate of Execution\n",
    "df['Percent Cumulatively Obligated over potential total value of award'] = df['total_dollars_obligated'] / df['potential_total_value_of_award']\n",
    "df['Percent Cumulatively Obligated over total value already awarded'] = df['total_dollars_obligated'] / df['current_total_value_of_award']\n",
    "\n",
    "# Create Indicator Variable\n",
    "df['Indicator'] = df['federal_action_obligation']<-1000"
   ]
  },
  {
   "cell_type": "code",
   "execution_count": 157,
   "metadata": {},
   "outputs": [
    {
     "data": {
      "text/plain": [
       "Index(['contract_transaction_unique_key', 'contract_award_unique_key',\n",
       "       'federal_action_obligation', 'total_dollars_obligated',\n",
       "       'base_and_exercised_options_value', 'current_total_value_of_award',\n",
       "       'base_and_all_options_value', 'potential_total_value_of_award',\n",
       "       'action_date', 'Percent awarded over potential total awarded',\n",
       "       'Percent Cumulatively Obligated over potential total value of award',\n",
       "       'Percent Cumulatively Obligated over total value already awarded',\n",
       "       'Indicator'],\n",
       "      dtype='object')"
      ]
     },
     "execution_count": 157,
     "metadata": {},
     "output_type": "execute_result"
    }
   ],
   "source": [
    "df.columns"
   ]
  },
  {
   "cell_type": "code",
   "execution_count": 158,
   "metadata": {},
   "outputs": [
    {
     "data": {
      "text/html": [
       "<div>\n",
       "<style scoped>\n",
       "    .dataframe tbody tr th:only-of-type {\n",
       "        vertical-align: middle;\n",
       "    }\n",
       "\n",
       "    .dataframe tbody tr th {\n",
       "        vertical-align: top;\n",
       "    }\n",
       "\n",
       "    .dataframe thead th {\n",
       "        text-align: right;\n",
       "    }\n",
       "</style>\n",
       "<table border=\"1\" class=\"dataframe\">\n",
       "  <thead>\n",
       "    <tr style=\"text-align: right;\">\n",
       "      <th></th>\n",
       "      <th></th>\n",
       "      <th>total_dollars_obligated</th>\n",
       "      <th>current_total_value_of_award</th>\n",
       "      <th>base_and_all_options_value</th>\n",
       "      <th>potential_total_value_of_award</th>\n",
       "      <th>Percent awarded over potential total awarded</th>\n",
       "      <th>Percent Cumulatively Obligated over potential total value of award</th>\n",
       "      <th>Percent Cumulatively Obligated over total value already awarded</th>\n",
       "      <th>Indicator</th>\n",
       "    </tr>\n",
       "    <tr>\n",
       "      <th>contract_award_unique_key</th>\n",
       "      <th>action_date</th>\n",
       "      <th></th>\n",
       "      <th></th>\n",
       "      <th></th>\n",
       "      <th></th>\n",
       "      <th></th>\n",
       "      <th></th>\n",
       "      <th></th>\n",
       "      <th></th>\n",
       "    </tr>\n",
       "  </thead>\n",
       "  <tbody>\n",
       "    <tr>\n",
       "      <td>CONT_AWD_00001_7022_HSFE0408A0017_7022</td>\n",
       "      <td>2008-02-15</td>\n",
       "      <td>0.0</td>\n",
       "      <td>0.0</td>\n",
       "      <td>0.0</td>\n",
       "      <td>0.0</td>\n",
       "      <td>0.0</td>\n",
       "      <td>0.0</td>\n",
       "      <td>0.0</td>\n",
       "      <td>False</td>\n",
       "    </tr>\n",
       "    <tr>\n",
       "      <td>CONT_AWD_00001_7022_HSFE0408A0035_7022</td>\n",
       "      <td>2008-02-20</td>\n",
       "      <td>0.0</td>\n",
       "      <td>0.0</td>\n",
       "      <td>0.0</td>\n",
       "      <td>0.0</td>\n",
       "      <td>0.0</td>\n",
       "      <td>0.0</td>\n",
       "      <td>0.0</td>\n",
       "      <td>False</td>\n",
       "    </tr>\n",
       "    <tr>\n",
       "      <td>CONT_AWD_00001_7022_HSFE0408A0066_7022</td>\n",
       "      <td>2008-05-15</td>\n",
       "      <td>0.0</td>\n",
       "      <td>0.0</td>\n",
       "      <td>0.0</td>\n",
       "      <td>0.0</td>\n",
       "      <td>0.0</td>\n",
       "      <td>0.0</td>\n",
       "      <td>0.0</td>\n",
       "      <td>False</td>\n",
       "    </tr>\n",
       "    <tr>\n",
       "      <td rowspan=\"2\" valign=\"top\">CONT_AWD_00001_7022_HSFE0408A0067_7022</td>\n",
       "      <td>2008-03-31</td>\n",
       "      <td>0.0</td>\n",
       "      <td>0.0</td>\n",
       "      <td>0.0</td>\n",
       "      <td>0.0</td>\n",
       "      <td>0.0</td>\n",
       "      <td>0.0</td>\n",
       "      <td>0.0</td>\n",
       "      <td>False</td>\n",
       "    </tr>\n",
       "    <tr>\n",
       "      <td>2012-07-27</td>\n",
       "      <td>0.0</td>\n",
       "      <td>0.0</td>\n",
       "      <td>1470.0</td>\n",
       "      <td>0.0</td>\n",
       "      <td>0.0</td>\n",
       "      <td>0.0</td>\n",
       "      <td>0.0</td>\n",
       "      <td>False</td>\n",
       "    </tr>\n",
       "    <tr>\n",
       "      <td>...</td>\n",
       "      <td>...</td>\n",
       "      <td>...</td>\n",
       "      <td>...</td>\n",
       "      <td>...</td>\n",
       "      <td>...</td>\n",
       "      <td>...</td>\n",
       "      <td>...</td>\n",
       "      <td>...</td>\n",
       "      <td>...</td>\n",
       "    </tr>\n",
       "    <tr>\n",
       "      <td rowspan=\"2\" valign=\"top\">CONT_IDV_TPDFIGBPA100001_2036</td>\n",
       "      <td>2010-10-26</td>\n",
       "      <td>0.0</td>\n",
       "      <td>0.0</td>\n",
       "      <td>0.0</td>\n",
       "      <td>0.0</td>\n",
       "      <td>0.0</td>\n",
       "      <td>0.0</td>\n",
       "      <td>0.0</td>\n",
       "      <td>False</td>\n",
       "    </tr>\n",
       "    <tr>\n",
       "      <td>2010-10-26</td>\n",
       "      <td>0.0</td>\n",
       "      <td>0.0</td>\n",
       "      <td>0.0</td>\n",
       "      <td>0.0</td>\n",
       "      <td>0.0</td>\n",
       "      <td>0.0</td>\n",
       "      <td>0.0</td>\n",
       "      <td>False</td>\n",
       "    </tr>\n",
       "    <tr>\n",
       "      <td>CONT_IDV_WRO02005_7012</td>\n",
       "      <td>2017-05-31</td>\n",
       "      <td>0.0</td>\n",
       "      <td>0.0</td>\n",
       "      <td>0.0</td>\n",
       "      <td>0.0</td>\n",
       "      <td>0.0</td>\n",
       "      <td>0.0</td>\n",
       "      <td>0.0</td>\n",
       "      <td>False</td>\n",
       "    </tr>\n",
       "    <tr>\n",
       "      <td>CONT_IDV_WRO9812_7012</td>\n",
       "      <td>2017-05-31</td>\n",
       "      <td>0.0</td>\n",
       "      <td>0.0</td>\n",
       "      <td>0.0</td>\n",
       "      <td>0.0</td>\n",
       "      <td>0.0</td>\n",
       "      <td>0.0</td>\n",
       "      <td>0.0</td>\n",
       "      <td>False</td>\n",
       "    </tr>\n",
       "    <tr>\n",
       "      <td>CONT_IDV_WRO9816_7012</td>\n",
       "      <td>2017-05-31</td>\n",
       "      <td>0.0</td>\n",
       "      <td>0.0</td>\n",
       "      <td>0.0</td>\n",
       "      <td>0.0</td>\n",
       "      <td>0.0</td>\n",
       "      <td>0.0</td>\n",
       "      <td>0.0</td>\n",
       "      <td>False</td>\n",
       "    </tr>\n",
       "  </tbody>\n",
       "</table>\n",
       "<p>1020089 rows × 8 columns</p>\n",
       "</div>"
      ],
      "text/plain": [
       "                                                    total_dollars_obligated  \\\n",
       "contract_award_unique_key              action_date                            \n",
       "CONT_AWD_00001_7022_HSFE0408A0017_7022 2008-02-15                       0.0   \n",
       "CONT_AWD_00001_7022_HSFE0408A0035_7022 2008-02-20                       0.0   \n",
       "CONT_AWD_00001_7022_HSFE0408A0066_7022 2008-05-15                       0.0   \n",
       "CONT_AWD_00001_7022_HSFE0408A0067_7022 2008-03-31                       0.0   \n",
       "                                       2012-07-27                       0.0   \n",
       "...                                                                     ...   \n",
       "CONT_IDV_TPDFIGBPA100001_2036          2010-10-26                       0.0   \n",
       "                                       2010-10-26                       0.0   \n",
       "CONT_IDV_WRO02005_7012                 2017-05-31                       0.0   \n",
       "CONT_IDV_WRO9812_7012                  2017-05-31                       0.0   \n",
       "CONT_IDV_WRO9816_7012                  2017-05-31                       0.0   \n",
       "\n",
       "                                                    current_total_value_of_award  \\\n",
       "contract_award_unique_key              action_date                                 \n",
       "CONT_AWD_00001_7022_HSFE0408A0017_7022 2008-02-15                            0.0   \n",
       "CONT_AWD_00001_7022_HSFE0408A0035_7022 2008-02-20                            0.0   \n",
       "CONT_AWD_00001_7022_HSFE0408A0066_7022 2008-05-15                            0.0   \n",
       "CONT_AWD_00001_7022_HSFE0408A0067_7022 2008-03-31                            0.0   \n",
       "                                       2012-07-27                            0.0   \n",
       "...                                                                          ...   \n",
       "CONT_IDV_TPDFIGBPA100001_2036          2010-10-26                            0.0   \n",
       "                                       2010-10-26                            0.0   \n",
       "CONT_IDV_WRO02005_7012                 2017-05-31                            0.0   \n",
       "CONT_IDV_WRO9812_7012                  2017-05-31                            0.0   \n",
       "CONT_IDV_WRO9816_7012                  2017-05-31                            0.0   \n",
       "\n",
       "                                                    base_and_all_options_value  \\\n",
       "contract_award_unique_key              action_date                               \n",
       "CONT_AWD_00001_7022_HSFE0408A0017_7022 2008-02-15                          0.0   \n",
       "CONT_AWD_00001_7022_HSFE0408A0035_7022 2008-02-20                          0.0   \n",
       "CONT_AWD_00001_7022_HSFE0408A0066_7022 2008-05-15                          0.0   \n",
       "CONT_AWD_00001_7022_HSFE0408A0067_7022 2008-03-31                          0.0   \n",
       "                                       2012-07-27                       1470.0   \n",
       "...                                                                        ...   \n",
       "CONT_IDV_TPDFIGBPA100001_2036          2010-10-26                          0.0   \n",
       "                                       2010-10-26                          0.0   \n",
       "CONT_IDV_WRO02005_7012                 2017-05-31                          0.0   \n",
       "CONT_IDV_WRO9812_7012                  2017-05-31                          0.0   \n",
       "CONT_IDV_WRO9816_7012                  2017-05-31                          0.0   \n",
       "\n",
       "                                                    potential_total_value_of_award  \\\n",
       "contract_award_unique_key              action_date                                   \n",
       "CONT_AWD_00001_7022_HSFE0408A0017_7022 2008-02-15                              0.0   \n",
       "CONT_AWD_00001_7022_HSFE0408A0035_7022 2008-02-20                              0.0   \n",
       "CONT_AWD_00001_7022_HSFE0408A0066_7022 2008-05-15                              0.0   \n",
       "CONT_AWD_00001_7022_HSFE0408A0067_7022 2008-03-31                              0.0   \n",
       "                                       2012-07-27                              0.0   \n",
       "...                                                                            ...   \n",
       "CONT_IDV_TPDFIGBPA100001_2036          2010-10-26                              0.0   \n",
       "                                       2010-10-26                              0.0   \n",
       "CONT_IDV_WRO02005_7012                 2017-05-31                              0.0   \n",
       "CONT_IDV_WRO9812_7012                  2017-05-31                              0.0   \n",
       "CONT_IDV_WRO9816_7012                  2017-05-31                              0.0   \n",
       "\n",
       "                                                    Percent awarded over potential total awarded  \\\n",
       "contract_award_unique_key              action_date                                                 \n",
       "CONT_AWD_00001_7022_HSFE0408A0017_7022 2008-02-15                                            0.0   \n",
       "CONT_AWD_00001_7022_HSFE0408A0035_7022 2008-02-20                                            0.0   \n",
       "CONT_AWD_00001_7022_HSFE0408A0066_7022 2008-05-15                                            0.0   \n",
       "CONT_AWD_00001_7022_HSFE0408A0067_7022 2008-03-31                                            0.0   \n",
       "                                       2012-07-27                                            0.0   \n",
       "...                                                                                          ...   \n",
       "CONT_IDV_TPDFIGBPA100001_2036          2010-10-26                                            0.0   \n",
       "                                       2010-10-26                                            0.0   \n",
       "CONT_IDV_WRO02005_7012                 2017-05-31                                            0.0   \n",
       "CONT_IDV_WRO9812_7012                  2017-05-31                                            0.0   \n",
       "CONT_IDV_WRO9816_7012                  2017-05-31                                            0.0   \n",
       "\n",
       "                                                    Percent Cumulatively Obligated over potential total value of award  \\\n",
       "contract_award_unique_key              action_date                                                                       \n",
       "CONT_AWD_00001_7022_HSFE0408A0017_7022 2008-02-15                                                 0.0                    \n",
       "CONT_AWD_00001_7022_HSFE0408A0035_7022 2008-02-20                                                 0.0                    \n",
       "CONT_AWD_00001_7022_HSFE0408A0066_7022 2008-05-15                                                 0.0                    \n",
       "CONT_AWD_00001_7022_HSFE0408A0067_7022 2008-03-31                                                 0.0                    \n",
       "                                       2012-07-27                                                 0.0                    \n",
       "...                                                                                               ...                    \n",
       "CONT_IDV_TPDFIGBPA100001_2036          2010-10-26                                                 0.0                    \n",
       "                                       2010-10-26                                                 0.0                    \n",
       "CONT_IDV_WRO02005_7012                 2017-05-31                                                 0.0                    \n",
       "CONT_IDV_WRO9812_7012                  2017-05-31                                                 0.0                    \n",
       "CONT_IDV_WRO9816_7012                  2017-05-31                                                 0.0                    \n",
       "\n",
       "                                                    Percent Cumulatively Obligated over total value already awarded  \\\n",
       "contract_award_unique_key              action_date                                                                    \n",
       "CONT_AWD_00001_7022_HSFE0408A0017_7022 2008-02-15                                                 0.0                 \n",
       "CONT_AWD_00001_7022_HSFE0408A0035_7022 2008-02-20                                                 0.0                 \n",
       "CONT_AWD_00001_7022_HSFE0408A0066_7022 2008-05-15                                                 0.0                 \n",
       "CONT_AWD_00001_7022_HSFE0408A0067_7022 2008-03-31                                                 0.0                 \n",
       "                                       2012-07-27                                                 0.0                 \n",
       "...                                                                                               ...                 \n",
       "CONT_IDV_TPDFIGBPA100001_2036          2010-10-26                                                 0.0                 \n",
       "                                       2010-10-26                                                 0.0                 \n",
       "CONT_IDV_WRO02005_7012                 2017-05-31                                                 0.0                 \n",
       "CONT_IDV_WRO9812_7012                  2017-05-31                                                 0.0                 \n",
       "CONT_IDV_WRO9816_7012                  2017-05-31                                                 0.0                 \n",
       "\n",
       "                                                    Indicator  \n",
       "contract_award_unique_key              action_date             \n",
       "CONT_AWD_00001_7022_HSFE0408A0017_7022 2008-02-15       False  \n",
       "CONT_AWD_00001_7022_HSFE0408A0035_7022 2008-02-20       False  \n",
       "CONT_AWD_00001_7022_HSFE0408A0066_7022 2008-05-15       False  \n",
       "CONT_AWD_00001_7022_HSFE0408A0067_7022 2008-03-31       False  \n",
       "                                       2012-07-27       False  \n",
       "...                                                       ...  \n",
       "CONT_IDV_TPDFIGBPA100001_2036          2010-10-26       False  \n",
       "                                       2010-10-26       False  \n",
       "CONT_IDV_WRO02005_7012                 2017-05-31       False  \n",
       "CONT_IDV_WRO9812_7012                  2017-05-31       False  \n",
       "CONT_IDV_WRO9816_7012                  2017-05-31       False  \n",
       "\n",
       "[1020089 rows x 8 columns]"
      ]
     },
     "execution_count": 158,
     "metadata": {},
     "output_type": "execute_result"
    }
   ],
   "source": [
    "# Indicator Variable has been established, the size of de-obligation is not signficant, we will drop this column, \n",
    "# as well as highly correlated column (base and exercised options value), and unique transaction key\n",
    "df.drop(['federal_action_obligation','base_and_exercised_options_value','contract_transaction_unique_key'], axis =1, inplace = True)\n",
    "df = df.fillna(0)\n",
    "# Convert action date to pd.datetime\n",
    "df['action_date'] = pd.to_datetime(df['action_date'])\n",
    "# set index to each contract and date\n",
    "df.set_index(['contract_award_unique_key','action_date'], inplace = True)\n",
    "df.sort_index()"
   ]
  },
  {
   "cell_type": "code",
   "execution_count": 159,
   "metadata": {},
   "outputs": [
    {
     "data": {
      "text/plain": [
       "Index(['total_dollars_obligated', 'current_total_value_of_award',\n",
       "       'base_and_all_options_value', 'potential_total_value_of_award',\n",
       "       'Percent awarded over potential total awarded',\n",
       "       'Percent Cumulatively Obligated over potential total value of award',\n",
       "       'Percent Cumulatively Obligated over total value already awarded',\n",
       "       'Indicator'],\n",
       "      dtype='object')"
      ]
     },
     "execution_count": 159,
     "metadata": {},
     "output_type": "execute_result"
    }
   ],
   "source": [
    "df.columns"
   ]
  },
  {
   "cell_type": "code",
   "execution_count": 160,
   "metadata": {},
   "outputs": [
    {
     "data": {
      "text/plain": [
       "['total_dollars_obligated',\n",
       " 'current_total_value_of_award',\n",
       " 'base_and_all_options_value',\n",
       " 'potential_total_value_of_award',\n",
       " 'Percent awarded over potential total awarded',\n",
       " 'Percent Cumulatively Obligated over potential total value of award',\n",
       " 'Percent Cumulatively Obligated over total value already awarded',\n",
       " 'Indicator']"
      ]
     },
     "execution_count": 160,
     "metadata": {},
     "output_type": "execute_result"
    }
   ],
   "source": [
    "list(df.columns)"
   ]
  },
  {
   "cell_type": "code",
   "execution_count": 162,
   "metadata": {},
   "outputs": [],
   "source": [
    "# We want to only focus on execution rate (for now). I'm not sure which column is the best indicator of execution rate\n",
    "# we can follow up with Eric. I'm going to stick with Percent Cumulatively Obligated over potential total value of award\n",
    "# as wequal to the execution rate.\n",
    "drop_columns = [column for column in df.columns if column != 'Percent Cumulatively Obligated over potential total value of award']\n",
    "df.drop(drop_columns,axis = 1, inplace=True)\n",
    "\n",
    "df.rename(columns = {'Percent Cumulatively Obligated over potential total value of award':'execution_rate'},inplace = True)"
   ]
  },
  {
   "cell_type": "code",
   "execution_count": 171,
   "metadata": {},
   "outputs": [
    {
     "name": "stdout",
     "output_type": "stream",
     "text": [
      "This is the number of unique Contracts: 485094\n",
      "This is the number of transactions: 1020089\n"
     ]
    }
   ],
   "source": [
    "contracts = [contract for contract, date in list(df.index)]\n",
    "unique_k = set(contracts)\n",
    "print('This is the number of unique Contracts: ' + str(len(unique_k)))\n",
    "print('This is the number of transactions: ' + str(len(contracts)))"
   ]
  },
  {
   "cell_type": "code",
   "execution_count": null,
   "metadata": {},
   "outputs": [],
   "source": []
  },
  {
   "cell_type": "code",
   "execution_count": 175,
   "metadata": {},
   "outputs": [],
   "source": [
    "# I grouped the dataframe by contract and used the .count(method)\n",
    "# to determine the number of entries. I then used an inequality to get a boolean series of the number of contracts \n",
    "# that satisfied the condition of at least 5 transactions.\n",
    "test = df.groupby(level='contract_award_unique_key')['execution_rate'].count() >= 5"
   ]
  },
  {
   "cell_type": "code",
   "execution_count": 176,
   "metadata": {},
   "outputs": [
    {
     "data": {
      "text/plain": [
       "33612"
      ]
     },
     "execution_count": 176,
     "metadata": {},
     "output_type": "execute_result"
    }
   ],
   "source": [
    "# Summed the boolean series to determine the number of contracts that satisfied this condition. \n",
    "test.sum()"
   ]
  },
  {
   "cell_type": "code",
   "execution_count": 177,
   "metadata": {},
   "outputs": [],
   "source": [
    "test = test.reset_index()"
   ]
  },
  {
   "cell_type": "code",
   "execution_count": 178,
   "metadata": {},
   "outputs": [
    {
     "data": {
      "text/plain": [
       "Index(['contract_award_unique_key', 'execution_rate'], dtype='object')"
      ]
     },
     "execution_count": 178,
     "metadata": {},
     "output_type": "execute_result"
    }
   ],
   "source": [
    "test.columns"
   ]
  },
  {
   "cell_type": "code",
   "execution_count": 179,
   "metadata": {},
   "outputs": [
    {
     "data": {
      "text/plain": [
       "33612"
      ]
     },
     "execution_count": 179,
     "metadata": {},
     "output_type": "execute_result"
    }
   ],
   "source": [
    "# Test length of transactions\n",
    "len(test[test['execution_rate'] == True])"
   ]
  },
  {
   "cell_type": "code",
   "execution_count": 180,
   "metadata": {},
   "outputs": [],
   "source": [
    "# This is the list of contracts that have more than 5 transactions. \n",
    "highlighted_transactions = test[test['execution_rate'] == True]['contract_award_unique_key'].reset_index(drop=True)"
   ]
  },
  {
   "cell_type": "code",
   "execution_count": 181,
   "metadata": {},
   "outputs": [
    {
     "data": {
      "text/plain": [
       "0                  CONT_AWD_0001_2036_TPDFIGBPA100001_2036\n",
       "1        CONT_AWD_00020200212DDTSA2003C00546_7013_-NONE...\n",
       "2        CONT_AWD_00020200212DDTSA2003C00717_7013_-NONE...\n",
       "3        CONT_AWD_00020200306C0005DTSA2003D00754_7013_D...\n",
       "4        CONT_AWD_00020200308C0004DTSA2003D00754_7013_D...\n",
       "                               ...                        \n",
       "33607                        CONT_IDV_HSTS0715DTWE204_7013\n",
       "33608                        CONT_IDV_HSTSFM09DEAL011_7013\n",
       "33609                               CONT_IDV_TFTC0315_7015\n",
       "33610                          CONT_IDV_TIRNO07D00018_2050\n",
       "33611                          CONT_IDV_TPDFIG10C0001_2036\n",
       "Name: contract_award_unique_key, Length: 33612, dtype: object"
      ]
     },
     "execution_count": 181,
     "metadata": {},
     "output_type": "execute_result"
    }
   ],
   "source": [
    "highlighted_transactions"
   ]
  },
  {
   "cell_type": "markdown",
   "metadata": {},
   "source": [
    "### Utilize FY19 Data as Test Data"
   ]
  },
  {
   "cell_type": "code",
   "execution_count": 182,
   "metadata": {},
   "outputs": [],
   "source": [
    "os.chdir('C:\\\\Users\\\\belincoln\\\\repos\\\\BudgetPredict')"
   ]
  },
  {
   "cell_type": "code",
   "execution_count": 183,
   "metadata": {},
   "outputs": [
    {
     "name": "stdout",
     "output_type": "stream",
     "text": [
      "C:\\Users\\belincoln\\repos\\BudgetPredict\\data\n"
     ]
    }
   ],
   "source": [
    "%cd data"
   ]
  },
  {
   "cell_type": "code",
   "execution_count": 184,
   "metadata": {},
   "outputs": [],
   "source": [
    "filename = 'FY2019_070_Contracts_Full_20200110_1.csv'"
   ]
  },
  {
   "cell_type": "code",
   "execution_count": 191,
   "metadata": {},
   "outputs": [],
   "source": [
    "test_df = pd.read_csv(filename, header = 0, usecols = ['contract_transaction_unique_key',\n",
    "                        'contract_award_unique_key',\n",
    "                        'federal_action_obligation','total_dollars_obligated', 'base_and_exercised_options_value', \n",
    "                        'current_total_value_of_award', 'base_and_all_options_value','potential_total_value_of_award',\n",
    "                        'action_date'],\n",
    "                 dtype = {'contract_transaction_unique_key':'str','contract_transaction_unique_key':'str',\n",
    "                          'federal_action_obligation': 'float','total_dollars_obligated': 'float', \n",
    "                          'base_and_exercised_options_value': 'float', 'current_total_value_of_award': 'float', \n",
    "                          'base_and_all_options_value': 'float','potential_total_value_of_award': 'float',\n",
    "                          'action_date':'str'})"
   ]
  },
  {
   "cell_type": "code",
   "execution_count": 192,
   "metadata": {},
   "outputs": [
    {
     "name": "stdout",
     "output_type": "stream",
     "text": [
      "This is the # of transactions is FY19 for DHS: 66533\n"
     ]
    }
   ],
   "source": [
    "print('This is the # of transactions is FY19 for DHS: ' + str(len(test_df)))"
   ]
  },
  {
   "cell_type": "code",
   "execution_count": 193,
   "metadata": {},
   "outputs": [
    {
     "data": {
      "text/html": [
       "<div>\n",
       "<style scoped>\n",
       "    .dataframe tbody tr th:only-of-type {\n",
       "        vertical-align: middle;\n",
       "    }\n",
       "\n",
       "    .dataframe tbody tr th {\n",
       "        vertical-align: top;\n",
       "    }\n",
       "\n",
       "    .dataframe thead th {\n",
       "        text-align: right;\n",
       "    }\n",
       "</style>\n",
       "<table border=\"1\" class=\"dataframe\">\n",
       "  <thead>\n",
       "    <tr style=\"text-align: right;\">\n",
       "      <th></th>\n",
       "      <th></th>\n",
       "      <th>contract_transaction_unique_key</th>\n",
       "      <th>federal_action_obligation</th>\n",
       "      <th>total_dollars_obligated</th>\n",
       "      <th>base_and_exercised_options_value</th>\n",
       "      <th>current_total_value_of_award</th>\n",
       "      <th>base_and_all_options_value</th>\n",
       "      <th>potential_total_value_of_award</th>\n",
       "    </tr>\n",
       "    <tr>\n",
       "      <th>contract_award_unique_key</th>\n",
       "      <th>action_date</th>\n",
       "      <th></th>\n",
       "      <th></th>\n",
       "      <th></th>\n",
       "      <th></th>\n",
       "      <th></th>\n",
       "      <th></th>\n",
       "      <th></th>\n",
       "    </tr>\n",
       "  </thead>\n",
       "  <tbody>\n",
       "    <tr>\n",
       "      <td>CONT_AWD_70B01C18C00000037_7014_-NONE-_-NONE-</td>\n",
       "      <td>2019-04-16</td>\n",
       "      <td>7014_-NONE-_70B01C18C00000037_P00001_-NONE-_0</td>\n",
       "      <td>30704.07</td>\n",
       "      <td>351950.14</td>\n",
       "      <td>30704.07</td>\n",
       "      <td>351950.14</td>\n",
       "      <td>30704.07</td>\n",
       "      <td>351950.14</td>\n",
       "    </tr>\n",
       "    <tr>\n",
       "      <td>CONT_AWD_70B01C18C00000048_7014_-NONE-_-NONE-</td>\n",
       "      <td>2019-05-07</td>\n",
       "      <td>7014_-NONE-_70B01C18C00000048_P00001_-NONE-_0</td>\n",
       "      <td>1333004.00</td>\n",
       "      <td>2653059.87</td>\n",
       "      <td>1333004.00</td>\n",
       "      <td>2653059.87</td>\n",
       "      <td>0.00</td>\n",
       "      <td>3999439.65</td>\n",
       "    </tr>\n",
       "    <tr>\n",
       "      <td rowspan=\"3\" valign=\"top\">CONT_AWD_70B01C18C00000052_7014_-NONE-_-NONE-</td>\n",
       "      <td>2018-10-16</td>\n",
       "      <td>7014_-NONE-_70B01C18C00000052_P00001_-NONE-_0</td>\n",
       "      <td>49500.00</td>\n",
       "      <td>99000.00</td>\n",
       "      <td>49500.00</td>\n",
       "      <td>99000.00</td>\n",
       "      <td>0.00</td>\n",
       "      <td>201000.00</td>\n",
       "    </tr>\n",
       "    <tr>\n",
       "      <td>2018-11-05</td>\n",
       "      <td>7014_-NONE-_70B01C18C00000052_P00002_-NONE-_0</td>\n",
       "      <td>0.00</td>\n",
       "      <td>99000.00</td>\n",
       "      <td>0.00</td>\n",
       "      <td>99000.00</td>\n",
       "      <td>0.00</td>\n",
       "      <td>201000.00</td>\n",
       "    </tr>\n",
       "    <tr>\n",
       "      <td>2019-03-20</td>\n",
       "      <td>7014_-NONE-_70B01C18C00000052_P00003_-NONE-_0</td>\n",
       "      <td>51000.00</td>\n",
       "      <td>150000.00</td>\n",
       "      <td>51000.00</td>\n",
       "      <td>150000.00</td>\n",
       "      <td>0.00</td>\n",
       "      <td>201000.00</td>\n",
       "    </tr>\n",
       "    <tr>\n",
       "      <td>...</td>\n",
       "      <td>...</td>\n",
       "      <td>...</td>\n",
       "      <td>...</td>\n",
       "      <td>...</td>\n",
       "      <td>...</td>\n",
       "      <td>...</td>\n",
       "      <td>...</td>\n",
       "      <td>...</td>\n",
       "    </tr>\n",
       "    <tr>\n",
       "      <td>CONT_IDV_HSTS0517ACT4006_7013</td>\n",
       "      <td>2019-02-15</td>\n",
       "      <td>7013_-NONE-_HSTS0517ACT4006_P00003_-NONE-_-NONE-</td>\n",
       "      <td>0.00</td>\n",
       "      <td>0.00</td>\n",
       "      <td>0.00</td>\n",
       "      <td>0.00</td>\n",
       "      <td>0.00</td>\n",
       "      <td>983471.00</td>\n",
       "    </tr>\n",
       "    <tr>\n",
       "      <td rowspan=\"2\" valign=\"top\">CONT_IDV_HSTS0517DOTD331_7013</td>\n",
       "      <td>2019-06-03</td>\n",
       "      <td>7013_-NONE-_HSTS0517DOTD331_P00002_-NONE-_-NONE-</td>\n",
       "      <td>0.00</td>\n",
       "      <td>0.00</td>\n",
       "      <td>0.00</td>\n",
       "      <td>0.00</td>\n",
       "      <td>0.00</td>\n",
       "      <td>2500000.00</td>\n",
       "    </tr>\n",
       "    <tr>\n",
       "      <td>2019-08-27</td>\n",
       "      <td>7013_-NONE-_HSTS0517DOTD331_P00003_-NONE-_-NONE-</td>\n",
       "      <td>0.00</td>\n",
       "      <td>0.00</td>\n",
       "      <td>0.00</td>\n",
       "      <td>0.00</td>\n",
       "      <td>0.00</td>\n",
       "      <td>2500000.00</td>\n",
       "    </tr>\n",
       "    <tr>\n",
       "      <td>CONT_IDV_HSTS0517DPHY018_7013</td>\n",
       "      <td>2019-07-10</td>\n",
       "      <td>7013_-NONE-_HSTS0517DPHY018_P00002_-NONE-_-NONE-</td>\n",
       "      <td>0.00</td>\n",
       "      <td>0.00</td>\n",
       "      <td>0.00</td>\n",
       "      <td>0.00</td>\n",
       "      <td>0.00</td>\n",
       "      <td>2500000.00</td>\n",
       "    </tr>\n",
       "    <tr>\n",
       "      <td>CONT_IDV_HSTS0715DFDO025_7013</td>\n",
       "      <td>2019-05-02</td>\n",
       "      <td>7013_-NONE-_HSTS0715DFDO025_P00002_-NONE-_-NONE-</td>\n",
       "      <td>0.00</td>\n",
       "      <td>0.00</td>\n",
       "      <td>0.00</td>\n",
       "      <td>0.00</td>\n",
       "      <td>0.00</td>\n",
       "      <td>2000000.00</td>\n",
       "    </tr>\n",
       "  </tbody>\n",
       "</table>\n",
       "<p>66533 rows × 7 columns</p>\n",
       "</div>"
      ],
      "text/plain": [
       "                                                                            contract_transaction_unique_key  \\\n",
       "contract_award_unique_key                     action_date                                                     \n",
       "CONT_AWD_70B01C18C00000037_7014_-NONE-_-NONE- 2019-04-16      7014_-NONE-_70B01C18C00000037_P00001_-NONE-_0   \n",
       "CONT_AWD_70B01C18C00000048_7014_-NONE-_-NONE- 2019-05-07      7014_-NONE-_70B01C18C00000048_P00001_-NONE-_0   \n",
       "CONT_AWD_70B01C18C00000052_7014_-NONE-_-NONE- 2018-10-16      7014_-NONE-_70B01C18C00000052_P00001_-NONE-_0   \n",
       "                                              2018-11-05      7014_-NONE-_70B01C18C00000052_P00002_-NONE-_0   \n",
       "                                              2019-03-20      7014_-NONE-_70B01C18C00000052_P00003_-NONE-_0   \n",
       "...                                                                                                     ...   \n",
       "CONT_IDV_HSTS0517ACT4006_7013                 2019-02-15   7013_-NONE-_HSTS0517ACT4006_P00003_-NONE-_-NONE-   \n",
       "CONT_IDV_HSTS0517DOTD331_7013                 2019-06-03   7013_-NONE-_HSTS0517DOTD331_P00002_-NONE-_-NONE-   \n",
       "                                              2019-08-27   7013_-NONE-_HSTS0517DOTD331_P00003_-NONE-_-NONE-   \n",
       "CONT_IDV_HSTS0517DPHY018_7013                 2019-07-10   7013_-NONE-_HSTS0517DPHY018_P00002_-NONE-_-NONE-   \n",
       "CONT_IDV_HSTS0715DFDO025_7013                 2019-05-02   7013_-NONE-_HSTS0715DFDO025_P00002_-NONE-_-NONE-   \n",
       "\n",
       "                                                           federal_action_obligation  \\\n",
       "contract_award_unique_key                     action_date                              \n",
       "CONT_AWD_70B01C18C00000037_7014_-NONE-_-NONE- 2019-04-16                    30704.07   \n",
       "CONT_AWD_70B01C18C00000048_7014_-NONE-_-NONE- 2019-05-07                  1333004.00   \n",
       "CONT_AWD_70B01C18C00000052_7014_-NONE-_-NONE- 2018-10-16                    49500.00   \n",
       "                                              2018-11-05                        0.00   \n",
       "                                              2019-03-20                    51000.00   \n",
       "...                                                                              ...   \n",
       "CONT_IDV_HSTS0517ACT4006_7013                 2019-02-15                        0.00   \n",
       "CONT_IDV_HSTS0517DOTD331_7013                 2019-06-03                        0.00   \n",
       "                                              2019-08-27                        0.00   \n",
       "CONT_IDV_HSTS0517DPHY018_7013                 2019-07-10                        0.00   \n",
       "CONT_IDV_HSTS0715DFDO025_7013                 2019-05-02                        0.00   \n",
       "\n",
       "                                                           total_dollars_obligated  \\\n",
       "contract_award_unique_key                     action_date                            \n",
       "CONT_AWD_70B01C18C00000037_7014_-NONE-_-NONE- 2019-04-16                 351950.14   \n",
       "CONT_AWD_70B01C18C00000048_7014_-NONE-_-NONE- 2019-05-07                2653059.87   \n",
       "CONT_AWD_70B01C18C00000052_7014_-NONE-_-NONE- 2018-10-16                  99000.00   \n",
       "                                              2018-11-05                  99000.00   \n",
       "                                              2019-03-20                 150000.00   \n",
       "...                                                                            ...   \n",
       "CONT_IDV_HSTS0517ACT4006_7013                 2019-02-15                      0.00   \n",
       "CONT_IDV_HSTS0517DOTD331_7013                 2019-06-03                      0.00   \n",
       "                                              2019-08-27                      0.00   \n",
       "CONT_IDV_HSTS0517DPHY018_7013                 2019-07-10                      0.00   \n",
       "CONT_IDV_HSTS0715DFDO025_7013                 2019-05-02                      0.00   \n",
       "\n",
       "                                                           base_and_exercised_options_value  \\\n",
       "contract_award_unique_key                     action_date                                     \n",
       "CONT_AWD_70B01C18C00000037_7014_-NONE-_-NONE- 2019-04-16                           30704.07   \n",
       "CONT_AWD_70B01C18C00000048_7014_-NONE-_-NONE- 2019-05-07                         1333004.00   \n",
       "CONT_AWD_70B01C18C00000052_7014_-NONE-_-NONE- 2018-10-16                           49500.00   \n",
       "                                              2018-11-05                               0.00   \n",
       "                                              2019-03-20                           51000.00   \n",
       "...                                                                                     ...   \n",
       "CONT_IDV_HSTS0517ACT4006_7013                 2019-02-15                               0.00   \n",
       "CONT_IDV_HSTS0517DOTD331_7013                 2019-06-03                               0.00   \n",
       "                                              2019-08-27                               0.00   \n",
       "CONT_IDV_HSTS0517DPHY018_7013                 2019-07-10                               0.00   \n",
       "CONT_IDV_HSTS0715DFDO025_7013                 2019-05-02                               0.00   \n",
       "\n",
       "                                                           current_total_value_of_award  \\\n",
       "contract_award_unique_key                     action_date                                 \n",
       "CONT_AWD_70B01C18C00000037_7014_-NONE-_-NONE- 2019-04-16                      351950.14   \n",
       "CONT_AWD_70B01C18C00000048_7014_-NONE-_-NONE- 2019-05-07                     2653059.87   \n",
       "CONT_AWD_70B01C18C00000052_7014_-NONE-_-NONE- 2018-10-16                       99000.00   \n",
       "                                              2018-11-05                       99000.00   \n",
       "                                              2019-03-20                      150000.00   \n",
       "...                                                                                 ...   \n",
       "CONT_IDV_HSTS0517ACT4006_7013                 2019-02-15                           0.00   \n",
       "CONT_IDV_HSTS0517DOTD331_7013                 2019-06-03                           0.00   \n",
       "                                              2019-08-27                           0.00   \n",
       "CONT_IDV_HSTS0517DPHY018_7013                 2019-07-10                           0.00   \n",
       "CONT_IDV_HSTS0715DFDO025_7013                 2019-05-02                           0.00   \n",
       "\n",
       "                                                           base_and_all_options_value  \\\n",
       "contract_award_unique_key                     action_date                               \n",
       "CONT_AWD_70B01C18C00000037_7014_-NONE-_-NONE- 2019-04-16                     30704.07   \n",
       "CONT_AWD_70B01C18C00000048_7014_-NONE-_-NONE- 2019-05-07                         0.00   \n",
       "CONT_AWD_70B01C18C00000052_7014_-NONE-_-NONE- 2018-10-16                         0.00   \n",
       "                                              2018-11-05                         0.00   \n",
       "                                              2019-03-20                         0.00   \n",
       "...                                                                               ...   \n",
       "CONT_IDV_HSTS0517ACT4006_7013                 2019-02-15                         0.00   \n",
       "CONT_IDV_HSTS0517DOTD331_7013                 2019-06-03                         0.00   \n",
       "                                              2019-08-27                         0.00   \n",
       "CONT_IDV_HSTS0517DPHY018_7013                 2019-07-10                         0.00   \n",
       "CONT_IDV_HSTS0715DFDO025_7013                 2019-05-02                         0.00   \n",
       "\n",
       "                                                           potential_total_value_of_award  \n",
       "contract_award_unique_key                     action_date                                  \n",
       "CONT_AWD_70B01C18C00000037_7014_-NONE-_-NONE- 2019-04-16                        351950.14  \n",
       "CONT_AWD_70B01C18C00000048_7014_-NONE-_-NONE- 2019-05-07                       3999439.65  \n",
       "CONT_AWD_70B01C18C00000052_7014_-NONE-_-NONE- 2018-10-16                        201000.00  \n",
       "                                              2018-11-05                        201000.00  \n",
       "                                              2019-03-20                        201000.00  \n",
       "...                                                                                   ...  \n",
       "CONT_IDV_HSTS0517ACT4006_7013                 2019-02-15                        983471.00  \n",
       "CONT_IDV_HSTS0517DOTD331_7013                 2019-06-03                       2500000.00  \n",
       "                                              2019-08-27                       2500000.00  \n",
       "CONT_IDV_HSTS0517DPHY018_7013                 2019-07-10                       2500000.00  \n",
       "CONT_IDV_HSTS0715DFDO025_7013                 2019-05-02                       2000000.00  \n",
       "\n",
       "[66533 rows x 7 columns]"
      ]
     },
     "execution_count": 193,
     "metadata": {},
     "output_type": "execute_result"
    }
   ],
   "source": [
    "test_df = test_df.fillna(0)\n",
    "# Convert action date to pd.datetime\n",
    "test_df['action_date'] = pd.to_datetime(test_df['action_date'])\n",
    "# set index to each contract and date\n",
    "test_df.set_index(['contract_award_unique_key','action_date'], inplace = True)\n",
    "test_df.sort_index()"
   ]
  },
  {
   "cell_type": "code",
   "execution_count": 194,
   "metadata": {},
   "outputs": [],
   "source": [
    "# We want to only focus on execution rate (for now). I'm not sure which column is the best indicator of execution rate\n",
    "# we can follow up with Eric. I'm going to stick with Percent Cumulatively Obligated over potential total value of award\n",
    "# as wequal to the execution rate.\n",
    "drop_columns = [column for column in test_df.columns if column != 'Percent Cumulatively Obligated over potential total value of award']\n",
    "test_df.drop(drop_columns,axis = 1, inplace=True)\n",
    "\n",
    "test_df.rename(columns = {'Percent Cumulatively Obligated over potential total value of award':'execution_rate'},inplace = True)"
   ]
  },
  {
   "cell_type": "code",
   "execution_count": 195,
   "metadata": {},
   "outputs": [
    {
     "name": "stdout",
     "output_type": "stream",
     "text": [
      "This is the number of unique Contracts: 485094\n",
      "This is the number of transactions: 66533\n"
     ]
    }
   ],
   "source": [
    "contracts = [contract for contract, date in list(test_df.index)]\n",
    "unique_k_fy19 = set(contracts)\n",
    "print('This is the number of unique Contracts: ' + str(len(unique_k)))\n",
    "print('This is the number of transactions: ' + str(len(contracts)))"
   ]
  },
  {
   "cell_type": "code",
   "execution_count": 196,
   "metadata": {},
   "outputs": [
    {
     "data": {
      "text/plain": [
       "set"
      ]
     },
     "execution_count": 196,
     "metadata": {},
     "output_type": "execute_result"
    }
   ],
   "source": [
    "type(unique_k_fy19)"
   ]
  },
  {
   "cell_type": "code",
   "execution_count": 197,
   "metadata": {},
   "outputs": [],
   "source": [
    "highlighted_transactions = set(highlighted_transactions)"
   ]
  },
  {
   "cell_type": "code",
   "execution_count": 198,
   "metadata": {},
   "outputs": [
    {
     "data": {
      "text/plain": [
       "4022"
      ]
     },
     "execution_count": 198,
     "metadata": {},
     "output_type": "execute_result"
    }
   ],
   "source": [
    "len(unique_k_fy19.intersection(highlighted_transactions))"
   ]
  },
  {
   "cell_type": "code",
   "execution_count": null,
   "metadata": {},
   "outputs": [],
   "source": []
  },
  {
   "cell_type": "code",
   "execution_count": null,
   "metadata": {},
   "outputs": [],
   "source": []
  },
  {
   "cell_type": "code",
   "execution_count": null,
   "metadata": {},
   "outputs": [],
   "source": []
  },
  {
   "cell_type": "code",
   "execution_count": null,
   "metadata": {},
   "outputs": [],
   "source": []
  },
  {
   "cell_type": "code",
   "execution_count": null,
   "metadata": {},
   "outputs": [],
   "source": []
  },
  {
   "cell_type": "code",
   "execution_count": null,
   "metadata": {},
   "outputs": [],
   "source": []
  },
  {
   "cell_type": "code",
   "execution_count": 85,
   "metadata": {},
   "outputs": [
    {
     "data": {
      "text/plain": [
       "(1020089, 8)"
      ]
     },
     "execution_count": 85,
     "metadata": {},
     "output_type": "execute_result"
    }
   ],
   "source": [
    "df.shape"
   ]
  },
  {
   "cell_type": "code",
   "execution_count": 29,
   "metadata": {},
   "outputs": [
    {
     "data": {
      "text/plain": [
       "total_dollars_obligated                                               float64\n",
       "current_total_value_of_award                                          float64\n",
       "base_and_all_options_value                                            float64\n",
       "potential_total_value_of_award                                        float64\n",
       "Percent awarded over potential total awarded                          float64\n",
       "Percent Cumulatively Obligated over potential total value of award    float64\n",
       "Percent Cumulatively Obligated over total value already awarded       float64\n",
       "Indicator                                                                bool\n",
       "dtype: object"
      ]
     },
     "execution_count": 29,
     "metadata": {},
     "output_type": "execute_result"
    }
   ],
   "source": [
    "df.dtypes"
   ]
  },
  {
   "cell_type": "code",
   "execution_count": 30,
   "metadata": {},
   "outputs": [
    {
     "name": "stdout",
     "output_type": "stream",
     "text": [
      "Total number of De-Obligations: 33475\n",
      "Percentage of De-Obligations: 0.06926870047986293\n"
     ]
    }
   ],
   "source": [
    "# This is the percentage of De-Obligations in the sample (before test/train split)\n",
    "print('Total number of De-Obligations: ' +str(df['Indicator'].sum()))\n",
    "print('Percentage of De-Obligations: '+str(df['Indicator'].sum()/len(df)))"
   ]
  },
  {
   "cell_type": "markdown",
   "metadata": {},
   "source": [
    "# Beginning of Regression Analysis"
   ]
  },
  {
   "cell_type": "code",
   "execution_count": null,
   "metadata": {},
   "outputs": [],
   "source": [
    "# Show Scatterplot of all features against indicator variable to discern any immediate relationships\n",
    "features = len(df.columns) - 1\n",
    "for i in range(features):\n",
    "    fig = pyplot.figure()\n",
    "    #mask  = y == 1\n",
    "    pyplot.scatter(df.iloc[:,i], df.iloc[:,-1])\n",
    "\n",
    "   \n",
    "    # add axes labels\n",
    "    pyplot.xlabel(df.columns[i])\n",
    "    pyplot.ylabel(df.columns[-1])\n",
    "    #pyplot.legend(['Sweep', 'Not a Sweep'])\n",
    "    pass"
   ]
  },
  {
   "cell_type": "code",
   "execution_count": 31,
   "metadata": {},
   "outputs": [],
   "source": [
    "# Create matrix of feature variables and our dependent variable\n",
    "X, y =  df.iloc[:,1:-1], df.loc[:,'Indicator']\n",
    "\n",
    "# convert y to np.array of 0s and 1s\n",
    "y = np.array(y.astype(int))\n"
   ]
  },
  {
   "cell_type": "code",
   "execution_count": 32,
   "metadata": {},
   "outputs": [],
   "source": [
    "#train the data \n",
    "X_train, X_test, y_train, y_test = train_test_split(X, y, test_size=0.2)\n"
   ]
  },
  {
   "cell_type": "code",
   "execution_count": 33,
   "metadata": {},
   "outputs": [
    {
     "data": {
      "text/plain": [
       "(96653, 6)"
      ]
     },
     "execution_count": 33,
     "metadata": {},
     "output_type": "execute_result"
    }
   ],
   "source": [
    "X_test.shape"
   ]
  },
  {
   "cell_type": "code",
   "execution_count": 34,
   "metadata": {},
   "outputs": [],
   "source": [
    "# Setup the data matrix appropriately, and add ones for the intercept term\n",
    "m_train, n_train = X_train.shape\n",
    "m_test, n_test = X_test.shape\n",
    "# Add intercept term to X\n",
    "X_train = np.concatenate([np.ones((m_train, 1)), X_train], axis=1)\n",
    "X_test = np.concatenate([np.ones((m_test, 1)), X_test], axis=1)\n",
    "\n"
   ]
  },
  {
   "cell_type": "code",
   "execution_count": 36,
   "metadata": {},
   "outputs": [
    {
     "name": "stderr",
     "output_type": "stream",
     "text": [
      "C:\\Users\\belincoln\\AppData\\Local\\Continuum\\anaconda3\\lib\\site-packages\\sklearn\\linear_model\\logistic.py:432: FutureWarning: Default solver will be changed to 'lbfgs' in 0.22. Specify a solver to silence this warning.\n",
      "  FutureWarning)\n"
     ]
    },
    {
     "ename": "ValueError",
     "evalue": "Input contains NaN, infinity or a value too large for dtype('float64').",
     "output_type": "error",
     "traceback": [
      "\u001b[1;31m---------------------------------------------------------------------------\u001b[0m",
      "\u001b[1;31mValueError\u001b[0m                                Traceback (most recent call last)",
      "\u001b[1;32m<ipython-input-36-dcfca5d3794c>\u001b[0m in \u001b[0;36m<module>\u001b[1;34m\u001b[0m\n\u001b[1;32m----> 1\u001b[1;33m \u001b[0mlog_model\u001b[0m \u001b[1;33m=\u001b[0m \u001b[0mLogisticRegression\u001b[0m\u001b[1;33m(\u001b[0m\u001b[1;33m)\u001b[0m\u001b[1;33m.\u001b[0m\u001b[0mfit\u001b[0m\u001b[1;33m(\u001b[0m\u001b[0mX_train\u001b[0m\u001b[1;33m,\u001b[0m \u001b[0my_train\u001b[0m\u001b[1;33m)\u001b[0m\u001b[1;33m\u001b[0m\u001b[1;33m\u001b[0m\u001b[0m\n\u001b[0m",
      "\u001b[1;32m~\\AppData\\Local\\Continuum\\anaconda3\\lib\\site-packages\\sklearn\\linear_model\\logistic.py\u001b[0m in \u001b[0;36mfit\u001b[1;34m(self, X, y, sample_weight)\u001b[0m\n\u001b[0;32m   1530\u001b[0m \u001b[1;33m\u001b[0m\u001b[0m\n\u001b[0;32m   1531\u001b[0m         X, y = check_X_y(X, y, accept_sparse='csr', dtype=_dtype, order=\"C\",\n\u001b[1;32m-> 1532\u001b[1;33m                          accept_large_sparse=solver != 'liblinear')\n\u001b[0m\u001b[0;32m   1533\u001b[0m         \u001b[0mcheck_classification_targets\u001b[0m\u001b[1;33m(\u001b[0m\u001b[0my\u001b[0m\u001b[1;33m)\u001b[0m\u001b[1;33m\u001b[0m\u001b[1;33m\u001b[0m\u001b[0m\n\u001b[0;32m   1534\u001b[0m         \u001b[0mself\u001b[0m\u001b[1;33m.\u001b[0m\u001b[0mclasses_\u001b[0m \u001b[1;33m=\u001b[0m \u001b[0mnp\u001b[0m\u001b[1;33m.\u001b[0m\u001b[0munique\u001b[0m\u001b[1;33m(\u001b[0m\u001b[0my\u001b[0m\u001b[1;33m)\u001b[0m\u001b[1;33m\u001b[0m\u001b[1;33m\u001b[0m\u001b[0m\n",
      "\u001b[1;32m~\\AppData\\Local\\Continuum\\anaconda3\\lib\\site-packages\\sklearn\\utils\\validation.py\u001b[0m in \u001b[0;36mcheck_X_y\u001b[1;34m(X, y, accept_sparse, accept_large_sparse, dtype, order, copy, force_all_finite, ensure_2d, allow_nd, multi_output, ensure_min_samples, ensure_min_features, y_numeric, warn_on_dtype, estimator)\u001b[0m\n\u001b[0;32m    717\u001b[0m                     \u001b[0mensure_min_features\u001b[0m\u001b[1;33m=\u001b[0m\u001b[0mensure_min_features\u001b[0m\u001b[1;33m,\u001b[0m\u001b[1;33m\u001b[0m\u001b[1;33m\u001b[0m\u001b[0m\n\u001b[0;32m    718\u001b[0m                     \u001b[0mwarn_on_dtype\u001b[0m\u001b[1;33m=\u001b[0m\u001b[0mwarn_on_dtype\u001b[0m\u001b[1;33m,\u001b[0m\u001b[1;33m\u001b[0m\u001b[1;33m\u001b[0m\u001b[0m\n\u001b[1;32m--> 719\u001b[1;33m                     estimator=estimator)\n\u001b[0m\u001b[0;32m    720\u001b[0m     \u001b[1;32mif\u001b[0m \u001b[0mmulti_output\u001b[0m\u001b[1;33m:\u001b[0m\u001b[1;33m\u001b[0m\u001b[1;33m\u001b[0m\u001b[0m\n\u001b[0;32m    721\u001b[0m         y = check_array(y, 'csr', force_all_finite=True, ensure_2d=False,\n",
      "\u001b[1;32m~\\AppData\\Local\\Continuum\\anaconda3\\lib\\site-packages\\sklearn\\utils\\validation.py\u001b[0m in \u001b[0;36mcheck_array\u001b[1;34m(array, accept_sparse, accept_large_sparse, dtype, order, copy, force_all_finite, ensure_2d, allow_nd, ensure_min_samples, ensure_min_features, warn_on_dtype, estimator)\u001b[0m\n\u001b[0;32m    540\u001b[0m         \u001b[1;32mif\u001b[0m \u001b[0mforce_all_finite\u001b[0m\u001b[1;33m:\u001b[0m\u001b[1;33m\u001b[0m\u001b[1;33m\u001b[0m\u001b[0m\n\u001b[0;32m    541\u001b[0m             _assert_all_finite(array,\n\u001b[1;32m--> 542\u001b[1;33m                                allow_nan=force_all_finite == 'allow-nan')\n\u001b[0m\u001b[0;32m    543\u001b[0m \u001b[1;33m\u001b[0m\u001b[0m\n\u001b[0;32m    544\u001b[0m     \u001b[1;32mif\u001b[0m \u001b[0mensure_min_samples\u001b[0m \u001b[1;33m>\u001b[0m \u001b[1;36m0\u001b[0m\u001b[1;33m:\u001b[0m\u001b[1;33m\u001b[0m\u001b[1;33m\u001b[0m\u001b[0m\n",
      "\u001b[1;32m~\\AppData\\Local\\Continuum\\anaconda3\\lib\\site-packages\\sklearn\\utils\\validation.py\u001b[0m in \u001b[0;36m_assert_all_finite\u001b[1;34m(X, allow_nan)\u001b[0m\n\u001b[0;32m     54\u001b[0m                 not allow_nan and not np.isfinite(X).all()):\n\u001b[0;32m     55\u001b[0m             \u001b[0mtype_err\u001b[0m \u001b[1;33m=\u001b[0m \u001b[1;34m'infinity'\u001b[0m \u001b[1;32mif\u001b[0m \u001b[0mallow_nan\u001b[0m \u001b[1;32melse\u001b[0m \u001b[1;34m'NaN, infinity'\u001b[0m\u001b[1;33m\u001b[0m\u001b[1;33m\u001b[0m\u001b[0m\n\u001b[1;32m---> 56\u001b[1;33m             \u001b[1;32mraise\u001b[0m \u001b[0mValueError\u001b[0m\u001b[1;33m(\u001b[0m\u001b[0mmsg_err\u001b[0m\u001b[1;33m.\u001b[0m\u001b[0mformat\u001b[0m\u001b[1;33m(\u001b[0m\u001b[0mtype_err\u001b[0m\u001b[1;33m,\u001b[0m \u001b[0mX\u001b[0m\u001b[1;33m.\u001b[0m\u001b[0mdtype\u001b[0m\u001b[1;33m)\u001b[0m\u001b[1;33m)\u001b[0m\u001b[1;33m\u001b[0m\u001b[1;33m\u001b[0m\u001b[0m\n\u001b[0m\u001b[0;32m     57\u001b[0m     \u001b[1;31m# for object dtype data, we only check for NaNs (GH-13254)\u001b[0m\u001b[1;33m\u001b[0m\u001b[1;33m\u001b[0m\u001b[1;33m\u001b[0m\u001b[0m\n\u001b[0;32m     58\u001b[0m     \u001b[1;32melif\u001b[0m \u001b[0mX\u001b[0m\u001b[1;33m.\u001b[0m\u001b[0mdtype\u001b[0m \u001b[1;33m==\u001b[0m \u001b[0mnp\u001b[0m\u001b[1;33m.\u001b[0m\u001b[0mdtype\u001b[0m\u001b[1;33m(\u001b[0m\u001b[1;34m'object'\u001b[0m\u001b[1;33m)\u001b[0m \u001b[1;32mand\u001b[0m \u001b[1;32mnot\u001b[0m \u001b[0mallow_nan\u001b[0m\u001b[1;33m:\u001b[0m\u001b[1;33m\u001b[0m\u001b[1;33m\u001b[0m\u001b[0m\n",
      "\u001b[1;31mValueError\u001b[0m: Input contains NaN, infinity or a value too large for dtype('float64')."
     ]
    }
   ],
   "source": [
    "log_model = LogisticRegression().fit(X_train, y_train)"
   ]
  },
  {
   "cell_type": "code",
   "execution_count": 37,
   "metadata": {},
   "outputs": [
    {
     "ename": "NameError",
     "evalue": "name 'log_model' is not defined",
     "output_type": "error",
     "traceback": [
      "\u001b[1;31m---------------------------------------------------------------------------\u001b[0m",
      "\u001b[1;31mNameError\u001b[0m                                 Traceback (most recent call last)",
      "\u001b[1;32m<ipython-input-37-6cbe12eef49a>\u001b[0m in \u001b[0;36m<module>\u001b[1;34m\u001b[0m\n\u001b[0;32m      1\u001b[0m \u001b[1;31m# Coefficents to multiply features by\u001b[0m\u001b[1;33m\u001b[0m\u001b[1;33m\u001b[0m\u001b[1;33m\u001b[0m\u001b[0m\n\u001b[1;32m----> 2\u001b[1;33m \u001b[0mlog_model\u001b[0m\u001b[1;33m.\u001b[0m\u001b[0mcoef_\u001b[0m\u001b[1;33m\u001b[0m\u001b[1;33m\u001b[0m\u001b[0m\n\u001b[0m",
      "\u001b[1;31mNameError\u001b[0m: name 'log_model' is not defined"
     ]
    }
   ],
   "source": [
    "# Coefficents to multiply features by\n",
    "log_model.coef_"
   ]
  },
  {
   "cell_type": "code",
   "execution_count": 38,
   "metadata": {},
   "outputs": [
    {
     "ename": "NameError",
     "evalue": "name 'log_model' is not defined",
     "output_type": "error",
     "traceback": [
      "\u001b[1;31m---------------------------------------------------------------------------\u001b[0m",
      "\u001b[1;31mNameError\u001b[0m                                 Traceback (most recent call last)",
      "\u001b[1;32m<ipython-input-38-0e2257a90745>\u001b[0m in \u001b[0;36m<module>\u001b[1;34m\u001b[0m\n\u001b[1;32m----> 1\u001b[1;33m \u001b[0mtheta\u001b[0m \u001b[1;33m=\u001b[0m \u001b[0mlog_model\u001b[0m\u001b[1;33m.\u001b[0m\u001b[0mcoef_\u001b[0m\u001b[1;33m[\u001b[0m\u001b[1;36m0\u001b[0m\u001b[1;33m]\u001b[0m\u001b[1;33m\u001b[0m\u001b[1;33m\u001b[0m\u001b[0m\n\u001b[0m",
      "\u001b[1;31mNameError\u001b[0m: name 'log_model' is not defined"
     ]
    }
   ],
   "source": [
    "theta = log_model.coef_[0]"
   ]
  },
  {
   "cell_type": "code",
   "execution_count": null,
   "metadata": {},
   "outputs": [],
   "source": [
    "print(theta[0])"
   ]
  },
  {
   "cell_type": "code",
   "execution_count": null,
   "metadata": {},
   "outputs": [],
   "source": [
    "def sigmoid(z):\n",
    "    \"\"\"\n",
    "    Compute sigmoid function given the input z.\n",
    "    \n",
    "    Parameters\n",
    "    ----------\n",
    "    z : array_like\n",
    "        The input to the sigmoid function. This can be a 1-D vector \n",
    "        or a 2-D matrix. \n",
    "    \n",
    "    Returns\n",
    "    -------\n",
    "    g : array_like\n",
    "        The computed sigmoid function. g has the same shape as z, since\n",
    "        the sigmoid is computed element-wise on z.\n",
    "        \n",
    "    Instructions\n",
    "    ------------\n",
    "    Compute the sigmoid of each value of z (z can be a matrix, vector or scalar).\n",
    "    \"\"\"\n",
    "    # convert input to a numpy array\n",
    "    z = np.array(z)\n",
    "    \n",
    "    # You need to return the following variables correctly \n",
    "    g = np.zeros(z.shape)\n",
    "\n",
    "    temp = 1 + np.power(np.e,-z)\n",
    "    g = 1 / temp\n",
    "    \n",
    "\n",
    "    return g"
   ]
  },
  {
   "cell_type": "code",
   "execution_count": null,
   "metadata": {},
   "outputs": [],
   "source": [
    "pred = sigmoid(np.dot(X_test,theta))"
   ]
  },
  {
   "cell_type": "code",
   "execution_count": null,
   "metadata": {},
   "outputs": [],
   "source": [
    "fig = pyplot.figure\n",
    "pyplot.scatter(np.arange(len(pred)), pred)"
   ]
  },
  {
   "cell_type": "code",
   "execution_count": null,
   "metadata": {},
   "outputs": [],
   "source": []
  },
  {
   "cell_type": "code",
   "execution_count": null,
   "metadata": {},
   "outputs": [],
   "source": [
    "# Now we will test our model using the test_set\n",
    "pred = sigmoid(np.dot(X_test,theta))"
   ]
  },
  {
   "cell_type": "code",
   "execution_count": null,
   "metadata": {},
   "outputs": [],
   "source": [
    "# Convert probabilty of de-obligation into prediction\n",
    "pred = pred > .5\n",
    "# Convert to int\n",
    "pred = np.array(pred.astype(int))"
   ]
  },
  {
   "cell_type": "code",
   "execution_count": null,
   "metadata": {},
   "outputs": [],
   "source": [
    "test = pred == y_test"
   ]
  },
  {
   "cell_type": "code",
   "execution_count": null,
   "metadata": {},
   "outputs": [],
   "source": [
    "test.sum()/len(test)"
   ]
  },
  {
   "cell_type": "code",
   "execution_count": null,
   "metadata": {},
   "outputs": [],
   "source": [
    "# Really what we are looking for here \n",
    "# is how many times a de-obligation occured and we were able to predict it?"
   ]
  },
  {
   "cell_type": "code",
   "execution_count": null,
   "metadata": {},
   "outputs": [],
   "source": [
    "# Also percentage of false positives: how many times did we predict a de-obligation and \n",
    "# it did not occur?"
   ]
  },
  {
   "cell_type": "code",
   "execution_count": null,
   "metadata": {},
   "outputs": [],
   "source": [
    "data = {'predicted value' : pred, 'test value': y_test}\n",
    "testdf = pd.DataFrame(data)"
   ]
  },
  {
   "cell_type": "code",
   "execution_count": null,
   "metadata": {},
   "outputs": [],
   "source": [
    "%%HTML\n",
    "<style type=\"text/css\">\n",
    "table.dataframe td, table.dataframe th {\n",
    "    border: 1px  black solid !important;\n",
    "  color: black !important;\n",
    "}\n",
    "</style>"
   ]
  },
  {
   "cell_type": "code",
   "execution_count": null,
   "metadata": {},
   "outputs": [],
   "source": [
    "\n",
    "\n",
    "cm = np.array(confusion_matrix(pred, y_test, labels = [1,0]))\n",
    "confusion = pd.DataFrame(cm, index=[['Predicted', 'Predicted'], ['Large De-Obligation','Obligation']],\n",
    "                         columns = [['Test Results', 'Test Results'],['Large De-Obligation','Obligation']])\n",
    "confusion\n"
   ]
  },
  {
   "cell_type": "code",
   "execution_count": null,
   "metadata": {},
   "outputs": [],
   "source": [
    "confusion.iloc[0].sum()+confusion.iloc[1].sum()"
   ]
  },
  {
   "cell_type": "code",
   "execution_count": null,
   "metadata": {},
   "outputs": [],
   "source": [
    "correct_preds = testdf[testdf['test value'] == 1]\n",
    "correct_preds2 = correct_preds[correct_preds['predicted value'] ==1]\n",
    "print('Size of Test set: ' + str(len(testdf)))\n",
    "print('Size of Train set: ' + str(len(X_train)))\n",
    "print('Percentage of correct predictions (Accuracey): ' + str((confusion.iloc[0,0] + confusion.iloc[1,1])/len(testdf)))\n",
    "print('Percentage of significant de-obligations: ' + str(len(correct_preds)/len(testdf)))\n",
    "print('Percentage of de-obligations correctly predicted: ' + str(len(correct_preds2)/len(correct_preds)))"
   ]
  },
  {
   "cell_type": "code",
   "execution_count": null,
   "metadata": {},
   "outputs": [],
   "source": [
    "# Rate of False Negatives: A de-obligation occurs, but the model did not predict it. \n",
    "false_neg = testdf[testdf['predicted value'] == 0]\n",
    "false_neg2 = false_neg[false_neg['test value'] == 1]\n",
    "print('Number of False Negatives : ' + str(len(false_neg2)))\n",
    "print('Rate of False Negative: ' + str(len(false_neg2)/len(testdf)))"
   ]
  },
  {
   "cell_type": "code",
   "execution_count": null,
   "metadata": {},
   "outputs": [],
   "source": [
    "# Show the rate of False Positives: Times the model predicted a de-obligation, yet there wasn't one\n",
    "\n",
    "false_pos = testdf[testdf['predicted value'] == 1]\n",
    "false_pos2 = false_pos[false_pos['test value'] == 0]\n",
    "\n",
    "print('Number of False Positives: ' + str(len(false_pos2)))\n",
    "print('Rate of False Positives: ' + str(len(false_pos2)/len(testdf)))"
   ]
  },
  {
   "cell_type": "code",
   "execution_count": null,
   "metadata": {},
   "outputs": [],
   "source": []
  },
  {
   "cell_type": "code",
   "execution_count": null,
   "metadata": {},
   "outputs": [],
   "source": []
  }
 ],
 "metadata": {
  "kernelspec": {
   "display_name": "Python 3",
   "language": "python",
   "name": "python3"
  },
  "language_info": {
   "codemirror_mode": {
    "name": "ipython",
    "version": 3
   },
   "file_extension": ".py",
   "mimetype": "text/x-python",
   "name": "python",
   "nbconvert_exporter": "python",
   "pygments_lexer": "ipython3",
   "version": "3.7.4"
  }
 },
 "nbformat": 4,
 "nbformat_minor": 2
}
