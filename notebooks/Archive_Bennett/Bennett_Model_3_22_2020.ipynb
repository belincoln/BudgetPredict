{
 "cells": [
  {
   "cell_type": "code",
   "execution_count": 31,
   "metadata": {},
   "outputs": [],
   "source": [
    "# Import the necessary libraries \n",
    "\n",
    "# used for manipulating directory paths\n",
    "import os\n",
    "\n",
    "# Scientific and vector computation for python\n",
    "import numpy as np\n",
    "import pandas as pd\n",
    "\n",
    "# Plotting library\n",
    "from matplotlib import pyplot\n",
    "\n",
    "# import function to split data into train and test dfs\n",
    "from sklearn.model_selection import train_test_split\n",
    "\n",
    "# Optimization module in scipy\n",
    "from scipy import optimize\n",
    "\n",
    "# Import logistic regression model from SK Learn\n",
    "from sklearn.linear_model import LogisticRegression\n",
    "from sklearn.metrics import confusion_matrix\n"
   ]
  },
  {
   "cell_type": "code",
   "execution_count": 32,
   "metadata": {},
   "outputs": [
    {
     "name": "stdout",
     "output_type": "stream",
     "text": [
      "C:\\Users\\belincoln\\repos\\BudgetPredict\\data\n"
     ]
    }
   ],
   "source": [
    "os.chdir('C:\\\\Users\\\\belincoln\\\\repos\\\\BudgetPredict')\n",
    "# Set working directory to the data folder so you can correctly read in the csv files\n",
    "%cd data"
   ]
  },
  {
   "cell_type": "code",
   "execution_count": 33,
   "metadata": {},
   "outputs": [
    {
     "data": {
      "text/html": [
       "<div>\n",
       "<style scoped>\n",
       "    .dataframe tbody tr th:only-of-type {\n",
       "        vertical-align: middle;\n",
       "    }\n",
       "\n",
       "    .dataframe tbody tr th {\n",
       "        vertical-align: top;\n",
       "    }\n",
       "\n",
       "    .dataframe thead th {\n",
       "        text-align: right;\n",
       "    }\n",
       "</style>\n",
       "<table border=\"1\" class=\"dataframe\">\n",
       "  <thead>\n",
       "    <tr style=\"text-align: right;\">\n",
       "      <th></th>\n",
       "      <th></th>\n",
       "      <th>contract_transaction_unique_key</th>\n",
       "      <th>total_dollars_obligated</th>\n",
       "      <th>current_total_value_of_award</th>\n",
       "      <th>base_and_all_options_value</th>\n",
       "      <th>potential_total_value_of_award</th>\n",
       "      <th>Percent awarded over potential total awarded</th>\n",
       "      <th>Percent Cumulatively Obligated over potential total value of award</th>\n",
       "      <th>Percent Cumulatively Obligated over total value already awarded</th>\n",
       "      <th>Indicator</th>\n",
       "    </tr>\n",
       "    <tr>\n",
       "      <th>contract_award_unique_key</th>\n",
       "      <th>action_date</th>\n",
       "      <th></th>\n",
       "      <th></th>\n",
       "      <th></th>\n",
       "      <th></th>\n",
       "      <th></th>\n",
       "      <th></th>\n",
       "      <th></th>\n",
       "      <th></th>\n",
       "      <th></th>\n",
       "    </tr>\n",
       "  </thead>\n",
       "  <tbody>\n",
       "    <tr>\n",
       "      <td>CONT_AWD_HSCEMS16F00057_7012_HSCEMS12A00018_7012</td>\n",
       "      <td>10/19/2018</td>\n",
       "      <td>7012_7012_HSCEMS16F00057_P00005_HSCEMS12A00018_0</td>\n",
       "      <td>6003953.42</td>\n",
       "      <td>6059478.42</td>\n",
       "      <td>-148339.00</td>\n",
       "      <td>6067181.28</td>\n",
       "      <td>0.998730</td>\n",
       "      <td>0.989579</td>\n",
       "      <td>0.990837</td>\n",
       "      <td>True</td>\n",
       "    </tr>\n",
       "    <tr>\n",
       "      <td>CONT_AWD_HSFE2015J0271_7022_HSFE2013D0161_7022</td>\n",
       "      <td>3/27/2019</td>\n",
       "      <td>7022_7022_HSFE2015J0271_P00002_HSFE2013D0161_0</td>\n",
       "      <td>104830.31</td>\n",
       "      <td>104830.31</td>\n",
       "      <td>0.00</td>\n",
       "      <td>104830.31</td>\n",
       "      <td>1.000000</td>\n",
       "      <td>1.000000</td>\n",
       "      <td>1.000000</td>\n",
       "      <td>False</td>\n",
       "    </tr>\n",
       "    <tr>\n",
       "      <td>CONT_AWD_70Z02918PX0808600_7008_-NONE-_-NONE-</td>\n",
       "      <td>10/17/2018</td>\n",
       "      <td>7008_-NONE-_70Z02918PX0808600_P00001_-NONE-_0</td>\n",
       "      <td>2088.00</td>\n",
       "      <td>2088.00</td>\n",
       "      <td>-1566.00</td>\n",
       "      <td>2088.00</td>\n",
       "      <td>1.000000</td>\n",
       "      <td>1.000000</td>\n",
       "      <td>1.000000</td>\n",
       "      <td>True</td>\n",
       "    </tr>\n",
       "    <tr>\n",
       "      <td>CONT_AWD_70Z03818PW0000011_7008_-NONE-_-NONE-</td>\n",
       "      <td>10/13/2018</td>\n",
       "      <td>7008_-NONE-_70Z03818PW0000011_P00001_-NONE-_0</td>\n",
       "      <td>1152695.02</td>\n",
       "      <td>1152695.02</td>\n",
       "      <td>0.00</td>\n",
       "      <td>1152695.02</td>\n",
       "      <td>1.000000</td>\n",
       "      <td>1.000000</td>\n",
       "      <td>1.000000</td>\n",
       "      <td>False</td>\n",
       "    </tr>\n",
       "    <tr>\n",
       "      <td>CONT_AWD_70Z08018PP45K8500_7008_-NONE-_-NONE-</td>\n",
       "      <td>10/18/2018</td>\n",
       "      <td>7008_-NONE-_70Z08018PP45K8500_P00001_-NONE-_0</td>\n",
       "      <td>13654.38</td>\n",
       "      <td>13654.38</td>\n",
       "      <td>-2208.12</td>\n",
       "      <td>13654.38</td>\n",
       "      <td>1.000000</td>\n",
       "      <td>1.000000</td>\n",
       "      <td>1.000000</td>\n",
       "      <td>True</td>\n",
       "    </tr>\n",
       "    <tr>\n",
       "      <td>...</td>\n",
       "      <td>...</td>\n",
       "      <td>...</td>\n",
       "      <td>...</td>\n",
       "      <td>...</td>\n",
       "      <td>...</td>\n",
       "      <td>...</td>\n",
       "      <td>...</td>\n",
       "      <td>...</td>\n",
       "      <td>...</td>\n",
       "      <td>...</td>\n",
       "    </tr>\n",
       "    <tr>\n",
       "      <td>CONT_AWD_70Z03819PD0000080_7008_-NONE-_-NONE-</td>\n",
       "      <td>8/20/2019</td>\n",
       "      <td>7008_-NONE-_70Z03819PD0000080_P00001_-NONE-_0</td>\n",
       "      <td>17640.36</td>\n",
       "      <td>17640.36</td>\n",
       "      <td>0.00</td>\n",
       "      <td>17640.36</td>\n",
       "      <td>1.000000</td>\n",
       "      <td>1.000000</td>\n",
       "      <td>1.000000</td>\n",
       "      <td>False</td>\n",
       "    </tr>\n",
       "    <tr>\n",
       "      <td>CONT_AWD_70Z08019P29577B00_7008_-NONE-_-NONE-</td>\n",
       "      <td>9/5/2019</td>\n",
       "      <td>7008_-NONE-_70Z08019P29577B00_P00001_-NONE-_0</td>\n",
       "      <td>7800.16</td>\n",
       "      <td>7800.16</td>\n",
       "      <td>-8132.53</td>\n",
       "      <td>7800.16</td>\n",
       "      <td>1.000000</td>\n",
       "      <td>1.000000</td>\n",
       "      <td>1.000000</td>\n",
       "      <td>True</td>\n",
       "    </tr>\n",
       "    <tr>\n",
       "      <td>CONT_AWD_HSBP1015F00038_7014_HSBP1013A00012_7014</td>\n",
       "      <td>1/8/2019</td>\n",
       "      <td>7014_7014_HSBP1015F00038_P00001_HSBP1013A00012_0</td>\n",
       "      <td>513427.20</td>\n",
       "      <td>513427.20</td>\n",
       "      <td>0.00</td>\n",
       "      <td>517267.40</td>\n",
       "      <td>0.992576</td>\n",
       "      <td>0.992576</td>\n",
       "      <td>1.000000</td>\n",
       "      <td>True</td>\n",
       "    </tr>\n",
       "    <tr>\n",
       "      <td>CONT_AWD_HSBP1015F00113_7014_HSBP1013A00012_7014</td>\n",
       "      <td>1/8/2019</td>\n",
       "      <td>7014_7014_HSBP1015F00113_P00001_HSBP1013A00012_0</td>\n",
       "      <td>2757666.44</td>\n",
       "      <td>2757666.44</td>\n",
       "      <td>-159391.97</td>\n",
       "      <td>2757666.44</td>\n",
       "      <td>1.000000</td>\n",
       "      <td>1.000000</td>\n",
       "      <td>1.000000</td>\n",
       "      <td>True</td>\n",
       "    </tr>\n",
       "    <tr>\n",
       "      <td>CONT_AWD_HSSCCG14F00581_7003_HSHQDC13A00039_7001</td>\n",
       "      <td>1/8/2019</td>\n",
       "      <td>7003_7001_HSSCCG14F00581_P00011_HSHQDC13A00039_0</td>\n",
       "      <td>5601815.63</td>\n",
       "      <td>5601815.63</td>\n",
       "      <td>-6170.50</td>\n",
       "      <td>11164500.09</td>\n",
       "      <td>0.501752</td>\n",
       "      <td>0.501752</td>\n",
       "      <td>1.000000</td>\n",
       "      <td>True</td>\n",
       "    </tr>\n",
       "  </tbody>\n",
       "</table>\n",
       "<p>66533 rows × 9 columns</p>\n",
       "</div>"
      ],
      "text/plain": [
       "                                                                               contract_transaction_unique_key  \\\n",
       "contract_award_unique_key                        action_date                                                     \n",
       "CONT_AWD_HSCEMS16F00057_7012_HSCEMS12A00018_7012 10/19/2018   7012_7012_HSCEMS16F00057_P00005_HSCEMS12A00018_0   \n",
       "CONT_AWD_HSFE2015J0271_7022_HSFE2013D0161_7022   3/27/2019      7022_7022_HSFE2015J0271_P00002_HSFE2013D0161_0   \n",
       "CONT_AWD_70Z02918PX0808600_7008_-NONE-_-NONE-    10/17/2018      7008_-NONE-_70Z02918PX0808600_P00001_-NONE-_0   \n",
       "CONT_AWD_70Z03818PW0000011_7008_-NONE-_-NONE-    10/13/2018      7008_-NONE-_70Z03818PW0000011_P00001_-NONE-_0   \n",
       "CONT_AWD_70Z08018PP45K8500_7008_-NONE-_-NONE-    10/18/2018      7008_-NONE-_70Z08018PP45K8500_P00001_-NONE-_0   \n",
       "...                                                                                                        ...   \n",
       "CONT_AWD_70Z03819PD0000080_7008_-NONE-_-NONE-    8/20/2019       7008_-NONE-_70Z03819PD0000080_P00001_-NONE-_0   \n",
       "CONT_AWD_70Z08019P29577B00_7008_-NONE-_-NONE-    9/5/2019        7008_-NONE-_70Z08019P29577B00_P00001_-NONE-_0   \n",
       "CONT_AWD_HSBP1015F00038_7014_HSBP1013A00012_7014 1/8/2019     7014_7014_HSBP1015F00038_P00001_HSBP1013A00012_0   \n",
       "CONT_AWD_HSBP1015F00113_7014_HSBP1013A00012_7014 1/8/2019     7014_7014_HSBP1015F00113_P00001_HSBP1013A00012_0   \n",
       "CONT_AWD_HSSCCG14F00581_7003_HSHQDC13A00039_7001 1/8/2019     7003_7001_HSSCCG14F00581_P00011_HSHQDC13A00039_0   \n",
       "\n",
       "                                                              total_dollars_obligated  \\\n",
       "contract_award_unique_key                        action_date                            \n",
       "CONT_AWD_HSCEMS16F00057_7012_HSCEMS12A00018_7012 10/19/2018                6003953.42   \n",
       "CONT_AWD_HSFE2015J0271_7022_HSFE2013D0161_7022   3/27/2019                  104830.31   \n",
       "CONT_AWD_70Z02918PX0808600_7008_-NONE-_-NONE-    10/17/2018                   2088.00   \n",
       "CONT_AWD_70Z03818PW0000011_7008_-NONE-_-NONE-    10/13/2018                1152695.02   \n",
       "CONT_AWD_70Z08018PP45K8500_7008_-NONE-_-NONE-    10/18/2018                  13654.38   \n",
       "...                                                                               ...   \n",
       "CONT_AWD_70Z03819PD0000080_7008_-NONE-_-NONE-    8/20/2019                   17640.36   \n",
       "CONT_AWD_70Z08019P29577B00_7008_-NONE-_-NONE-    9/5/2019                     7800.16   \n",
       "CONT_AWD_HSBP1015F00038_7014_HSBP1013A00012_7014 1/8/2019                   513427.20   \n",
       "CONT_AWD_HSBP1015F00113_7014_HSBP1013A00012_7014 1/8/2019                  2757666.44   \n",
       "CONT_AWD_HSSCCG14F00581_7003_HSHQDC13A00039_7001 1/8/2019                  5601815.63   \n",
       "\n",
       "                                                              current_total_value_of_award  \\\n",
       "contract_award_unique_key                        action_date                                 \n",
       "CONT_AWD_HSCEMS16F00057_7012_HSCEMS12A00018_7012 10/19/2018                     6059478.42   \n",
       "CONT_AWD_HSFE2015J0271_7022_HSFE2013D0161_7022   3/27/2019                       104830.31   \n",
       "CONT_AWD_70Z02918PX0808600_7008_-NONE-_-NONE-    10/17/2018                        2088.00   \n",
       "CONT_AWD_70Z03818PW0000011_7008_-NONE-_-NONE-    10/13/2018                     1152695.02   \n",
       "CONT_AWD_70Z08018PP45K8500_7008_-NONE-_-NONE-    10/18/2018                       13654.38   \n",
       "...                                                                                    ...   \n",
       "CONT_AWD_70Z03819PD0000080_7008_-NONE-_-NONE-    8/20/2019                        17640.36   \n",
       "CONT_AWD_70Z08019P29577B00_7008_-NONE-_-NONE-    9/5/2019                          7800.16   \n",
       "CONT_AWD_HSBP1015F00038_7014_HSBP1013A00012_7014 1/8/2019                        513427.20   \n",
       "CONT_AWD_HSBP1015F00113_7014_HSBP1013A00012_7014 1/8/2019                       2757666.44   \n",
       "CONT_AWD_HSSCCG14F00581_7003_HSHQDC13A00039_7001 1/8/2019                       5601815.63   \n",
       "\n",
       "                                                              base_and_all_options_value  \\\n",
       "contract_award_unique_key                        action_date                               \n",
       "CONT_AWD_HSCEMS16F00057_7012_HSCEMS12A00018_7012 10/19/2018                   -148339.00   \n",
       "CONT_AWD_HSFE2015J0271_7022_HSFE2013D0161_7022   3/27/2019                          0.00   \n",
       "CONT_AWD_70Z02918PX0808600_7008_-NONE-_-NONE-    10/17/2018                     -1566.00   \n",
       "CONT_AWD_70Z03818PW0000011_7008_-NONE-_-NONE-    10/13/2018                         0.00   \n",
       "CONT_AWD_70Z08018PP45K8500_7008_-NONE-_-NONE-    10/18/2018                     -2208.12   \n",
       "...                                                                                  ...   \n",
       "CONT_AWD_70Z03819PD0000080_7008_-NONE-_-NONE-    8/20/2019                          0.00   \n",
       "CONT_AWD_70Z08019P29577B00_7008_-NONE-_-NONE-    9/5/2019                       -8132.53   \n",
       "CONT_AWD_HSBP1015F00038_7014_HSBP1013A00012_7014 1/8/2019                           0.00   \n",
       "CONT_AWD_HSBP1015F00113_7014_HSBP1013A00012_7014 1/8/2019                     -159391.97   \n",
       "CONT_AWD_HSSCCG14F00581_7003_HSHQDC13A00039_7001 1/8/2019                       -6170.50   \n",
       "\n",
       "                                                              potential_total_value_of_award  \\\n",
       "contract_award_unique_key                        action_date                                   \n",
       "CONT_AWD_HSCEMS16F00057_7012_HSCEMS12A00018_7012 10/19/2018                       6067181.28   \n",
       "CONT_AWD_HSFE2015J0271_7022_HSFE2013D0161_7022   3/27/2019                         104830.31   \n",
       "CONT_AWD_70Z02918PX0808600_7008_-NONE-_-NONE-    10/17/2018                          2088.00   \n",
       "CONT_AWD_70Z03818PW0000011_7008_-NONE-_-NONE-    10/13/2018                       1152695.02   \n",
       "CONT_AWD_70Z08018PP45K8500_7008_-NONE-_-NONE-    10/18/2018                         13654.38   \n",
       "...                                                                                      ...   \n",
       "CONT_AWD_70Z03819PD0000080_7008_-NONE-_-NONE-    8/20/2019                          17640.36   \n",
       "CONT_AWD_70Z08019P29577B00_7008_-NONE-_-NONE-    9/5/2019                            7800.16   \n",
       "CONT_AWD_HSBP1015F00038_7014_HSBP1013A00012_7014 1/8/2019                          517267.40   \n",
       "CONT_AWD_HSBP1015F00113_7014_HSBP1013A00012_7014 1/8/2019                         2757666.44   \n",
       "CONT_AWD_HSSCCG14F00581_7003_HSHQDC13A00039_7001 1/8/2019                        11164500.09   \n",
       "\n",
       "                                                              Percent awarded over potential total awarded  \\\n",
       "contract_award_unique_key                        action_date                                                 \n",
       "CONT_AWD_HSCEMS16F00057_7012_HSCEMS12A00018_7012 10/19/2018                                       0.998730   \n",
       "CONT_AWD_HSFE2015J0271_7022_HSFE2013D0161_7022   3/27/2019                                        1.000000   \n",
       "CONT_AWD_70Z02918PX0808600_7008_-NONE-_-NONE-    10/17/2018                                       1.000000   \n",
       "CONT_AWD_70Z03818PW0000011_7008_-NONE-_-NONE-    10/13/2018                                       1.000000   \n",
       "CONT_AWD_70Z08018PP45K8500_7008_-NONE-_-NONE-    10/18/2018                                       1.000000   \n",
       "...                                                                                                    ...   \n",
       "CONT_AWD_70Z03819PD0000080_7008_-NONE-_-NONE-    8/20/2019                                        1.000000   \n",
       "CONT_AWD_70Z08019P29577B00_7008_-NONE-_-NONE-    9/5/2019                                         1.000000   \n",
       "CONT_AWD_HSBP1015F00038_7014_HSBP1013A00012_7014 1/8/2019                                         0.992576   \n",
       "CONT_AWD_HSBP1015F00113_7014_HSBP1013A00012_7014 1/8/2019                                         1.000000   \n",
       "CONT_AWD_HSSCCG14F00581_7003_HSHQDC13A00039_7001 1/8/2019                                         0.501752   \n",
       "\n",
       "                                                              Percent Cumulatively Obligated over potential total value of award  \\\n",
       "contract_award_unique_key                        action_date                                                                       \n",
       "CONT_AWD_HSCEMS16F00057_7012_HSCEMS12A00018_7012 10/19/2018                                            0.989579                    \n",
       "CONT_AWD_HSFE2015J0271_7022_HSFE2013D0161_7022   3/27/2019                                             1.000000                    \n",
       "CONT_AWD_70Z02918PX0808600_7008_-NONE-_-NONE-    10/17/2018                                            1.000000                    \n",
       "CONT_AWD_70Z03818PW0000011_7008_-NONE-_-NONE-    10/13/2018                                            1.000000                    \n",
       "CONT_AWD_70Z08018PP45K8500_7008_-NONE-_-NONE-    10/18/2018                                            1.000000                    \n",
       "...                                                                                                         ...                    \n",
       "CONT_AWD_70Z03819PD0000080_7008_-NONE-_-NONE-    8/20/2019                                             1.000000                    \n",
       "CONT_AWD_70Z08019P29577B00_7008_-NONE-_-NONE-    9/5/2019                                              1.000000                    \n",
       "CONT_AWD_HSBP1015F00038_7014_HSBP1013A00012_7014 1/8/2019                                              0.992576                    \n",
       "CONT_AWD_HSBP1015F00113_7014_HSBP1013A00012_7014 1/8/2019                                              1.000000                    \n",
       "CONT_AWD_HSSCCG14F00581_7003_HSHQDC13A00039_7001 1/8/2019                                              0.501752                    \n",
       "\n",
       "                                                              Percent Cumulatively Obligated over total value already awarded  \\\n",
       "contract_award_unique_key                        action_date                                                                    \n",
       "CONT_AWD_HSCEMS16F00057_7012_HSCEMS12A00018_7012 10/19/2018                                            0.990837                 \n",
       "CONT_AWD_HSFE2015J0271_7022_HSFE2013D0161_7022   3/27/2019                                             1.000000                 \n",
       "CONT_AWD_70Z02918PX0808600_7008_-NONE-_-NONE-    10/17/2018                                            1.000000                 \n",
       "CONT_AWD_70Z03818PW0000011_7008_-NONE-_-NONE-    10/13/2018                                            1.000000                 \n",
       "CONT_AWD_70Z08018PP45K8500_7008_-NONE-_-NONE-    10/18/2018                                            1.000000                 \n",
       "...                                                                                                         ...                 \n",
       "CONT_AWD_70Z03819PD0000080_7008_-NONE-_-NONE-    8/20/2019                                             1.000000                 \n",
       "CONT_AWD_70Z08019P29577B00_7008_-NONE-_-NONE-    9/5/2019                                              1.000000                 \n",
       "CONT_AWD_HSBP1015F00038_7014_HSBP1013A00012_7014 1/8/2019                                              1.000000                 \n",
       "CONT_AWD_HSBP1015F00113_7014_HSBP1013A00012_7014 1/8/2019                                              1.000000                 \n",
       "CONT_AWD_HSSCCG14F00581_7003_HSHQDC13A00039_7001 1/8/2019                                              1.000000                 \n",
       "\n",
       "                                                              Indicator  \n",
       "contract_award_unique_key                        action_date             \n",
       "CONT_AWD_HSCEMS16F00057_7012_HSCEMS12A00018_7012 10/19/2018        True  \n",
       "CONT_AWD_HSFE2015J0271_7022_HSFE2013D0161_7022   3/27/2019        False  \n",
       "CONT_AWD_70Z02918PX0808600_7008_-NONE-_-NONE-    10/17/2018        True  \n",
       "CONT_AWD_70Z03818PW0000011_7008_-NONE-_-NONE-    10/13/2018       False  \n",
       "CONT_AWD_70Z08018PP45K8500_7008_-NONE-_-NONE-    10/18/2018        True  \n",
       "...                                                                 ...  \n",
       "CONT_AWD_70Z03819PD0000080_7008_-NONE-_-NONE-    8/20/2019        False  \n",
       "CONT_AWD_70Z08019P29577B00_7008_-NONE-_-NONE-    9/5/2019          True  \n",
       "CONT_AWD_HSBP1015F00038_7014_HSBP1013A00012_7014 1/8/2019          True  \n",
       "CONT_AWD_HSBP1015F00113_7014_HSBP1013A00012_7014 1/8/2019          True  \n",
       "CONT_AWD_HSSCCG14F00581_7003_HSHQDC13A00039_7001 1/8/2019          True  \n",
       "\n",
       "[66533 rows x 9 columns]"
      ]
     },
     "execution_count": 33,
     "metadata": {},
     "output_type": "execute_result"
    }
   ],
   "source": [
    "df"
   ]
  },
  {
   "cell_type": "code",
   "execution_count": 34,
   "metadata": {},
   "outputs": [],
   "source": [
    "# Read data from DHS Contracts\n",
    "df = pd.read_csv('FY2019_070_Contracts_Full_20200110_1.csv', header = 0, usecols = ['contract_transaction_unique_key',\n",
    "                        'contract_award_unique_key',\n",
    "                        'federal_action_obligation','total_dollars_obligated', 'base_and_exercised_options_value', \n",
    "                        'current_total_value_of_award', 'base_and_all_options_value','potential_total_value_of_award',\n",
    "                        'action_date'],\n",
    "                 dtype = {'contract_transaction_unique_key':'str','contract_transaction_unique_key':'str',\n",
    "                          'federal_action_obligation': 'float','total_dollars_obligated': 'float', \n",
    "                          'base_and_exercised_options_value': 'float', 'current_total_value_of_award': 'float', \n",
    "                          'base_and_all_options_value': 'float','potential_total_value_of_award': 'float',\n",
    "                          'action_date':'str'})"
   ]
  },
  {
   "cell_type": "code",
   "execution_count": 35,
   "metadata": {},
   "outputs": [
    {
     "data": {
      "text/html": [
       "<div>\n",
       "<style scoped>\n",
       "    .dataframe tbody tr th:only-of-type {\n",
       "        vertical-align: middle;\n",
       "    }\n",
       "\n",
       "    .dataframe tbody tr th {\n",
       "        vertical-align: top;\n",
       "    }\n",
       "\n",
       "    .dataframe thead th {\n",
       "        text-align: right;\n",
       "    }\n",
       "</style>\n",
       "<table border=\"1\" class=\"dataframe\">\n",
       "  <thead>\n",
       "    <tr style=\"text-align: right;\">\n",
       "      <th></th>\n",
       "      <th>contract_transaction_unique_key</th>\n",
       "      <th>contract_award_unique_key</th>\n",
       "      <th>federal_action_obligation</th>\n",
       "      <th>total_dollars_obligated</th>\n",
       "      <th>base_and_exercised_options_value</th>\n",
       "      <th>current_total_value_of_award</th>\n",
       "      <th>base_and_all_options_value</th>\n",
       "      <th>potential_total_value_of_award</th>\n",
       "      <th>action_date</th>\n",
       "    </tr>\n",
       "  </thead>\n",
       "  <tbody>\n",
       "    <tr>\n",
       "      <td>0</td>\n",
       "      <td>7012_7012_HSCEMS16F00057_P00005_HSCEMS12A00018_0</td>\n",
       "      <td>CONT_AWD_HSCEMS16F00057_7012_HSCEMS12A00018_7012</td>\n",
       "      <td>-7702.86</td>\n",
       "      <td>6003953.42</td>\n",
       "      <td>-7702.86</td>\n",
       "      <td>6059478.42</td>\n",
       "      <td>-148339.00</td>\n",
       "      <td>6.067181e+06</td>\n",
       "      <td>10/19/2018</td>\n",
       "    </tr>\n",
       "    <tr>\n",
       "      <td>1</td>\n",
       "      <td>7022_7022_HSFE2015J0271_P00002_HSFE2013D0161_0</td>\n",
       "      <td>CONT_AWD_HSFE2015J0271_7022_HSFE2013D0161_7022</td>\n",
       "      <td>0.00</td>\n",
       "      <td>104830.31</td>\n",
       "      <td>0.00</td>\n",
       "      <td>104830.31</td>\n",
       "      <td>0.00</td>\n",
       "      <td>1.048303e+05</td>\n",
       "      <td>3/27/2019</td>\n",
       "    </tr>\n",
       "    <tr>\n",
       "      <td>2</td>\n",
       "      <td>7008_-NONE-_70Z02918PX0808600_P00001_-NONE-_0</td>\n",
       "      <td>CONT_AWD_70Z02918PX0808600_7008_-NONE-_-NONE-</td>\n",
       "      <td>-1566.00</td>\n",
       "      <td>2088.00</td>\n",
       "      <td>-1566.00</td>\n",
       "      <td>2088.00</td>\n",
       "      <td>-1566.00</td>\n",
       "      <td>2.088000e+03</td>\n",
       "      <td>10/17/2018</td>\n",
       "    </tr>\n",
       "    <tr>\n",
       "      <td>3</td>\n",
       "      <td>7008_-NONE-_70Z03818PW0000011_P00001_-NONE-_0</td>\n",
       "      <td>CONT_AWD_70Z03818PW0000011_7008_-NONE-_-NONE-</td>\n",
       "      <td>0.00</td>\n",
       "      <td>1152695.02</td>\n",
       "      <td>0.00</td>\n",
       "      <td>1152695.02</td>\n",
       "      <td>0.00</td>\n",
       "      <td>1.152695e+06</td>\n",
       "      <td>10/13/2018</td>\n",
       "    </tr>\n",
       "    <tr>\n",
       "      <td>4</td>\n",
       "      <td>7008_-NONE-_70Z08018PP45K8500_P00001_-NONE-_0</td>\n",
       "      <td>CONT_AWD_70Z08018PP45K8500_7008_-NONE-_-NONE-</td>\n",
       "      <td>-2208.12</td>\n",
       "      <td>13654.38</td>\n",
       "      <td>-2208.12</td>\n",
       "      <td>13654.38</td>\n",
       "      <td>-2208.12</td>\n",
       "      <td>1.365438e+04</td>\n",
       "      <td>10/18/2018</td>\n",
       "    </tr>\n",
       "    <tr>\n",
       "      <td>5</td>\n",
       "      <td>7008_-NONE-_HSCG3816DL00004_P00009_-NONE-_-NONE-</td>\n",
       "      <td>CONT_IDV_HSCG3816DL00004_7008</td>\n",
       "      <td>0.00</td>\n",
       "      <td>0.00</td>\n",
       "      <td>NaN</td>\n",
       "      <td>NaN</td>\n",
       "      <td>0.00</td>\n",
       "      <td>3.625838e+06</td>\n",
       "      <td>10/20/2018</td>\n",
       "    </tr>\n",
       "    <tr>\n",
       "      <td>6</td>\n",
       "      <td>7008_4730_70Z08418F4YF02400_P00001_GS33F0009P_0</td>\n",
       "      <td>CONT_AWD_70Z08418F4YF02400_7008_GS33F0009P_4730</td>\n",
       "      <td>-300648.72</td>\n",
       "      <td>9101.28</td>\n",
       "      <td>-300648.72</td>\n",
       "      <td>9101.28</td>\n",
       "      <td>-300648.72</td>\n",
       "      <td>9.101280e+03</td>\n",
       "      <td>10/9/2018</td>\n",
       "    </tr>\n",
       "    <tr>\n",
       "      <td>7</td>\n",
       "      <td>7008_7008_HSCG3211J300016_P00004_HSCG3210DR000...</td>\n",
       "      <td>CONT_AWD_HSCG3211J300016_7008_HSCG3210DR00021_...</td>\n",
       "      <td>-6.33</td>\n",
       "      <td>286785.56</td>\n",
       "      <td>-6.33</td>\n",
       "      <td>286785.56</td>\n",
       "      <td>-6.33</td>\n",
       "      <td>2.867856e+05</td>\n",
       "      <td>10/15/2018</td>\n",
       "    </tr>\n",
       "    <tr>\n",
       "      <td>8</td>\n",
       "      <td>7008_7008_HSCG3212J300032_P00004_HSCG3210DR000...</td>\n",
       "      <td>CONT_AWD_HSCG3212J300032_7008_HSCG3210DR00021_...</td>\n",
       "      <td>-129.13</td>\n",
       "      <td>215771.75</td>\n",
       "      <td>-129.13</td>\n",
       "      <td>215771.75</td>\n",
       "      <td>-129.13</td>\n",
       "      <td>2.157718e+05</td>\n",
       "      <td>10/15/2018</td>\n",
       "    </tr>\n",
       "    <tr>\n",
       "      <td>9</td>\n",
       "      <td>7013_-NONE-_HSTS0514AMED077_P00001_-NONE-_-NONE-</td>\n",
       "      <td>CONT_IDV_HSTS0514AMED077_7013</td>\n",
       "      <td>0.00</td>\n",
       "      <td>0.00</td>\n",
       "      <td>NaN</td>\n",
       "      <td>NaN</td>\n",
       "      <td>0.00</td>\n",
       "      <td>1.500000e+05</td>\n",
       "      <td>10/2/2018</td>\n",
       "    </tr>\n",
       "    <tr>\n",
       "      <td>10</td>\n",
       "      <td>7008_-NONE-_70Z03818DB2000003_P00002_-NONE-_-N...</td>\n",
       "      <td>CONT_IDV_70Z03818DB2000003_7008</td>\n",
       "      <td>0.00</td>\n",
       "      <td>0.00</td>\n",
       "      <td>NaN</td>\n",
       "      <td>NaN</td>\n",
       "      <td>0.00</td>\n",
       "      <td>4.812332e+06</td>\n",
       "      <td>10/1/2018</td>\n",
       "    </tr>\n",
       "    <tr>\n",
       "      <td>11</td>\n",
       "      <td>7008_-NONE-_70Z03819DB2000001_0_-NONE-_-NONE-</td>\n",
       "      <td>CONT_IDV_70Z03819DB2000001_7008</td>\n",
       "      <td>0.00</td>\n",
       "      <td>0.00</td>\n",
       "      <td>NaN</td>\n",
       "      <td>NaN</td>\n",
       "      <td>163004.25</td>\n",
       "      <td>1.630042e+05</td>\n",
       "      <td>10/1/2018</td>\n",
       "    </tr>\n",
       "    <tr>\n",
       "      <td>12</td>\n",
       "      <td>7008_-NONE-_70Z03819DM0000001_0_-NONE-_-NONE-</td>\n",
       "      <td>CONT_IDV_70Z03819DM0000001_7008</td>\n",
       "      <td>0.00</td>\n",
       "      <td>0.00</td>\n",
       "      <td>NaN</td>\n",
       "      <td>NaN</td>\n",
       "      <td>249767.00</td>\n",
       "      <td>2.497670e+05</td>\n",
       "      <td>10/1/2018</td>\n",
       "    </tr>\n",
       "    <tr>\n",
       "      <td>13</td>\n",
       "      <td>7012_-NONE-_HSCEDM17D00009_P00008_-NONE-_-NONE-</td>\n",
       "      <td>CONT_IDV_HSCEDM17D00009_7012</td>\n",
       "      <td>0.00</td>\n",
       "      <td>0.00</td>\n",
       "      <td>NaN</td>\n",
       "      <td>NaN</td>\n",
       "      <td>0.00</td>\n",
       "      <td>4.573615e+08</td>\n",
       "      <td>10/2/2018</td>\n",
       "    </tr>\n",
       "    <tr>\n",
       "      <td>14</td>\n",
       "      <td>7008_-NONE-_HSCG2317DPXC002_P00003_-NONE-_-NONE-</td>\n",
       "      <td>CONT_IDV_HSCG2317DPXC002_7008</td>\n",
       "      <td>0.00</td>\n",
       "      <td>0.00</td>\n",
       "      <td>NaN</td>\n",
       "      <td>NaN</td>\n",
       "      <td>0.00</td>\n",
       "      <td>4.790247e+06</td>\n",
       "      <td>10/2/2018</td>\n",
       "    </tr>\n",
       "  </tbody>\n",
       "</table>\n",
       "</div>"
      ],
      "text/plain": [
       "                      contract_transaction_unique_key  \\\n",
       "0    7012_7012_HSCEMS16F00057_P00005_HSCEMS12A00018_0   \n",
       "1      7022_7022_HSFE2015J0271_P00002_HSFE2013D0161_0   \n",
       "2       7008_-NONE-_70Z02918PX0808600_P00001_-NONE-_0   \n",
       "3       7008_-NONE-_70Z03818PW0000011_P00001_-NONE-_0   \n",
       "4       7008_-NONE-_70Z08018PP45K8500_P00001_-NONE-_0   \n",
       "5    7008_-NONE-_HSCG3816DL00004_P00009_-NONE-_-NONE-   \n",
       "6     7008_4730_70Z08418F4YF02400_P00001_GS33F0009P_0   \n",
       "7   7008_7008_HSCG3211J300016_P00004_HSCG3210DR000...   \n",
       "8   7008_7008_HSCG3212J300032_P00004_HSCG3210DR000...   \n",
       "9    7013_-NONE-_HSTS0514AMED077_P00001_-NONE-_-NONE-   \n",
       "10  7008_-NONE-_70Z03818DB2000003_P00002_-NONE-_-N...   \n",
       "11      7008_-NONE-_70Z03819DB2000001_0_-NONE-_-NONE-   \n",
       "12      7008_-NONE-_70Z03819DM0000001_0_-NONE-_-NONE-   \n",
       "13    7012_-NONE-_HSCEDM17D00009_P00008_-NONE-_-NONE-   \n",
       "14   7008_-NONE-_HSCG2317DPXC002_P00003_-NONE-_-NONE-   \n",
       "\n",
       "                            contract_award_unique_key  \\\n",
       "0    CONT_AWD_HSCEMS16F00057_7012_HSCEMS12A00018_7012   \n",
       "1      CONT_AWD_HSFE2015J0271_7022_HSFE2013D0161_7022   \n",
       "2       CONT_AWD_70Z02918PX0808600_7008_-NONE-_-NONE-   \n",
       "3       CONT_AWD_70Z03818PW0000011_7008_-NONE-_-NONE-   \n",
       "4       CONT_AWD_70Z08018PP45K8500_7008_-NONE-_-NONE-   \n",
       "5                       CONT_IDV_HSCG3816DL00004_7008   \n",
       "6     CONT_AWD_70Z08418F4YF02400_7008_GS33F0009P_4730   \n",
       "7   CONT_AWD_HSCG3211J300016_7008_HSCG3210DR00021_...   \n",
       "8   CONT_AWD_HSCG3212J300032_7008_HSCG3210DR00021_...   \n",
       "9                       CONT_IDV_HSTS0514AMED077_7013   \n",
       "10                    CONT_IDV_70Z03818DB2000003_7008   \n",
       "11                    CONT_IDV_70Z03819DB2000001_7008   \n",
       "12                    CONT_IDV_70Z03819DM0000001_7008   \n",
       "13                       CONT_IDV_HSCEDM17D00009_7012   \n",
       "14                      CONT_IDV_HSCG2317DPXC002_7008   \n",
       "\n",
       "    federal_action_obligation  total_dollars_obligated  \\\n",
       "0                    -7702.86               6003953.42   \n",
       "1                        0.00                104830.31   \n",
       "2                    -1566.00                  2088.00   \n",
       "3                        0.00               1152695.02   \n",
       "4                    -2208.12                 13654.38   \n",
       "5                        0.00                     0.00   \n",
       "6                  -300648.72                  9101.28   \n",
       "7                       -6.33                286785.56   \n",
       "8                     -129.13                215771.75   \n",
       "9                        0.00                     0.00   \n",
       "10                       0.00                     0.00   \n",
       "11                       0.00                     0.00   \n",
       "12                       0.00                     0.00   \n",
       "13                       0.00                     0.00   \n",
       "14                       0.00                     0.00   \n",
       "\n",
       "    base_and_exercised_options_value  current_total_value_of_award  \\\n",
       "0                           -7702.86                    6059478.42   \n",
       "1                               0.00                     104830.31   \n",
       "2                           -1566.00                       2088.00   \n",
       "3                               0.00                    1152695.02   \n",
       "4                           -2208.12                      13654.38   \n",
       "5                                NaN                           NaN   \n",
       "6                         -300648.72                       9101.28   \n",
       "7                              -6.33                     286785.56   \n",
       "8                            -129.13                     215771.75   \n",
       "9                                NaN                           NaN   \n",
       "10                               NaN                           NaN   \n",
       "11                               NaN                           NaN   \n",
       "12                               NaN                           NaN   \n",
       "13                               NaN                           NaN   \n",
       "14                               NaN                           NaN   \n",
       "\n",
       "    base_and_all_options_value  potential_total_value_of_award action_date  \n",
       "0                   -148339.00                    6.067181e+06  10/19/2018  \n",
       "1                         0.00                    1.048303e+05   3/27/2019  \n",
       "2                     -1566.00                    2.088000e+03  10/17/2018  \n",
       "3                         0.00                    1.152695e+06  10/13/2018  \n",
       "4                     -2208.12                    1.365438e+04  10/18/2018  \n",
       "5                         0.00                    3.625838e+06  10/20/2018  \n",
       "6                   -300648.72                    9.101280e+03   10/9/2018  \n",
       "7                        -6.33                    2.867856e+05  10/15/2018  \n",
       "8                      -129.13                    2.157718e+05  10/15/2018  \n",
       "9                         0.00                    1.500000e+05   10/2/2018  \n",
       "10                        0.00                    4.812332e+06   10/1/2018  \n",
       "11                   163004.25                    1.630042e+05   10/1/2018  \n",
       "12                   249767.00                    2.497670e+05   10/1/2018  \n",
       "13                        0.00                    4.573615e+08   10/2/2018  \n",
       "14                        0.00                    4.790247e+06   10/2/2018  "
      ]
     },
     "execution_count": 35,
     "metadata": {},
     "output_type": "execute_result"
    }
   ],
   "source": [
    "df.head(15)"
   ]
  },
  {
   "cell_type": "code",
   "execution_count": 36,
   "metadata": {},
   "outputs": [],
   "source": [
    "# Create 3 new features for analysis\n",
    "df['Percent awarded over potential total awarded'] = df['current_total_value_of_award'] / df['potential_total_value_of_award']\n",
    "df['Percent Cumulatively Obligated over potential total value of award'] = df['total_dollars_obligated'] / df['potential_total_value_of_award']\n",
    "df['Percent Cumulatively Obligated over total value already awarded'] = df['total_dollars_obligated'] / df['current_total_value_of_award']\n",
    "\n",
    "# Create Indicator Variable\n",
    "df['Indicator'] = df['federal_action_obligation']<-1000"
   ]
  },
  {
   "cell_type": "code",
   "execution_count": 37,
   "metadata": {},
   "outputs": [
    {
     "data": {
      "text/plain": [
       "Index(['contract_transaction_unique_key', 'contract_award_unique_key',\n",
       "       'federal_action_obligation', 'total_dollars_obligated',\n",
       "       'base_and_exercised_options_value', 'current_total_value_of_award',\n",
       "       'base_and_all_options_value', 'potential_total_value_of_award',\n",
       "       'action_date', 'Percent awarded over potential total awarded',\n",
       "       'Percent Cumulatively Obligated over potential total value of award',\n",
       "       'Percent Cumulatively Obligated over total value already awarded',\n",
       "       'Indicator'],\n",
       "      dtype='object')"
      ]
     },
     "execution_count": 37,
     "metadata": {},
     "output_type": "execute_result"
    }
   ],
   "source": [
    "              df.columns"
   ]
  },
  {
   "cell_type": "code",
   "execution_count": 38,
   "metadata": {},
   "outputs": [
    {
     "data": {
      "text/html": [
       "<div>\n",
       "<style scoped>\n",
       "    .dataframe tbody tr th:only-of-type {\n",
       "        vertical-align: middle;\n",
       "    }\n",
       "\n",
       "    .dataframe tbody tr th {\n",
       "        vertical-align: top;\n",
       "    }\n",
       "\n",
       "    .dataframe thead th {\n",
       "        text-align: right;\n",
       "    }\n",
       "</style>\n",
       "<table border=\"1\" class=\"dataframe\">\n",
       "  <thead>\n",
       "    <tr style=\"text-align: right;\">\n",
       "      <th></th>\n",
       "      <th></th>\n",
       "      <th>total_dollars_obligated</th>\n",
       "      <th>current_total_value_of_award</th>\n",
       "      <th>base_and_all_options_value</th>\n",
       "      <th>potential_total_value_of_award</th>\n",
       "      <th>Percent awarded over potential total awarded</th>\n",
       "      <th>Percent Cumulatively Obligated over potential total value of award</th>\n",
       "      <th>Percent Cumulatively Obligated over total value already awarded</th>\n",
       "      <th>Indicator</th>\n",
       "    </tr>\n",
       "    <tr>\n",
       "      <th>contract_award_unique_key</th>\n",
       "      <th>action_date</th>\n",
       "      <th></th>\n",
       "      <th></th>\n",
       "      <th></th>\n",
       "      <th></th>\n",
       "      <th></th>\n",
       "      <th></th>\n",
       "      <th></th>\n",
       "      <th></th>\n",
       "    </tr>\n",
       "  </thead>\n",
       "  <tbody>\n",
       "    <tr>\n",
       "      <td>CONT_AWD_70B01C18C00000037_7014_-NONE-_-NONE-</td>\n",
       "      <td>4/16/2019</td>\n",
       "      <td>351950.14</td>\n",
       "      <td>351950.14</td>\n",
       "      <td>30704.07</td>\n",
       "      <td>351950.14</td>\n",
       "      <td>1.000000</td>\n",
       "      <td>1.000000</td>\n",
       "      <td>1.0</td>\n",
       "      <td>False</td>\n",
       "    </tr>\n",
       "    <tr>\n",
       "      <td>CONT_AWD_70B01C18C00000048_7014_-NONE-_-NONE-</td>\n",
       "      <td>5/7/2019</td>\n",
       "      <td>2653059.87</td>\n",
       "      <td>2653059.87</td>\n",
       "      <td>0.00</td>\n",
       "      <td>3999439.65</td>\n",
       "      <td>0.663358</td>\n",
       "      <td>0.663358</td>\n",
       "      <td>1.0</td>\n",
       "      <td>False</td>\n",
       "    </tr>\n",
       "    <tr>\n",
       "      <td rowspan=\"3\" valign=\"top\">CONT_AWD_70B01C18C00000052_7014_-NONE-_-NONE-</td>\n",
       "      <td>10/16/2018</td>\n",
       "      <td>99000.00</td>\n",
       "      <td>99000.00</td>\n",
       "      <td>0.00</td>\n",
       "      <td>201000.00</td>\n",
       "      <td>0.492537</td>\n",
       "      <td>0.492537</td>\n",
       "      <td>1.0</td>\n",
       "      <td>False</td>\n",
       "    </tr>\n",
       "    <tr>\n",
       "      <td>11/5/2018</td>\n",
       "      <td>99000.00</td>\n",
       "      <td>99000.00</td>\n",
       "      <td>0.00</td>\n",
       "      <td>201000.00</td>\n",
       "      <td>0.492537</td>\n",
       "      <td>0.492537</td>\n",
       "      <td>1.0</td>\n",
       "      <td>False</td>\n",
       "    </tr>\n",
       "    <tr>\n",
       "      <td>3/20/2019</td>\n",
       "      <td>150000.00</td>\n",
       "      <td>150000.00</td>\n",
       "      <td>0.00</td>\n",
       "      <td>201000.00</td>\n",
       "      <td>0.746269</td>\n",
       "      <td>0.746269</td>\n",
       "      <td>1.0</td>\n",
       "      <td>False</td>\n",
       "    </tr>\n",
       "    <tr>\n",
       "      <td>...</td>\n",
       "      <td>...</td>\n",
       "      <td>...</td>\n",
       "      <td>...</td>\n",
       "      <td>...</td>\n",
       "      <td>...</td>\n",
       "      <td>...</td>\n",
       "      <td>...</td>\n",
       "      <td>...</td>\n",
       "      <td>...</td>\n",
       "    </tr>\n",
       "    <tr>\n",
       "      <td>CONT_IDV_HSTS0517ACT4006_7013</td>\n",
       "      <td>2/15/2019</td>\n",
       "      <td>0.00</td>\n",
       "      <td>0.00</td>\n",
       "      <td>0.00</td>\n",
       "      <td>983471.00</td>\n",
       "      <td>0.000000</td>\n",
       "      <td>0.000000</td>\n",
       "      <td>0.0</td>\n",
       "      <td>False</td>\n",
       "    </tr>\n",
       "    <tr>\n",
       "      <td rowspan=\"2\" valign=\"top\">CONT_IDV_HSTS0517DOTD331_7013</td>\n",
       "      <td>6/3/2019</td>\n",
       "      <td>0.00</td>\n",
       "      <td>0.00</td>\n",
       "      <td>0.00</td>\n",
       "      <td>2500000.00</td>\n",
       "      <td>0.000000</td>\n",
       "      <td>0.000000</td>\n",
       "      <td>0.0</td>\n",
       "      <td>False</td>\n",
       "    </tr>\n",
       "    <tr>\n",
       "      <td>8/27/2019</td>\n",
       "      <td>0.00</td>\n",
       "      <td>0.00</td>\n",
       "      <td>0.00</td>\n",
       "      <td>2500000.00</td>\n",
       "      <td>0.000000</td>\n",
       "      <td>0.000000</td>\n",
       "      <td>0.0</td>\n",
       "      <td>False</td>\n",
       "    </tr>\n",
       "    <tr>\n",
       "      <td>CONT_IDV_HSTS0517DPHY018_7013</td>\n",
       "      <td>7/10/2019</td>\n",
       "      <td>0.00</td>\n",
       "      <td>0.00</td>\n",
       "      <td>0.00</td>\n",
       "      <td>2500000.00</td>\n",
       "      <td>0.000000</td>\n",
       "      <td>0.000000</td>\n",
       "      <td>0.0</td>\n",
       "      <td>False</td>\n",
       "    </tr>\n",
       "    <tr>\n",
       "      <td>CONT_IDV_HSTS0715DFDO025_7013</td>\n",
       "      <td>5/2/2019</td>\n",
       "      <td>0.00</td>\n",
       "      <td>0.00</td>\n",
       "      <td>0.00</td>\n",
       "      <td>2000000.00</td>\n",
       "      <td>0.000000</td>\n",
       "      <td>0.000000</td>\n",
       "      <td>0.0</td>\n",
       "      <td>False</td>\n",
       "    </tr>\n",
       "  </tbody>\n",
       "</table>\n",
       "<p>66533 rows × 8 columns</p>\n",
       "</div>"
      ],
      "text/plain": [
       "                                                           total_dollars_obligated  \\\n",
       "contract_award_unique_key                     action_date                            \n",
       "CONT_AWD_70B01C18C00000037_7014_-NONE-_-NONE- 4/16/2019                  351950.14   \n",
       "CONT_AWD_70B01C18C00000048_7014_-NONE-_-NONE- 5/7/2019                  2653059.87   \n",
       "CONT_AWD_70B01C18C00000052_7014_-NONE-_-NONE- 10/16/2018                  99000.00   \n",
       "                                              11/5/2018                   99000.00   \n",
       "                                              3/20/2019                  150000.00   \n",
       "...                                                                            ...   \n",
       "CONT_IDV_HSTS0517ACT4006_7013                 2/15/2019                       0.00   \n",
       "CONT_IDV_HSTS0517DOTD331_7013                 6/3/2019                        0.00   \n",
       "                                              8/27/2019                       0.00   \n",
       "CONT_IDV_HSTS0517DPHY018_7013                 7/10/2019                       0.00   \n",
       "CONT_IDV_HSTS0715DFDO025_7013                 5/2/2019                        0.00   \n",
       "\n",
       "                                                           current_total_value_of_award  \\\n",
       "contract_award_unique_key                     action_date                                 \n",
       "CONT_AWD_70B01C18C00000037_7014_-NONE-_-NONE- 4/16/2019                       351950.14   \n",
       "CONT_AWD_70B01C18C00000048_7014_-NONE-_-NONE- 5/7/2019                       2653059.87   \n",
       "CONT_AWD_70B01C18C00000052_7014_-NONE-_-NONE- 10/16/2018                       99000.00   \n",
       "                                              11/5/2018                        99000.00   \n",
       "                                              3/20/2019                       150000.00   \n",
       "...                                                                                 ...   \n",
       "CONT_IDV_HSTS0517ACT4006_7013                 2/15/2019                            0.00   \n",
       "CONT_IDV_HSTS0517DOTD331_7013                 6/3/2019                             0.00   \n",
       "                                              8/27/2019                            0.00   \n",
       "CONT_IDV_HSTS0517DPHY018_7013                 7/10/2019                            0.00   \n",
       "CONT_IDV_HSTS0715DFDO025_7013                 5/2/2019                             0.00   \n",
       "\n",
       "                                                           base_and_all_options_value  \\\n",
       "contract_award_unique_key                     action_date                               \n",
       "CONT_AWD_70B01C18C00000037_7014_-NONE-_-NONE- 4/16/2019                      30704.07   \n",
       "CONT_AWD_70B01C18C00000048_7014_-NONE-_-NONE- 5/7/2019                           0.00   \n",
       "CONT_AWD_70B01C18C00000052_7014_-NONE-_-NONE- 10/16/2018                         0.00   \n",
       "                                              11/5/2018                          0.00   \n",
       "                                              3/20/2019                          0.00   \n",
       "...                                                                               ...   \n",
       "CONT_IDV_HSTS0517ACT4006_7013                 2/15/2019                          0.00   \n",
       "CONT_IDV_HSTS0517DOTD331_7013                 6/3/2019                           0.00   \n",
       "                                              8/27/2019                          0.00   \n",
       "CONT_IDV_HSTS0517DPHY018_7013                 7/10/2019                          0.00   \n",
       "CONT_IDV_HSTS0715DFDO025_7013                 5/2/2019                           0.00   \n",
       "\n",
       "                                                           potential_total_value_of_award  \\\n",
       "contract_award_unique_key                     action_date                                   \n",
       "CONT_AWD_70B01C18C00000037_7014_-NONE-_-NONE- 4/16/2019                         351950.14   \n",
       "CONT_AWD_70B01C18C00000048_7014_-NONE-_-NONE- 5/7/2019                         3999439.65   \n",
       "CONT_AWD_70B01C18C00000052_7014_-NONE-_-NONE- 10/16/2018                        201000.00   \n",
       "                                              11/5/2018                         201000.00   \n",
       "                                              3/20/2019                         201000.00   \n",
       "...                                                                                   ...   \n",
       "CONT_IDV_HSTS0517ACT4006_7013                 2/15/2019                         983471.00   \n",
       "CONT_IDV_HSTS0517DOTD331_7013                 6/3/2019                         2500000.00   \n",
       "                                              8/27/2019                        2500000.00   \n",
       "CONT_IDV_HSTS0517DPHY018_7013                 7/10/2019                        2500000.00   \n",
       "CONT_IDV_HSTS0715DFDO025_7013                 5/2/2019                         2000000.00   \n",
       "\n",
       "                                                           Percent awarded over potential total awarded  \\\n",
       "contract_award_unique_key                     action_date                                                 \n",
       "CONT_AWD_70B01C18C00000037_7014_-NONE-_-NONE- 4/16/2019                                        1.000000   \n",
       "CONT_AWD_70B01C18C00000048_7014_-NONE-_-NONE- 5/7/2019                                         0.663358   \n",
       "CONT_AWD_70B01C18C00000052_7014_-NONE-_-NONE- 10/16/2018                                       0.492537   \n",
       "                                              11/5/2018                                        0.492537   \n",
       "                                              3/20/2019                                        0.746269   \n",
       "...                                                                                                 ...   \n",
       "CONT_IDV_HSTS0517ACT4006_7013                 2/15/2019                                        0.000000   \n",
       "CONT_IDV_HSTS0517DOTD331_7013                 6/3/2019                                         0.000000   \n",
       "                                              8/27/2019                                        0.000000   \n",
       "CONT_IDV_HSTS0517DPHY018_7013                 7/10/2019                                        0.000000   \n",
       "CONT_IDV_HSTS0715DFDO025_7013                 5/2/2019                                         0.000000   \n",
       "\n",
       "                                                           Percent Cumulatively Obligated over potential total value of award  \\\n",
       "contract_award_unique_key                     action_date                                                                       \n",
       "CONT_AWD_70B01C18C00000037_7014_-NONE-_-NONE- 4/16/2019                                             1.000000                    \n",
       "CONT_AWD_70B01C18C00000048_7014_-NONE-_-NONE- 5/7/2019                                              0.663358                    \n",
       "CONT_AWD_70B01C18C00000052_7014_-NONE-_-NONE- 10/16/2018                                            0.492537                    \n",
       "                                              11/5/2018                                             0.492537                    \n",
       "                                              3/20/2019                                             0.746269                    \n",
       "...                                                                                                      ...                    \n",
       "CONT_IDV_HSTS0517ACT4006_7013                 2/15/2019                                             0.000000                    \n",
       "CONT_IDV_HSTS0517DOTD331_7013                 6/3/2019                                              0.000000                    \n",
       "                                              8/27/2019                                             0.000000                    \n",
       "CONT_IDV_HSTS0517DPHY018_7013                 7/10/2019                                             0.000000                    \n",
       "CONT_IDV_HSTS0715DFDO025_7013                 5/2/2019                                              0.000000                    \n",
       "\n",
       "                                                           Percent Cumulatively Obligated over total value already awarded  \\\n",
       "contract_award_unique_key                     action_date                                                                    \n",
       "CONT_AWD_70B01C18C00000037_7014_-NONE-_-NONE- 4/16/2019                                                  1.0                 \n",
       "CONT_AWD_70B01C18C00000048_7014_-NONE-_-NONE- 5/7/2019                                                   1.0                 \n",
       "CONT_AWD_70B01C18C00000052_7014_-NONE-_-NONE- 10/16/2018                                                 1.0                 \n",
       "                                              11/5/2018                                                  1.0                 \n",
       "                                              3/20/2019                                                  1.0                 \n",
       "...                                                                                                      ...                 \n",
       "CONT_IDV_HSTS0517ACT4006_7013                 2/15/2019                                                  0.0                 \n",
       "CONT_IDV_HSTS0517DOTD331_7013                 6/3/2019                                                   0.0                 \n",
       "                                              8/27/2019                                                  0.0                 \n",
       "CONT_IDV_HSTS0517DPHY018_7013                 7/10/2019                                                  0.0                 \n",
       "CONT_IDV_HSTS0715DFDO025_7013                 5/2/2019                                                   0.0                 \n",
       "\n",
       "                                                           Indicator  \n",
       "contract_award_unique_key                     action_date             \n",
       "CONT_AWD_70B01C18C00000037_7014_-NONE-_-NONE- 4/16/2019        False  \n",
       "CONT_AWD_70B01C18C00000048_7014_-NONE-_-NONE- 5/7/2019         False  \n",
       "CONT_AWD_70B01C18C00000052_7014_-NONE-_-NONE- 10/16/2018       False  \n",
       "                                              11/5/2018        False  \n",
       "                                              3/20/2019        False  \n",
       "...                                                              ...  \n",
       "CONT_IDV_HSTS0517ACT4006_7013                 2/15/2019        False  \n",
       "CONT_IDV_HSTS0517DOTD331_7013                 6/3/2019         False  \n",
       "                                              8/27/2019        False  \n",
       "CONT_IDV_HSTS0517DPHY018_7013                 7/10/2019        False  \n",
       "CONT_IDV_HSTS0715DFDO025_7013                 5/2/2019         False  \n",
       "\n",
       "[66533 rows x 8 columns]"
      ]
     },
     "execution_count": 38,
     "metadata": {},
     "output_type": "execute_result"
    }
   ],
   "source": [
    "# Indicator Variable has been established, the size of de-obligation is not signficant\n",
    "df.drop(['federal_action_obligation','base_and_exercised_options_value','contract_transaction_unique_key'], axis =1, inplace = True)\n",
    "df = df.fillna(0)\n",
    "# set index to each contract and date\n",
    "df.set_index(['contract_award_unique_key','action_date'], inplace = True)\n",
    "df.sort_index()"
   ]
  },
  {
   "cell_type": "code",
   "execution_count": 39,
   "metadata": {},
   "outputs": [
    {
     "name": "stdout",
     "output_type": "stream",
     "text": [
      "44314\n",
      "66533\n"
     ]
    }
   ],
   "source": [
    "contracts = [contract for contract, date in list(df.index)]\n",
    "unique_k = set(contracts)\n",
    "print(len(unique_k))\n",
    "print(len(contracts))"
   ]
  },
  {
   "cell_type": "code",
   "execution_count": 40,
   "metadata": {},
   "outputs": [
    {
     "data": {
      "text/plain": [
       "Index(['total_dollars_obligated', 'current_total_value_of_award',\n",
       "       'base_and_all_options_value', 'potential_total_value_of_award',\n",
       "       'Percent awarded over potential total awarded',\n",
       "       'Percent Cumulatively Obligated over potential total value of award',\n",
       "       'Percent Cumulatively Obligated over total value already awarded',\n",
       "       'Indicator'],\n",
       "      dtype='object')"
      ]
     },
     "execution_count": 40,
     "metadata": {},
     "output_type": "execute_result"
    }
   ],
   "source": [
    "df.columns"
   ]
  },
  {
   "cell_type": "code",
   "execution_count": 41,
   "metadata": {},
   "outputs": [
    {
     "data": {
      "text/plain": [
       "(66533, 8)"
      ]
     },
     "execution_count": 41,
     "metadata": {},
     "output_type": "execute_result"
    }
   ],
   "source": [
    "df.shape"
   ]
  },
  {
   "cell_type": "code",
   "execution_count": 42,
   "metadata": {},
   "outputs": [
    {
     "data": {
      "text/plain": [
       "total_dollars_obligated                                               float64\n",
       "current_total_value_of_award                                          float64\n",
       "base_and_all_options_value                                            float64\n",
       "potential_total_value_of_award                                        float64\n",
       "Percent awarded over potential total awarded                          float64\n",
       "Percent Cumulatively Obligated over potential total value of award    float64\n",
       "Percent Cumulatively Obligated over total value already awarded       float64\n",
       "Indicator                                                                bool\n",
       "dtype: object"
      ]
     },
     "execution_count": 42,
     "metadata": {},
     "output_type": "execute_result"
    }
   ],
   "source": [
    "df.dtypes"
   ]
  },
  {
   "cell_type": "code",
   "execution_count": 43,
   "metadata": {},
   "outputs": [
    {
     "name": "stdout",
     "output_type": "stream",
     "text": [
      "Total number of De-Obligations: 5920\n",
      "Percentage of De-Obligations: 0.08897840169539928\n"
     ]
    }
   ],
   "source": [
    "# This is the percentage of De-Obligations in the sample (before test/train split)\n",
    "print('Total number of De-Obligations: ' +str(df['Indicator'].sum()))\n",
    "print('Percentage of De-Obligations: '+str(df['Indicator'].sum()/len(df)))"
   ]
  },
  {
   "cell_type": "markdown",
   "metadata": {},
   "source": [
    "# Beginning of Regression Analysis"
   ]
  },
  {
   "cell_type": "code",
   "execution_count": 164,
   "metadata": {},
   "outputs": [
    {
     "data": {
      "image/png": "[encoded data removed]",
      "text/plain": [
       "<Figure size 432x288 with 1 Axes>"
      ]
     },
     "metadata": {
      "needs_background": "light"
     },
     "output_type": "display_data"
    },
    {
     "data": {
      "image/png": "[encoded data removed]",
      "text/plain": [
       "<Figure size 432x288 with 1 Axes>"
      ]
     },
     "metadata": {
      "needs_background": "light"
     },
     "output_type": "display_data"
    },
    {
     "data": {
      "image/png": "[encoded data removed]",
      "text/plain": [
       "<Figure size 432x288 with 1 Axes>"
      ]
     },
     "metadata": {
      "needs_background": "light"
     },
     "output_type": "display_data"
    },
    {
     "data": {
      "image/png": "[encoded data removed]",
      "text/plain": [
       "<Figure size 432x288 with 1 Axes>"
      ]
     },
     "metadata": {
      "needs_background": "light"
     },
     "output_type": "display_data"
    },
    {
     "data": {
      "image/png": "[encoded data removed]",
      "text/plain": [
       "<Figure size 432x288 with 1 Axes>"
      ]
     },
     "metadata": {
      "needs_background": "light"
     },
     "output_type": "display_data"
    },
    {
     "data": {
      "image/png": "[encoded data removed]",
      "text/plain": [
       "<Figure size 432x288 with 1 Axes>"
      ]
     },
     "metadata": {
      "needs_background": "light"
     },
     "output_type": "display_data"
    },
    {
     "data": {
      "image/png": "[encoded data removed]",
      "text/plain": [
       "<Figure size 432x288 with 1 Axes>"
      ]
     },
     "metadata": {
      "needs_background": "light"
     },
     "output_type": "display_data"
    },
    {
     "data": {
      "image/png": "[encoded data removed]",
      "text/plain": [
       "<Figure size 432x288 with 1 Axes>"
      ]
     },
     "metadata": {
      "needs_background": "light"
     },
     "output_type": "display_data"
    }
   ],
   "source": [
    "# Show Scatterplot of all features against indicator variable to discern any immediate relationships\n",
    "features = len(df.columns) - 1\n",
    "for i in range(features):\n",
    "    fig = pyplot.figure()\n",
    "    #mask  = y == 1\n",
    "    pyplot.scatter(df.iloc[:,i], df.iloc[:,-1])\n",
    "\n",
    "   \n",
    "    # add axes labels\n",
    "    pyplot.xlabel(df.columns[i])\n",
    "    pyplot.ylabel(df.columns[-1])\n",
    "    #pyplot.legend(['Sweep', 'Not a Sweep'])\n",
    "    pass"
   ]
  },
  {
   "cell_type": "code",
   "execution_count": 44,
   "metadata": {},
   "outputs": [],
   "source": [
    "# Create matrix of feature variables and our dependent variable\n",
    "X, y =  df.iloc[:,:-1], df.loc[:,'Indicator']\n",
    "\n",
    "# convert y to np.array of 0s and 1s\n",
    "y = np.array(y.astype(int))\n"
   ]
  },
  {
   "cell_type": "code",
   "execution_count": 45,
   "metadata": {},
   "outputs": [],
   "source": [
    "#train the data \n",
    "X_train, X_test, y_train, y_test = train_test_split(X, y, test_size=0.2)\n"
   ]
  },
  {
   "cell_type": "code",
   "execution_count": 46,
   "metadata": {},
   "outputs": [
    {
     "data": {
      "text/plain": [
       "(13307, 7)"
      ]
     },
     "execution_count": 46,
     "metadata": {},
     "output_type": "execute_result"
    }
   ],
   "source": [
    "X_test.shape"
   ]
  },
  {
   "cell_type": "code",
   "execution_count": 47,
   "metadata": {},
   "outputs": [],
   "source": [
    "# Setup the data matrix appropriately, and add ones for the intercept term\n",
    "m_train, n_train = X_train.shape\n",
    "m_test, n_test = X_test.shape\n",
    "# Add intercept term to X\n",
    "X_train = np.concatenate([np.ones((m_train, 1)), X_train], axis=1)\n",
    "X_test = np.concatenate([np.ones((m_test, 1)), X_test], axis=1)\n",
    "\n"
   ]
  },
  {
   "cell_type": "code",
   "execution_count": 48,
   "metadata": {},
   "outputs": [
    {
     "name": "stderr",
     "output_type": "stream",
     "text": [
      "C:\\Users\\belincoln\\AppData\\Local\\Continuum\\anaconda3\\lib\\site-packages\\sklearn\\linear_model\\logistic.py:432: FutureWarning: Default solver will be changed to 'lbfgs' in 0.22. Specify a solver to silence this warning.\n",
      "  FutureWarning)\n"
     ]
    }
   ],
   "source": [
    "log_model = LogisticRegression().fit(X_train, y_train)"
   ]
  },
  {
   "cell_type": "code",
   "execution_count": 49,
   "metadata": {},
   "outputs": [
    {
     "data": {
      "text/plain": [
       "array([[-1.74014592e-10,  2.66191966e-08, -2.42433079e-08,\n",
       "        -1.98105196e-06, -2.82165596e-08, -1.55084279e-10,\n",
       "        -1.53448278e-10, -1.66354819e-10]])"
      ]
     },
     "execution_count": 49,
     "metadata": {},
     "output_type": "execute_result"
    }
   ],
   "source": [
    "# Coefficents to multiply features by\n",
    "log_model.coef_"
   ]
  },
  {
   "cell_type": "code",
   "execution_count": 50,
   "metadata": {},
   "outputs": [],
   "source": [
    "theta = log_model.coef_[0]"
   ]
  },
  {
   "cell_type": "code",
   "execution_count": 51,
   "metadata": {},
   "outputs": [
    {
     "name": "stdout",
     "output_type": "stream",
     "text": [
      "-1.7401459178018465e-10\n"
     ]
    }
   ],
   "source": [
    "print(theta[0])"
   ]
  },
  {
   "cell_type": "code",
   "execution_count": 52,
   "metadata": {},
   "outputs": [],
   "source": [
    "def sigmoid(z):\n",
    "    \"\"\"\n",
    "    Compute sigmoid function given the input z.\n",
    "    \n",
    "    Parameters\n",
    "    ----------\n",
    "    z : array_like\n",
    "        The input to the sigmoid function. This can be a 1-D vector \n",
    "        or a 2-D matrix. \n",
    "    \n",
    "    Returns\n",
    "    -------\n",
    "    g : array_like\n",
    "        The computed sigmoid function. g has the same shape as z, since\n",
    "        the sigmoid is computed element-wise on z.\n",
    "        \n",
    "    Instructions\n",
    "    ------------\n",
    "    Compute the sigmoid of each value of z (z can be a matrix, vector or scalar).\n",
    "    \"\"\"\n",
    "    # convert input to a numpy array\n",
    "    z = np.array(z)\n",
    "    \n",
    "    # You need to return the following variables correctly \n",
    "    g = np.zeros(z.shape)\n",
    "\n",
    "    temp = 1 + np.power(np.e,-z)\n",
    "    g = 1 / temp\n",
    "    \n",
    "\n",
    "    return g"
   ]
  },
  {
   "cell_type": "code",
   "execution_count": 53,
   "metadata": {},
   "outputs": [
    {
     "name": "stderr",
     "output_type": "stream",
     "text": [
      "C:\\Users\\belincoln\\AppData\\Local\\Continuum\\anaconda3\\lib\\site-packages\\ipykernel_launcher.py:27: RuntimeWarning: overflow encountered in power\n"
     ]
    }
   ],
   "source": [
    "pred = sigmoid(np.dot(X_test,theta))"
   ]
  },
  {
   "cell_type": "code",
   "execution_count": 54,
   "metadata": {},
   "outputs": [
    {
     "data": {
      "text/plain": [
       "<matplotlib.collections.PathCollection at 0x24a1f08a908>"
      ]
     },
     "execution_count": 54,
     "metadata": {},
     "output_type": "execute_result"
    },
    {
     "data": {
      "image/png": "[encoded data removed]",
      "text/plain": [
       "<Figure size 432x288 with 1 Axes>"
      ]
     },
     "metadata": {
      "needs_background": "light"
     },
     "output_type": "display_data"
    }
   ],
   "source": [
    "fig = pyplot.figure\n",
    "pyplot.scatter(np.arange(len(pred)), pred)"
   ]
  },
  {
   "cell_type": "code",
   "execution_count": null,
   "metadata": {},
   "outputs": [],
   "source": []
  },
  {
   "cell_type": "code",
   "execution_count": 55,
   "metadata": {},
   "outputs": [
    {
     "name": "stderr",
     "output_type": "stream",
     "text": [
      "C:\\Users\\belincoln\\AppData\\Local\\Continuum\\anaconda3\\lib\\site-packages\\ipykernel_launcher.py:27: RuntimeWarning: overflow encountered in power\n"
     ]
    }
   ],
   "source": [
    "# Now we will test our model using the test_set\n",
    "pred = sigmoid(np.dot(X_test,theta))"
   ]
  },
  {
   "cell_type": "code",
   "execution_count": 56,
   "metadata": {},
   "outputs": [],
   "source": [
    "# Convert probabilty of de-obligation into prediction\n",
    "pred = pred > .5\n",
    "# Convert to int\n",
    "pred = np.array(pred.astype(int))"
   ]
  },
  {
   "cell_type": "code",
   "execution_count": 57,
   "metadata": {},
   "outputs": [],
   "source": [
    "test = pred == y_test"
   ]
  },
  {
   "cell_type": "code",
   "execution_count": 58,
   "metadata": {},
   "outputs": [
    {
     "data": {
      "text/plain": [
       "0.9579920342676786"
      ]
     },
     "execution_count": 58,
     "metadata": {},
     "output_type": "execute_result"
    }
   ],
   "source": [
    "test.sum()/len(test)"
   ]
  },
  {
   "cell_type": "code",
   "execution_count": 59,
   "metadata": {},
   "outputs": [],
   "source": [
    "# Really what we are looking for here \n",
    "# is how many times a de-obligation occured and we were able to predict it?"
   ]
  },
  {
   "cell_type": "code",
   "execution_count": 60,
   "metadata": {},
   "outputs": [],
   "source": [
    "# Also percentage of false positives: how many times did we predict a de-obligation and \n",
    "# it did not occur?"
   ]
  },
  {
   "cell_type": "code",
   "execution_count": 61,
   "metadata": {},
   "outputs": [],
   "source": [
    "data = {'predicted value' : pred, 'test value': y_test}\n",
    "testdf = pd.DataFrame(data)"
   ]
  },
  {
   "cell_type": "code",
   "execution_count": 62,
   "metadata": {},
   "outputs": [
    {
     "data": {
      "text/html": [
       "<style type=\"text/css\">\n",
       "table.dataframe td, table.dataframe th {\n",
       "    border: 1px  black solid !important;\n",
       "  color: black !important;\n",
       "}\n",
       "</style>\n"
      ],
      "text/plain": [
       "<IPython.core.display.HTML object>"
      ]
     },
     "metadata": {},
     "output_type": "display_data"
    }
   ],
   "source": [
    "%%HTML\n",
    "<style type=\"text/css\">\n",
    "table.dataframe td, table.dataframe th {\n",
    "    border: 1px  black solid !important;\n",
    "  color: black !important;\n",
    "}\n",
    "</style>"
   ]
  },
  {
   "cell_type": "code",
   "execution_count": 63,
   "metadata": {},
   "outputs": [
    {
     "data": {
      "text/html": [
       "<div>\n",
       "<style scoped>\n",
       "    .dataframe tbody tr th:only-of-type {\n",
       "        vertical-align: middle;\n",
       "    }\n",
       "\n",
       "    .dataframe tbody tr th {\n",
       "        vertical-align: top;\n",
       "    }\n",
       "\n",
       "    .dataframe thead tr th {\n",
       "        text-align: left;\n",
       "    }\n",
       "</style>\n",
       "<table border=\"1\" class=\"dataframe\">\n",
       "  <thead>\n",
       "    <tr>\n",
       "      <th></th>\n",
       "      <th></th>\n",
       "      <th colspan=\"2\" halign=\"left\">Test Results</th>\n",
       "    </tr>\n",
       "    <tr>\n",
       "      <th></th>\n",
       "      <th></th>\n",
       "      <th>Large De-Obligation</th>\n",
       "      <th>Obligation</th>\n",
       "    </tr>\n",
       "  </thead>\n",
       "  <tbody>\n",
       "    <tr>\n",
       "      <td rowspan=\"2\" valign=\"top\">Predicted</td>\n",
       "      <td>Large De-Obligation</td>\n",
       "      <td>923</td>\n",
       "      <td>317</td>\n",
       "    </tr>\n",
       "    <tr>\n",
       "      <td>Obligation</td>\n",
       "      <td>242</td>\n",
       "      <td>11825</td>\n",
       "    </tr>\n",
       "  </tbody>\n",
       "</table>\n",
       "</div>"
      ],
      "text/plain": [
       "                                     Test Results           \n",
       "                              Large De-Obligation Obligation\n",
       "Predicted Large De-Obligation                 923        317\n",
       "          Obligation                          242      11825"
      ]
     },
     "execution_count": 63,
     "metadata": {},
     "output_type": "execute_result"
    }
   ],
   "source": [
    "\n",
    "\n",
    "cm = np.array(confusion_matrix(pred, y_test, labels = [1,0]))\n",
    "confusion = pd.DataFrame(cm, index=[['Predicted', 'Predicted'], ['Large De-Obligation','Obligation']],\n",
    "                         columns = [['Test Results', 'Test Results'],['Large De-Obligation','Obligation']])\n",
    "confusion\n"
   ]
  },
  {
   "cell_type": "code",
   "execution_count": 64,
   "metadata": {},
   "outputs": [
    {
     "data": {
      "text/plain": [
       "13307"
      ]
     },
     "execution_count": 64,
     "metadata": {},
     "output_type": "execute_result"
    }
   ],
   "source": [
    "confusion.iloc[0].sum()+confusion.iloc[1].sum()"
   ]
  },
  {
   "cell_type": "code",
   "execution_count": 65,
   "metadata": {},
   "outputs": [
    {
     "name": "stdout",
     "output_type": "stream",
     "text": [
      "Size of Test set: 13307\n",
      "Size of Train set: 53226\n",
      "Percentage of correct predictions (Accuracey): 0.9579920342676786\n",
      "Percentage of significant de-obligations: 0.08754790711655519\n",
      "Percentage of de-obligations correctly predicted: 0.792274678111588\n"
     ]
    }
   ],
   "source": [
    "correct_preds = testdf[testdf['test value'] == 1]\n",
    "correct_preds2 = correct_preds[correct_preds['predicted value'] ==1]\n",
    "print('Size of Test set: ' + str(len(testdf)))\n",
    "print('Size of Train set: ' + str(len(X_train)))\n",
    "print('Percentage of correct predictions (Accuracey): ' + str((confusion.iloc[0,0] + confusion.iloc[1,1])/len(testdf)))\n",
    "print('Percentage of significant de-obligations: ' + str(len(correct_preds)/len(testdf)))\n",
    "print('Percentage of de-obligations correctly predicted: ' + str(len(correct_preds2)/len(correct_preds)))"
   ]
  },
  {
   "cell_type": "code",
   "execution_count": 66,
   "metadata": {},
   "outputs": [
    {
     "name": "stdout",
     "output_type": "stream",
     "text": [
      "Number of False Negatives : 242\n",
      "Rate of False Negative: 0.018185917186443225\n"
     ]
    }
   ],
   "source": [
    "# Rate of False Negatives: A de-obligation occurs, but the model did not predict it. \n",
    "false_neg = testdf[testdf['predicted value'] == 0]\n",
    "false_neg2 = false_neg[false_neg['test value'] == 1]\n",
    "print('Number of False Negatives : ' + str(len(false_neg2)))\n",
    "print('Rate of False Negative: ' + str(len(false_neg2)/len(testdf)))"
   ]
  },
  {
   "cell_type": "code",
   "execution_count": 67,
   "metadata": {},
   "outputs": [
    {
     "name": "stdout",
     "output_type": "stream",
     "text": [
      "Number of False Positives: 317\n",
      "Rate of False Positives: 0.02382204854587811\n"
     ]
    }
   ],
   "source": [
    "# Show the rate of False Positives: Times the model predicted a de-obligation, yet there wasn't one\n",
    "\n",
    "false_pos = testdf[testdf['predicted value'] == 1]\n",
    "false_pos2 = false_pos[false_pos['test value'] == 0]\n",
    "\n",
    "print('Number of False Positives: ' + str(len(false_pos2)))\n",
    "print('Rate of False Positives: ' + str(len(false_pos2)/len(testdf)))"
   ]
  },
  {
   "cell_type": "code",
   "execution_count": null,
   "metadata": {},
   "outputs": [],
   "source": []
  }
 ],
 "metadata": {
  "kernelspec": {
   "display_name": "Python 3",
   "language": "python",
   "name": "python3"
  },
  "language_info": {
   "codemirror_mode": {
    "name": "ipython",
    "version": 3
   },
   "file_extension": ".py",
   "mimetype": "text/x-python",
   "name": "python",
   "nbconvert_exporter": "python",
   "pygments_lexer": "ipython3",
   "version": "3.7.4"
  }
 },
 "nbformat": 4,
 "nbformat_minor": 2
}
