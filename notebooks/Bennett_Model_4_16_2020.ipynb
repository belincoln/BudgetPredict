{
 "cells": [
  {
   "cell_type": "code",
   "execution_count": 40,
   "metadata": {},
   "outputs": [],
   "source": [
    "# Import the necessary libraries \n",
    "# Recall highly correlated column (base and exercised options value) is our highly corr. column\n",
    "# used for manipulating directory paths\n",
    "import os\n",
    "\n",
    "# Scientific and vector computation for python\n",
    "import numpy as np\n",
    "import pandas as pd\n",
    "\n",
    "# Plotting library\n",
    "from matplotlib import pyplot\n",
    "\n",
    "# import function to split data into train and test dfs\n",
    "from sklearn.model_selection import train_test_split\n",
    "\n",
    "# Optimization module in scipy\n",
    "from scipy import optimize\n",
    "\n",
    "# Import logistic regression model from SK Learn\n",
    "from sklearn.linear_model import LogisticRegression\n",
    "from sklearn.metrics import confusion_matrix\n",
    "\n",
    "# Import glob as glob, used to consolidate data files\n",
    "import glob"
   ]
  },
  {
   "cell_type": "code",
   "execution_count": 41,
   "metadata": {},
   "outputs": [
    {
     "name": "stdout",
     "output_type": "stream",
     "text": [
      "C:\\Users\\belincoln\\repos\\BudgetPredict\\data\n",
      "C:\\Users\\belincoln\\repos\\BudgetPredict\\data\\test_data\n"
     ]
    }
   ],
   "source": [
    "os.chdir('C:\\\\Users\\\\belincoln\\\\repos\\\\BudgetPredict')\n",
    "# Set working directory to the data folder so you can correctly read in the csv files\n",
    "%cd data\n",
    "%cd test_data"
   ]
  },
  {
   "cell_type": "code",
   "execution_count": 42,
   "metadata": {},
   "outputs": [],
   "source": [
    "# read all csv files within the test_data folder. This should be 2008-2018 (11 years), of DHS contract award data\n",
    "all_files = glob.glob(\"*.csv\")\n",
    "\n",
    "li = []\n",
    "\n",
    "for filename in all_files:\n",
    "    df = pd.read_csv(filename, header = 0, usecols = ['contract_transaction_unique_key',\n",
    "                        'contract_award_unique_key',\n",
    "                        'federal_action_obligation','total_dollars_obligated', 'base_and_exercised_options_value', \n",
    "                        'current_total_value_of_award', 'base_and_all_options_value','potential_total_value_of_award',\n",
    "                        'action_date'],\n",
    "                 dtype = {'contract_transaction_unique_key':'str','contract_transaction_unique_key':'str',\n",
    "                          'federal_action_obligation': 'float','total_dollars_obligated': 'float', \n",
    "                          'base_and_exercised_options_value': 'float', 'current_total_value_of_award': 'float', \n",
    "                          'base_and_all_options_value': 'float','potential_total_value_of_award': 'float',\n",
    "                          'action_date':'str'})\n",
    "    li.append(df)\n",
    "\n",
    "df = pd.concat(li, axis=0, ignore_index=True)\n"
   ]
  },
  {
   "cell_type": "code",
   "execution_count": 43,
   "metadata": {},
   "outputs": [],
   "source": [
    "# This is what we are using for our rate of Execution\n",
    "df['Percent Cumulatively Obligated over potential total value of award'] = df['total_dollars_obligated'] / df['potential_total_value_of_award']\n",
    "\n",
    "# Create Indicator Variable\n",
    "df['Indicator'] = df['federal_action_obligation']<-1000"
   ]
  },
  {
   "cell_type": "code",
   "execution_count": 44,
   "metadata": {},
   "outputs": [
    {
     "data": {
      "text/html": [
       "<div>\n",
       "<style scoped>\n",
       "    .dataframe tbody tr th:only-of-type {\n",
       "        vertical-align: middle;\n",
       "    }\n",
       "\n",
       "    .dataframe tbody tr th {\n",
       "        vertical-align: top;\n",
       "    }\n",
       "\n",
       "    .dataframe thead th {\n",
       "        text-align: right;\n",
       "    }\n",
       "</style>\n",
       "<table border=\"1\" class=\"dataframe\">\n",
       "  <thead>\n",
       "    <tr style=\"text-align: right;\">\n",
       "      <th></th>\n",
       "      <th></th>\n",
       "      <th>contract_transaction_unique_key</th>\n",
       "      <th>federal_action_obligation</th>\n",
       "      <th>total_dollars_obligated</th>\n",
       "      <th>base_and_exercised_options_value</th>\n",
       "      <th>current_total_value_of_award</th>\n",
       "      <th>base_and_all_options_value</th>\n",
       "      <th>potential_total_value_of_award</th>\n",
       "      <th>Percent Cumulatively Obligated over potential total value of award</th>\n",
       "      <th>Indicator</th>\n",
       "    </tr>\n",
       "    <tr>\n",
       "      <th>contract_award_unique_key</th>\n",
       "      <th>action_date</th>\n",
       "      <th></th>\n",
       "      <th></th>\n",
       "      <th></th>\n",
       "      <th></th>\n",
       "      <th></th>\n",
       "      <th></th>\n",
       "      <th></th>\n",
       "      <th></th>\n",
       "      <th></th>\n",
       "    </tr>\n",
       "  </thead>\n",
       "  <tbody>\n",
       "    <tr>\n",
       "      <td>CONT_AWD_00001_7022_HSFE0408A0017_7022</td>\n",
       "      <td>2008-02-15</td>\n",
       "      <td>7022_7022_00001_0_HSFE0408A0017_0</td>\n",
       "      <td>15000.0</td>\n",
       "      <td>0.0</td>\n",
       "      <td>15000.0</td>\n",
       "      <td>0.0</td>\n",
       "      <td>0.0</td>\n",
       "      <td>0.0</td>\n",
       "      <td>0.0</td>\n",
       "      <td>False</td>\n",
       "    </tr>\n",
       "    <tr>\n",
       "      <td>CONT_AWD_00001_7022_HSFE0408A0035_7022</td>\n",
       "      <td>2008-02-20</td>\n",
       "      <td>7022_7022_00001_0_HSFE0408A0035_0</td>\n",
       "      <td>10000.0</td>\n",
       "      <td>0.0</td>\n",
       "      <td>10000.0</td>\n",
       "      <td>0.0</td>\n",
       "      <td>0.0</td>\n",
       "      <td>0.0</td>\n",
       "      <td>0.0</td>\n",
       "      <td>False</td>\n",
       "    </tr>\n",
       "    <tr>\n",
       "      <td>CONT_AWD_00001_7022_HSFE0408A0066_7022</td>\n",
       "      <td>2008-05-15</td>\n",
       "      <td>7022_7022_00001_0_HSFE0408A0066_0</td>\n",
       "      <td>5000.0</td>\n",
       "      <td>0.0</td>\n",
       "      <td>5000.0</td>\n",
       "      <td>0.0</td>\n",
       "      <td>0.0</td>\n",
       "      <td>0.0</td>\n",
       "      <td>0.0</td>\n",
       "      <td>False</td>\n",
       "    </tr>\n",
       "    <tr>\n",
       "      <td rowspan=\"2\" valign=\"top\">CONT_AWD_00001_7022_HSFE0408A0067_7022</td>\n",
       "      <td>2008-03-31</td>\n",
       "      <td>7022_7022_00001_0_HSFE0408A0067_0</td>\n",
       "      <td>1500.0</td>\n",
       "      <td>0.0</td>\n",
       "      <td>1500.0</td>\n",
       "      <td>0.0</td>\n",
       "      <td>0.0</td>\n",
       "      <td>0.0</td>\n",
       "      <td>0.0</td>\n",
       "      <td>False</td>\n",
       "    </tr>\n",
       "    <tr>\n",
       "      <td>2012-07-27</td>\n",
       "      <td>7022_7022_00001_P00001_HSFE0408A0067_0</td>\n",
       "      <td>-30.0</td>\n",
       "      <td>0.0</td>\n",
       "      <td>-30.0</td>\n",
       "      <td>0.0</td>\n",
       "      <td>1470.0</td>\n",
       "      <td>0.0</td>\n",
       "      <td>0.0</td>\n",
       "      <td>False</td>\n",
       "    </tr>\n",
       "    <tr>\n",
       "      <td>...</td>\n",
       "      <td>...</td>\n",
       "      <td>...</td>\n",
       "      <td>...</td>\n",
       "      <td>...</td>\n",
       "      <td>...</td>\n",
       "      <td>...</td>\n",
       "      <td>...</td>\n",
       "      <td>...</td>\n",
       "      <td>...</td>\n",
       "      <td>...</td>\n",
       "    </tr>\n",
       "    <tr>\n",
       "      <td rowspan=\"2\" valign=\"top\">CONT_IDV_TPDFIGBPA100001_2036</td>\n",
       "      <td>2010-10-26</td>\n",
       "      <td>2036_-NONE-_TPDFIGBPA100001_T501_-NONE-_-NONE-</td>\n",
       "      <td>0.0</td>\n",
       "      <td>0.0</td>\n",
       "      <td>0.0</td>\n",
       "      <td>0.0</td>\n",
       "      <td>0.0</td>\n",
       "      <td>0.0</td>\n",
       "      <td>0.0</td>\n",
       "      <td>False</td>\n",
       "    </tr>\n",
       "    <tr>\n",
       "      <td>2010-10-26</td>\n",
       "      <td>2036_-NONE-_TPDFIGBPA100001_500_-NONE-_-NONE-</td>\n",
       "      <td>0.0</td>\n",
       "      <td>0.0</td>\n",
       "      <td>0.0</td>\n",
       "      <td>0.0</td>\n",
       "      <td>0.0</td>\n",
       "      <td>0.0</td>\n",
       "      <td>0.0</td>\n",
       "      <td>False</td>\n",
       "    </tr>\n",
       "    <tr>\n",
       "      <td>CONT_IDV_WRO02005_7012</td>\n",
       "      <td>2017-05-31</td>\n",
       "      <td>7012_-NONE-_WRO02005_XXX9_-NONE-_-NONE-</td>\n",
       "      <td>0.0</td>\n",
       "      <td>0.0</td>\n",
       "      <td>0.0</td>\n",
       "      <td>0.0</td>\n",
       "      <td>0.0</td>\n",
       "      <td>0.0</td>\n",
       "      <td>0.0</td>\n",
       "      <td>False</td>\n",
       "    </tr>\n",
       "    <tr>\n",
       "      <td>CONT_IDV_WRO9812_7012</td>\n",
       "      <td>2017-05-31</td>\n",
       "      <td>7012_-NONE-_WRO9812_XXX9_-NONE-_-NONE-</td>\n",
       "      <td>0.0</td>\n",
       "      <td>0.0</td>\n",
       "      <td>0.0</td>\n",
       "      <td>0.0</td>\n",
       "      <td>0.0</td>\n",
       "      <td>0.0</td>\n",
       "      <td>0.0</td>\n",
       "      <td>False</td>\n",
       "    </tr>\n",
       "    <tr>\n",
       "      <td>CONT_IDV_WRO9816_7012</td>\n",
       "      <td>2017-05-31</td>\n",
       "      <td>7012_-NONE-_WRO9816_XXX9_-NONE-_-NONE-</td>\n",
       "      <td>0.0</td>\n",
       "      <td>0.0</td>\n",
       "      <td>0.0</td>\n",
       "      <td>0.0</td>\n",
       "      <td>0.0</td>\n",
       "      <td>0.0</td>\n",
       "      <td>0.0</td>\n",
       "      <td>False</td>\n",
       "    </tr>\n",
       "  </tbody>\n",
       "</table>\n",
       "<p>1020089 rows × 9 columns</p>\n",
       "</div>"
      ],
      "text/plain": [
       "                                                                   contract_transaction_unique_key  \\\n",
       "contract_award_unique_key              action_date                                                   \n",
       "CONT_AWD_00001_7022_HSFE0408A0017_7022 2008-02-15                7022_7022_00001_0_HSFE0408A0017_0   \n",
       "CONT_AWD_00001_7022_HSFE0408A0035_7022 2008-02-20                7022_7022_00001_0_HSFE0408A0035_0   \n",
       "CONT_AWD_00001_7022_HSFE0408A0066_7022 2008-05-15                7022_7022_00001_0_HSFE0408A0066_0   \n",
       "CONT_AWD_00001_7022_HSFE0408A0067_7022 2008-03-31                7022_7022_00001_0_HSFE0408A0067_0   \n",
       "                                       2012-07-27           7022_7022_00001_P00001_HSFE0408A0067_0   \n",
       "...                                                                                            ...   \n",
       "CONT_IDV_TPDFIGBPA100001_2036          2010-10-26   2036_-NONE-_TPDFIGBPA100001_T501_-NONE-_-NONE-   \n",
       "                                       2010-10-26    2036_-NONE-_TPDFIGBPA100001_500_-NONE-_-NONE-   \n",
       "CONT_IDV_WRO02005_7012                 2017-05-31          7012_-NONE-_WRO02005_XXX9_-NONE-_-NONE-   \n",
       "CONT_IDV_WRO9812_7012                  2017-05-31           7012_-NONE-_WRO9812_XXX9_-NONE-_-NONE-   \n",
       "CONT_IDV_WRO9816_7012                  2017-05-31           7012_-NONE-_WRO9816_XXX9_-NONE-_-NONE-   \n",
       "\n",
       "                                                    federal_action_obligation  \\\n",
       "contract_award_unique_key              action_date                              \n",
       "CONT_AWD_00001_7022_HSFE0408A0017_7022 2008-02-15                     15000.0   \n",
       "CONT_AWD_00001_7022_HSFE0408A0035_7022 2008-02-20                     10000.0   \n",
       "CONT_AWD_00001_7022_HSFE0408A0066_7022 2008-05-15                      5000.0   \n",
       "CONT_AWD_00001_7022_HSFE0408A0067_7022 2008-03-31                      1500.0   \n",
       "                                       2012-07-27                       -30.0   \n",
       "...                                                                       ...   \n",
       "CONT_IDV_TPDFIGBPA100001_2036          2010-10-26                         0.0   \n",
       "                                       2010-10-26                         0.0   \n",
       "CONT_IDV_WRO02005_7012                 2017-05-31                         0.0   \n",
       "CONT_IDV_WRO9812_7012                  2017-05-31                         0.0   \n",
       "CONT_IDV_WRO9816_7012                  2017-05-31                         0.0   \n",
       "\n",
       "                                                    total_dollars_obligated  \\\n",
       "contract_award_unique_key              action_date                            \n",
       "CONT_AWD_00001_7022_HSFE0408A0017_7022 2008-02-15                       0.0   \n",
       "CONT_AWD_00001_7022_HSFE0408A0035_7022 2008-02-20                       0.0   \n",
       "CONT_AWD_00001_7022_HSFE0408A0066_7022 2008-05-15                       0.0   \n",
       "CONT_AWD_00001_7022_HSFE0408A0067_7022 2008-03-31                       0.0   \n",
       "                                       2012-07-27                       0.0   \n",
       "...                                                                     ...   \n",
       "CONT_IDV_TPDFIGBPA100001_2036          2010-10-26                       0.0   \n",
       "                                       2010-10-26                       0.0   \n",
       "CONT_IDV_WRO02005_7012                 2017-05-31                       0.0   \n",
       "CONT_IDV_WRO9812_7012                  2017-05-31                       0.0   \n",
       "CONT_IDV_WRO9816_7012                  2017-05-31                       0.0   \n",
       "\n",
       "                                                    base_and_exercised_options_value  \\\n",
       "contract_award_unique_key              action_date                                     \n",
       "CONT_AWD_00001_7022_HSFE0408A0017_7022 2008-02-15                            15000.0   \n",
       "CONT_AWD_00001_7022_HSFE0408A0035_7022 2008-02-20                            10000.0   \n",
       "CONT_AWD_00001_7022_HSFE0408A0066_7022 2008-05-15                             5000.0   \n",
       "CONT_AWD_00001_7022_HSFE0408A0067_7022 2008-03-31                             1500.0   \n",
       "                                       2012-07-27                              -30.0   \n",
       "...                                                                              ...   \n",
       "CONT_IDV_TPDFIGBPA100001_2036          2010-10-26                                0.0   \n",
       "                                       2010-10-26                                0.0   \n",
       "CONT_IDV_WRO02005_7012                 2017-05-31                                0.0   \n",
       "CONT_IDV_WRO9812_7012                  2017-05-31                                0.0   \n",
       "CONT_IDV_WRO9816_7012                  2017-05-31                                0.0   \n",
       "\n",
       "                                                    current_total_value_of_award  \\\n",
       "contract_award_unique_key              action_date                                 \n",
       "CONT_AWD_00001_7022_HSFE0408A0017_7022 2008-02-15                            0.0   \n",
       "CONT_AWD_00001_7022_HSFE0408A0035_7022 2008-02-20                            0.0   \n",
       "CONT_AWD_00001_7022_HSFE0408A0066_7022 2008-05-15                            0.0   \n",
       "CONT_AWD_00001_7022_HSFE0408A0067_7022 2008-03-31                            0.0   \n",
       "                                       2012-07-27                            0.0   \n",
       "...                                                                          ...   \n",
       "CONT_IDV_TPDFIGBPA100001_2036          2010-10-26                            0.0   \n",
       "                                       2010-10-26                            0.0   \n",
       "CONT_IDV_WRO02005_7012                 2017-05-31                            0.0   \n",
       "CONT_IDV_WRO9812_7012                  2017-05-31                            0.0   \n",
       "CONT_IDV_WRO9816_7012                  2017-05-31                            0.0   \n",
       "\n",
       "                                                    base_and_all_options_value  \\\n",
       "contract_award_unique_key              action_date                               \n",
       "CONT_AWD_00001_7022_HSFE0408A0017_7022 2008-02-15                          0.0   \n",
       "CONT_AWD_00001_7022_HSFE0408A0035_7022 2008-02-20                          0.0   \n",
       "CONT_AWD_00001_7022_HSFE0408A0066_7022 2008-05-15                          0.0   \n",
       "CONT_AWD_00001_7022_HSFE0408A0067_7022 2008-03-31                          0.0   \n",
       "                                       2012-07-27                       1470.0   \n",
       "...                                                                        ...   \n",
       "CONT_IDV_TPDFIGBPA100001_2036          2010-10-26                          0.0   \n",
       "                                       2010-10-26                          0.0   \n",
       "CONT_IDV_WRO02005_7012                 2017-05-31                          0.0   \n",
       "CONT_IDV_WRO9812_7012                  2017-05-31                          0.0   \n",
       "CONT_IDV_WRO9816_7012                  2017-05-31                          0.0   \n",
       "\n",
       "                                                    potential_total_value_of_award  \\\n",
       "contract_award_unique_key              action_date                                   \n",
       "CONT_AWD_00001_7022_HSFE0408A0017_7022 2008-02-15                              0.0   \n",
       "CONT_AWD_00001_7022_HSFE0408A0035_7022 2008-02-20                              0.0   \n",
       "CONT_AWD_00001_7022_HSFE0408A0066_7022 2008-05-15                              0.0   \n",
       "CONT_AWD_00001_7022_HSFE0408A0067_7022 2008-03-31                              0.0   \n",
       "                                       2012-07-27                              0.0   \n",
       "...                                                                            ...   \n",
       "CONT_IDV_TPDFIGBPA100001_2036          2010-10-26                              0.0   \n",
       "                                       2010-10-26                              0.0   \n",
       "CONT_IDV_WRO02005_7012                 2017-05-31                              0.0   \n",
       "CONT_IDV_WRO9812_7012                  2017-05-31                              0.0   \n",
       "CONT_IDV_WRO9816_7012                  2017-05-31                              0.0   \n",
       "\n",
       "                                                    Percent Cumulatively Obligated over potential total value of award  \\\n",
       "contract_award_unique_key              action_date                                                                       \n",
       "CONT_AWD_00001_7022_HSFE0408A0017_7022 2008-02-15                                                 0.0                    \n",
       "CONT_AWD_00001_7022_HSFE0408A0035_7022 2008-02-20                                                 0.0                    \n",
       "CONT_AWD_00001_7022_HSFE0408A0066_7022 2008-05-15                                                 0.0                    \n",
       "CONT_AWD_00001_7022_HSFE0408A0067_7022 2008-03-31                                                 0.0                    \n",
       "                                       2012-07-27                                                 0.0                    \n",
       "...                                                                                               ...                    \n",
       "CONT_IDV_TPDFIGBPA100001_2036          2010-10-26                                                 0.0                    \n",
       "                                       2010-10-26                                                 0.0                    \n",
       "CONT_IDV_WRO02005_7012                 2017-05-31                                                 0.0                    \n",
       "CONT_IDV_WRO9812_7012                  2017-05-31                                                 0.0                    \n",
       "CONT_IDV_WRO9816_7012                  2017-05-31                                                 0.0                    \n",
       "\n",
       "                                                    Indicator  \n",
       "contract_award_unique_key              action_date             \n",
       "CONT_AWD_00001_7022_HSFE0408A0017_7022 2008-02-15       False  \n",
       "CONT_AWD_00001_7022_HSFE0408A0035_7022 2008-02-20       False  \n",
       "CONT_AWD_00001_7022_HSFE0408A0066_7022 2008-05-15       False  \n",
       "CONT_AWD_00001_7022_HSFE0408A0067_7022 2008-03-31       False  \n",
       "                                       2012-07-27       False  \n",
       "...                                                       ...  \n",
       "CONT_IDV_TPDFIGBPA100001_2036          2010-10-26       False  \n",
       "                                       2010-10-26       False  \n",
       "CONT_IDV_WRO02005_7012                 2017-05-31       False  \n",
       "CONT_IDV_WRO9812_7012                  2017-05-31       False  \n",
       "CONT_IDV_WRO9816_7012                  2017-05-31       False  \n",
       "\n",
       "[1020089 rows x 9 columns]"
      ]
     },
     "execution_count": 44,
     "metadata": {},
     "output_type": "execute_result"
    }
   ],
   "source": [
    "df = df.fillna(0)\n",
    "# Convert action date to pd.datetime\n",
    "df['action_date'] = pd.to_datetime(df['action_date'])\n",
    "# set index to each contract and date\n",
    "df.set_index(['contract_award_unique_key','action_date'], inplace = True)\n",
    "df.sort_index()"
   ]
  },
  {
   "cell_type": "code",
   "execution_count": 45,
   "metadata": {},
   "outputs": [],
   "source": [
    "# We want to only focus on execution rate (for now). I'm not sure which column is the best indicator of execution rate\n",
    "# we can follow up with Eric. I'm going to stick with Percent Cumulatively Obligated over potential total value of award\n",
    "# as wequal to the execution rate.\n",
    "drop_columns = [column for column in df.columns if column != 'Percent Cumulatively Obligated over potential total value of award']\n",
    "df.drop(drop_columns,axis = 1, inplace=True)\n",
    "\n",
    "df.rename(columns = {'Percent Cumulatively Obligated over potential total value of award':'execution_rate'},inplace = True)"
   ]
  },
  {
   "cell_type": "code",
   "execution_count": 46,
   "metadata": {},
   "outputs": [
    {
     "data": {
      "text/html": [
       "<div>\n",
       "<style scoped>\n",
       "    .dataframe tbody tr th:only-of-type {\n",
       "        vertical-align: middle;\n",
       "    }\n",
       "\n",
       "    .dataframe tbody tr th {\n",
       "        vertical-align: top;\n",
       "    }\n",
       "\n",
       "    .dataframe thead th {\n",
       "        text-align: right;\n",
       "    }\n",
       "</style>\n",
       "<table border=\"1\" class=\"dataframe\">\n",
       "  <thead>\n",
       "    <tr style=\"text-align: right;\">\n",
       "      <th></th>\n",
       "      <th></th>\n",
       "      <th>execution_rate</th>\n",
       "    </tr>\n",
       "    <tr>\n",
       "      <th>contract_award_unique_key</th>\n",
       "      <th>action_date</th>\n",
       "      <th></th>\n",
       "    </tr>\n",
       "  </thead>\n",
       "  <tbody>\n",
       "    <tr>\n",
       "      <td>CONT_AWD_HSBP20080015201839_7014_GS21F0031U_4730</td>\n",
       "      <td>2008-09-30</td>\n",
       "      <td>0.0</td>\n",
       "    </tr>\n",
       "    <tr>\n",
       "      <td>CONT_IDV_HSHQDC06C00065_7001</td>\n",
       "      <td>2008-09-30</td>\n",
       "      <td>0.0</td>\n",
       "    </tr>\n",
       "    <tr>\n",
       "      <td>CONT_AWD_HSCG2808P7ABEC9_7008_-NONE-_-NONE-</td>\n",
       "      <td>2008-09-30</td>\n",
       "      <td>0.0</td>\n",
       "    </tr>\n",
       "    <tr>\n",
       "      <td>CONT_IDV_HSHQDC08C00190_7001</td>\n",
       "      <td>2008-09-30</td>\n",
       "      <td>0.0</td>\n",
       "    </tr>\n",
       "  </tbody>\n",
       "</table>\n",
       "</div>"
      ],
      "text/plain": [
       "                                                              execution_rate\n",
       "contract_award_unique_key                        action_date                \n",
       "CONT_AWD_HSBP20080015201839_7014_GS21F0031U_4730 2008-09-30              0.0\n",
       "CONT_IDV_HSHQDC06C00065_7001                     2008-09-30              0.0\n",
       "CONT_AWD_HSCG2808P7ABEC9_7008_-NONE-_-NONE-      2008-09-30              0.0\n",
       "CONT_IDV_HSHQDC08C00190_7001                     2008-09-30              0.0"
      ]
     },
     "execution_count": 46,
     "metadata": {},
     "output_type": "execute_result"
    }
   ],
   "source": [
    "df.head(4)"
   ]
  },
  {
   "cell_type": "code",
   "execution_count": 47,
   "metadata": {},
   "outputs": [
    {
     "name": "stdout",
     "output_type": "stream",
     "text": [
      "This is the number of unique Contracts: 485094\n",
      "This is the number of transactions: 1020089\n"
     ]
    }
   ],
   "source": [
    "contracts = [contract for contract, date in list(df.index)]\n",
    "unique_k = set(contracts)\n",
    "print('This is the number of unique Contracts: ' + str(len(unique_k)))\n",
    "print('This is the number of transactions: ' + str(len(contracts)))"
   ]
  },
  {
   "cell_type": "markdown",
   "metadata": {},
   "source": [
    "# Selecting contracts w/ 5 or more transactions from 2008-2018"
   ]
  },
  {
   "cell_type": "code",
   "execution_count": 48,
   "metadata": {},
   "outputs": [],
   "source": [
    "# I grouped the dataframe by contract and used the .count(method)\n",
    "# to determine the number of entries. I then used an inequality to get a boolean series of the number of contracts \n",
    "# that satisfied the condition of at least 5 transactions.\n",
    "test = df.groupby(level='contract_award_unique_key')['execution_rate'].count() >= 5\n",
    "test = test[test==True]\n",
    "# This is the list of contracts that have more than 5 transactions. \n",
    "highlighted_transactions = test.index\n",
    "\n"
   ]
  },
  {
   "cell_type": "markdown",
   "metadata": {},
   "source": [
    "### Utilize FY19 Data as Test Data"
   ]
  },
  {
   "cell_type": "code",
   "execution_count": 49,
   "metadata": {},
   "outputs": [],
   "source": [
    "os.chdir('C:\\\\Users\\\\belincoln\\\\repos\\\\BudgetPredict')"
   ]
  },
  {
   "cell_type": "code",
   "execution_count": 50,
   "metadata": {},
   "outputs": [
    {
     "name": "stdout",
     "output_type": "stream",
     "text": [
      "C:\\Users\\belincoln\\repos\\BudgetPredict\\data\n"
     ]
    }
   ],
   "source": [
    "%cd data"
   ]
  },
  {
   "cell_type": "code",
   "execution_count": 51,
   "metadata": {},
   "outputs": [],
   "source": [
    "filename = 'FY2019_070_Contracts_Full_20200110_1.csv'"
   ]
  },
  {
   "cell_type": "code",
   "execution_count": 52,
   "metadata": {},
   "outputs": [],
   "source": [
    "test_df = pd.read_csv(filename, header = 0, usecols = ['contract_transaction_unique_key',\n",
    "                        'contract_award_unique_key',\n",
    "                        'federal_action_obligation','total_dollars_obligated', 'base_and_exercised_options_value', \n",
    "                        'current_total_value_of_award', 'base_and_all_options_value','potential_total_value_of_award',\n",
    "                        'action_date'],\n",
    "                 dtype = {'contract_transaction_unique_key':'str','contract_transaction_unique_key':'str',\n",
    "                          'federal_action_obligation': 'float','total_dollars_obligated': 'float', \n",
    "                          'base_and_exercised_options_value': 'float', 'current_total_value_of_award': 'float', \n",
    "                          'base_and_all_options_value': 'float','potential_total_value_of_award': 'float',\n",
    "                          'action_date':'str'})"
   ]
  },
  {
   "cell_type": "code",
   "execution_count": 53,
   "metadata": {},
   "outputs": [
    {
     "name": "stdout",
     "output_type": "stream",
     "text": [
      "This is the # of transactions is FY19 for DHS: 66533\n"
     ]
    }
   ],
   "source": [
    "print('This is the # of transactions is FY19 for DHS: ' + str(len(test_df)))"
   ]
  },
  {
   "cell_type": "code",
   "execution_count": 54,
   "metadata": {},
   "outputs": [],
   "source": [
    "test_df = test_df.fillna(0)\n",
    "# Convert action date to pd.datetime\n",
    "test_df['action_date'] = pd.to_datetime(test_df['action_date'])\n",
    "# set index to each contract and date\n",
    "test_df.set_index(['contract_award_unique_key','action_date'], inplace = True)\n",
    "test_df.sort_index()\n",
    "fy19_df = test_df.copy()"
   ]
  },
  {
   "cell_type": "code",
   "execution_count": 55,
   "metadata": {},
   "outputs": [],
   "source": [
    "# We want to only focus on execution rate (for now). I'm not sure which column is the best indicator of execution rate\n",
    "# we can follow up with Eric. I'm going to stick with Percent Cumulatively Obligated over potential total value of award\n",
    "# as wequal to the execution rate.\n",
    "drop_columns = [column for column in test_df.columns if column != 'Percent Cumulatively Obligated over potential total value of award']\n",
    "test_df.drop(drop_columns,axis = 1, inplace=True)\n",
    "\n",
    "test_df.rename(columns = {'Percent Cumulatively Obligated over potential total value of award':'execution_rate'},inplace = True)"
   ]
  },
  {
   "cell_type": "code",
   "execution_count": 56,
   "metadata": {},
   "outputs": [
    {
     "name": "stdout",
     "output_type": "stream",
     "text": [
      "This is the number of unique Contracts: 44314\n",
      "This is the number of transactions: 66533\n"
     ]
    }
   ],
   "source": [
    "contracts = [contract for contract, date in list(test_df.index)]\n",
    "unique_k_fy19 = set(contracts)\n",
    "print('This is the number of unique Contracts: ' + str(len(unique_k_fy19)))\n",
    "print('This is the number of transactions: ' + str(len(contracts)))"
   ]
  },
  {
   "cell_type": "code",
   "execution_count": 57,
   "metadata": {},
   "outputs": [
    {
     "data": {
      "text/plain": [
       "set"
      ]
     },
     "execution_count": 57,
     "metadata": {},
     "output_type": "execute_result"
    }
   ],
   "source": [
    "type(unique_k_fy19)"
   ]
  },
  {
   "cell_type": "code",
   "execution_count": 58,
   "metadata": {},
   "outputs": [],
   "source": [
    "highlighted_transactions = set(highlighted_transactions)"
   ]
  },
  {
   "cell_type": "code",
   "execution_count": 59,
   "metadata": {},
   "outputs": [
    {
     "data": {
      "text/plain": [
       "4022"
      ]
     },
     "execution_count": 59,
     "metadata": {},
     "output_type": "execute_result"
    }
   ],
   "source": [
    "len(unique_k_fy19.intersection(highlighted_transactions))"
   ]
  },
  {
   "cell_type": "code",
   "execution_count": 60,
   "metadata": {},
   "outputs": [],
   "source": [
    "mask = list(unique_k_fy19.intersection(highlighted_transactions))"
   ]
  },
  {
   "cell_type": "code",
   "execution_count": 61,
   "metadata": {},
   "outputs": [
    {
     "data": {
      "text/plain": [
       "Index(['CONT_AWD_HSCEMS16F00057_7012_HSCEMS12A00018_7012',\n",
       "       'CONT_AWD_HSFE2015J0271_7022_HSFE2013D0161_7022',\n",
       "       'CONT_AWD_70Z02918PX0808600_7008_-NONE-_-NONE-',\n",
       "       'CONT_AWD_70Z03818PW0000011_7008_-NONE-_-NONE-',\n",
       "       'CONT_AWD_70Z08018PP45K8500_7008_-NONE-_-NONE-',\n",
       "       'CONT_IDV_HSCG3816DL00004_7008',\n",
       "       'CONT_AWD_70Z08418F4YF02400_7008_GS33F0009P_4730',\n",
       "       'CONT_AWD_HSCG3211J300016_7008_HSCG3210DR00021_7008',\n",
       "       'CONT_AWD_HSCG3212J300032_7008_HSCG3210DR00021_7008',\n",
       "       'CONT_IDV_HSTS0514AMED077_7013',\n",
       "       ...\n",
       "       'CONT_AWD_HSFE2013MP6330565_7022_-NONE-_-NONE-',\n",
       "       'CONT_AWD_70Z04019F61427Y00_7008_HSCG4015D60744_7008',\n",
       "       'CONT_AWD_70Z08519F30211B00_7008_HSCG4015D30002_7008',\n",
       "       'CONT_AWD_HSTS0415JCT2530_7013_HSHQDC13DE2090_7001',\n",
       "       'CONT_AWD_70Z03819PD0000080_7008_-NONE-_-NONE-',\n",
       "       'CONT_AWD_70Z03819PD0000080_7008_-NONE-_-NONE-',\n",
       "       'CONT_AWD_70Z08019P29577B00_7008_-NONE-_-NONE-',\n",
       "       'CONT_AWD_HSBP1015F00038_7014_HSBP1013A00012_7014',\n",
       "       'CONT_AWD_HSBP1015F00113_7014_HSBP1013A00012_7014',\n",
       "       'CONT_AWD_HSSCCG14F00581_7003_HSHQDC13A00039_7001'],\n",
       "      dtype='object', name='contract_award_unique_key', length=66533)"
      ]
     },
     "execution_count": 61,
     "metadata": {},
     "output_type": "execute_result"
    }
   ],
   "source": [
    "fy19_df.index.get_level_values('contract_award_unique_key')"
   ]
  },
  {
   "cell_type": "code",
   "execution_count": 62,
   "metadata": {},
   "outputs": [],
   "source": [
    "highlighted_fy19 = fy19_df.loc[(list(highlighted_transactions), slice(None)),:]"
   ]
  },
  {
   "cell_type": "code",
   "execution_count": 63,
   "metadata": {},
   "outputs": [
    {
     "data": {
      "text/html": [
       "<div>\n",
       "<style scoped>\n",
       "    .dataframe tbody tr th:only-of-type {\n",
       "        vertical-align: middle;\n",
       "    }\n",
       "\n",
       "    .dataframe tbody tr th {\n",
       "        vertical-align: top;\n",
       "    }\n",
       "\n",
       "    .dataframe thead th {\n",
       "        text-align: right;\n",
       "    }\n",
       "</style>\n",
       "<table border=\"1\" class=\"dataframe\">\n",
       "  <thead>\n",
       "    <tr style=\"text-align: right;\">\n",
       "      <th></th>\n",
       "      <th></th>\n",
       "      <th>contract_transaction_unique_key</th>\n",
       "      <th>federal_action_obligation</th>\n",
       "      <th>total_dollars_obligated</th>\n",
       "      <th>base_and_exercised_options_value</th>\n",
       "      <th>current_total_value_of_award</th>\n",
       "      <th>base_and_all_options_value</th>\n",
       "      <th>potential_total_value_of_award</th>\n",
       "    </tr>\n",
       "    <tr>\n",
       "      <th>contract_award_unique_key</th>\n",
       "      <th>action_date</th>\n",
       "      <th></th>\n",
       "      <th></th>\n",
       "      <th></th>\n",
       "      <th></th>\n",
       "      <th></th>\n",
       "      <th></th>\n",
       "      <th></th>\n",
       "    </tr>\n",
       "  </thead>\n",
       "  <tbody>\n",
       "    <tr>\n",
       "      <td>CONT_AWD_HSCEMS16F00057_7012_HSCEMS12A00018_7012</td>\n",
       "      <td>2018-10-19</td>\n",
       "      <td>7012_7012_HSCEMS16F00057_P00005_HSCEMS12A00018_0</td>\n",
       "      <td>-7702.86</td>\n",
       "      <td>6003953.42</td>\n",
       "      <td>-7702.86</td>\n",
       "      <td>6059478.42</td>\n",
       "      <td>-148339.0</td>\n",
       "      <td>6.067181e+06</td>\n",
       "    </tr>\n",
       "    <tr>\n",
       "      <td>CONT_IDV_HSCG3816DL00004_7008</td>\n",
       "      <td>2018-10-20</td>\n",
       "      <td>7008_-NONE-_HSCG3816DL00004_P00009_-NONE-_-NONE-</td>\n",
       "      <td>0.00</td>\n",
       "      <td>0.00</td>\n",
       "      <td>0.00</td>\n",
       "      <td>0.00</td>\n",
       "      <td>0.0</td>\n",
       "      <td>3.625838e+06</td>\n",
       "    </tr>\n",
       "    <tr>\n",
       "      <td>CONT_IDV_HSCEDM17D00009_7012</td>\n",
       "      <td>2018-10-02</td>\n",
       "      <td>7012_-NONE-_HSCEDM17D00009_P00008_-NONE-_-NONE-</td>\n",
       "      <td>0.00</td>\n",
       "      <td>0.00</td>\n",
       "      <td>0.00</td>\n",
       "      <td>0.00</td>\n",
       "      <td>0.0</td>\n",
       "      <td>4.573615e+08</td>\n",
       "    </tr>\n",
       "    <tr>\n",
       "      <td>CONT_IDV_HSCG3815D202051_7008</td>\n",
       "      <td>2018-10-02</td>\n",
       "      <td>7008_-NONE-_HSCG3815D202051_P00005_-NONE-_-NONE-</td>\n",
       "      <td>0.00</td>\n",
       "      <td>0.00</td>\n",
       "      <td>0.00</td>\n",
       "      <td>0.00</td>\n",
       "      <td>0.0</td>\n",
       "      <td>4.074217e+05</td>\n",
       "    </tr>\n",
       "    <tr>\n",
       "      <td>CONT_IDV_HSCG4016D60308_7008</td>\n",
       "      <td>2018-10-02</td>\n",
       "      <td>7008_-NONE-_HSCG4016D60308_P00007_-NONE-_-NONE-</td>\n",
       "      <td>0.00</td>\n",
       "      <td>0.00</td>\n",
       "      <td>0.00</td>\n",
       "      <td>0.00</td>\n",
       "      <td>0.0</td>\n",
       "      <td>1.818706e+07</td>\n",
       "    </tr>\n",
       "  </tbody>\n",
       "</table>\n",
       "</div>"
      ],
      "text/plain": [
       "                                                                               contract_transaction_unique_key  \\\n",
       "contract_award_unique_key                        action_date                                                     \n",
       "CONT_AWD_HSCEMS16F00057_7012_HSCEMS12A00018_7012 2018-10-19   7012_7012_HSCEMS16F00057_P00005_HSCEMS12A00018_0   \n",
       "CONT_IDV_HSCG3816DL00004_7008                    2018-10-20   7008_-NONE-_HSCG3816DL00004_P00009_-NONE-_-NONE-   \n",
       "CONT_IDV_HSCEDM17D00009_7012                     2018-10-02    7012_-NONE-_HSCEDM17D00009_P00008_-NONE-_-NONE-   \n",
       "CONT_IDV_HSCG3815D202051_7008                    2018-10-02   7008_-NONE-_HSCG3815D202051_P00005_-NONE-_-NONE-   \n",
       "CONT_IDV_HSCG4016D60308_7008                     2018-10-02    7008_-NONE-_HSCG4016D60308_P00007_-NONE-_-NONE-   \n",
       "\n",
       "                                                              federal_action_obligation  \\\n",
       "contract_award_unique_key                        action_date                              \n",
       "CONT_AWD_HSCEMS16F00057_7012_HSCEMS12A00018_7012 2018-10-19                    -7702.86   \n",
       "CONT_IDV_HSCG3816DL00004_7008                    2018-10-20                        0.00   \n",
       "CONT_IDV_HSCEDM17D00009_7012                     2018-10-02                        0.00   \n",
       "CONT_IDV_HSCG3815D202051_7008                    2018-10-02                        0.00   \n",
       "CONT_IDV_HSCG4016D60308_7008                     2018-10-02                        0.00   \n",
       "\n",
       "                                                              total_dollars_obligated  \\\n",
       "contract_award_unique_key                        action_date                            \n",
       "CONT_AWD_HSCEMS16F00057_7012_HSCEMS12A00018_7012 2018-10-19                6003953.42   \n",
       "CONT_IDV_HSCG3816DL00004_7008                    2018-10-20                      0.00   \n",
       "CONT_IDV_HSCEDM17D00009_7012                     2018-10-02                      0.00   \n",
       "CONT_IDV_HSCG3815D202051_7008                    2018-10-02                      0.00   \n",
       "CONT_IDV_HSCG4016D60308_7008                     2018-10-02                      0.00   \n",
       "\n",
       "                                                              base_and_exercised_options_value  \\\n",
       "contract_award_unique_key                        action_date                                     \n",
       "CONT_AWD_HSCEMS16F00057_7012_HSCEMS12A00018_7012 2018-10-19                           -7702.86   \n",
       "CONT_IDV_HSCG3816DL00004_7008                    2018-10-20                               0.00   \n",
       "CONT_IDV_HSCEDM17D00009_7012                     2018-10-02                               0.00   \n",
       "CONT_IDV_HSCG3815D202051_7008                    2018-10-02                               0.00   \n",
       "CONT_IDV_HSCG4016D60308_7008                     2018-10-02                               0.00   \n",
       "\n",
       "                                                              current_total_value_of_award  \\\n",
       "contract_award_unique_key                        action_date                                 \n",
       "CONT_AWD_HSCEMS16F00057_7012_HSCEMS12A00018_7012 2018-10-19                     6059478.42   \n",
       "CONT_IDV_HSCG3816DL00004_7008                    2018-10-20                           0.00   \n",
       "CONT_IDV_HSCEDM17D00009_7012                     2018-10-02                           0.00   \n",
       "CONT_IDV_HSCG3815D202051_7008                    2018-10-02                           0.00   \n",
       "CONT_IDV_HSCG4016D60308_7008                     2018-10-02                           0.00   \n",
       "\n",
       "                                                              base_and_all_options_value  \\\n",
       "contract_award_unique_key                        action_date                               \n",
       "CONT_AWD_HSCEMS16F00057_7012_HSCEMS12A00018_7012 2018-10-19                    -148339.0   \n",
       "CONT_IDV_HSCG3816DL00004_7008                    2018-10-20                          0.0   \n",
       "CONT_IDV_HSCEDM17D00009_7012                     2018-10-02                          0.0   \n",
       "CONT_IDV_HSCG3815D202051_7008                    2018-10-02                          0.0   \n",
       "CONT_IDV_HSCG4016D60308_7008                     2018-10-02                          0.0   \n",
       "\n",
       "                                                              potential_total_value_of_award  \n",
       "contract_award_unique_key                        action_date                                  \n",
       "CONT_AWD_HSCEMS16F00057_7012_HSCEMS12A00018_7012 2018-10-19                     6.067181e+06  \n",
       "CONT_IDV_HSCG3816DL00004_7008                    2018-10-20                     3.625838e+06  \n",
       "CONT_IDV_HSCEDM17D00009_7012                     2018-10-02                     4.573615e+08  \n",
       "CONT_IDV_HSCG3815D202051_7008                    2018-10-02                     4.074217e+05  \n",
       "CONT_IDV_HSCG4016D60308_7008                     2018-10-02                     1.818706e+07  "
      ]
     },
     "execution_count": 63,
     "metadata": {},
     "output_type": "execute_result"
    }
   ],
   "source": [
    "highlighted_fy19.head()"
   ]
  },
  {
   "cell_type": "code",
   "execution_count": 64,
   "metadata": {},
   "outputs": [
    {
     "data": {
      "text/plain": [
       "Index(['CONT_AWD_HSCEMS16F00057_7012_HSCEMS12A00018_7012',\n",
       "       'CONT_IDV_HSCG3816DL00004_7008', 'CONT_IDV_HSCEDM17D00009_7012',\n",
       "       'CONT_IDV_HSCG3815D202051_7008', 'CONT_IDV_HSCG4016D60308_7008',\n",
       "       'CONT_IDV_HSFLAR16D00001_7015', 'CONT_IDV_HSTS0311DCIO391_7013',\n",
       "       'CONT_AWD_HSSCCG14F00396_7003_GS03FPM011_4732',\n",
       "       'CONT_AWD_HSSCCG14F00399_7003_GS03FPM006_4732',\n",
       "       'CONT_AWD_HSSCCG14Z00017_7003_GS03FPM011_4732',\n",
       "       ...\n",
       "       'CONT_AWD_HSBP1012P00838_7014_-NONE-_-NONE-',\n",
       "       'CONT_AWD_HSFE5015J0268_7022_HSFE5012D0245_7022',\n",
       "       'CONT_AWD_HSBP1012P00975_7014_-NONE-_-NONE-',\n",
       "       'CONT_AWD_HSFETX15F0020_7022_GS02F0048M_4730',\n",
       "       'CONT_AWD_HSCG8513FP45M65_7008_HSCG2313DATB041_7008',\n",
       "       'CONT_AWD_HSCEDM15P00082_7012_-NONE-_-NONE-',\n",
       "       'CONT_AWD_70RFP218FREC00009_7001_HSHQEC16D00008_7001',\n",
       "       'CONT_AWD_HSHQPD06P00002_7001_-NONE-_-NONE-',\n",
       "       'CONT_AWD_HSHQDC10J00304_7001_HSHQDC06D00024_7001',\n",
       "       'CONT_AWD_HSSCCG14F00581_7003_HSHQDC13A00039_7001'],\n",
       "      dtype='object', name='contract_award_unique_key', length=4022)"
      ]
     },
     "execution_count": 64,
     "metadata": {},
     "output_type": "execute_result"
    }
   ],
   "source": [
    "highlighted_fy19.index.get_level_values(0).unique()"
   ]
  },
  {
   "cell_type": "code",
   "execution_count": 65,
   "metadata": {},
   "outputs": [
    {
     "data": {
      "text/html": [
       "<div>\n",
       "<style scoped>\n",
       "    .dataframe tbody tr th:only-of-type {\n",
       "        vertical-align: middle;\n",
       "    }\n",
       "\n",
       "    .dataframe tbody tr th {\n",
       "        vertical-align: top;\n",
       "    }\n",
       "\n",
       "    .dataframe thead th {\n",
       "        text-align: right;\n",
       "    }\n",
       "</style>\n",
       "<table border=\"1\" class=\"dataframe\">\n",
       "  <thead>\n",
       "    <tr style=\"text-align: right;\">\n",
       "      <th></th>\n",
       "      <th></th>\n",
       "      <th>contract_transaction_unique_key</th>\n",
       "      <th>federal_action_obligation</th>\n",
       "      <th>total_dollars_obligated</th>\n",
       "      <th>base_and_exercised_options_value</th>\n",
       "      <th>current_total_value_of_award</th>\n",
       "      <th>base_and_all_options_value</th>\n",
       "      <th>potential_total_value_of_award</th>\n",
       "    </tr>\n",
       "    <tr>\n",
       "      <th>contract_award_unique_key</th>\n",
       "      <th>action_date</th>\n",
       "      <th></th>\n",
       "      <th></th>\n",
       "      <th></th>\n",
       "      <th></th>\n",
       "      <th></th>\n",
       "      <th></th>\n",
       "      <th></th>\n",
       "    </tr>\n",
       "  </thead>\n",
       "  <tbody>\n",
       "    <tr>\n",
       "      <td>CONT_AWD_HSCEMS16F00057_7012_HSCEMS12A00018_7012</td>\n",
       "      <td>2018-10-19</td>\n",
       "      <td>7012_7012_HSCEMS16F00057_P00005_HSCEMS12A00018_0</td>\n",
       "      <td>-7702.86</td>\n",
       "      <td>6003953.42</td>\n",
       "      <td>-7702.86</td>\n",
       "      <td>6059478.42</td>\n",
       "      <td>-148339.00</td>\n",
       "      <td>6.067181e+06</td>\n",
       "    </tr>\n",
       "    <tr>\n",
       "      <td>CONT_IDV_HSCG3816DL00004_7008</td>\n",
       "      <td>2018-10-20</td>\n",
       "      <td>7008_-NONE-_HSCG3816DL00004_P00009_-NONE-_-NONE-</td>\n",
       "      <td>0.00</td>\n",
       "      <td>0.00</td>\n",
       "      <td>0.00</td>\n",
       "      <td>0.00</td>\n",
       "      <td>0.00</td>\n",
       "      <td>3.625838e+06</td>\n",
       "    </tr>\n",
       "    <tr>\n",
       "      <td>CONT_IDV_HSCEDM17D00009_7012</td>\n",
       "      <td>2018-10-02</td>\n",
       "      <td>7012_-NONE-_HSCEDM17D00009_P00008_-NONE-_-NONE-</td>\n",
       "      <td>0.00</td>\n",
       "      <td>0.00</td>\n",
       "      <td>0.00</td>\n",
       "      <td>0.00</td>\n",
       "      <td>0.00</td>\n",
       "      <td>4.573615e+08</td>\n",
       "    </tr>\n",
       "    <tr>\n",
       "      <td>CONT_IDV_HSCG3815D202051_7008</td>\n",
       "      <td>2018-10-02</td>\n",
       "      <td>7008_-NONE-_HSCG3815D202051_P00005_-NONE-_-NONE-</td>\n",
       "      <td>0.00</td>\n",
       "      <td>0.00</td>\n",
       "      <td>0.00</td>\n",
       "      <td>0.00</td>\n",
       "      <td>0.00</td>\n",
       "      <td>4.074217e+05</td>\n",
       "    </tr>\n",
       "    <tr>\n",
       "      <td>CONT_IDV_HSCG4016D60308_7008</td>\n",
       "      <td>2018-10-02</td>\n",
       "      <td>7008_-NONE-_HSCG4016D60308_P00007_-NONE-_-NONE-</td>\n",
       "      <td>0.00</td>\n",
       "      <td>0.00</td>\n",
       "      <td>0.00</td>\n",
       "      <td>0.00</td>\n",
       "      <td>0.00</td>\n",
       "      <td>1.818706e+07</td>\n",
       "    </tr>\n",
       "    <tr>\n",
       "      <td>...</td>\n",
       "      <td>...</td>\n",
       "      <td>...</td>\n",
       "      <td>...</td>\n",
       "      <td>...</td>\n",
       "      <td>...</td>\n",
       "      <td>...</td>\n",
       "      <td>...</td>\n",
       "      <td>...</td>\n",
       "    </tr>\n",
       "    <tr>\n",
       "      <td>CONT_AWD_HSHQPD06P00002_7001_-NONE-_-NONE-</td>\n",
       "      <td>2018-10-01</td>\n",
       "      <td>7001_-NONE-_HSHQPD06P00002_P00009_-NONE-_0</td>\n",
       "      <td>0.00</td>\n",
       "      <td>147859.99</td>\n",
       "      <td>0.00</td>\n",
       "      <td>147859.99</td>\n",
       "      <td>0.00</td>\n",
       "      <td>1.478600e+05</td>\n",
       "    </tr>\n",
       "    <tr>\n",
       "      <td>CONT_AWD_HSHQDC10J00304_7001_HSHQDC06D00024_7001</td>\n",
       "      <td>2019-09-17</td>\n",
       "      <td>7001_7001_HSHQDC10J00304_P00008_HSHQDC06D00024_0</td>\n",
       "      <td>-448013.23</td>\n",
       "      <td>4977501.44</td>\n",
       "      <td>-448013.23</td>\n",
       "      <td>4977501.44</td>\n",
       "      <td>-448013.23</td>\n",
       "      <td>7.005469e+06</td>\n",
       "    </tr>\n",
       "    <tr>\n",
       "      <td>CONT_AWD_HSHQDC15F00108_7001_GS00Q14OADS124_4732</td>\n",
       "      <td>2019-07-09</td>\n",
       "      <td>7001_4732_HSHQDC15F00108_P00025_GS00Q14OADS124_0</td>\n",
       "      <td>505000.00</td>\n",
       "      <td>46688938.83</td>\n",
       "      <td>505000.00</td>\n",
       "      <td>48905927.58</td>\n",
       "      <td>505000.00</td>\n",
       "      <td>4.890593e+07</td>\n",
       "    </tr>\n",
       "    <tr>\n",
       "      <td>CONT_AWD_HSTS0415JCT2530_7013_HSHQDC13DE2090_7001</td>\n",
       "      <td>2019-07-02</td>\n",
       "      <td>7013_7001_HSTS0415JCT2530_P80018_HSHQDC13DE2090_0</td>\n",
       "      <td>-507558.56</td>\n",
       "      <td>12328560.78</td>\n",
       "      <td>-507558.56</td>\n",
       "      <td>12328560.78</td>\n",
       "      <td>-507558.56</td>\n",
       "      <td>1.702557e+07</td>\n",
       "    </tr>\n",
       "    <tr>\n",
       "      <td>CONT_AWD_HSSCCG14F00581_7003_HSHQDC13A00039_7001</td>\n",
       "      <td>2019-01-08</td>\n",
       "      <td>7003_7001_HSSCCG14F00581_P00011_HSHQDC13A00039_0</td>\n",
       "      <td>-6170.50</td>\n",
       "      <td>5601815.63</td>\n",
       "      <td>-6170.50</td>\n",
       "      <td>5601815.63</td>\n",
       "      <td>-6170.50</td>\n",
       "      <td>1.116450e+07</td>\n",
       "    </tr>\n",
       "  </tbody>\n",
       "</table>\n",
       "<p>8715 rows × 7 columns</p>\n",
       "</div>"
      ],
      "text/plain": [
       "                                                                                 contract_transaction_unique_key  \\\n",
       "contract_award_unique_key                         action_date                                                      \n",
       "CONT_AWD_HSCEMS16F00057_7012_HSCEMS12A00018_7012  2018-10-19    7012_7012_HSCEMS16F00057_P00005_HSCEMS12A00018_0   \n",
       "CONT_IDV_HSCG3816DL00004_7008                     2018-10-20    7008_-NONE-_HSCG3816DL00004_P00009_-NONE-_-NONE-   \n",
       "CONT_IDV_HSCEDM17D00009_7012                      2018-10-02     7012_-NONE-_HSCEDM17D00009_P00008_-NONE-_-NONE-   \n",
       "CONT_IDV_HSCG3815D202051_7008                     2018-10-02    7008_-NONE-_HSCG3815D202051_P00005_-NONE-_-NONE-   \n",
       "CONT_IDV_HSCG4016D60308_7008                      2018-10-02     7008_-NONE-_HSCG4016D60308_P00007_-NONE-_-NONE-   \n",
       "...                                                                                                          ...   \n",
       "CONT_AWD_HSHQPD06P00002_7001_-NONE-_-NONE-        2018-10-01          7001_-NONE-_HSHQPD06P00002_P00009_-NONE-_0   \n",
       "CONT_AWD_HSHQDC10J00304_7001_HSHQDC06D00024_7001  2019-09-17    7001_7001_HSHQDC10J00304_P00008_HSHQDC06D00024_0   \n",
       "CONT_AWD_HSHQDC15F00108_7001_GS00Q14OADS124_4732  2019-07-09    7001_4732_HSHQDC15F00108_P00025_GS00Q14OADS124_0   \n",
       "CONT_AWD_HSTS0415JCT2530_7013_HSHQDC13DE2090_7001 2019-07-02   7013_7001_HSTS0415JCT2530_P80018_HSHQDC13DE2090_0   \n",
       "CONT_AWD_HSSCCG14F00581_7003_HSHQDC13A00039_7001  2019-01-08    7003_7001_HSSCCG14F00581_P00011_HSHQDC13A00039_0   \n",
       "\n",
       "                                                               federal_action_obligation  \\\n",
       "contract_award_unique_key                         action_date                              \n",
       "CONT_AWD_HSCEMS16F00057_7012_HSCEMS12A00018_7012  2018-10-19                    -7702.86   \n",
       "CONT_IDV_HSCG3816DL00004_7008                     2018-10-20                        0.00   \n",
       "CONT_IDV_HSCEDM17D00009_7012                      2018-10-02                        0.00   \n",
       "CONT_IDV_HSCG3815D202051_7008                     2018-10-02                        0.00   \n",
       "CONT_IDV_HSCG4016D60308_7008                      2018-10-02                        0.00   \n",
       "...                                                                                  ...   \n",
       "CONT_AWD_HSHQPD06P00002_7001_-NONE-_-NONE-        2018-10-01                        0.00   \n",
       "CONT_AWD_HSHQDC10J00304_7001_HSHQDC06D00024_7001  2019-09-17                  -448013.23   \n",
       "CONT_AWD_HSHQDC15F00108_7001_GS00Q14OADS124_4732  2019-07-09                   505000.00   \n",
       "CONT_AWD_HSTS0415JCT2530_7013_HSHQDC13DE2090_7001 2019-07-02                  -507558.56   \n",
       "CONT_AWD_HSSCCG14F00581_7003_HSHQDC13A00039_7001  2019-01-08                    -6170.50   \n",
       "\n",
       "                                                               total_dollars_obligated  \\\n",
       "contract_award_unique_key                         action_date                            \n",
       "CONT_AWD_HSCEMS16F00057_7012_HSCEMS12A00018_7012  2018-10-19                6003953.42   \n",
       "CONT_IDV_HSCG3816DL00004_7008                     2018-10-20                      0.00   \n",
       "CONT_IDV_HSCEDM17D00009_7012                      2018-10-02                      0.00   \n",
       "CONT_IDV_HSCG3815D202051_7008                     2018-10-02                      0.00   \n",
       "CONT_IDV_HSCG4016D60308_7008                      2018-10-02                      0.00   \n",
       "...                                                                                ...   \n",
       "CONT_AWD_HSHQPD06P00002_7001_-NONE-_-NONE-        2018-10-01                 147859.99   \n",
       "CONT_AWD_HSHQDC10J00304_7001_HSHQDC06D00024_7001  2019-09-17                4977501.44   \n",
       "CONT_AWD_HSHQDC15F00108_7001_GS00Q14OADS124_4732  2019-07-09               46688938.83   \n",
       "CONT_AWD_HSTS0415JCT2530_7013_HSHQDC13DE2090_7001 2019-07-02               12328560.78   \n",
       "CONT_AWD_HSSCCG14F00581_7003_HSHQDC13A00039_7001  2019-01-08                5601815.63   \n",
       "\n",
       "                                                               base_and_exercised_options_value  \\\n",
       "contract_award_unique_key                         action_date                                     \n",
       "CONT_AWD_HSCEMS16F00057_7012_HSCEMS12A00018_7012  2018-10-19                           -7702.86   \n",
       "CONT_IDV_HSCG3816DL00004_7008                     2018-10-20                               0.00   \n",
       "CONT_IDV_HSCEDM17D00009_7012                      2018-10-02                               0.00   \n",
       "CONT_IDV_HSCG3815D202051_7008                     2018-10-02                               0.00   \n",
       "CONT_IDV_HSCG4016D60308_7008                      2018-10-02                               0.00   \n",
       "...                                                                                         ...   \n",
       "CONT_AWD_HSHQPD06P00002_7001_-NONE-_-NONE-        2018-10-01                               0.00   \n",
       "CONT_AWD_HSHQDC10J00304_7001_HSHQDC06D00024_7001  2019-09-17                         -448013.23   \n",
       "CONT_AWD_HSHQDC15F00108_7001_GS00Q14OADS124_4732  2019-07-09                          505000.00   \n",
       "CONT_AWD_HSTS0415JCT2530_7013_HSHQDC13DE2090_7001 2019-07-02                         -507558.56   \n",
       "CONT_AWD_HSSCCG14F00581_7003_HSHQDC13A00039_7001  2019-01-08                           -6170.50   \n",
       "\n",
       "                                                               current_total_value_of_award  \\\n",
       "contract_award_unique_key                         action_date                                 \n",
       "CONT_AWD_HSCEMS16F00057_7012_HSCEMS12A00018_7012  2018-10-19                     6059478.42   \n",
       "CONT_IDV_HSCG3816DL00004_7008                     2018-10-20                           0.00   \n",
       "CONT_IDV_HSCEDM17D00009_7012                      2018-10-02                           0.00   \n",
       "CONT_IDV_HSCG3815D202051_7008                     2018-10-02                           0.00   \n",
       "CONT_IDV_HSCG4016D60308_7008                      2018-10-02                           0.00   \n",
       "...                                                                                     ...   \n",
       "CONT_AWD_HSHQPD06P00002_7001_-NONE-_-NONE-        2018-10-01                      147859.99   \n",
       "CONT_AWD_HSHQDC10J00304_7001_HSHQDC06D00024_7001  2019-09-17                     4977501.44   \n",
       "CONT_AWD_HSHQDC15F00108_7001_GS00Q14OADS124_4732  2019-07-09                    48905927.58   \n",
       "CONT_AWD_HSTS0415JCT2530_7013_HSHQDC13DE2090_7001 2019-07-02                    12328560.78   \n",
       "CONT_AWD_HSSCCG14F00581_7003_HSHQDC13A00039_7001  2019-01-08                     5601815.63   \n",
       "\n",
       "                                                               base_and_all_options_value  \\\n",
       "contract_award_unique_key                         action_date                               \n",
       "CONT_AWD_HSCEMS16F00057_7012_HSCEMS12A00018_7012  2018-10-19                   -148339.00   \n",
       "CONT_IDV_HSCG3816DL00004_7008                     2018-10-20                         0.00   \n",
       "CONT_IDV_HSCEDM17D00009_7012                      2018-10-02                         0.00   \n",
       "CONT_IDV_HSCG3815D202051_7008                     2018-10-02                         0.00   \n",
       "CONT_IDV_HSCG4016D60308_7008                      2018-10-02                         0.00   \n",
       "...                                                                                   ...   \n",
       "CONT_AWD_HSHQPD06P00002_7001_-NONE-_-NONE-        2018-10-01                         0.00   \n",
       "CONT_AWD_HSHQDC10J00304_7001_HSHQDC06D00024_7001  2019-09-17                   -448013.23   \n",
       "CONT_AWD_HSHQDC15F00108_7001_GS00Q14OADS124_4732  2019-07-09                    505000.00   \n",
       "CONT_AWD_HSTS0415JCT2530_7013_HSHQDC13DE2090_7001 2019-07-02                   -507558.56   \n",
       "CONT_AWD_HSSCCG14F00581_7003_HSHQDC13A00039_7001  2019-01-08                     -6170.50   \n",
       "\n",
       "                                                               potential_total_value_of_award  \n",
       "contract_award_unique_key                         action_date                                  \n",
       "CONT_AWD_HSCEMS16F00057_7012_HSCEMS12A00018_7012  2018-10-19                     6.067181e+06  \n",
       "CONT_IDV_HSCG3816DL00004_7008                     2018-10-20                     3.625838e+06  \n",
       "CONT_IDV_HSCEDM17D00009_7012                      2018-10-02                     4.573615e+08  \n",
       "CONT_IDV_HSCG3815D202051_7008                     2018-10-02                     4.074217e+05  \n",
       "CONT_IDV_HSCG4016D60308_7008                      2018-10-02                     1.818706e+07  \n",
       "...                                                                                       ...  \n",
       "CONT_AWD_HSHQPD06P00002_7001_-NONE-_-NONE-        2018-10-01                     1.478600e+05  \n",
       "CONT_AWD_HSHQDC10J00304_7001_HSHQDC06D00024_7001  2019-09-17                     7.005469e+06  \n",
       "CONT_AWD_HSHQDC15F00108_7001_GS00Q14OADS124_4732  2019-07-09                     4.890593e+07  \n",
       "CONT_AWD_HSTS0415JCT2530_7013_HSHQDC13DE2090_7001 2019-07-02                     1.702557e+07  \n",
       "CONT_AWD_HSSCCG14F00581_7003_HSHQDC13A00039_7001  2019-01-08                     1.116450e+07  \n",
       "\n",
       "[8715 rows x 7 columns]"
      ]
     },
     "execution_count": 65,
     "metadata": {},
     "output_type": "execute_result"
    }
   ],
   "source": [
    "highlighted_fy19"
   ]
  },
  {
   "cell_type": "code",
   "execution_count": 66,
   "metadata": {},
   "outputs": [],
   "source": [
    "highlighted_fy19.drop('base_and_exercised_options_value',axis = 1, inplace = True)"
   ]
  },
  {
   "cell_type": "code",
   "execution_count": 69,
   "metadata": {},
   "outputs": [],
   "source": [
    "df = highlighted_fy19"
   ]
  },
  {
   "cell_type": "code",
   "execution_count": null,
   "metadata": {},
   "outputs": [],
   "source": []
  },
  {
   "cell_type": "code",
   "execution_count": null,
   "metadata": {},
   "outputs": [],
   "source": []
  },
  {
   "cell_type": "code",
   "execution_count": 70,
   "metadata": {},
   "outputs": [
    {
     "name": "stderr",
     "output_type": "stream",
     "text": [
      "C:\\Users\\belincoln\\AppData\\Local\\Continuum\\anaconda3\\lib\\site-packages\\ipykernel_launcher.py:2: SettingWithCopyWarning: \n",
      "A value is trying to be set on a copy of a slice from a DataFrame.\n",
      "Try using .loc[row_indexer,col_indexer] = value instead\n",
      "\n",
      "See the caveats in the documentation: http://pandas.pydata.org/pandas-docs/stable/user_guide/indexing.html#returning-a-view-versus-a-copy\n",
      "  \n",
      "C:\\Users\\belincoln\\AppData\\Local\\Continuum\\anaconda3\\lib\\site-packages\\ipykernel_launcher.py:3: SettingWithCopyWarning: \n",
      "A value is trying to be set on a copy of a slice from a DataFrame.\n",
      "Try using .loc[row_indexer,col_indexer] = value instead\n",
      "\n",
      "See the caveats in the documentation: http://pandas.pydata.org/pandas-docs/stable/user_guide/indexing.html#returning-a-view-versus-a-copy\n",
      "  This is separate from the ipykernel package so we can avoid doing imports until\n",
      "C:\\Users\\belincoln\\AppData\\Local\\Continuum\\anaconda3\\lib\\site-packages\\ipykernel_launcher.py:4: SettingWithCopyWarning: \n",
      "A value is trying to be set on a copy of a slice from a DataFrame.\n",
      "Try using .loc[row_indexer,col_indexer] = value instead\n",
      "\n",
      "See the caveats in the documentation: http://pandas.pydata.org/pandas-docs/stable/user_guide/indexing.html#returning-a-view-versus-a-copy\n",
      "  after removing the cwd from sys.path.\n",
      "C:\\Users\\belincoln\\AppData\\Local\\Continuum\\anaconda3\\lib\\site-packages\\ipykernel_launcher.py:7: SettingWithCopyWarning: \n",
      "A value is trying to be set on a copy of a slice from a DataFrame.\n",
      "Try using .loc[row_indexer,col_indexer] = value instead\n",
      "\n",
      "See the caveats in the documentation: http://pandas.pydata.org/pandas-docs/stable/user_guide/indexing.html#returning-a-view-versus-a-copy\n",
      "  import sys\n"
     ]
    }
   ],
   "source": [
    "# Create 3 new features for analysis\n",
    "df['Percent awarded over potential total awarded'] = df['current_total_value_of_award'] / df['potential_total_value_of_award']\n",
    "df['Percent Cumulatively Obligated over potential total value of award'] = df['total_dollars_obligated'] / df['potential_total_value_of_award']\n",
    "df['Percent Cumulatively Obligated over total value already awarded'] = df['total_dollars_obligated'] / df['current_total_value_of_award']\n",
    "\n",
    "# Create Indicator Variable\n",
    "df['Indicator'] = df['federal_action_obligation']<-1000\n",
    "\n",
    "# set index to each transaction key\n",
    "df.set_index('contract_transaction_unique_key', inplace = True)"
   ]
  },
  {
   "cell_type": "code",
   "execution_count": 71,
   "metadata": {},
   "outputs": [],
   "source": [
    "df.drop('federal_action_obligation', axis =1, inplace = True)\n",
    "df = df.fillna(0)"
   ]
  },
  {
   "cell_type": "code",
   "execution_count": 72,
   "metadata": {},
   "outputs": [
    {
     "name": "stdout",
     "output_type": "stream",
     "text": [
      "Total number of De-Obligations: 1249\n",
      "Percentage of De-Obligations: 0.14331612162937465\n"
     ]
    }
   ],
   "source": [
    "# This is the percentage of De-Obligations in the sample (before test/train split)\n",
    "print('Total number of De-Obligations: ' +str(df['Indicator'].sum()))\n",
    "print('Percentage of De-Obligations: '+str(df['Indicator'].sum()/len(df)))"
   ]
  },
  {
   "cell_type": "code",
   "execution_count": 73,
   "metadata": {},
   "outputs": [],
   "source": [
    "# Create matrix of feature variables and our dependent variable\n",
    "X, y =  df.iloc[:,1:-1], df.loc[:,'Indicator']\n",
    "\n",
    "# convert y to np.array of 0s and 1s\n",
    "y = np.array(y.astype(int))"
   ]
  },
  {
   "cell_type": "code",
   "execution_count": 74,
   "metadata": {},
   "outputs": [],
   "source": [
    "#train the data \n",
    "X_train, X_test, y_train, y_test = train_test_split(X, y, test_size=0.2)\n"
   ]
  },
  {
   "cell_type": "code",
   "execution_count": 75,
   "metadata": {},
   "outputs": [
    {
     "data": {
      "text/plain": [
       "(1743, 6)"
      ]
     },
     "execution_count": 75,
     "metadata": {},
     "output_type": "execute_result"
    }
   ],
   "source": [
    "X_test.shape"
   ]
  },
  {
   "cell_type": "code",
   "execution_count": 76,
   "metadata": {},
   "outputs": [],
   "source": [
    "# Setup the data matrix appropriately, and add ones for the intercept term\n",
    "m_train, n_train = X_train.shape\n",
    "m_test, n_test = X_test.shape\n",
    "# Add intercept term to X\n",
    "X_train = np.concatenate([np.ones((m_train, 1)), X_train], axis=1)\n",
    "X_test = np.concatenate([np.ones((m_test, 1)), X_test], axis=1)\n",
    "\n"
   ]
  },
  {
   "cell_type": "code",
   "execution_count": 77,
   "metadata": {},
   "outputs": [
    {
     "name": "stderr",
     "output_type": "stream",
     "text": [
      "C:\\Users\\belincoln\\AppData\\Local\\Continuum\\anaconda3\\lib\\site-packages\\sklearn\\linear_model\\logistic.py:432: FutureWarning: Default solver will be changed to 'lbfgs' in 0.22. Specify a solver to silence this warning.\n",
      "  FutureWarning)\n"
     ]
    },
    {
     "ename": "ValueError",
     "evalue": "Input contains NaN, infinity or a value too large for dtype('float64').",
     "output_type": "error",
     "traceback": [
      "\u001b[1;31m---------------------------------------------------------------------------\u001b[0m",
      "\u001b[1;31mValueError\u001b[0m                                Traceback (most recent call last)",
      "\u001b[1;32m<ipython-input-77-dcfca5d3794c>\u001b[0m in \u001b[0;36m<module>\u001b[1;34m\u001b[0m\n\u001b[1;32m----> 1\u001b[1;33m \u001b[0mlog_model\u001b[0m \u001b[1;33m=\u001b[0m \u001b[0mLogisticRegression\u001b[0m\u001b[1;33m(\u001b[0m\u001b[1;33m)\u001b[0m\u001b[1;33m.\u001b[0m\u001b[0mfit\u001b[0m\u001b[1;33m(\u001b[0m\u001b[0mX_train\u001b[0m\u001b[1;33m,\u001b[0m \u001b[0my_train\u001b[0m\u001b[1;33m)\u001b[0m\u001b[1;33m\u001b[0m\u001b[1;33m\u001b[0m\u001b[0m\n\u001b[0m",
      "\u001b[1;32m~\\AppData\\Local\\Continuum\\anaconda3\\lib\\site-packages\\sklearn\\linear_model\\logistic.py\u001b[0m in \u001b[0;36mfit\u001b[1;34m(self, X, y, sample_weight)\u001b[0m\n\u001b[0;32m   1530\u001b[0m \u001b[1;33m\u001b[0m\u001b[0m\n\u001b[0;32m   1531\u001b[0m         X, y = check_X_y(X, y, accept_sparse='csr', dtype=_dtype, order=\"C\",\n\u001b[1;32m-> 1532\u001b[1;33m                          accept_large_sparse=solver != 'liblinear')\n\u001b[0m\u001b[0;32m   1533\u001b[0m         \u001b[0mcheck_classification_targets\u001b[0m\u001b[1;33m(\u001b[0m\u001b[0my\u001b[0m\u001b[1;33m)\u001b[0m\u001b[1;33m\u001b[0m\u001b[1;33m\u001b[0m\u001b[0m\n\u001b[0;32m   1534\u001b[0m         \u001b[0mself\u001b[0m\u001b[1;33m.\u001b[0m\u001b[0mclasses_\u001b[0m \u001b[1;33m=\u001b[0m \u001b[0mnp\u001b[0m\u001b[1;33m.\u001b[0m\u001b[0munique\u001b[0m\u001b[1;33m(\u001b[0m\u001b[0my\u001b[0m\u001b[1;33m)\u001b[0m\u001b[1;33m\u001b[0m\u001b[1;33m\u001b[0m\u001b[0m\n",
      "\u001b[1;32m~\\AppData\\Local\\Continuum\\anaconda3\\lib\\site-packages\\sklearn\\utils\\validation.py\u001b[0m in \u001b[0;36mcheck_X_y\u001b[1;34m(X, y, accept_sparse, accept_large_sparse, dtype, order, copy, force_all_finite, ensure_2d, allow_nd, multi_output, ensure_min_samples, ensure_min_features, y_numeric, warn_on_dtype, estimator)\u001b[0m\n\u001b[0;32m    717\u001b[0m                     \u001b[0mensure_min_features\u001b[0m\u001b[1;33m=\u001b[0m\u001b[0mensure_min_features\u001b[0m\u001b[1;33m,\u001b[0m\u001b[1;33m\u001b[0m\u001b[1;33m\u001b[0m\u001b[0m\n\u001b[0;32m    718\u001b[0m                     \u001b[0mwarn_on_dtype\u001b[0m\u001b[1;33m=\u001b[0m\u001b[0mwarn_on_dtype\u001b[0m\u001b[1;33m,\u001b[0m\u001b[1;33m\u001b[0m\u001b[1;33m\u001b[0m\u001b[0m\n\u001b[1;32m--> 719\u001b[1;33m                     estimator=estimator)\n\u001b[0m\u001b[0;32m    720\u001b[0m     \u001b[1;32mif\u001b[0m \u001b[0mmulti_output\u001b[0m\u001b[1;33m:\u001b[0m\u001b[1;33m\u001b[0m\u001b[1;33m\u001b[0m\u001b[0m\n\u001b[0;32m    721\u001b[0m         y = check_array(y, 'csr', force_all_finite=True, ensure_2d=False,\n",
      "\u001b[1;32m~\\AppData\\Local\\Continuum\\anaconda3\\lib\\site-packages\\sklearn\\utils\\validation.py\u001b[0m in \u001b[0;36mcheck_array\u001b[1;34m(array, accept_sparse, accept_large_sparse, dtype, order, copy, force_all_finite, ensure_2d, allow_nd, ensure_min_samples, ensure_min_features, warn_on_dtype, estimator)\u001b[0m\n\u001b[0;32m    540\u001b[0m         \u001b[1;32mif\u001b[0m \u001b[0mforce_all_finite\u001b[0m\u001b[1;33m:\u001b[0m\u001b[1;33m\u001b[0m\u001b[1;33m\u001b[0m\u001b[0m\n\u001b[0;32m    541\u001b[0m             _assert_all_finite(array,\n\u001b[1;32m--> 542\u001b[1;33m                                allow_nan=force_all_finite == 'allow-nan')\n\u001b[0m\u001b[0;32m    543\u001b[0m \u001b[1;33m\u001b[0m\u001b[0m\n\u001b[0;32m    544\u001b[0m     \u001b[1;32mif\u001b[0m \u001b[0mensure_min_samples\u001b[0m \u001b[1;33m>\u001b[0m \u001b[1;36m0\u001b[0m\u001b[1;33m:\u001b[0m\u001b[1;33m\u001b[0m\u001b[1;33m\u001b[0m\u001b[0m\n",
      "\u001b[1;32m~\\AppData\\Local\\Continuum\\anaconda3\\lib\\site-packages\\sklearn\\utils\\validation.py\u001b[0m in \u001b[0;36m_assert_all_finite\u001b[1;34m(X, allow_nan)\u001b[0m\n\u001b[0;32m     54\u001b[0m                 not allow_nan and not np.isfinite(X).all()):\n\u001b[0;32m     55\u001b[0m             \u001b[0mtype_err\u001b[0m \u001b[1;33m=\u001b[0m \u001b[1;34m'infinity'\u001b[0m \u001b[1;32mif\u001b[0m \u001b[0mallow_nan\u001b[0m \u001b[1;32melse\u001b[0m \u001b[1;34m'NaN, infinity'\u001b[0m\u001b[1;33m\u001b[0m\u001b[1;33m\u001b[0m\u001b[0m\n\u001b[1;32m---> 56\u001b[1;33m             \u001b[1;32mraise\u001b[0m \u001b[0mValueError\u001b[0m\u001b[1;33m(\u001b[0m\u001b[0mmsg_err\u001b[0m\u001b[1;33m.\u001b[0m\u001b[0mformat\u001b[0m\u001b[1;33m(\u001b[0m\u001b[0mtype_err\u001b[0m\u001b[1;33m,\u001b[0m \u001b[0mX\u001b[0m\u001b[1;33m.\u001b[0m\u001b[0mdtype\u001b[0m\u001b[1;33m)\u001b[0m\u001b[1;33m)\u001b[0m\u001b[1;33m\u001b[0m\u001b[1;33m\u001b[0m\u001b[0m\n\u001b[0m\u001b[0;32m     57\u001b[0m     \u001b[1;31m# for object dtype data, we only check for NaNs (GH-13254)\u001b[0m\u001b[1;33m\u001b[0m\u001b[1;33m\u001b[0m\u001b[1;33m\u001b[0m\u001b[0m\n\u001b[0;32m     58\u001b[0m     \u001b[1;32melif\u001b[0m \u001b[0mX\u001b[0m\u001b[1;33m.\u001b[0m\u001b[0mdtype\u001b[0m \u001b[1;33m==\u001b[0m \u001b[0mnp\u001b[0m\u001b[1;33m.\u001b[0m\u001b[0mdtype\u001b[0m\u001b[1;33m(\u001b[0m\u001b[1;34m'object'\u001b[0m\u001b[1;33m)\u001b[0m \u001b[1;32mand\u001b[0m \u001b[1;32mnot\u001b[0m \u001b[0mallow_nan\u001b[0m\u001b[1;33m:\u001b[0m\u001b[1;33m\u001b[0m\u001b[1;33m\u001b[0m\u001b[0m\n",
      "\u001b[1;31mValueError\u001b[0m: Input contains NaN, infinity or a value too large for dtype('float64')."
     ]
    }
   ],
   "source": [
    "log_model = LogisticRegression().fit(X_train, y_train)"
   ]
  },
  {
   "cell_type": "code",
   "execution_count": null,
   "metadata": {},
   "outputs": [],
   "source": [
    "# Coefficents to multiply features by\n",
    "log_model.coef_"
   ]
  },
  {
   "cell_type": "code",
   "execution_count": null,
   "metadata": {},
   "outputs": [],
   "source": [
    "theta = log_model.coef_[0]"
   ]
  },
  {
   "cell_type": "code",
   "execution_count": null,
   "metadata": {},
   "outputs": [],
   "source": [
    "print(theta[0])"
   ]
  },
  {
   "cell_type": "code",
   "execution_count": null,
   "metadata": {},
   "outputs": [],
   "source": [
    "def sigmoid(z):\n",
    "    \"\"\"\n",
    "    Compute sigmoid function given the input z.\n",
    "    \n",
    "    Parameters\n",
    "    ----------\n",
    "    z : array_like\n",
    "        The input to the sigmoid function. This can be a 1-D vector \n",
    "        or a 2-D matrix. \n",
    "    \n",
    "    Returns\n",
    "    -------\n",
    "    g : array_like\n",
    "        The computed sigmoid function. g has the same shape as z, since\n",
    "        the sigmoid is computed element-wise on z.\n",
    "        \n",
    "    Instructions\n",
    "    ------------\n",
    "    Compute the sigmoid of each value of z (z can be a matrix, vector or scalar).\n",
    "    \"\"\"\n",
    "    # convert input to a numpy array\n",
    "    z = np.array(z)\n",
    "    \n",
    "    # You need to return the following variables correctly \n",
    "    g = np.zeros(z.shape)\n",
    "\n",
    "    temp = 1 + np.power(np.e,-z)\n",
    "    g = 1 / temp\n",
    "    \n",
    "\n",
    "    return g"
   ]
  },
  {
   "cell_type": "code",
   "execution_count": null,
   "metadata": {},
   "outputs": [],
   "source": [
    "pred = sigmoid(np.dot(X_test,theta))"
   ]
  },
  {
   "cell_type": "code",
   "execution_count": null,
   "metadata": {},
   "outputs": [],
   "source": [
    "fig = pyplot.figure\n",
    "pyplot.scatter(np.arange(len(pred)), pred)"
   ]
  },
  {
   "cell_type": "code",
   "execution_count": null,
   "metadata": {},
   "outputs": [],
   "source": []
  },
  {
   "cell_type": "code",
   "execution_count": null,
   "metadata": {},
   "outputs": [],
   "source": [
    "# Now we will test our model using the test_set\n",
    "pred = sigmoid(np.dot(X_test,theta))"
   ]
  },
  {
   "cell_type": "code",
   "execution_count": null,
   "metadata": {},
   "outputs": [],
   "source": [
    "# Convert probabilty of de-obligation into prediction\n",
    "pred = pred > .5\n",
    "# Convert to int\n",
    "pred = np.array(pred.astype(int))"
   ]
  },
  {
   "cell_type": "code",
   "execution_count": null,
   "metadata": {},
   "outputs": [],
   "source": [
    "test = pred == y_test"
   ]
  },
  {
   "cell_type": "code",
   "execution_count": null,
   "metadata": {},
   "outputs": [],
   "source": [
    "test.sum()/len(test)"
   ]
  },
  {
   "cell_type": "code",
   "execution_count": null,
   "metadata": {},
   "outputs": [],
   "source": [
    "# Really what we are looking for here \n",
    "# is how many times a de-obligation occured and we were able to predict it?"
   ]
  },
  {
   "cell_type": "code",
   "execution_count": null,
   "metadata": {},
   "outputs": [],
   "source": [
    "# Also percentage of false positives: how many times did we predict a de-obligation and \n",
    "# it did not occur?"
   ]
  },
  {
   "cell_type": "code",
   "execution_count": null,
   "metadata": {},
   "outputs": [],
   "source": [
    "data = {'predicted value' : pred, 'test value': y_test}\n",
    "testdf = pd.DataFrame(data)"
   ]
  },
  {
   "cell_type": "code",
   "execution_count": null,
   "metadata": {},
   "outputs": [],
   "source": [
    "%%HTML\n",
    "<style type=\"text/css\">\n",
    "table.dataframe td, table.dataframe th {\n",
    "    border: 1px  black solid !important;\n",
    "  color: black !important;\n",
    "}\n",
    "</style>"
   ]
  },
  {
   "cell_type": "code",
   "execution_count": null,
   "metadata": {},
   "outputs": [],
   "source": [
    "\n",
    "\n",
    "cm = np.array(confusion_matrix(pred, y_test, labels = [1,0]))\n",
    "confusion = pd.DataFrame(cm, index=[['Predicted', 'Predicted'], ['Large De-Obligation','Obligation']],\n",
    "                         columns = [['Test Results', 'Test Results'],['Large De-Obligation','Obligation']])\n",
    "confusion\n"
   ]
  },
  {
   "cell_type": "code",
   "execution_count": null,
   "metadata": {},
   "outputs": [],
   "source": [
    "confusion.iloc[0].sum()+confusion.iloc[1].sum()"
   ]
  },
  {
   "cell_type": "code",
   "execution_count": null,
   "metadata": {},
   "outputs": [],
   "source": [
    "correct_preds = testdf[testdf['test value'] == 1]\n",
    "correct_preds2 = correct_preds[correct_preds['predicted value'] ==1]\n",
    "print('Size of Test set: ' + str(len(testdf)))\n",
    "print('Size of Train set: ' + str(len(X_train)))\n",
    "print('Percentage of correct predictions (Accuracey): ' + str((confusion.iloc[0,0] + confusion.iloc[1,1])/len(testdf)))\n",
    "print('Percentage of significant de-obligations: ' + str(len(correct_preds)/len(testdf)))\n",
    "print('Percentage of de-obligations correctly predicted: ' + str(len(correct_preds2)/len(correct_preds)))"
   ]
  },
  {
   "cell_type": "code",
   "execution_count": null,
   "metadata": {},
   "outputs": [],
   "source": [
    "# Rate of False Negatives: A de-obligation occurs, but the model did not predict it. \n",
    "false_neg = testdf[testdf['predicted value'] == 0]\n",
    "false_neg2 = false_neg[false_neg['test value'] == 1]\n",
    "print('Number of False Negatives : ' + str(len(false_neg2)))\n",
    "print('Rate of False Negative: ' + str(len(false_neg2)/len(testdf)))"
   ]
  },
  {
   "cell_type": "code",
   "execution_count": null,
   "metadata": {},
   "outputs": [],
   "source": [
    "# Show the rate of False Positives: Times the model predicted a de-obligation, yet there wasn't one\n",
    "\n",
    "false_pos = testdf[testdf['predicted value'] == 1]\n",
    "false_pos2 = false_pos[false_pos['test value'] == 0]\n",
    "\n",
    "print('Number of False Positives: ' + str(len(false_pos2)))\n",
    "print('Rate of False Positives: ' + str(len(false_pos2)/len(testdf)))"
   ]
  },
  {
   "cell_type": "code",
   "execution_count": null,
   "metadata": {},
   "outputs": [],
   "source": []
  }
 ],
 "metadata": {
  "kernelspec": {
   "display_name": "Python 3",
   "language": "python",
   "name": "python3"
  },
  "language_info": {
   "codemirror_mode": {
    "name": "ipython",
    "version": 3
   },
   "file_extension": ".py",
   "mimetype": "text/x-python",
   "name": "python",
   "nbconvert_exporter": "python",
   "pygments_lexer": "ipython3",
   "version": "3.7.4"
  }
 },
 "nbformat": 4,
 "nbformat_minor": 2
}
