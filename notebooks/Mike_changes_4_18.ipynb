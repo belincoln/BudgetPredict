{
 "cells": [
  {
   "cell_type": "code",
   "execution_count": 2,
   "metadata": {},
   "outputs": [],
   "source": [
    "import os\n",
    "import requests\n",
    "import numpy as np\n",
    "import pandas as pd\n",
    "from matplotlib import pyplot\n",
    "from sklearn.model_selection import train_test_split\n",
    "from scipy import optimize\n",
    "from sklearn.linear_model import LogisticRegression\n",
    "from sklearn.metrics import confusion_matrix\n",
    "import glob\n",
    "import json"
   ]
  },
  {
   "cell_type": "code",
   "execution_count": null,
   "metadata": {},
   "outputs": [],
   "source": []
  },
  {
   "cell_type": "code",
   "execution_count": 3,
   "metadata": {},
   "outputs": [
    {
     "data": {
      "text/html": [
       "<div>\n",
       "<style scoped>\n",
       "    .dataframe tbody tr th:only-of-type {\n",
       "        vertical-align: middle;\n",
       "    }\n",
       "\n",
       "    .dataframe tbody tr th {\n",
       "        vertical-align: top;\n",
       "    }\n",
       "\n",
       "    .dataframe thead th {\n",
       "        text-align: right;\n",
       "    }\n",
       "</style>\n",
       "<table border=\"1\" class=\"dataframe\">\n",
       "  <thead>\n",
       "    <tr style=\"text-align: right;\">\n",
       "      <th></th>\n",
       "      <th>major_object_class_code</th>\n",
       "      <th>major_object_class_name</th>\n",
       "      <th>obligated_amount</th>\n",
       "    </tr>\n",
       "  </thead>\n",
       "  <tbody>\n",
       "    <tr>\n",
       "      <td>0</td>\n",
       "      <td>00</td>\n",
       "      <td>Unknown Object Type</td>\n",
       "      <td>0.00</td>\n",
       "    </tr>\n",
       "    <tr>\n",
       "      <td>1</td>\n",
       "      <td>10</td>\n",
       "      <td>Personnel compensation and benefits</td>\n",
       "      <td>31126608505.51</td>\n",
       "    </tr>\n",
       "    <tr>\n",
       "      <td>2</td>\n",
       "      <td>20</td>\n",
       "      <td>Contractual services and supplies</td>\n",
       "      <td>29432960835.15</td>\n",
       "    </tr>\n",
       "    <tr>\n",
       "      <td>3</td>\n",
       "      <td>30</td>\n",
       "      <td>Acquisition of assets</td>\n",
       "      <td>4188989649.05</td>\n",
       "    </tr>\n",
       "    <tr>\n",
       "      <td>4</td>\n",
       "      <td>40</td>\n",
       "      <td>Grants and fixed charges</td>\n",
       "      <td>17416808670.08</td>\n",
       "    </tr>\n",
       "  </tbody>\n",
       "</table>\n",
       "</div>"
      ],
      "text/plain": [
       "  major_object_class_code              major_object_class_name  \\\n",
       "0                      00                  Unknown Object Type   \n",
       "1                      10  Personnel compensation and benefits   \n",
       "2                      20    Contractual services and supplies   \n",
       "3                      30                Acquisition of assets   \n",
       "4                      40             Grants and fixed charges   \n",
       "\n",
       "  obligated_amount  \n",
       "0             0.00  \n",
       "1   31126608505.51  \n",
       "2   29432960835.15  \n",
       "3    4188989649.05  \n",
       "4   17416808670.08  "
      ]
     },
     "execution_count": 3,
     "metadata": {},
     "output_type": "execute_result"
    }
   ],
   "source": [
    "#expirimenting with USA Spending API calls\n",
    "payload = {'fiscal_year':'2017', 'funding_agency_id':'766'}\n",
    "\n",
    "\n",
    "url = 'https://api.usaspending.gov/api/v2/federal_obligations/'\n",
    "response = requests.get(url, params = payload)\n",
    "data = response.content #byte object\n",
    "data_str = data.decode('UTF-8')\n",
    "obligations_dict = json.loads(data_str)\n",
    "obligations_df = pd.DataFrame(obligations_dict['results'])\n",
    "\n",
    "\n",
    "url2 = 'https://api.usaspending.gov/api/v2/financial_spending/major_object_class/'\n",
    "response2 = requests.get(url2, params = payload)\n",
    "data2 = response2.content #byte object\n",
    "data2_str = data2.decode('UTF-8')\n",
    "obligations_dict2 = json.loads(data2_str)\n",
    "obligations_df2 = pd.DataFrame(obligations_dict2['results'])\n",
    "\n",
    "\n",
    "\n",
    "\n",
    "# response3 = requests.get('https://api/v2/financial_spending/object_class/?fiscal_year=2017&funding_agency_id=4324&major_object_class_code=20')\n",
    "# print(type(response.content))\n",
    "# print(response.content)\n",
    "# print('*****************************')\n",
    "# print(response2.content)\n",
    "# print(obligations_dict.keys())\n",
    "\n",
    "obligations_df2.head()"
   ]
  },
  {
   "cell_type": "code",
   "execution_count": null,
   "metadata": {},
   "outputs": [],
   "source": []
  },
  {
   "cell_type": "code",
   "execution_count": 4,
   "metadata": {},
   "outputs": [],
   "source": [
    "# read all csv files within the test_data folder. This should be 2008-2018 (11 years), of DHS contract award data\n",
    "all_files = glob.glob(\"../data/*.csv\")\n",
    "\n",
    "li = []\n",
    "\n",
    "for filename in all_files:\n",
    "    df = pd.read_csv(filename, header = 0, usecols = ['contract_transaction_unique_key',\n",
    "                        'contract_award_unique_key',\n",
    "                        'federal_action_obligation','total_dollars_obligated', 'base_and_exercised_options_value', \n",
    "                        'current_total_value_of_award', 'base_and_all_options_value','potential_total_value_of_award',\n",
    "                        'action_date'],\n",
    "                 dtype = {'contract_transaction_unique_key':'str','contract_transaction_unique_key':'str',\n",
    "                          'federal_action_obligation': 'float','total_dollars_obligated': 'float', \n",
    "                          'base_and_exercised_options_value': 'float', 'current_total_value_of_award': 'float', \n",
    "                          'base_and_all_options_value': 'float','potential_total_value_of_award': 'float',\n",
    "                          'action_date':'str'})\n",
    "    li.append(df)\n",
    "\n",
    "df = pd.concat(li, axis=0, ignore_index=True)\n"
   ]
  },
  {
   "cell_type": "code",
   "execution_count": 5,
   "metadata": {},
   "outputs": [
    {
     "data": {
      "text/html": [
       "<div>\n",
       "<style scoped>\n",
       "    .dataframe tbody tr th:only-of-type {\n",
       "        vertical-align: middle;\n",
       "    }\n",
       "\n",
       "    .dataframe tbody tr th {\n",
       "        vertical-align: top;\n",
       "    }\n",
       "\n",
       "    .dataframe thead th {\n",
       "        text-align: right;\n",
       "    }\n",
       "</style>\n",
       "<table border=\"1\" class=\"dataframe\">\n",
       "  <thead>\n",
       "    <tr style=\"text-align: right;\">\n",
       "      <th></th>\n",
       "      <th>contract_transaction_unique_key</th>\n",
       "      <th>contract_award_unique_key</th>\n",
       "      <th>federal_action_obligation</th>\n",
       "      <th>total_dollars_obligated</th>\n",
       "      <th>base_and_exercised_options_value</th>\n",
       "      <th>current_total_value_of_award</th>\n",
       "      <th>base_and_all_options_value</th>\n",
       "      <th>potential_total_value_of_award</th>\n",
       "      <th>action_date</th>\n",
       "    </tr>\n",
       "  </thead>\n",
       "  <tbody>\n",
       "    <tr>\n",
       "      <td>0</td>\n",
       "      <td>7014_-NONE-_HSBP1010P00497_P00003_-NONE-_0</td>\n",
       "      <td>CONT_AWD_HSBP1010P00497_7014_-NONE-_-NONE-</td>\n",
       "      <td>0.00</td>\n",
       "      <td>NaN</td>\n",
       "      <td>0.00</td>\n",
       "      <td>NaN</td>\n",
       "      <td>0.00</td>\n",
       "      <td>NaN</td>\n",
       "      <td>2010-09-30</td>\n",
       "    </tr>\n",
       "    <tr>\n",
       "      <td>1</td>\n",
       "      <td>7013_8000_HSTS0310JCIO071_0_NNG07DA46B_0</td>\n",
       "      <td>CONT_AWD_HSTS0310JCIO071_7013_NNG07DA46B_8000</td>\n",
       "      <td>3885103.94</td>\n",
       "      <td>NaN</td>\n",
       "      <td>3885103.94</td>\n",
       "      <td>NaN</td>\n",
       "      <td>10223807.69</td>\n",
       "      <td>NaN</td>\n",
       "      <td>2010-09-30</td>\n",
       "    </tr>\n",
       "    <tr>\n",
       "      <td>2</td>\n",
       "      <td>7022_7022_HSFEHQ04J0056_P00003_HSFEHQ04D0126_0</td>\n",
       "      <td>CONT_AWD_HSFEHQ04J0056_7022_HSFEHQ04D0126_7022</td>\n",
       "      <td>-76943.80</td>\n",
       "      <td>NaN</td>\n",
       "      <td>-76943.80</td>\n",
       "      <td>NaN</td>\n",
       "      <td>-76943.80</td>\n",
       "      <td>NaN</td>\n",
       "      <td>2010-09-30</td>\n",
       "    </tr>\n",
       "    <tr>\n",
       "      <td>3</td>\n",
       "      <td>7022_4730_HSFEMW09F0066_P00002_GS35F0667K_0</td>\n",
       "      <td>CONT_AWD_HSFEMW09F0066_7022_GS35F0667K_4730</td>\n",
       "      <td>0.00</td>\n",
       "      <td>NaN</td>\n",
       "      <td>0.00</td>\n",
       "      <td>NaN</td>\n",
       "      <td>0.00</td>\n",
       "      <td>NaN</td>\n",
       "      <td>2010-09-30</td>\n",
       "    </tr>\n",
       "    <tr>\n",
       "      <td>4</td>\n",
       "      <td>7014_7014_HSBP1010J00870_0_HSBP1010D00023_0</td>\n",
       "      <td>CONT_AWD_HSBP1010J00870_7014_HSBP1010D00023_7014</td>\n",
       "      <td>99990.00</td>\n",
       "      <td>NaN</td>\n",
       "      <td>99990.00</td>\n",
       "      <td>NaN</td>\n",
       "      <td>99990.00</td>\n",
       "      <td>NaN</td>\n",
       "      <td>2010-09-30</td>\n",
       "    </tr>\n",
       "  </tbody>\n",
       "</table>\n",
       "</div>"
      ],
      "text/plain": [
       "                  contract_transaction_unique_key  \\\n",
       "0      7014_-NONE-_HSBP1010P00497_P00003_-NONE-_0   \n",
       "1        7013_8000_HSTS0310JCIO071_0_NNG07DA46B_0   \n",
       "2  7022_7022_HSFEHQ04J0056_P00003_HSFEHQ04D0126_0   \n",
       "3     7022_4730_HSFEMW09F0066_P00002_GS35F0667K_0   \n",
       "4     7014_7014_HSBP1010J00870_0_HSBP1010D00023_0   \n",
       "\n",
       "                          contract_award_unique_key  \\\n",
       "0        CONT_AWD_HSBP1010P00497_7014_-NONE-_-NONE-   \n",
       "1     CONT_AWD_HSTS0310JCIO071_7013_NNG07DA46B_8000   \n",
       "2    CONT_AWD_HSFEHQ04J0056_7022_HSFEHQ04D0126_7022   \n",
       "3       CONT_AWD_HSFEMW09F0066_7022_GS35F0667K_4730   \n",
       "4  CONT_AWD_HSBP1010J00870_7014_HSBP1010D00023_7014   \n",
       "\n",
       "   federal_action_obligation  total_dollars_obligated  \\\n",
       "0                       0.00                      NaN   \n",
       "1                 3885103.94                      NaN   \n",
       "2                  -76943.80                      NaN   \n",
       "3                       0.00                      NaN   \n",
       "4                   99990.00                      NaN   \n",
       "\n",
       "   base_and_exercised_options_value  current_total_value_of_award  \\\n",
       "0                              0.00                           NaN   \n",
       "1                        3885103.94                           NaN   \n",
       "2                         -76943.80                           NaN   \n",
       "3                              0.00                           NaN   \n",
       "4                          99990.00                           NaN   \n",
       "\n",
       "   base_and_all_options_value  potential_total_value_of_award action_date  \n",
       "0                        0.00                             NaN  2010-09-30  \n",
       "1                 10223807.69                             NaN  2010-09-30  \n",
       "2                   -76943.80                             NaN  2010-09-30  \n",
       "3                        0.00                             NaN  2010-09-30  \n",
       "4                    99990.00                             NaN  2010-09-30  "
      ]
     },
     "execution_count": 5,
     "metadata": {},
     "output_type": "execute_result"
    }
   ],
   "source": [
    "df.head()"
   ]
  },
  {
   "cell_type": "code",
   "execution_count": 6,
   "metadata": {},
   "outputs": [],
   "source": [
    "# This is what we are using for our rate of Execution\n",
    "df['Percent Cumulatively Obligated over potential total value of award'] = df['total_dollars_obligated'] / df['potential_total_value_of_award']\n",
    "\n",
    "# Create Indicator Variable\n",
    "df['Indicator'] = df['federal_action_obligation']<-1000"
   ]
  },
  {
   "cell_type": "markdown",
   "metadata": {},
   "source": [
    "##Separate contracts that have a deobligation"
   ]
  },
  {
   "cell_type": "code",
   "execution_count": 7,
   "metadata": {},
   "outputs": [],
   "source": [
    "#Separate contracts that have a deobligation\n",
    "df_deob = df.copy().loc[df['Indicator'] == 1]"
   ]
  },
  {
   "cell_type": "code",
   "execution_count": 8,
   "metadata": {},
   "outputs": [],
   "source": [
    "#Get first deobligation date of contracts\n",
    "\n",
    "df_first_deob = df_deob.copy()\n",
    "df_first_deob = df_first_deob[['contract_award_unique_key', 'action_date']]\n",
    "df_first_deob = df_first_deob.groupby(['contract_award_unique_key'], as_index = False).min()\n",
    "df_first_deob.rename(columns = {'action_date':'first_deob_date'}, inplace = True)\n",
    "df_first_deob['first_deob_date'] = pd.to_datetime(df_first_deob['first_deob_date'])\n"
   ]
  },
  {
   "cell_type": "code",
   "execution_count": 9,
   "metadata": {},
   "outputs": [
    {
     "data": {
      "text/html": [
       "<div>\n",
       "<style scoped>\n",
       "    .dataframe tbody tr th:only-of-type {\n",
       "        vertical-align: middle;\n",
       "    }\n",
       "\n",
       "    .dataframe tbody tr th {\n",
       "        vertical-align: top;\n",
       "    }\n",
       "\n",
       "    .dataframe thead th {\n",
       "        text-align: right;\n",
       "    }\n",
       "</style>\n",
       "<table border=\"1\" class=\"dataframe\">\n",
       "  <thead>\n",
       "    <tr style=\"text-align: right;\">\n",
       "      <th></th>\n",
       "      <th>contract_transaction_unique_key</th>\n",
       "      <th>contract_award_unique_key</th>\n",
       "      <th>federal_action_obligation</th>\n",
       "      <th>total_dollars_obligated</th>\n",
       "      <th>base_and_exercised_options_value</th>\n",
       "      <th>current_total_value_of_award</th>\n",
       "      <th>base_and_all_options_value</th>\n",
       "      <th>potential_total_value_of_award</th>\n",
       "      <th>action_date</th>\n",
       "      <th>Percent Cumulatively Obligated over potential total value of award</th>\n",
       "      <th>Transaction_Deob</th>\n",
       "      <th>Contract_deob</th>\n",
       "    </tr>\n",
       "  </thead>\n",
       "  <tbody>\n",
       "    <tr>\n",
       "      <td>0</td>\n",
       "      <td>7014_-NONE-_HSBP1010P00497_P00003_-NONE-_0</td>\n",
       "      <td>CONT_AWD_HSBP1010P00497_7014_-NONE-_-NONE-</td>\n",
       "      <td>0.00</td>\n",
       "      <td>NaN</td>\n",
       "      <td>0.00</td>\n",
       "      <td>NaN</td>\n",
       "      <td>0.00</td>\n",
       "      <td>NaN</td>\n",
       "      <td>2010-09-30</td>\n",
       "      <td>NaN</td>\n",
       "      <td>False</td>\n",
       "      <td>False</td>\n",
       "    </tr>\n",
       "    <tr>\n",
       "      <td>1</td>\n",
       "      <td>7013_8000_HSTS0310JCIO071_0_NNG07DA46B_0</td>\n",
       "      <td>CONT_AWD_HSTS0310JCIO071_7013_NNG07DA46B_8000</td>\n",
       "      <td>3885103.94</td>\n",
       "      <td>NaN</td>\n",
       "      <td>3885103.94</td>\n",
       "      <td>NaN</td>\n",
       "      <td>10223807.69</td>\n",
       "      <td>NaN</td>\n",
       "      <td>2010-09-30</td>\n",
       "      <td>NaN</td>\n",
       "      <td>False</td>\n",
       "      <td>True</td>\n",
       "    </tr>\n",
       "    <tr>\n",
       "      <td>2</td>\n",
       "      <td>7022_7022_HSFEHQ04J0056_P00003_HSFEHQ04D0126_0</td>\n",
       "      <td>CONT_AWD_HSFEHQ04J0056_7022_HSFEHQ04D0126_7022</td>\n",
       "      <td>-76943.80</td>\n",
       "      <td>NaN</td>\n",
       "      <td>-76943.80</td>\n",
       "      <td>NaN</td>\n",
       "      <td>-76943.80</td>\n",
       "      <td>NaN</td>\n",
       "      <td>2010-09-30</td>\n",
       "      <td>NaN</td>\n",
       "      <td>True</td>\n",
       "      <td>True</td>\n",
       "    </tr>\n",
       "    <tr>\n",
       "      <td>3</td>\n",
       "      <td>7022_4730_HSFEMW09F0066_P00002_GS35F0667K_0</td>\n",
       "      <td>CONT_AWD_HSFEMW09F0066_7022_GS35F0667K_4730</td>\n",
       "      <td>0.00</td>\n",
       "      <td>NaN</td>\n",
       "      <td>0.00</td>\n",
       "      <td>NaN</td>\n",
       "      <td>0.00</td>\n",
       "      <td>NaN</td>\n",
       "      <td>2010-09-30</td>\n",
       "      <td>NaN</td>\n",
       "      <td>False</td>\n",
       "      <td>False</td>\n",
       "    </tr>\n",
       "    <tr>\n",
       "      <td>4</td>\n",
       "      <td>7014_7014_HSBP1010J00870_0_HSBP1010D00023_0</td>\n",
       "      <td>CONT_AWD_HSBP1010J00870_7014_HSBP1010D00023_7014</td>\n",
       "      <td>99990.00</td>\n",
       "      <td>NaN</td>\n",
       "      <td>99990.00</td>\n",
       "      <td>NaN</td>\n",
       "      <td>99990.00</td>\n",
       "      <td>NaN</td>\n",
       "      <td>2010-09-30</td>\n",
       "      <td>NaN</td>\n",
       "      <td>False</td>\n",
       "      <td>False</td>\n",
       "    </tr>\n",
       "  </tbody>\n",
       "</table>\n",
       "</div>"
      ],
      "text/plain": [
       "                  contract_transaction_unique_key  \\\n",
       "0      7014_-NONE-_HSBP1010P00497_P00003_-NONE-_0   \n",
       "1        7013_8000_HSTS0310JCIO071_0_NNG07DA46B_0   \n",
       "2  7022_7022_HSFEHQ04J0056_P00003_HSFEHQ04D0126_0   \n",
       "3     7022_4730_HSFEMW09F0066_P00002_GS35F0667K_0   \n",
       "4     7014_7014_HSBP1010J00870_0_HSBP1010D00023_0   \n",
       "\n",
       "                          contract_award_unique_key  \\\n",
       "0        CONT_AWD_HSBP1010P00497_7014_-NONE-_-NONE-   \n",
       "1     CONT_AWD_HSTS0310JCIO071_7013_NNG07DA46B_8000   \n",
       "2    CONT_AWD_HSFEHQ04J0056_7022_HSFEHQ04D0126_7022   \n",
       "3       CONT_AWD_HSFEMW09F0066_7022_GS35F0667K_4730   \n",
       "4  CONT_AWD_HSBP1010J00870_7014_HSBP1010D00023_7014   \n",
       "\n",
       "   federal_action_obligation  total_dollars_obligated  \\\n",
       "0                       0.00                      NaN   \n",
       "1                 3885103.94                      NaN   \n",
       "2                  -76943.80                      NaN   \n",
       "3                       0.00                      NaN   \n",
       "4                   99990.00                      NaN   \n",
       "\n",
       "   base_and_exercised_options_value  current_total_value_of_award  \\\n",
       "0                              0.00                           NaN   \n",
       "1                        3885103.94                           NaN   \n",
       "2                         -76943.80                           NaN   \n",
       "3                              0.00                           NaN   \n",
       "4                          99990.00                           NaN   \n",
       "\n",
       "   base_and_all_options_value  potential_total_value_of_award action_date  \\\n",
       "0                        0.00                             NaN  2010-09-30   \n",
       "1                 10223807.69                             NaN  2010-09-30   \n",
       "2                   -76943.80                             NaN  2010-09-30   \n",
       "3                        0.00                             NaN  2010-09-30   \n",
       "4                    99990.00                             NaN  2010-09-30   \n",
       "\n",
       "   Percent Cumulatively Obligated over potential total value of award  \\\n",
       "0                                                NaN                    \n",
       "1                                                NaN                    \n",
       "2                                                NaN                    \n",
       "3                                                NaN                    \n",
       "4                                                NaN                    \n",
       "\n",
       "   Transaction_Deob  Contract_deob  \n",
       "0             False          False  \n",
       "1             False           True  \n",
       "2              True           True  \n",
       "3             False          False  \n",
       "4             False          False  "
      ]
     },
     "execution_count": 9,
     "metadata": {},
     "output_type": "execute_result"
    }
   ],
   "source": [
    "#Add indicator flag for contracts that ever have deobligation\n",
    "df_deob.drop(columns = [c for c in df_deob.columns if c not in ['Indicator', 'contract_award_unique_key']], inplace = True)\n",
    "df_deob = df_deob.drop_duplicates()\n",
    "df_deob.rename(columns = {'Indicator': 'Contract_deob'}, inplace = True)\n",
    "df_ever_deob = df.merge(df_deob, how = 'left', right_on = 'contract_award_unique_key', left_on = 'contract_award_unique_key')\n",
    "df_ever_deob.rename(columns = {'Indicator': 'Transaction_Deob'}, inplace = True)\n",
    "df_ever_deob['Contract_deob'] = df_ever_deob['Contract_deob'].fillna(False)\n",
    "df_ever_deob.head()"
   ]
  },
  {
   "cell_type": "code",
   "execution_count": 10,
   "metadata": {},
   "outputs": [],
   "source": [
    "#Merge first deobligation date\n",
    "contract_df = df_ever_deob.merge(df_first_deob, how = 'left', right_on = 'contract_award_unique_key', left_on = 'contract_award_unique_key')\n"
   ]
  },
  {
   "cell_type": "code",
   "execution_count": 11,
   "metadata": {},
   "outputs": [
    {
     "name": "stdout",
     "output_type": "stream",
     "text": [
      "False    780736\n",
      "True     306051\n",
      "Name: Contract_deob, dtype: int64\n",
      "False    1003532\n",
      "True       83255\n",
      "Name: Transaction_Deob, dtype: int64\n",
      "(70072, 2)\n"
     ]
    }
   ],
   "source": [
    "#test cell, there should be both types of values in both indicator columns\n",
    "print(contract_df['Contract_deob'].value_counts())\n",
    "print(contract_df['Transaction_Deob'].value_counts())\n",
    "print(df_deob.shape)"
   ]
  },
  {
   "cell_type": "code",
   "execution_count": 12,
   "metadata": {},
   "outputs": [],
   "source": [
    "#removing rows after first deobligation\n",
    "contract_df['action_date'] = pd.to_datetime(contract_df['action_date'])\n",
    "contract_df['first_deob_date'] = pd.to_datetime(contract_df['first_deob_date'])\n",
    "contract_df = contract_df[contract_df['action_date'] <= contract_df['first_deob_date']]"
   ]
  },
  {
   "cell_type": "code",
   "execution_count": 13,
   "metadata": {},
   "outputs": [
    {
     "data": {
      "text/html": [
       "<div>\n",
       "<style scoped>\n",
       "    .dataframe tbody tr th:only-of-type {\n",
       "        vertical-align: middle;\n",
       "    }\n",
       "\n",
       "    .dataframe tbody tr th {\n",
       "        vertical-align: top;\n",
       "    }\n",
       "\n",
       "    .dataframe thead th {\n",
       "        text-align: right;\n",
       "    }\n",
       "</style>\n",
       "<table border=\"1\" class=\"dataframe\">\n",
       "  <thead>\n",
       "    <tr style=\"text-align: right;\">\n",
       "      <th></th>\n",
       "      <th>contract_transaction_unique_key</th>\n",
       "      <th>contract_award_unique_key</th>\n",
       "      <th>federal_action_obligation</th>\n",
       "      <th>total_dollars_obligated</th>\n",
       "      <th>base_and_exercised_options_value</th>\n",
       "      <th>current_total_value_of_award</th>\n",
       "      <th>base_and_all_options_value</th>\n",
       "      <th>potential_total_value_of_award</th>\n",
       "      <th>action_date</th>\n",
       "      <th>Percent Cumulatively Obligated over potential total value of award</th>\n",
       "      <th>Transaction_Deob</th>\n",
       "      <th>Contract_deob</th>\n",
       "      <th>first_deob_date</th>\n",
       "    </tr>\n",
       "  </thead>\n",
       "  <tbody>\n",
       "    <tr>\n",
       "      <td>1</td>\n",
       "      <td>7013_8000_HSTS0310JCIO071_0_NNG07DA46B_0</td>\n",
       "      <td>CONT_AWD_HSTS0310JCIO071_7013_NNG07DA46B_8000</td>\n",
       "      <td>3885103.94</td>\n",
       "      <td>NaN</td>\n",
       "      <td>3885103.94</td>\n",
       "      <td>NaN</td>\n",
       "      <td>10223807.69</td>\n",
       "      <td>NaN</td>\n",
       "      <td>2010-09-30</td>\n",
       "      <td>NaN</td>\n",
       "      <td>False</td>\n",
       "      <td>True</td>\n",
       "      <td>2012-06-21</td>\n",
       "    </tr>\n",
       "    <tr>\n",
       "      <td>217634</td>\n",
       "      <td>7013_8000_HSTS0310JCIO071_P00001_NNG07DA46B_0</td>\n",
       "      <td>CONT_AWD_HSTS0310JCIO071_7013_NNG07DA46B_8000</td>\n",
       "      <td>3344677.82</td>\n",
       "      <td>NaN</td>\n",
       "      <td>3344677.82</td>\n",
       "      <td>NaN</td>\n",
       "      <td>0.00</td>\n",
       "      <td>NaN</td>\n",
       "      <td>2011-06-16</td>\n",
       "      <td>NaN</td>\n",
       "      <td>False</td>\n",
       "      <td>True</td>\n",
       "      <td>2012-06-21</td>\n",
       "    </tr>\n",
       "    <tr>\n",
       "      <td>133927</td>\n",
       "      <td>7013_8000_HSTS0310JCIO071_P00002_NNG07DA46B_0</td>\n",
       "      <td>CONT_AWD_HSTS0310JCIO071_7013_NNG07DA46B_8000</td>\n",
       "      <td>2994025.93</td>\n",
       "      <td>NaN</td>\n",
       "      <td>2994025.93</td>\n",
       "      <td>NaN</td>\n",
       "      <td>0.00</td>\n",
       "      <td>NaN</td>\n",
       "      <td>2012-05-04</td>\n",
       "      <td>NaN</td>\n",
       "      <td>False</td>\n",
       "      <td>True</td>\n",
       "      <td>2012-06-21</td>\n",
       "    </tr>\n",
       "    <tr>\n",
       "      <td>123103</td>\n",
       "      <td>7013_8000_HSTS0310JCIO071_P00003_NNG07DA46B_0</td>\n",
       "      <td>CONT_AWD_HSTS0310JCIO071_7013_NNG07DA46B_8000</td>\n",
       "      <td>-402426.96</td>\n",
       "      <td>NaN</td>\n",
       "      <td>-402426.96</td>\n",
       "      <td>NaN</td>\n",
       "      <td>-402426.96</td>\n",
       "      <td>NaN</td>\n",
       "      <td>2012-06-21</td>\n",
       "      <td>NaN</td>\n",
       "      <td>True</td>\n",
       "      <td>True</td>\n",
       "      <td>2012-06-21</td>\n",
       "    </tr>\n",
       "  </tbody>\n",
       "</table>\n",
       "</div>"
      ],
      "text/plain": [
       "                      contract_transaction_unique_key  \\\n",
       "1            7013_8000_HSTS0310JCIO071_0_NNG07DA46B_0   \n",
       "217634  7013_8000_HSTS0310JCIO071_P00001_NNG07DA46B_0   \n",
       "133927  7013_8000_HSTS0310JCIO071_P00002_NNG07DA46B_0   \n",
       "123103  7013_8000_HSTS0310JCIO071_P00003_NNG07DA46B_0   \n",
       "\n",
       "                            contract_award_unique_key  \\\n",
       "1       CONT_AWD_HSTS0310JCIO071_7013_NNG07DA46B_8000   \n",
       "217634  CONT_AWD_HSTS0310JCIO071_7013_NNG07DA46B_8000   \n",
       "133927  CONT_AWD_HSTS0310JCIO071_7013_NNG07DA46B_8000   \n",
       "123103  CONT_AWD_HSTS0310JCIO071_7013_NNG07DA46B_8000   \n",
       "\n",
       "        federal_action_obligation  total_dollars_obligated  \\\n",
       "1                      3885103.94                      NaN   \n",
       "217634                 3344677.82                      NaN   \n",
       "133927                 2994025.93                      NaN   \n",
       "123103                 -402426.96                      NaN   \n",
       "\n",
       "        base_and_exercised_options_value  current_total_value_of_award  \\\n",
       "1                             3885103.94                           NaN   \n",
       "217634                        3344677.82                           NaN   \n",
       "133927                        2994025.93                           NaN   \n",
       "123103                        -402426.96                           NaN   \n",
       "\n",
       "        base_and_all_options_value  potential_total_value_of_award  \\\n",
       "1                      10223807.69                             NaN   \n",
       "217634                        0.00                             NaN   \n",
       "133927                        0.00                             NaN   \n",
       "123103                  -402426.96                             NaN   \n",
       "\n",
       "       action_date  \\\n",
       "1       2010-09-30   \n",
       "217634  2011-06-16   \n",
       "133927  2012-05-04   \n",
       "123103  2012-06-21   \n",
       "\n",
       "        Percent Cumulatively Obligated over potential total value of award  \\\n",
       "1                                                     NaN                    \n",
       "217634                                                NaN                    \n",
       "133927                                                NaN                    \n",
       "123103                                                NaN                    \n",
       "\n",
       "        Transaction_Deob  Contract_deob first_deob_date  \n",
       "1                  False           True      2012-06-21  \n",
       "217634             False           True      2012-06-21  \n",
       "133927             False           True      2012-06-21  \n",
       "123103              True           True      2012-06-21  "
      ]
     },
     "execution_count": 13,
     "metadata": {},
     "output_type": "execute_result"
    }
   ],
   "source": [
    "#Test cell\n",
    "dftest3 = contract_df[contract_df['contract_award_unique_key'] == 'CONT_AWD_HSTS0310JCIO071_7013_NNG07DA46B_8000'].sort_values(by = 'action_date')\n",
    "\n",
    "dftest3.head(10)"
   ]
  },
  {
   "cell_type": "code",
   "execution_count": 14,
   "metadata": {},
   "outputs": [
    {
     "data": {
      "text/html": [
       "<div>\n",
       "<style scoped>\n",
       "    .dataframe tbody tr th:only-of-type {\n",
       "        vertical-align: middle;\n",
       "    }\n",
       "\n",
       "    .dataframe tbody tr th {\n",
       "        vertical-align: top;\n",
       "    }\n",
       "\n",
       "    .dataframe thead th {\n",
       "        text-align: right;\n",
       "    }\n",
       "</style>\n",
       "<table border=\"1\" class=\"dataframe\">\n",
       "  <thead>\n",
       "    <tr style=\"text-align: right;\">\n",
       "      <th></th>\n",
       "      <th>contract_award_unique_key</th>\n",
       "      <th>first_date</th>\n",
       "    </tr>\n",
       "  </thead>\n",
       "  <tbody>\n",
       "    <tr>\n",
       "      <td>0</td>\n",
       "      <td>CONT_AWD_00003_7022_HSFEHQ08D0105_7022</td>\n",
       "      <td>2009-03-18</td>\n",
       "    </tr>\n",
       "    <tr>\n",
       "      <td>1</td>\n",
       "      <td>CONT_AWD_00004_7022_HSFE0408A0017_7022</td>\n",
       "      <td>2008-05-14</td>\n",
       "    </tr>\n",
       "    <tr>\n",
       "      <td>2</td>\n",
       "      <td>CONT_AWD_0001_2036_TPDFIGBPA100001_2036</td>\n",
       "      <td>2010-10-01</td>\n",
       "    </tr>\n",
       "    <tr>\n",
       "      <td>3</td>\n",
       "      <td>CONT_AWD_0001_7022_HSFE0609A6334_7022</td>\n",
       "      <td>2009-03-13</td>\n",
       "    </tr>\n",
       "    <tr>\n",
       "      <td>4</td>\n",
       "      <td>CONT_AWD_0001_7022_HSFEHQ09A0170_7022</td>\n",
       "      <td>2008-12-31</td>\n",
       "    </tr>\n",
       "  </tbody>\n",
       "</table>\n",
       "</div>"
      ],
      "text/plain": [
       "                 contract_award_unique_key first_date\n",
       "0   CONT_AWD_00003_7022_HSFEHQ08D0105_7022 2009-03-18\n",
       "1   CONT_AWD_00004_7022_HSFE0408A0017_7022 2008-05-14\n",
       "2  CONT_AWD_0001_2036_TPDFIGBPA100001_2036 2010-10-01\n",
       "3    CONT_AWD_0001_7022_HSFE0609A6334_7022 2009-03-13\n",
       "4    CONT_AWD_0001_7022_HSFEHQ09A0170_7022 2008-12-31"
      ]
     },
     "execution_count": 14,
     "metadata": {},
     "output_type": "execute_result"
    }
   ],
   "source": [
    "#Get first action date of all contracts\n",
    "\n",
    "df_first_date = contract_df.copy()\n",
    "df_first_date = df_first_date[['contract_award_unique_key', 'action_date']]\n",
    "df_first_date = df_first_date.groupby(['contract_award_unique_key'] , as_index = False).min()\n",
    "df_first_date.rename(columns = {'action_date': 'first_date'}, inplace = True)\n",
    "df_first_date.head()"
   ]
  },
  {
   "cell_type": "code",
   "execution_count": 15,
   "metadata": {},
   "outputs": [
    {
     "data": {
      "text/html": [
       "<div>\n",
       "<style scoped>\n",
       "    .dataframe tbody tr th:only-of-type {\n",
       "        vertical-align: middle;\n",
       "    }\n",
       "\n",
       "    .dataframe tbody tr th {\n",
       "        vertical-align: top;\n",
       "    }\n",
       "\n",
       "    .dataframe thead th {\n",
       "        text-align: right;\n",
       "    }\n",
       "</style>\n",
       "<table border=\"1\" class=\"dataframe\">\n",
       "  <thead>\n",
       "    <tr style=\"text-align: right;\">\n",
       "      <th></th>\n",
       "      <th>contract_award_unique_key</th>\n",
       "      <th>first_date</th>\n",
       "    </tr>\n",
       "  </thead>\n",
       "  <tbody>\n",
       "    <tr>\n",
       "      <td>67075</td>\n",
       "      <td>CONT_AWD_HSTS0310JCIO071_7013_NNG07DA46B_8000</td>\n",
       "      <td>2010-09-30</td>\n",
       "    </tr>\n",
       "  </tbody>\n",
       "</table>\n",
       "</div>"
      ],
      "text/plain": [
       "                           contract_award_unique_key first_date\n",
       "67075  CONT_AWD_HSTS0310JCIO071_7013_NNG07DA46B_8000 2010-09-30"
      ]
     },
     "execution_count": 15,
     "metadata": {},
     "output_type": "execute_result"
    }
   ],
   "source": [
    "#test cell\n",
    "df_test_first_date = df_first_date.copy()\n",
    "\n",
    "df_test_first_date = df_first_date[df_first_date['contract_award_unique_key'] == 'CONT_AWD_HSTS0310JCIO071_7013_NNG07DA46B_8000']\n",
    "df_test_first_date.head()\n"
   ]
  },
  {
   "cell_type": "code",
   "execution_count": 16,
   "metadata": {},
   "outputs": [],
   "source": [
    "contract_df = contract_df.merge(df_first_date, how = 'left', right_on = 'contract_award_unique_key', left_on = 'contract_award_unique_key')\n",
    "contract_df['action_date'] = pd.to_datetime(contract_df['action_date'])\n",
    "contract_df['first_date'] = pd.to_datetime(contract_df['first_date'])\n",
    "contract_df['days_since_first_action'] = contract_df['action_date'] - contract_df['first_date']"
   ]
  },
  {
   "cell_type": "code",
   "execution_count": 17,
   "metadata": {},
   "outputs": [
    {
     "data": {
      "text/html": [
       "<div>\n",
       "<style scoped>\n",
       "    .dataframe tbody tr th:only-of-type {\n",
       "        vertical-align: middle;\n",
       "    }\n",
       "\n",
       "    .dataframe tbody tr th {\n",
       "        vertical-align: top;\n",
       "    }\n",
       "\n",
       "    .dataframe thead th {\n",
       "        text-align: right;\n",
       "    }\n",
       "</style>\n",
       "<table border=\"1\" class=\"dataframe\">\n",
       "  <thead>\n",
       "    <tr style=\"text-align: right;\">\n",
       "      <th></th>\n",
       "      <th>contract_transaction_unique_key</th>\n",
       "      <th>contract_award_unique_key</th>\n",
       "      <th>federal_action_obligation</th>\n",
       "      <th>total_dollars_obligated</th>\n",
       "      <th>base_and_exercised_options_value</th>\n",
       "      <th>current_total_value_of_award</th>\n",
       "      <th>base_and_all_options_value</th>\n",
       "      <th>potential_total_value_of_award</th>\n",
       "      <th>action_date</th>\n",
       "      <th>Percent Cumulatively Obligated over potential total value of award</th>\n",
       "      <th>Transaction_Deob</th>\n",
       "      <th>Contract_deob</th>\n",
       "      <th>first_deob_date</th>\n",
       "      <th>first_date</th>\n",
       "      <th>days_since_first_action</th>\n",
       "    </tr>\n",
       "  </thead>\n",
       "  <tbody>\n",
       "    <tr>\n",
       "      <td>0</td>\n",
       "      <td>7013_8000_HSTS0310JCIO071_0_NNG07DA46B_0</td>\n",
       "      <td>CONT_AWD_HSTS0310JCIO071_7013_NNG07DA46B_8000</td>\n",
       "      <td>3885103.94</td>\n",
       "      <td>NaN</td>\n",
       "      <td>3885103.94</td>\n",
       "      <td>NaN</td>\n",
       "      <td>10223807.69</td>\n",
       "      <td>NaN</td>\n",
       "      <td>2010-09-30</td>\n",
       "      <td>NaN</td>\n",
       "      <td>False</td>\n",
       "      <td>True</td>\n",
       "      <td>2012-06-21</td>\n",
       "      <td>2010-09-30</td>\n",
       "      <td>0 days</td>\n",
       "    </tr>\n",
       "    <tr>\n",
       "      <td>57279</td>\n",
       "      <td>7013_8000_HSTS0310JCIO071_P00001_NNG07DA46B_0</td>\n",
       "      <td>CONT_AWD_HSTS0310JCIO071_7013_NNG07DA46B_8000</td>\n",
       "      <td>3344677.82</td>\n",
       "      <td>NaN</td>\n",
       "      <td>3344677.82</td>\n",
       "      <td>NaN</td>\n",
       "      <td>0.00</td>\n",
       "      <td>NaN</td>\n",
       "      <td>2011-06-16</td>\n",
       "      <td>NaN</td>\n",
       "      <td>False</td>\n",
       "      <td>True</td>\n",
       "      <td>2012-06-21</td>\n",
       "      <td>2010-09-30</td>\n",
       "      <td>259 days</td>\n",
       "    </tr>\n",
       "    <tr>\n",
       "      <td>35134</td>\n",
       "      <td>7013_8000_HSTS0310JCIO071_P00002_NNG07DA46B_0</td>\n",
       "      <td>CONT_AWD_HSTS0310JCIO071_7013_NNG07DA46B_8000</td>\n",
       "      <td>2994025.93</td>\n",
       "      <td>NaN</td>\n",
       "      <td>2994025.93</td>\n",
       "      <td>NaN</td>\n",
       "      <td>0.00</td>\n",
       "      <td>NaN</td>\n",
       "      <td>2012-05-04</td>\n",
       "      <td>NaN</td>\n",
       "      <td>False</td>\n",
       "      <td>True</td>\n",
       "      <td>2012-06-21</td>\n",
       "      <td>2010-09-30</td>\n",
       "      <td>582 days</td>\n",
       "    </tr>\n",
       "    <tr>\n",
       "      <td>32386</td>\n",
       "      <td>7013_8000_HSTS0310JCIO071_P00003_NNG07DA46B_0</td>\n",
       "      <td>CONT_AWD_HSTS0310JCIO071_7013_NNG07DA46B_8000</td>\n",
       "      <td>-402426.96</td>\n",
       "      <td>NaN</td>\n",
       "      <td>-402426.96</td>\n",
       "      <td>NaN</td>\n",
       "      <td>-402426.96</td>\n",
       "      <td>NaN</td>\n",
       "      <td>2012-06-21</td>\n",
       "      <td>NaN</td>\n",
       "      <td>True</td>\n",
       "      <td>True</td>\n",
       "      <td>2012-06-21</td>\n",
       "      <td>2010-09-30</td>\n",
       "      <td>630 days</td>\n",
       "    </tr>\n",
       "  </tbody>\n",
       "</table>\n",
       "</div>"
      ],
      "text/plain": [
       "                     contract_transaction_unique_key  \\\n",
       "0           7013_8000_HSTS0310JCIO071_0_NNG07DA46B_0   \n",
       "57279  7013_8000_HSTS0310JCIO071_P00001_NNG07DA46B_0   \n",
       "35134  7013_8000_HSTS0310JCIO071_P00002_NNG07DA46B_0   \n",
       "32386  7013_8000_HSTS0310JCIO071_P00003_NNG07DA46B_0   \n",
       "\n",
       "                           contract_award_unique_key  \\\n",
       "0      CONT_AWD_HSTS0310JCIO071_7013_NNG07DA46B_8000   \n",
       "57279  CONT_AWD_HSTS0310JCIO071_7013_NNG07DA46B_8000   \n",
       "35134  CONT_AWD_HSTS0310JCIO071_7013_NNG07DA46B_8000   \n",
       "32386  CONT_AWD_HSTS0310JCIO071_7013_NNG07DA46B_8000   \n",
       "\n",
       "       federal_action_obligation  total_dollars_obligated  \\\n",
       "0                     3885103.94                      NaN   \n",
       "57279                 3344677.82                      NaN   \n",
       "35134                 2994025.93                      NaN   \n",
       "32386                 -402426.96                      NaN   \n",
       "\n",
       "       base_and_exercised_options_value  current_total_value_of_award  \\\n",
       "0                            3885103.94                           NaN   \n",
       "57279                        3344677.82                           NaN   \n",
       "35134                        2994025.93                           NaN   \n",
       "32386                        -402426.96                           NaN   \n",
       "\n",
       "       base_and_all_options_value  potential_total_value_of_award action_date  \\\n",
       "0                     10223807.69                             NaN  2010-09-30   \n",
       "57279                        0.00                             NaN  2011-06-16   \n",
       "35134                        0.00                             NaN  2012-05-04   \n",
       "32386                  -402426.96                             NaN  2012-06-21   \n",
       "\n",
       "       Percent Cumulatively Obligated over potential total value of award  \\\n",
       "0                                                    NaN                    \n",
       "57279                                                NaN                    \n",
       "35134                                                NaN                    \n",
       "32386                                                NaN                    \n",
       "\n",
       "       Transaction_Deob  Contract_deob first_deob_date first_date  \\\n",
       "0                 False           True      2012-06-21 2010-09-30   \n",
       "57279             False           True      2012-06-21 2010-09-30   \n",
       "35134             False           True      2012-06-21 2010-09-30   \n",
       "32386              True           True      2012-06-21 2010-09-30   \n",
       "\n",
       "      days_since_first_action  \n",
       "0                      0 days  \n",
       "57279                259 days  \n",
       "35134                582 days  \n",
       "32386                630 days  "
      ]
     },
     "execution_count": 17,
     "metadata": {},
     "output_type": "execute_result"
    }
   ],
   "source": [
    "#test cell\n",
    "contract_df_test = contract_df.copy()\n",
    "contract_df_test = contract_df_test[contract_df_test['contract_award_unique_key'] == 'CONT_AWD_HSTS0310JCIO071_7013_NNG07DA46B_8000'].sort_values(by = 'action_date')\n",
    "contract_df_test.head()"
   ]
  },
  {
   "cell_type": "code",
   "execution_count": 18,
   "metadata": {},
   "outputs": [],
   "source": [
    "\n",
    "#Contract_df now has the contract/transaction deobligation flags and days since the first action date"
   ]
  },
  {
   "cell_type": "code",
   "execution_count": 47,
   "metadata": {},
   "outputs": [],
   "source": [
    "# Adding in transaction number\n",
    "g = contract_df.groupby(['contract_award_unique_key'])\n",
    "\n",
    "contract_df['transaction_num'] = g['action_date'].rank(method = 'min')\n",
    "\n"
   ]
  },
  {
   "cell_type": "code",
   "execution_count": 49,
   "metadata": {},
   "outputs": [
    {
     "data": {
      "text/html": [
       "<div>\n",
       "<style scoped>\n",
       "    .dataframe tbody tr th:only-of-type {\n",
       "        vertical-align: middle;\n",
       "    }\n",
       "\n",
       "    .dataframe tbody tr th {\n",
       "        vertical-align: top;\n",
       "    }\n",
       "\n",
       "    .dataframe thead th {\n",
       "        text-align: right;\n",
       "    }\n",
       "</style>\n",
       "<table border=\"1\" class=\"dataframe\">\n",
       "  <thead>\n",
       "    <tr style=\"text-align: right;\">\n",
       "      <th></th>\n",
       "      <th>contract_transaction_unique_key</th>\n",
       "      <th>contract_award_unique_key</th>\n",
       "      <th>federal_action_obligation</th>\n",
       "      <th>total_dollars_obligated</th>\n",
       "      <th>base_and_exercised_options_value</th>\n",
       "      <th>current_total_value_of_award</th>\n",
       "      <th>base_and_all_options_value</th>\n",
       "      <th>potential_total_value_of_award</th>\n",
       "      <th>action_date</th>\n",
       "      <th>Percent Cumulatively Obligated over potential total value of award</th>\n",
       "      <th>Transaction_Deob</th>\n",
       "      <th>Contract_deob</th>\n",
       "      <th>first_deob_date</th>\n",
       "      <th>first_date</th>\n",
       "      <th>days_since_first_action</th>\n",
       "      <th>transaction_num</th>\n",
       "    </tr>\n",
       "  </thead>\n",
       "  <tbody>\n",
       "    <tr>\n",
       "      <td>0</td>\n",
       "      <td>7013_8000_HSTS0310JCIO071_0_NNG07DA46B_0</td>\n",
       "      <td>CONT_AWD_HSTS0310JCIO071_7013_NNG07DA46B_8000</td>\n",
       "      <td>3885103.94</td>\n",
       "      <td>NaN</td>\n",
       "      <td>3885103.94</td>\n",
       "      <td>NaN</td>\n",
       "      <td>10223807.69</td>\n",
       "      <td>NaN</td>\n",
       "      <td>2010-09-30</td>\n",
       "      <td>NaN</td>\n",
       "      <td>False</td>\n",
       "      <td>True</td>\n",
       "      <td>2012-06-21</td>\n",
       "      <td>2010-09-30</td>\n",
       "      <td>0 days</td>\n",
       "      <td>1.0</td>\n",
       "    </tr>\n",
       "    <tr>\n",
       "      <td>57279</td>\n",
       "      <td>7013_8000_HSTS0310JCIO071_P00001_NNG07DA46B_0</td>\n",
       "      <td>CONT_AWD_HSTS0310JCIO071_7013_NNG07DA46B_8000</td>\n",
       "      <td>3344677.82</td>\n",
       "      <td>NaN</td>\n",
       "      <td>3344677.82</td>\n",
       "      <td>NaN</td>\n",
       "      <td>0.00</td>\n",
       "      <td>NaN</td>\n",
       "      <td>2011-06-16</td>\n",
       "      <td>NaN</td>\n",
       "      <td>False</td>\n",
       "      <td>True</td>\n",
       "      <td>2012-06-21</td>\n",
       "      <td>2010-09-30</td>\n",
       "      <td>259 days</td>\n",
       "      <td>2.0</td>\n",
       "    </tr>\n",
       "    <tr>\n",
       "      <td>35134</td>\n",
       "      <td>7013_8000_HSTS0310JCIO071_P00002_NNG07DA46B_0</td>\n",
       "      <td>CONT_AWD_HSTS0310JCIO071_7013_NNG07DA46B_8000</td>\n",
       "      <td>2994025.93</td>\n",
       "      <td>NaN</td>\n",
       "      <td>2994025.93</td>\n",
       "      <td>NaN</td>\n",
       "      <td>0.00</td>\n",
       "      <td>NaN</td>\n",
       "      <td>2012-05-04</td>\n",
       "      <td>NaN</td>\n",
       "      <td>False</td>\n",
       "      <td>True</td>\n",
       "      <td>2012-06-21</td>\n",
       "      <td>2010-09-30</td>\n",
       "      <td>582 days</td>\n",
       "      <td>3.0</td>\n",
       "    </tr>\n",
       "    <tr>\n",
       "      <td>32386</td>\n",
       "      <td>7013_8000_HSTS0310JCIO071_P00003_NNG07DA46B_0</td>\n",
       "      <td>CONT_AWD_HSTS0310JCIO071_7013_NNG07DA46B_8000</td>\n",
       "      <td>-402426.96</td>\n",
       "      <td>NaN</td>\n",
       "      <td>-402426.96</td>\n",
       "      <td>NaN</td>\n",
       "      <td>-402426.96</td>\n",
       "      <td>NaN</td>\n",
       "      <td>2012-06-21</td>\n",
       "      <td>NaN</td>\n",
       "      <td>True</td>\n",
       "      <td>True</td>\n",
       "      <td>2012-06-21</td>\n",
       "      <td>2010-09-30</td>\n",
       "      <td>630 days</td>\n",
       "      <td>4.0</td>\n",
       "    </tr>\n",
       "  </tbody>\n",
       "</table>\n",
       "</div>"
      ],
      "text/plain": [
       "                     contract_transaction_unique_key  \\\n",
       "0           7013_8000_HSTS0310JCIO071_0_NNG07DA46B_0   \n",
       "57279  7013_8000_HSTS0310JCIO071_P00001_NNG07DA46B_0   \n",
       "35134  7013_8000_HSTS0310JCIO071_P00002_NNG07DA46B_0   \n",
       "32386  7013_8000_HSTS0310JCIO071_P00003_NNG07DA46B_0   \n",
       "\n",
       "                           contract_award_unique_key  \\\n",
       "0      CONT_AWD_HSTS0310JCIO071_7013_NNG07DA46B_8000   \n",
       "57279  CONT_AWD_HSTS0310JCIO071_7013_NNG07DA46B_8000   \n",
       "35134  CONT_AWD_HSTS0310JCIO071_7013_NNG07DA46B_8000   \n",
       "32386  CONT_AWD_HSTS0310JCIO071_7013_NNG07DA46B_8000   \n",
       "\n",
       "       federal_action_obligation  total_dollars_obligated  \\\n",
       "0                     3885103.94                      NaN   \n",
       "57279                 3344677.82                      NaN   \n",
       "35134                 2994025.93                      NaN   \n",
       "32386                 -402426.96                      NaN   \n",
       "\n",
       "       base_and_exercised_options_value  current_total_value_of_award  \\\n",
       "0                            3885103.94                           NaN   \n",
       "57279                        3344677.82                           NaN   \n",
       "35134                        2994025.93                           NaN   \n",
       "32386                        -402426.96                           NaN   \n",
       "\n",
       "       base_and_all_options_value  potential_total_value_of_award action_date  \\\n",
       "0                     10223807.69                             NaN  2010-09-30   \n",
       "57279                        0.00                             NaN  2011-06-16   \n",
       "35134                        0.00                             NaN  2012-05-04   \n",
       "32386                  -402426.96                             NaN  2012-06-21   \n",
       "\n",
       "       Percent Cumulatively Obligated over potential total value of award  \\\n",
       "0                                                    NaN                    \n",
       "57279                                                NaN                    \n",
       "35134                                                NaN                    \n",
       "32386                                                NaN                    \n",
       "\n",
       "       Transaction_Deob  Contract_deob first_deob_date first_date  \\\n",
       "0                 False           True      2012-06-21 2010-09-30   \n",
       "57279             False           True      2012-06-21 2010-09-30   \n",
       "35134             False           True      2012-06-21 2010-09-30   \n",
       "32386              True           True      2012-06-21 2010-09-30   \n",
       "\n",
       "      days_since_first_action  transaction_num  \n",
       "0                      0 days              1.0  \n",
       "57279                259 days              2.0  \n",
       "35134                582 days              3.0  \n",
       "32386                630 days              4.0  "
      ]
     },
     "execution_count": 49,
     "metadata": {},
     "output_type": "execute_result"
    }
   ],
   "source": [
    "#test cell\n",
    "testdf = contract_df.copy()\n",
    "testdf = testdf[testdf['contract_award_unique_key'] == 'CONT_AWD_HSTS0310JCIO071_7013_NNG07DA46B_8000'].sort_values(by = 'transaction_num')\n",
    "testdf.head()"
   ]
  },
  {
   "cell_type": "markdown",
   "metadata": {},
   "source": [
    "## End Mike's changes 05/14/2020"
   ]
  },
  {
   "cell_type": "code",
   "execution_count": null,
   "metadata": {},
   "outputs": [],
   "source": [
    "#Test cell\n",
    "## We need to ask Eric about these to see if the numbers make sense\n",
    "\n",
    "df_test4 = contract_df[contract_df['base_and_all_options_value'] != contract_df['federal_action_obligation']]\n",
    "print(contract_df.shape)\n",
    "#6,519,296 rows in df\n",
    "\n",
    "print(df_test4.shape)\n",
    "#335,073 where federal action obligatio != base and exercised options value\n",
    "#352,596 where base & all options != base and exercised options\n",
    "#300,646 where base & all options value != federal action obligation\n",
    "\n",
    "df_test4.head()"
   ]
  },
  {
   "cell_type": "code",
   "execution_count": null,
   "metadata": {},
   "outputs": [],
   "source": [
    "df = df.fillna(0)\n",
    "# Convert action date to pd.datetime\n",
    "df['action_date'] = pd.to_datetime(df['action_date'])\n",
    "# set index to each contract and date\n",
    "df.set_index(['contract_award_unique_key','action_date'], inplace = True)\n",
    "df.sort_index()"
   ]
  },
  {
   "cell_type": "code",
   "execution_count": null,
   "metadata": {},
   "outputs": [],
   "source": [
    "# We want to only focus on execution rate (for now). I'm not sure which column is the best indicator of execution rate\n",
    "# we can follow up with Eric. I'm going to stick with Percent Cumulatively Obligated over potential total value of award\n",
    "# as wequal to the execution rate.\n",
    "drop_columns = [column for column in df.columns if column != 'Percent Cumulatively Obligated over potential total value of award']\n",
    "df.drop(drop_columns,axis = 1, inplace=True)\n",
    "\n",
    "df.rename(columns = {'Percent Cumulatively Obligated over potential total value of award':'execution_rate'},inplace = True)"
   ]
  },
  {
   "cell_type": "code",
   "execution_count": null,
   "metadata": {},
   "outputs": [],
   "source": [
    "df.head(4)"
   ]
  },
  {
   "cell_type": "code",
   "execution_count": null,
   "metadata": {},
   "outputs": [],
   "source": [
    "contracts = [contract for contract, date in list(df.index)]\n",
    "unique_k = set(contracts)\n",
    "print('This is the number of unique Contracts: ' + str(len(unique_k)))\n",
    "print('This is the number of transactions: ' + str(len(contracts)))"
   ]
  },
  {
   "cell_type": "markdown",
   "metadata": {},
   "source": [
    "# Selecting contracts w/ 5 or more transactions from 2008-2018"
   ]
  },
  {
   "cell_type": "code",
   "execution_count": null,
   "metadata": {},
   "outputs": [],
   "source": [
    "# I grouped the dataframe by contract and used the .count(method)\n",
    "# to determine the number of entries. I then used an inequality to get a boolean series of the number of contracts \n",
    "# that satisfied the condition of at least 5 transactions.\n",
    "test = df.groupby(level='contract_award_unique_key')['execution_rate'].count() >= 5\n",
    "test = test[test==True]\n",
    "# This is the list of contracts that have more than 5 transactions. \n",
    "highlighted_transactions = test.index\n",
    "\n"
   ]
  },
  {
   "cell_type": "markdown",
   "metadata": {},
   "source": [
    "### Utilize FY19 Data as Test Data"
   ]
  },
  {
   "cell_type": "code",
   "execution_count": null,
   "metadata": {},
   "outputs": [],
   "source": [
    "os.chdir('C:\\\\Users\\\\belincoln\\\\repos\\\\BudgetPredict')"
   ]
  },
  {
   "cell_type": "code",
   "execution_count": null,
   "metadata": {},
   "outputs": [],
   "source": [
    "%cd data"
   ]
  },
  {
   "cell_type": "code",
   "execution_count": null,
   "metadata": {},
   "outputs": [],
   "source": [
    "filename = 'FY2019_070_Contracts_Full_20200110_1.csv'"
   ]
  },
  {
   "cell_type": "code",
   "execution_count": null,
   "metadata": {},
   "outputs": [],
   "source": [
    "test_df = pd.read_csv(filename, header = 0, usecols = ['contract_transaction_unique_key',\n",
    "                        'contract_award_unique_key',\n",
    "                        'federal_action_obligation','total_dollars_obligated', 'base_and_exercised_options_value', \n",
    "                        'current_total_value_of_award', 'base_and_all_options_value','potential_total_value_of_award',\n",
    "                        'action_date'],\n",
    "                 dtype = {'contract_transaction_unique_key':'str','contract_transaction_unique_key':'str',\n",
    "                          'federal_action_obligation': 'float','total_dollars_obligated': 'float', \n",
    "                          'base_and_exercised_options_value': 'float', 'current_total_value_of_award': 'float', \n",
    "                          'base_and_all_options_value': 'float','potential_total_value_of_award': 'float',\n",
    "                          'action_date':'str'})"
   ]
  },
  {
   "cell_type": "code",
   "execution_count": null,
   "metadata": {},
   "outputs": [],
   "source": [
    "print('This is the # of transactions is FY19 for DHS: ' + str(len(test_df)))"
   ]
  },
  {
   "cell_type": "code",
   "execution_count": null,
   "metadata": {},
   "outputs": [],
   "source": [
    "test_df = test_df.fillna(0)\n",
    "# Convert action date to pd.datetime\n",
    "test_df['action_date'] = pd.to_datetime(test_df['action_date'])\n",
    "# set index to each contract and date\n",
    "test_df.set_index(['contract_award_unique_key','action_date'], inplace = True)\n",
    "test_df.sort_index()\n",
    "fy19_df = test_df.copy()"
   ]
  },
  {
   "cell_type": "code",
   "execution_count": null,
   "metadata": {},
   "outputs": [],
   "source": [
    "# We want to only focus on execution rate (for now). I'm not sure which column is the best indicator of execution rate\n",
    "# we can follow up with Eric. I'm going to stick with Percent Cumulatively Obligated over potential total value of award\n",
    "# as wequal to the execution rate.\n",
    "drop_columns = [column for column in test_df.columns if column != 'Percent Cumulatively Obligated over potential total value of award']\n",
    "test_df.drop(drop_columns,axis = 1, inplace=True)\n",
    "\n",
    "test_df.rename(columns = {'Percent Cumulatively Obligated over potential total value of award':'execution_rate'},inplace = True)"
   ]
  },
  {
   "cell_type": "code",
   "execution_count": null,
   "metadata": {},
   "outputs": [],
   "source": [
    "contracts = [contract for contract, date in list(test_df.index)]\n",
    "unique_k_fy19 = set(contracts)\n",
    "print('This is the number of unique Contracts: ' + str(len(unique_k_fy19)))\n",
    "print('This is the number of transactions: ' + str(len(contracts)))"
   ]
  },
  {
   "cell_type": "code",
   "execution_count": null,
   "metadata": {},
   "outputs": [],
   "source": [
    "type(unique_k_fy19)"
   ]
  },
  {
   "cell_type": "code",
   "execution_count": null,
   "metadata": {},
   "outputs": [],
   "source": [
    "highlighted_transactions = set(highlighted_transactions)"
   ]
  },
  {
   "cell_type": "code",
   "execution_count": null,
   "metadata": {},
   "outputs": [],
   "source": [
    "len(unique_k_fy19.intersection(highlighted_transactions))"
   ]
  },
  {
   "cell_type": "code",
   "execution_count": null,
   "metadata": {},
   "outputs": [],
   "source": [
    "mask = list(unique_k_fy19.intersection(highlighted_transactions))"
   ]
  },
  {
   "cell_type": "code",
   "execution_count": null,
   "metadata": {},
   "outputs": [],
   "source": [
    "fy19_df.index.get_level_values('contract_award_unique_key')"
   ]
  },
  {
   "cell_type": "code",
   "execution_count": null,
   "metadata": {},
   "outputs": [],
   "source": [
    "highlighted_fy19 = fy19_df.loc[(list(highlighted_transactions), slice(None)),:]"
   ]
  },
  {
   "cell_type": "code",
   "execution_count": null,
   "metadata": {},
   "outputs": [],
   "source": [
    "highlighted_fy19.head()"
   ]
  },
  {
   "cell_type": "code",
   "execution_count": null,
   "metadata": {},
   "outputs": [],
   "source": [
    "highlighted_fy19.index.get_level_values(0).unique()"
   ]
  },
  {
   "cell_type": "code",
   "execution_count": null,
   "metadata": {},
   "outputs": [],
   "source": [
    "highlighted_fy19"
   ]
  },
  {
   "cell_type": "code",
   "execution_count": null,
   "metadata": {},
   "outputs": [],
   "source": [
    "highlighted_fy19.drop('base_and_exercised_options_value',axis = 1, inplace = True)"
   ]
  },
  {
   "cell_type": "code",
   "execution_count": null,
   "metadata": {},
   "outputs": [],
   "source": [
    "df = highlighted_fy19"
   ]
  },
  {
   "cell_type": "code",
   "execution_count": null,
   "metadata": {},
   "outputs": [],
   "source": []
  },
  {
   "cell_type": "code",
   "execution_count": null,
   "metadata": {},
   "outputs": [],
   "source": []
  },
  {
   "cell_type": "code",
   "execution_count": null,
   "metadata": {},
   "outputs": [],
   "source": [
    "# Create 3 new features for analysis\n",
    "df['Percent awarded over potential total awarded'] = df['current_total_value_of_award'] / df['potential_total_value_of_award']\n",
    "df['Percent Cumulatively Obligated over potential total value of award'] = df['total_dollars_obligated'] / df['potential_total_value_of_award']\n",
    "df['Percent Cumulatively Obligated over total value already awarded'] = df['total_dollars_obligated'] / df['current_total_value_of_award']\n",
    "\n",
    "# Create Indicator Variable\n",
    "df['Indicator'] = df['federal_action_obligation']<-1000\n",
    "\n",
    "# set index to each transaction key\n",
    "df.set_index('contract_transaction_unique_key', inplace = True)"
   ]
  },
  {
   "cell_type": "code",
   "execution_count": null,
   "metadata": {},
   "outputs": [],
   "source": [
    "df.drop('federal_action_obligation', axis =1, inplace = True)\n",
    "df = df.fillna(0)"
   ]
  },
  {
   "cell_type": "code",
   "execution_count": null,
   "metadata": {},
   "outputs": [],
   "source": [
    "# This is the percentage of De-Obligations in the sample (before test/train split)\n",
    "print('Total number of De-Obligations: ' +str(df['Indicator'].sum()))\n",
    "print('Percentage of De-Obligations: '+str(df['Indicator'].sum()/len(df)))"
   ]
  },
  {
   "cell_type": "code",
   "execution_count": null,
   "metadata": {},
   "outputs": [],
   "source": [
    "# Create matrix of feature variables and our dependent variable\n",
    "X, y =  df.iloc[:,1:-1], df.loc[:,'Indicator']\n",
    "\n",
    "# convert y to np.array of 0s and 1s\n",
    "y = np.array(y.astype(int))"
   ]
  },
  {
   "cell_type": "code",
   "execution_count": null,
   "metadata": {},
   "outputs": [],
   "source": [
    "#train the data \n",
    "X_train, X_test, y_train, y_test = train_test_split(X, y, test_size=0.2)\n"
   ]
  },
  {
   "cell_type": "code",
   "execution_count": null,
   "metadata": {},
   "outputs": [],
   "source": [
    "X_test.shape"
   ]
  },
  {
   "cell_type": "code",
   "execution_count": null,
   "metadata": {},
   "outputs": [],
   "source": [
    "# Setup the data matrix appropriately, and add ones for the intercept term\n",
    "m_train, n_train = X_train.shape\n",
    "m_test, n_test = X_test.shape\n",
    "# Add intercept term to X\n",
    "X_train = np.concatenate([np.ones((m_train, 1)), X_train], axis=1)\n",
    "X_test = np.concatenate([np.ones((m_test, 1)), X_test], axis=1)\n",
    "\n"
   ]
  },
  {
   "cell_type": "code",
   "execution_count": null,
   "metadata": {},
   "outputs": [],
   "source": [
    "log_model = LogisticRegression().fit(X_train, y_train)"
   ]
  },
  {
   "cell_type": "code",
   "execution_count": null,
   "metadata": {},
   "outputs": [],
   "source": [
    "# Coefficents to multiply features by\n",
    "log_model.coef_"
   ]
  },
  {
   "cell_type": "code",
   "execution_count": null,
   "metadata": {},
   "outputs": [],
   "source": [
    "theta = log_model.coef_[0]"
   ]
  },
  {
   "cell_type": "code",
   "execution_count": null,
   "metadata": {},
   "outputs": [],
   "source": [
    "print(theta[0])"
   ]
  },
  {
   "cell_type": "code",
   "execution_count": null,
   "metadata": {},
   "outputs": [],
   "source": [
    "def sigmoid(z):\n",
    "    \"\"\"\n",
    "    Compute sigmoid function given the input z.\n",
    "    \n",
    "    Parameters\n",
    "    ----------\n",
    "    z : array_like\n",
    "        The input to the sigmoid function. This can be a 1-D vector \n",
    "        or a 2-D matrix. \n",
    "    \n",
    "    Returns\n",
    "    -------\n",
    "    g : array_like\n",
    "        The computed sigmoid function. g has the same shape as z, since\n",
    "        the sigmoid is computed element-wise on z.\n",
    "        \n",
    "    Instructions\n",
    "    ------------\n",
    "    Compute the sigmoid of each value of z (z can be a matrix, vector or scalar).\n",
    "    \"\"\"\n",
    "    # convert input to a numpy array\n",
    "    z = np.array(z)\n",
    "    \n",
    "    # You need to return the following variables correctly \n",
    "    g = np.zeros(z.shape)\n",
    "\n",
    "    temp = 1 + np.power(np.e,-z)\n",
    "    g = 1 / temp\n",
    "    \n",
    "\n",
    "    return g"
   ]
  },
  {
   "cell_type": "code",
   "execution_count": null,
   "metadata": {},
   "outputs": [],
   "source": [
    "pred = sigmoid(np.dot(X_test,theta))"
   ]
  },
  {
   "cell_type": "code",
   "execution_count": null,
   "metadata": {},
   "outputs": [],
   "source": [
    "fig = pyplot.figure\n",
    "pyplot.scatter(np.arange(len(pred)), pred)"
   ]
  },
  {
   "cell_type": "code",
   "execution_count": null,
   "metadata": {},
   "outputs": [],
   "source": []
  },
  {
   "cell_type": "code",
   "execution_count": null,
   "metadata": {},
   "outputs": [],
   "source": [
    "# Now we will test our model using the test_set\n",
    "pred = sigmoid(np.dot(X_test,theta))"
   ]
  },
  {
   "cell_type": "code",
   "execution_count": null,
   "metadata": {},
   "outputs": [],
   "source": [
    "# Convert probabilty of de-obligation into prediction\n",
    "pred = pred > .5\n",
    "# Convert to int\n",
    "pred = np.array(pred.astype(int))"
   ]
  },
  {
   "cell_type": "code",
   "execution_count": null,
   "metadata": {},
   "outputs": [],
   "source": [
    "test = pred == y_test"
   ]
  },
  {
   "cell_type": "code",
   "execution_count": null,
   "metadata": {},
   "outputs": [],
   "source": [
    "test.sum()/len(test)"
   ]
  },
  {
   "cell_type": "code",
   "execution_count": null,
   "metadata": {},
   "outputs": [],
   "source": [
    "# Really what we are looking for here \n",
    "# is how many times a de-obligation occured and we were able to predict it?"
   ]
  },
  {
   "cell_type": "code",
   "execution_count": null,
   "metadata": {},
   "outputs": [],
   "source": [
    "# Also percentage of false positives: how many times did we predict a de-obligation and \n",
    "# it did not occur?"
   ]
  },
  {
   "cell_type": "code",
   "execution_count": null,
   "metadata": {},
   "outputs": [],
   "source": [
    "data = {'predicted value' : pred, 'test value': y_test}\n",
    "testdf = pd.DataFrame(data)"
   ]
  },
  {
   "cell_type": "code",
   "execution_count": null,
   "metadata": {},
   "outputs": [],
   "source": [
    "%%HTML\n",
    "<style type=\"text/css\">\n",
    "table.dataframe td, table.dataframe th {\n",
    "    border: 1px  black solid !important;\n",
    "  color: black !important;\n",
    "}\n",
    "</style>"
   ]
  },
  {
   "cell_type": "code",
   "execution_count": null,
   "metadata": {},
   "outputs": [],
   "source": [
    "\n",
    "\n",
    "cm = np.array(confusion_matrix(pred, y_test, labels = [1,0]))\n",
    "confusion = pd.DataFrame(cm, index=[['Predicted', 'Predicted'], ['Large De-Obligation','Obligation']],\n",
    "                         columns = [['Test Results', 'Test Results'],['Large De-Obligation','Obligation']])\n",
    "confusion\n"
   ]
  },
  {
   "cell_type": "code",
   "execution_count": null,
   "metadata": {},
   "outputs": [],
   "source": [
    "confusion.iloc[0].sum()+confusion.iloc[1].sum()"
   ]
  },
  {
   "cell_type": "code",
   "execution_count": null,
   "metadata": {},
   "outputs": [],
   "source": [
    "correct_preds = testdf[testdf['test value'] == 1]\n",
    "correct_preds2 = correct_preds[correct_preds['predicted value'] ==1]\n",
    "print('Size of Test set: ' + str(len(testdf)))\n",
    "print('Size of Train set: ' + str(len(X_train)))\n",
    "print('Percentage of correct predictions (Accuracey): ' + str((confusion.iloc[0,0] + confusion.iloc[1,1])/len(testdf)))\n",
    "print('Percentage of significant de-obligations: ' + str(len(correct_preds)/len(testdf)))\n",
    "print('Percentage of de-obligations correctly predicted: ' + str(len(correct_preds2)/len(correct_preds)))"
   ]
  },
  {
   "cell_type": "code",
   "execution_count": null,
   "metadata": {},
   "outputs": [],
   "source": [
    "# Rate of False Negatives: A de-obligation occurs, but the model did not predict it. \n",
    "false_neg = testdf[testdf['predicted value'] == 0]\n",
    "false_neg2 = false_neg[false_neg['test value'] == 1]\n",
    "print('Number of False Negatives : ' + str(len(false_neg2)))\n",
    "print('Rate of False Negative: ' + str(len(false_neg2)/len(testdf)))"
   ]
  },
  {
   "cell_type": "code",
   "execution_count": null,
   "metadata": {},
   "outputs": [],
   "source": [
    "# Show the rate of False Positives: Times the model predicted a de-obligation, yet there wasn't one\n",
    "\n",
    "false_pos = testdf[testdf['predicted value'] == 1]\n",
    "false_pos2 = false_pos[false_pos['test value'] == 0]\n",
    "\n",
    "print('Number of False Positives: ' + str(len(false_pos2)))\n",
    "print('Rate of False Positives: ' + str(len(false_pos2)/len(testdf)))"
   ]
  },
  {
   "cell_type": "code",
   "execution_count": null,
   "metadata": {},
   "outputs": [],
   "source": []
  }
 ],
 "metadata": {
  "kernelspec": {
   "display_name": "Python 3",
   "language": "python",
   "name": "python3"
  },
  "language_info": {
   "codemirror_mode": {
    "name": "ipython",
    "version": 3
   },
   "file_extension": ".py",
   "mimetype": "text/x-python",
   "name": "python",
   "nbconvert_exporter": "python",
   "pygments_lexer": "ipython3",
   "version": "3.7.4"
  }
 },
 "nbformat": 4,
 "nbformat_minor": 2
}
