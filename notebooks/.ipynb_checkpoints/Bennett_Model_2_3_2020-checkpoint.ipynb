{
 "cells": [
  {
   "cell_type": "code",
   "execution_count": 163,
   "metadata": {},
   "outputs": [],
   "source": [
    "#%store -r df"
   ]
  },
  {
   "cell_type": "code",
   "execution_count": 164,
   "metadata": {},
   "outputs": [],
   "source": [
    "# used for manipulating directory paths\n",
    "import os\n",
    "\n",
    "# Scientific and vector computation for python\n",
    "import numpy as np\n",
    "import pandas as pd\n",
    "\n",
    "# Plotting library\n",
    "from matplotlib import pyplot\n",
    "\n",
    "# Optimization module in scipy\n",
    "from scipy import optimize"
   ]
  },
  {
   "cell_type": "code",
   "execution_count": 165,
   "metadata": {},
   "outputs": [],
   "source": [
    "# tells matplotlib to embed plots within the notebook\n",
    "#%matplotlib inline"
   ]
  },
  {
   "cell_type": "code",
   "execution_count": 186,
   "metadata": {},
   "outputs": [
    {
     "name": "stdout",
     "output_type": "stream",
     "text": [
      "C:\\Users\\belincoln\\repos\\BudgetPredict\\data\n"
     ]
    }
   ],
   "source": [
    "os.chdir('C:\\\\Users\\\\belincoln\\\\repos\\\\BudgetPredict')\n",
    "# Set working directory to the data folder so you can correctly read in the csv files\n",
    "%cd data"
   ]
  },
  {
   "cell_type": "code",
   "execution_count": 187,
   "metadata": {},
   "outputs": [],
   "source": [
    "# Read data from DHS Contracts\n",
    "df = pd.read_csv('FY2019_070_Contracts_Full_20200110_1.csv', header = 0, usecols = ['contract_transaction_unique_key', \n",
    "                        'federal_action_obligation','total_dollars_obligated', 'base_and_exercised_options_value', \n",
    "                        'current_total_value_of_award', 'base_and_all_options_value','potential_total_value_of_award'],\n",
    "                 dtype = {'contract_transaction_unique_key':'str','federal_action_obligation': 'float',\n",
    "                        'total_dollars_obligated': 'float', 'base_and_exercised_options_value': 'float', \n",
    "                        'current_total_value_of_award': 'float', 'base_and_all_options_value': 'float',\n",
    "                        'potential_total_value_of_award': 'float'})"
   ]
  },
  {
   "cell_type": "code",
   "execution_count": 188,
   "metadata": {},
   "outputs": [],
   "source": [
    "# Create 3 new features for analysis\n",
    "df['Percent awarded over potential total awarded'] = df['current_total_value_of_award'] / df['potential_total_value_of_award']\n",
    "df['Percent Cumulatively Obligated over potential total value of award'] = df['total_dollars_obligated'] / df['potential_total_value_of_award']\n",
    "df['Percent Cumulatively Obligated over total value already awarded'] = df['total_dollars_obligated'] / df['current_total_value_of_award']\n",
    "\n",
    "# Create Indicator Variable\n",
    "df['Indicator'] = df['federal_action_obligation']<-1000\n",
    "\n",
    "# set index to each transaction key\n",
    "df.set_index('contract_transaction_unique_key', inplace = True)"
   ]
  },
  {
   "cell_type": "markdown",
   "metadata": {},
   "source": [
    "# Data Dictionary for Column Headers from USASPENDING.GOV\n",
    "\n",
    "#### federal_action_obligation: \n",
    "\n",
    "Amount of Federal government’s obligation, de-obligation, or liability for an award transaction.\n",
    "\n",
    "#### total_dollars_obligated: This doesn't make sense to me\n",
    "\n",
    "This is a system generated element providing the sum of all the amounts entered in the \"Action Obligation\" field for a particular PIID and Agency. Example: Contract has 9 Modifications under \"Transaction Number\" as '1' and 9 modifications with the same PIID under \"Transaction Number\" as '2'. The base contracts and all the modifications have \"Action Obligation\" as $10 each. The value for the field \"Total Obligated Amount\" when the either of the bases or the modification is retrieved through atom feeds will be $200 ($100 under Transaction Number 1 + $100 under Transaction Number 2). \"Total Obligated Amount\" is generated irrespective of the \"Transaction Number\" on the Awards.\n",
    "\n",
    "#### base_and_exercised_options_value\n",
    "The change (from this transaction only) to the current contract value (i.e., the base contract and any options that have been exercised).\n",
    "\n",
    "#### current_total_value_of_award\n",
    "\n",
    "Total amount obligated to date on an award. For a contract, this amount includes the base and exercised options. For a non-loan financial assistance award (AssistanceType ≠ 07 or 08), this is the sum of all the FederalActionObligation values in transactions with the same AwardingSubTierAgencyCode and FAIN (for RecordType = 2 or 3) or AwardingSubTierAgencyCode and URI (for RecordType = 1). For a loan award (AssistanceType = 07 or 08), this is the sum of all OriginalLoanSubsidyCost values in transactions with the same AwardingSubTierAgencyCode and FAIN (for RecordType = 2 or 3) or AwardingSubTierAgencyCode and URI (for RecordType = 1). In the subaward data context, this element refers to the total amount obligated to date on the prime award.\n",
    "\n",
    "#### base_and_all_options_value\n",
    "\n",
    "The change (from this transaction only) to the potential contract value (i.e., the base contract and any exercised or unexercised options).\n",
    "\n",
    "#### potential_total_value_of_award\n",
    "\n",
    "Total amount that could be obligated on a contract, if the base and all options are exercised.\n"
   ]
  },
  {
   "cell_type": "code",
   "execution_count": 169,
   "metadata": {},
   "outputs": [
    {
     "name": "stdout",
     "output_type": "stream",
     "text": [
      "federal_action_obligation                                             -75532042.2\n",
      "total_dollars_obligated                                                       0.0\n",
      "base_and_exercised_options_value                                      -75532042.2\n",
      "current_total_value_of_award                                                  0.0\n",
      "base_and_all_options_value                                           -108425811.2\n",
      "potential_total_value_of_award                                                0.0\n",
      "Percent awarded over potential total awarded                                  0.0\n",
      "Percent Cumulatively Obligated over potential total value of award            0.0\n",
      "Percent Cumulatively Obligated over total value already awarded               0.0\n",
      "Indicator                                                                     0.0\n",
      "dtype: float64\n"
     ]
    }
   ],
   "source": [
    "print(df.min())\n",
    "\n",
    "# Why do these two have negative values you think?\n",
    "    # Because it was a deobligation!\n",
    "\n",
    "# df['base_and_all_options_value'][df['base_and_all_options_value'] < 0]\n",
    "\n",
    "\n",
    "\n"
   ]
  },
  {
   "cell_type": "code",
   "execution_count": 170,
   "metadata": {},
   "outputs": [
    {
     "name": "stdout",
     "output_type": "stream",
     "text": [
      "False\n",
      "0.09850750755264305\n"
     ]
    },
    {
     "data": {
      "text/plain": [
       "Index(['7012_7012_HSCEMS16F00057_P00005_HSCEMS12A00018_0',\n",
       "       '7008_-NONE-_HSCG3816DL00004_P00009_-NONE-_-NONE-',\n",
       "       '7013_-NONE-_HSTS0514AMED077_P00001_-NONE-_-NONE-',\n",
       "       '7008_-NONE-_70Z03818DB2000003_P00002_-NONE-_-NONE-',\n",
       "       '7008_-NONE-_70Z03819DB2000001_0_-NONE-_-NONE-',\n",
       "       '7008_-NONE-_70Z03819DM0000001_0_-NONE-_-NONE-',\n",
       "       '7012_-NONE-_HSCEDM17D00009_P00008_-NONE-_-NONE-',\n",
       "       '7008_-NONE-_HSCG2317DPXC002_P00003_-NONE-_-NONE-',\n",
       "       '7008_-NONE-_HSCG3815D202051_P00005_-NONE-_-NONE-',\n",
       "       '7008_-NONE-_HSCG4016D60308_P00007_-NONE-_-NONE-',\n",
       "       ...\n",
       "       '7022_-NONE-_HSFE4014A0168_P00005_-NONE-_-NONE-',\n",
       "       '7022_-NONE-_HSFE4014A0184_P00005_-NONE-_-NONE-',\n",
       "       '7001_7001_70RFP119FRE400037_0_70RFP118DE4000005_0',\n",
       "       '7022_-NONE-_HSFELA15A0084_P00004_-NONE-_-NONE-',\n",
       "       '7001_-NONE-_HSHQDC17A00012_P00002_-NONE-_-NONE-',\n",
       "       '7012_7001_HSCETE15F00007_P00033_HSHQDC13A00024_0',\n",
       "       '7008_-NONE-_70Z04019D57050B00_0_-NONE-_-NONE-',\n",
       "       '7001_4732_70RSAT19FR0000001_P00003_GS00F151CA_0',\n",
       "       '7001_4732_HSHQDC15F00108_P00025_GS00Q14OADS124_0',\n",
       "       '7009_-NONE-_70US0919C70090002_P00001_-NONE-_0'],\n",
       "      dtype='object', name='contract_transaction_unique_key', length=6554)"
      ]
     },
     "execution_count": 170,
     "metadata": {},
     "output_type": "execute_result"
    }
   ],
   "source": [
    "# Is total_dollars_obligated < current_total_value_of_award < potential_value_of_award?\n",
    "test = df['total_dollars_obligated'] >= df['current_total_value_of_award'] \n",
    "\n",
    "# test if this is true for all transactions\n",
    "print(not any(test))\n",
    "\n",
    "# shows the percentage of transactions where this inequality does nto hold\n",
    "print((len(df) - test.sum()) / len(df))\n",
    "\n",
    "# Show indexes where this inequality does not hold\n",
    "df[test == False].index"
   ]
  },
  {
   "cell_type": "code",
   "execution_count": 171,
   "metadata": {},
   "outputs": [
    {
     "name": "stdout",
     "output_type": "stream",
     "text": [
      "False\n",
      "0.04829182510934424\n"
     ]
    },
    {
     "data": {
      "text/plain": [
       "Index(['7008_-NONE-_HSCG3816DL00004_P00009_-NONE-_-NONE-',\n",
       "       '7013_-NONE-_HSTS0514AMED077_P00001_-NONE-_-NONE-',\n",
       "       '7008_-NONE-_70Z03818DB2000003_P00002_-NONE-_-NONE-',\n",
       "       '7008_-NONE-_70Z03819DB2000001_0_-NONE-_-NONE-',\n",
       "       '7008_-NONE-_70Z03819DM0000001_0_-NONE-_-NONE-',\n",
       "       '7012_-NONE-_HSCEDM17D00009_P00008_-NONE-_-NONE-',\n",
       "       '7008_-NONE-_HSCG2317DPXC002_P00003_-NONE-_-NONE-',\n",
       "       '7008_-NONE-_HSCG3815D202051_P00005_-NONE-_-NONE-',\n",
       "       '7008_-NONE-_HSCG4016D60308_P00007_-NONE-_-NONE-',\n",
       "       '7015_-NONE-_HSFLAR16D00001_P00006_-NONE-_-NONE-',\n",
       "       ...\n",
       "       '7012_-NONE-_70CDCR18D00000004_P00002_-NONE-_-NONE-',\n",
       "       '7008_-NONE-_HSCG8817DPMV093_P00004_-NONE-_-NONE-',\n",
       "       '7008_-NONE-_HSCG8817DPMV093_P00005_-NONE-_-NONE-',\n",
       "       '7008_-NONE-_70Z08419DBHQ00400_P00001_-NONE-_-NONE-',\n",
       "       '7022_-NONE-_HSFE4014A0167_P00005_-NONE-_-NONE-',\n",
       "       '7022_-NONE-_HSFE4014A0168_P00005_-NONE-_-NONE-',\n",
       "       '7022_-NONE-_HSFE4014A0184_P00005_-NONE-_-NONE-',\n",
       "       '7022_-NONE-_HSFELA15A0084_P00004_-NONE-_-NONE-',\n",
       "       '7001_-NONE-_HSHQDC17A00012_P00002_-NONE-_-NONE-',\n",
       "       '7008_-NONE-_70Z04019D57050B00_0_-NONE-_-NONE-'],\n",
       "      dtype='object', name='contract_transaction_unique_key', length=3213)"
      ]
     },
     "execution_count": 171,
     "metadata": {},
     "output_type": "execute_result"
    }
   ],
   "source": [
    "# Is total_dollars_obligated < current_total_value_of_award < potential_value_of_award?\n",
    "test2 = df['current_total_value_of_award'] <= df['potential_total_value_of_award']\n",
    "\n",
    "# test if this is true for all transactions\n",
    "print(not any(test2))\n",
    "\n",
    "# shows the percentage of transactions where this inequality does nto hold\n",
    "print((len(df) - test2.sum()) / len(df))\n",
    "\n",
    "# Show indexes where this inequality does not hold\n",
    "df[test2 == False].index"
   ]
  },
  {
   "cell_type": "markdown",
   "metadata": {},
   "source": [
    "# Beginning of Regression Analysis"
   ]
  },
  {
   "cell_type": "code",
   "execution_count": 172,
   "metadata": {},
   "outputs": [
    {
     "data": {
      "text/plain": [
       "Index(['federal_action_obligation', 'total_dollars_obligated',\n",
       "       'base_and_exercised_options_value', 'current_total_value_of_award',\n",
       "       'base_and_all_options_value', 'potential_total_value_of_award',\n",
       "       'Percent awarded over potential total awarded',\n",
       "       'Percent Cumulatively Obligated over potential total value of award',\n",
       "       'Percent Cumulatively Obligated over total value already awarded',\n",
       "       'Indicator'],\n",
       "      dtype='object')"
      ]
     },
     "execution_count": 172,
     "metadata": {},
     "output_type": "execute_result"
    }
   ],
   "source": [
    "df.columns"
   ]
  },
  {
   "cell_type": "code",
   "execution_count": 173,
   "metadata": {},
   "outputs": [],
   "source": [
    "df.drop('federal_action_obligation', axis =1, inplace = True)"
   ]
  },
  {
   "cell_type": "code",
   "execution_count": 174,
   "metadata": {},
   "outputs": [],
   "source": [
    "X, y =  df.iloc[:,:-1].values, df.loc[:,'Indicator']"
   ]
  },
  {
   "cell_type": "code",
   "execution_count": 185,
   "metadata": {},
   "outputs": [
    {
     "data": {
      "text/plain": [
       "(66533,)"
      ]
     },
     "execution_count": 185,
     "metadata": {},
     "output_type": "execute_result"
    }
   ],
   "source": [
    "y.shape"
   ]
  },
  {
   "cell_type": "code",
   "execution_count": 175,
   "metadata": {
    "scrolled": false
   },
   "outputs": [
    {
     "data": {
      "text/plain": [
       "\"\\nfeatures = len(df.columns) - 2\\nfor i in range(features):\\n    fig = pyplot.figure()\\n    mask  = y == 1\\n    pyplot.plot(X[mask].iloc[:,i], X[mask].iloc[:, i+1], 'k*', lw=2, ms=10)\\n    pyplot.plot(X[~mask].iloc[:, i], X[~mask].iloc[:, i+1], 'ko', mfc='y', ms=8, mec='k', mew=1)\\n   \\n    # add axes labels\\n    pyplot.xlabel(df.columns[i])\\n    pyplot.ylabel(df.columns[i+1])\\n    pyplot.legend(['Sweep', 'Not a Sweep'])\\n    pass\\n\""
      ]
     },
     "execution_count": 175,
     "metadata": {},
     "output_type": "execute_result"
    }
   ],
   "source": [
    "# This produces a scatter plot with each of the features, \n",
    "# but does not cover each permutation of features\n",
    "# 10 min runtime, I should rethink this\n",
    "\n",
    "'''\n",
    "features = len(df.columns) - 2\n",
    "for i in range(features):\n",
    "    fig = pyplot.figure()\n",
    "    mask  = y == 1\n",
    "    pyplot.plot(X[mask].iloc[:,i], X[mask].iloc[:, i+1], 'k*', lw=2, ms=10)\n",
    "    pyplot.plot(X[~mask].iloc[:, i], X[~mask].iloc[:, i+1], 'ko', mfc='y', ms=8, mec='k', mew=1)\n",
    "   \n",
    "    # add axes labels\n",
    "    pyplot.xlabel(df.columns[i])\n",
    "    pyplot.ylabel(df.columns[i+1])\n",
    "    pyplot.legend(['Sweep', 'Not a Sweep'])\n",
    "    pass\n",
    "'''"
   ]
  },
  {
   "cell_type": "markdown",
   "metadata": {},
   "source": [
    "<a id=\"section1\"></a>\n",
    "\n",
    "#### Sigmoid function\n",
    "\n",
    "the logistic regression hypothesis is defined as:\n",
    "\n",
    "$$ h_\\theta(x) = g(\\theta^T x)$$\n",
    "\n",
    "where function $g$ is the sigmoid function. The sigmoid function is defined as: \n",
    "\n",
    "$$g(z) = \\frac{1}{1+e^{-z}}$$.\n",
    "\n",
    " For large positive values of `x`, the sigmoid should be close to 1, while for large negative values, the sigmoid should be close to 0. Evaluating `sigmoid(0)` should give you exactly 0.5. \n",
    " \n",
    " This is used for classification models (rather than regresssion models).\n",
    " \n",
    "<a id=\"sigmoid\"></a>"
   ]
  },
  {
   "cell_type": "code",
   "execution_count": 176,
   "metadata": {},
   "outputs": [],
   "source": [
    "def sigmoid(z):\n",
    "    \"\"\"\n",
    "    Compute sigmoid function given the input z.\n",
    "    \n",
    "    Parameters\n",
    "    ----------\n",
    "    z : array_like\n",
    "        The input to the sigmoid function. This can be a 1-D vector \n",
    "        or a 2-D matrix. \n",
    "    \n",
    "    Returns\n",
    "    -------\n",
    "    g : array_like\n",
    "        The computed sigmoid function. g has the same shape as z, since\n",
    "        the sigmoid is computed element-wise on z.\n",
    "        \n",
    "    Instructions\n",
    "    ------------\n",
    "    Compute the sigmoid of each value of z (z can be a matrix, vector or scalar).\n",
    "    \"\"\"\n",
    "    # convert input to a numpy array\n",
    "    z = np.array(z)\n",
    "    \n",
    "    # You need to return the following variables correctly \n",
    "    g = np.zeros(z.shape)\n",
    "\n",
    "    temp = 1 + np.power(np.e,-z)\n",
    "    g = 1 / temp\n",
    "    \n",
    "\n",
    "    return g"
   ]
  },
  {
   "cell_type": "code",
   "execution_count": 177,
   "metadata": {},
   "outputs": [],
   "source": [
    "# Setup the data matrix appropriately, and add ones for the intercept term\n",
    "m, n = X.shape\n",
    "# Add intercept term to X\n",
    "X = np.concatenate([np.ones((m, 1)), X], axis=1)"
   ]
  },
  {
   "cell_type": "markdown",
   "metadata": {},
   "source": [
    "Develop a function `costFunction` to return the cost and gradient. Recall that the cost function in logistic regression is\n",
    "\n",
    "$$ J(\\theta) = \\frac{1}{m} \\sum_{i=1}^{m} \\left[ -y^{(i)} \\log\\left(h_\\theta\\left( x^{(i)} \\right) \\right) - \\left( 1 - y^{(i)}\\right) \\log \\left( 1 - h_\\theta\\left( x^{(i)} \\right) \\right) \\right]$$\n",
    "\n",
    "and the gradient (derivative) of the cost is a vector of the same length as $\\theta$ where the $j^{th}$\n",
    "element (for $j = 0, 1, \\cdots , n$) is defined as follows:\n",
    "\n",
    "$$ \\frac{\\partial J(\\theta)}{\\partial \\theta_j} = \\frac{1}{m} \\sum_{i=1}^m \\left( h_\\theta \\left( x^{(i)} \\right) - y^{(i)} \\right) x_j^{(i)} $$\n",
    "\n",
    "Note that while this gradient looks identical to the linear regression gradient, the formula is actually different because linear and logistic regression have different definitions of $h_\\theta(x)$.\n"
   ]
  },
  {
   "cell_type": "code",
   "execution_count": 178,
   "metadata": {},
   "outputs": [],
   "source": [
    "def costFunction(theta, X, y):\n",
    "    \"\"\"\n",
    "    Compute cost and gradient for logistic regression. \n",
    "    \n",
    "    Parameters\n",
    "    ----------\n",
    "    theta : array_like\n",
    "        The parameters for logistic regression. This a vector\n",
    "        of shape (n+1, ).\n",
    "    \n",
    "    X : array_like\n",
    "        The input dataset of shape (m x n+1) where m is the total number\n",
    "        of data points and n is the number of features. We assume the \n",
    "        intercept has already been added to the input.\n",
    "    \n",
    "    y : arra_like\n",
    "        Labels for the input. This is a vector of shape (m, ).\n",
    "    \n",
    "    Returns\n",
    "    -------\n",
    "    J : float\n",
    "        The computed value for the cost function. \n",
    "    \n",
    "    grad : array_like\n",
    "        A vector of shape (n+1, ) which is the gradient of the cost\n",
    "        function with respect to theta, at the current values of theta.\n",
    "        \n",
    "    Instructions\n",
    "    ------------\n",
    "    Compute the cost of a particular choice of theta. You should set J to \n",
    "    the cost. Compute the partial derivatives and set grad to the partial\n",
    "    derivatives of the cost w.r.t. each parameter in theta.\n",
    "    \"\"\"\n",
    "    # Initialize some useful values\n",
    "    m = y.size  # number of training examples\n",
    "\n",
    "    # You need to return the following variables correctly \n",
    "    J = 0\n",
    "    grad = np.zeros(theta.shape)\n",
    "\n",
    "    # ====================== YOUR CODE HERE ======================\n",
    "\n",
    "    h = sigmoid(np.dot(X,theta))\n",
    "    temp = -y*np.log(h) - (1-y)*np.log(1-h)\n",
    "    J = (1/m)*np.sum(temp)\n",
    "    grad = (1/m)*np.dot(X.T,(h-y))\n",
    "    # =============================================================\n",
    "    return J, grad"
   ]
  },
  {
   "cell_type": "code",
   "execution_count": 179,
   "metadata": {},
   "outputs": [
    {
     "name": "stdout",
     "output_type": "stream",
     "text": [
      "0.0\n",
      "Cost at initial theta (zeros): 0.000\n",
      "Expected cost (approx): 0.693\n",
      "\n",
      "Gradient at initial theta (zeros):\n",
      "\t[nan, nan, nan]\n",
      "Expected gradients (approx):\n",
      "\t[-0.1000, -12.0092, -11.2628]\n",
      "\n"
     ]
    },
    {
     "ename": "ValueError",
     "evalue": "shapes (66533,9) and (3,) not aligned: 9 (dim 1) != 3 (dim 0)",
     "output_type": "error",
     "traceback": [
      "\u001b[1;31m---------------------------------------------------------------------------\u001b[0m",
      "\u001b[1;31mValueError\u001b[0m                                Traceback (most recent call last)",
      "\u001b[1;32m<ipython-input-179-1f83f665f7c0>\u001b[0m in \u001b[0;36m<module>\u001b[1;34m\u001b[0m\n\u001b[0;32m     14\u001b[0m \u001b[1;31m# Compute and display cost and gradient with non-zero theta\u001b[0m\u001b[1;33m\u001b[0m\u001b[1;33m\u001b[0m\u001b[1;33m\u001b[0m\u001b[0m\n\u001b[0;32m     15\u001b[0m \u001b[0mtest_theta\u001b[0m \u001b[1;33m=\u001b[0m \u001b[0mnp\u001b[0m\u001b[1;33m.\u001b[0m\u001b[0marray\u001b[0m\u001b[1;33m(\u001b[0m\u001b[1;33m[\u001b[0m\u001b[1;33m-\u001b[0m\u001b[1;36m24\u001b[0m\u001b[1;33m,\u001b[0m \u001b[1;36m0.2\u001b[0m\u001b[1;33m,\u001b[0m \u001b[1;36m0.2\u001b[0m\u001b[1;33m]\u001b[0m\u001b[1;33m)\u001b[0m\u001b[1;33m\u001b[0m\u001b[1;33m\u001b[0m\u001b[0m\n\u001b[1;32m---> 16\u001b[1;33m \u001b[0mcost\u001b[0m\u001b[1;33m,\u001b[0m \u001b[0mgrad\u001b[0m \u001b[1;33m=\u001b[0m \u001b[0mcostFunction\u001b[0m\u001b[1;33m(\u001b[0m\u001b[0mtest_theta\u001b[0m\u001b[1;33m,\u001b[0m \u001b[0mX\u001b[0m\u001b[1;33m,\u001b[0m \u001b[0my\u001b[0m\u001b[1;33m)\u001b[0m\u001b[1;33m\u001b[0m\u001b[1;33m\u001b[0m\u001b[0m\n\u001b[0m\u001b[0;32m     17\u001b[0m \u001b[1;33m\u001b[0m\u001b[0m\n\u001b[0;32m     18\u001b[0m \u001b[0mprint\u001b[0m\u001b[1;33m(\u001b[0m\u001b[1;34m'Cost at test theta: {:.3f}'\u001b[0m\u001b[1;33m.\u001b[0m\u001b[0mformat\u001b[0m\u001b[1;33m(\u001b[0m\u001b[0mcost\u001b[0m\u001b[1;33m)\u001b[0m\u001b[1;33m)\u001b[0m\u001b[1;33m\u001b[0m\u001b[1;33m\u001b[0m\u001b[0m\n",
      "\u001b[1;32m<ipython-input-178-e76d1f89d0b9>\u001b[0m in \u001b[0;36mcostFunction\u001b[1;34m(theta, X, y)\u001b[0m\n\u001b[0;32m     41\u001b[0m     \u001b[1;31m# ====================== YOUR CODE HERE ======================\u001b[0m\u001b[1;33m\u001b[0m\u001b[1;33m\u001b[0m\u001b[1;33m\u001b[0m\u001b[0m\n\u001b[0;32m     42\u001b[0m \u001b[1;33m\u001b[0m\u001b[0m\n\u001b[1;32m---> 43\u001b[1;33m     \u001b[0mh\u001b[0m \u001b[1;33m=\u001b[0m \u001b[0msigmoid\u001b[0m\u001b[1;33m(\u001b[0m\u001b[0mnp\u001b[0m\u001b[1;33m.\u001b[0m\u001b[0mdot\u001b[0m\u001b[1;33m(\u001b[0m\u001b[0mX\u001b[0m\u001b[1;33m,\u001b[0m\u001b[0mtheta\u001b[0m\u001b[1;33m)\u001b[0m\u001b[1;33m)\u001b[0m\u001b[1;33m\u001b[0m\u001b[1;33m\u001b[0m\u001b[0m\n\u001b[0m\u001b[0;32m     44\u001b[0m     \u001b[0mtemp\u001b[0m \u001b[1;33m=\u001b[0m \u001b[1;33m-\u001b[0m\u001b[0my\u001b[0m\u001b[1;33m*\u001b[0m\u001b[0mnp\u001b[0m\u001b[1;33m.\u001b[0m\u001b[0mlog\u001b[0m\u001b[1;33m(\u001b[0m\u001b[0mh\u001b[0m\u001b[1;33m)\u001b[0m \u001b[1;33m-\u001b[0m \u001b[1;33m(\u001b[0m\u001b[1;36m1\u001b[0m\u001b[1;33m-\u001b[0m\u001b[0my\u001b[0m\u001b[1;33m)\u001b[0m\u001b[1;33m*\u001b[0m\u001b[0mnp\u001b[0m\u001b[1;33m.\u001b[0m\u001b[0mlog\u001b[0m\u001b[1;33m(\u001b[0m\u001b[1;36m1\u001b[0m\u001b[1;33m-\u001b[0m\u001b[0mh\u001b[0m\u001b[1;33m)\u001b[0m\u001b[1;33m\u001b[0m\u001b[1;33m\u001b[0m\u001b[0m\n\u001b[0;32m     45\u001b[0m     \u001b[0mJ\u001b[0m \u001b[1;33m=\u001b[0m \u001b[1;33m(\u001b[0m\u001b[1;36m1\u001b[0m\u001b[1;33m/\u001b[0m\u001b[0mm\u001b[0m\u001b[1;33m)\u001b[0m\u001b[1;33m*\u001b[0m\u001b[0mnp\u001b[0m\u001b[1;33m.\u001b[0m\u001b[0msum\u001b[0m\u001b[1;33m(\u001b[0m\u001b[0mtemp\u001b[0m\u001b[1;33m)\u001b[0m\u001b[1;33m\u001b[0m\u001b[1;33m\u001b[0m\u001b[0m\n",
      "\u001b[1;31mValueError\u001b[0m: shapes (66533,9) and (3,) not aligned: 9 (dim 1) != 3 (dim 0)"
     ]
    }
   ],
   "source": [
    "# Initialize fitting parameters\n",
    "initial_theta = np.zeros(n+1)\n",
    "\n",
    "cost, grad = costFunction(initial_theta, X, y)\n",
    "print(cost)\n",
    "\n",
    "print('Cost at initial theta (zeros): {:.3f}'.format(cost))\n",
    "print('Expected cost (approx): 0.693\\n')\n",
    "\n",
    "print('Gradient at initial theta (zeros):')\n",
    "print('\\t[{:.4f}, {:.4f}, {:.4f}]'.format(*grad))\n",
    "print('Expected gradients (approx):\\n\\t[-0.1000, -12.0092, -11.2628]\\n')\n",
    "\n",
    "# Compute and display cost and gradient with non-zero theta\n",
    "test_theta = np.array([-24, 0.2, 0.2])\n",
    "cost, grad = costFunction(test_theta, X, y)\n",
    "\n",
    "print('Cost at test theta: {:.3f}'.format(cost))\n",
    "print('Expected cost (approx): 0.218\\n')\n",
    "\n",
    "print('Gradient at test theta:')\n",
    "print('\\t[{:.3f}, {:.3f}, {:.3f}]'.format(*grad))\n",
    "print('Expected gradients (approx):\\n\\t[0.043, 2.566, 2.647]')"
   ]
  },
  {
   "cell_type": "code",
   "execution_count": null,
   "metadata": {},
   "outputs": [],
   "source": [
    "y.shape()"
   ]
  },
  {
   "cell_type": "code",
   "execution_count": null,
   "metadata": {},
   "outputs": [],
   "source": []
  }
 ],
 "metadata": {
  "kernelspec": {
   "display_name": "Python 3",
   "language": "python",
   "name": "python3"
  },
  "language_info": {
   "codemirror_mode": {
    "name": "ipython",
    "version": 3
   },
   "file_extension": ".py",
   "mimetype": "text/x-python",
   "name": "python",
   "nbconvert_exporter": "python",
   "pygments_lexer": "ipython3",
   "version": "3.7.4"
  }
 },
 "nbformat": 4,
 "nbformat_minor": 2
}
