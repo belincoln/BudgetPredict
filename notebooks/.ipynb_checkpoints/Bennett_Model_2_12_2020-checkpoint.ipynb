{
 "cells": [
  {
   "cell_type": "code",
   "execution_count": 1,
   "metadata": {},
   "outputs": [],
   "source": [
    "#%store -r df"
   ]
  },
  {
   "cell_type": "code",
   "execution_count": 2,
   "metadata": {},
   "outputs": [],
   "source": [
    "# used for manipulating directory paths\n",
    "import os\n",
    "\n",
    "# Scientific and vector computation for python\n",
    "import numpy as np\n",
    "import pandas as pd\n",
    "\n",
    "# Plotting library\n",
    "from matplotlib import pyplot\n",
    "\n",
    "# import function to split data into train and test dfs\n",
    "from sklearn.model_selection import train_test_split\n",
    "\n",
    "# Optimization module in scipy\n",
    "from scipy import optimize\n",
    "\n",
    "# Import logistic regression model from SK Learn\n",
    "from sklearn.linear_model import LogisticRegression"
   ]
  },
  {
   "cell_type": "code",
   "execution_count": 3,
   "metadata": {},
   "outputs": [],
   "source": [
    "# tells matplotlib to embed plots within the notebook\n",
    "#%matplotlib inline"
   ]
  },
  {
   "cell_type": "code",
   "execution_count": 4,
   "metadata": {},
   "outputs": [
    {
     "name": "stdout",
     "output_type": "stream",
     "text": [
      "C:\\Users\\belincoln\\repos\\BudgetPredict\\data\n"
     ]
    }
   ],
   "source": [
    "os.chdir('C:\\\\Users\\\\belincoln\\\\repos\\\\BudgetPredict')\n",
    "# Set working directory to the data folder so you can correctly read in the csv files\n",
    "%cd data"
   ]
  },
  {
   "cell_type": "code",
   "execution_count": 5,
   "metadata": {},
   "outputs": [],
   "source": [
    "# Read data from DHS Contracts\n",
    "df = pd.read_csv('FY2019_070_Contracts_Full_20200110_1.csv', header = 0, usecols = ['contract_transaction_unique_key', \n",
    "                        'federal_action_obligation','total_dollars_obligated', 'base_and_exercised_options_value', \n",
    "                        'current_total_value_of_award', 'base_and_all_options_value','potential_total_value_of_award'],\n",
    "                 dtype = {'contract_transaction_unique_key':'str','federal_action_obligation': 'float',\n",
    "                        'total_dollars_obligated': 'float', 'base_and_exercised_options_value': 'float', \n",
    "                        'current_total_value_of_award': 'float', 'base_and_all_options_value': 'float',\n",
    "                        'potential_total_value_of_award': 'float'})"
   ]
  },
  {
   "cell_type": "code",
   "execution_count": 6,
   "metadata": {},
   "outputs": [
    {
     "data": {
      "text/html": [
       "<div>\n",
       "<style scoped>\n",
       "    .dataframe tbody tr th:only-of-type {\n",
       "        vertical-align: middle;\n",
       "    }\n",
       "\n",
       "    .dataframe tbody tr th {\n",
       "        vertical-align: top;\n",
       "    }\n",
       "\n",
       "    .dataframe thead th {\n",
       "        text-align: right;\n",
       "    }\n",
       "</style>\n",
       "<table border=\"1\" class=\"dataframe\">\n",
       "  <thead>\n",
       "    <tr style=\"text-align: right;\">\n",
       "      <th></th>\n",
       "      <th>contract_transaction_unique_key</th>\n",
       "      <th>federal_action_obligation</th>\n",
       "      <th>total_dollars_obligated</th>\n",
       "      <th>base_and_exercised_options_value</th>\n",
       "      <th>current_total_value_of_award</th>\n",
       "      <th>base_and_all_options_value</th>\n",
       "      <th>potential_total_value_of_award</th>\n",
       "    </tr>\n",
       "  </thead>\n",
       "  <tbody>\n",
       "    <tr>\n",
       "      <td>0</td>\n",
       "      <td>7012_7012_HSCEMS16F00057_P00005_HSCEMS12A00018_0</td>\n",
       "      <td>-7702.86</td>\n",
       "      <td>6003953.42</td>\n",
       "      <td>-7702.86</td>\n",
       "      <td>6059478.42</td>\n",
       "      <td>-148339.00</td>\n",
       "      <td>6067181.28</td>\n",
       "    </tr>\n",
       "    <tr>\n",
       "      <td>1</td>\n",
       "      <td>7022_7022_HSFE2015J0271_P00002_HSFE2013D0161_0</td>\n",
       "      <td>0.00</td>\n",
       "      <td>104830.31</td>\n",
       "      <td>0.00</td>\n",
       "      <td>104830.31</td>\n",
       "      <td>0.00</td>\n",
       "      <td>104830.31</td>\n",
       "    </tr>\n",
       "    <tr>\n",
       "      <td>2</td>\n",
       "      <td>7008_-NONE-_70Z02918PX0808600_P00001_-NONE-_0</td>\n",
       "      <td>-1566.00</td>\n",
       "      <td>2088.00</td>\n",
       "      <td>-1566.00</td>\n",
       "      <td>2088.00</td>\n",
       "      <td>-1566.00</td>\n",
       "      <td>2088.00</td>\n",
       "    </tr>\n",
       "    <tr>\n",
       "      <td>3</td>\n",
       "      <td>7008_-NONE-_70Z03818PW0000011_P00001_-NONE-_0</td>\n",
       "      <td>0.00</td>\n",
       "      <td>1152695.02</td>\n",
       "      <td>0.00</td>\n",
       "      <td>1152695.02</td>\n",
       "      <td>0.00</td>\n",
       "      <td>1152695.02</td>\n",
       "    </tr>\n",
       "    <tr>\n",
       "      <td>4</td>\n",
       "      <td>7008_-NONE-_70Z08018PP45K8500_P00001_-NONE-_0</td>\n",
       "      <td>-2208.12</td>\n",
       "      <td>13654.38</td>\n",
       "      <td>-2208.12</td>\n",
       "      <td>13654.38</td>\n",
       "      <td>-2208.12</td>\n",
       "      <td>13654.38</td>\n",
       "    </tr>\n",
       "    <tr>\n",
       "      <td>...</td>\n",
       "      <td>...</td>\n",
       "      <td>...</td>\n",
       "      <td>...</td>\n",
       "      <td>...</td>\n",
       "      <td>...</td>\n",
       "      <td>...</td>\n",
       "      <td>...</td>\n",
       "    </tr>\n",
       "    <tr>\n",
       "      <td>66528</td>\n",
       "      <td>7008_-NONE-_70Z03819PD0000080_P00001_-NONE-_0</td>\n",
       "      <td>0.00</td>\n",
       "      <td>17640.36</td>\n",
       "      <td>0.00</td>\n",
       "      <td>17640.36</td>\n",
       "      <td>0.00</td>\n",
       "      <td>17640.36</td>\n",
       "    </tr>\n",
       "    <tr>\n",
       "      <td>66529</td>\n",
       "      <td>7008_-NONE-_70Z08019P29577B00_P00001_-NONE-_0</td>\n",
       "      <td>-8132.53</td>\n",
       "      <td>7800.16</td>\n",
       "      <td>-8132.53</td>\n",
       "      <td>7800.16</td>\n",
       "      <td>-8132.53</td>\n",
       "      <td>7800.16</td>\n",
       "    </tr>\n",
       "    <tr>\n",
       "      <td>66530</td>\n",
       "      <td>7014_7014_HSBP1015F00038_P00001_HSBP1013A00012_0</td>\n",
       "      <td>-3840.20</td>\n",
       "      <td>513427.20</td>\n",
       "      <td>-3840.20</td>\n",
       "      <td>513427.20</td>\n",
       "      <td>0.00</td>\n",
       "      <td>517267.40</td>\n",
       "    </tr>\n",
       "    <tr>\n",
       "      <td>66531</td>\n",
       "      <td>7014_7014_HSBP1015F00113_P00001_HSBP1013A00012_0</td>\n",
       "      <td>-159391.97</td>\n",
       "      <td>2757666.44</td>\n",
       "      <td>-159391.97</td>\n",
       "      <td>2757666.44</td>\n",
       "      <td>-159391.97</td>\n",
       "      <td>2757666.44</td>\n",
       "    </tr>\n",
       "    <tr>\n",
       "      <td>66532</td>\n",
       "      <td>7003_7001_HSSCCG14F00581_P00011_HSHQDC13A00039_0</td>\n",
       "      <td>-6170.50</td>\n",
       "      <td>5601815.63</td>\n",
       "      <td>-6170.50</td>\n",
       "      <td>5601815.63</td>\n",
       "      <td>-6170.50</td>\n",
       "      <td>11164500.09</td>\n",
       "    </tr>\n",
       "  </tbody>\n",
       "</table>\n",
       "<p>66533 rows × 7 columns</p>\n",
       "</div>"
      ],
      "text/plain": [
       "                        contract_transaction_unique_key  \\\n",
       "0      7012_7012_HSCEMS16F00057_P00005_HSCEMS12A00018_0   \n",
       "1        7022_7022_HSFE2015J0271_P00002_HSFE2013D0161_0   \n",
       "2         7008_-NONE-_70Z02918PX0808600_P00001_-NONE-_0   \n",
       "3         7008_-NONE-_70Z03818PW0000011_P00001_-NONE-_0   \n",
       "4         7008_-NONE-_70Z08018PP45K8500_P00001_-NONE-_0   \n",
       "...                                                 ...   \n",
       "66528     7008_-NONE-_70Z03819PD0000080_P00001_-NONE-_0   \n",
       "66529     7008_-NONE-_70Z08019P29577B00_P00001_-NONE-_0   \n",
       "66530  7014_7014_HSBP1015F00038_P00001_HSBP1013A00012_0   \n",
       "66531  7014_7014_HSBP1015F00113_P00001_HSBP1013A00012_0   \n",
       "66532  7003_7001_HSSCCG14F00581_P00011_HSHQDC13A00039_0   \n",
       "\n",
       "       federal_action_obligation  total_dollars_obligated  \\\n",
       "0                       -7702.86               6003953.42   \n",
       "1                           0.00                104830.31   \n",
       "2                       -1566.00                  2088.00   \n",
       "3                           0.00               1152695.02   \n",
       "4                       -2208.12                 13654.38   \n",
       "...                          ...                      ...   \n",
       "66528                       0.00                 17640.36   \n",
       "66529                   -8132.53                  7800.16   \n",
       "66530                   -3840.20                513427.20   \n",
       "66531                 -159391.97               2757666.44   \n",
       "66532                   -6170.50               5601815.63   \n",
       "\n",
       "       base_and_exercised_options_value  current_total_value_of_award  \\\n",
       "0                              -7702.86                    6059478.42   \n",
       "1                                  0.00                     104830.31   \n",
       "2                              -1566.00                       2088.00   \n",
       "3                                  0.00                    1152695.02   \n",
       "4                              -2208.12                      13654.38   \n",
       "...                                 ...                           ...   \n",
       "66528                              0.00                      17640.36   \n",
       "66529                          -8132.53                       7800.16   \n",
       "66530                          -3840.20                     513427.20   \n",
       "66531                        -159391.97                    2757666.44   \n",
       "66532                          -6170.50                    5601815.63   \n",
       "\n",
       "       base_and_all_options_value  potential_total_value_of_award  \n",
       "0                      -148339.00                      6067181.28  \n",
       "1                            0.00                       104830.31  \n",
       "2                        -1566.00                         2088.00  \n",
       "3                            0.00                      1152695.02  \n",
       "4                        -2208.12                        13654.38  \n",
       "...                           ...                             ...  \n",
       "66528                        0.00                        17640.36  \n",
       "66529                    -8132.53                         7800.16  \n",
       "66530                        0.00                       517267.40  \n",
       "66531                  -159391.97                      2757666.44  \n",
       "66532                    -6170.50                     11164500.09  \n",
       "\n",
       "[66533 rows x 7 columns]"
      ]
     },
     "execution_count": 6,
     "metadata": {},
     "output_type": "execute_result"
    }
   ],
   "source": [
    "df"
   ]
  },
  {
   "cell_type": "code",
   "execution_count": 7,
   "metadata": {},
   "outputs": [],
   "source": [
    "# Create 3 new features for analysis\n",
    "df['Percent awarded over potential total awarded'] = df['current_total_value_of_award'] / df['potential_total_value_of_award']\n",
    "df['Percent Cumulatively Obligated over potential total value of award'] = df['total_dollars_obligated'] / df['potential_total_value_of_award']\n",
    "df['Percent Cumulatively Obligated over total value already awarded'] = df['total_dollars_obligated'] / df['current_total_value_of_award']\n",
    "\n",
    "# Create Indicator Variable\n",
    "df['Indicator'] = df['federal_action_obligation']<-1000\n",
    "\n",
    "# set index to each transaction key\n",
    "df.set_index('contract_transaction_unique_key', inplace = True)"
   ]
  },
  {
   "cell_type": "code",
   "execution_count": 8,
   "metadata": {},
   "outputs": [],
   "source": [
    "df.drop('federal_action_obligation', axis =1, inplace = True)\n",
    "df = df.fillna(0)"
   ]
  },
  {
   "cell_type": "code",
   "execution_count": 9,
   "metadata": {},
   "outputs": [
    {
     "data": {
      "text/plain": [
       "Index(['total_dollars_obligated', 'base_and_exercised_options_value',\n",
       "       'current_total_value_of_award', 'base_and_all_options_value',\n",
       "       'potential_total_value_of_award',\n",
       "       'Percent awarded over potential total awarded',\n",
       "       'Percent Cumulatively Obligated over potential total value of award',\n",
       "       'Percent Cumulatively Obligated over total value already awarded',\n",
       "       'Indicator'],\n",
       "      dtype='object')"
      ]
     },
     "execution_count": 9,
     "metadata": {},
     "output_type": "execute_result"
    }
   ],
   "source": [
    "df.columns"
   ]
  },
  {
   "cell_type": "code",
   "execution_count": 10,
   "metadata": {},
   "outputs": [
    {
     "data": {
      "text/plain": [
       "(66533, 9)"
      ]
     },
     "execution_count": 10,
     "metadata": {},
     "output_type": "execute_result"
    }
   ],
   "source": [
    "df.shape"
   ]
  },
  {
   "cell_type": "code",
   "execution_count": 11,
   "metadata": {},
   "outputs": [
    {
     "data": {
      "text/plain": [
       "total_dollars_obligated                                               float64\n",
       "base_and_exercised_options_value                                      float64\n",
       "current_total_value_of_award                                          float64\n",
       "base_and_all_options_value                                            float64\n",
       "potential_total_value_of_award                                        float64\n",
       "Percent awarded over potential total awarded                          float64\n",
       "Percent Cumulatively Obligated over potential total value of award    float64\n",
       "Percent Cumulatively Obligated over total value already awarded       float64\n",
       "Indicator                                                                bool\n",
       "dtype: object"
      ]
     },
     "execution_count": 11,
     "metadata": {},
     "output_type": "execute_result"
    }
   ],
   "source": [
    "df.dtypes"
   ]
  },
  {
   "cell_type": "code",
   "execution_count": 12,
   "metadata": {},
   "outputs": [
    {
     "data": {
      "text/plain": [
       "0.08897840169539928"
      ]
     },
     "execution_count": 12,
     "metadata": {},
     "output_type": "execute_result"
    }
   ],
   "source": [
    "df['Indicator'].sum()/len(df)"
   ]
  },
  {
   "cell_type": "markdown",
   "metadata": {},
   "source": [
    "# Beginning of Regression Analysis"
   ]
  },
  {
   "cell_type": "code",
   "execution_count": 13,
   "metadata": {},
   "outputs": [
    {
     "data": {
      "image/png": "[encoded data removed]",
      "text/plain": [
       "<Figure size 432x288 with 1 Axes>"
      ]
     },
     "metadata": {
      "needs_background": "light"
     },
     "output_type": "display_data"
    },
    {
     "data": {
      "image/png": "[encoded data removed]",
      "text/plain": [
       "<Figure size 432x288 with 1 Axes>"
      ]
     },
     "metadata": {
      "needs_background": "light"
     },
     "output_type": "display_data"
    },
    {
     "data": {
      "image/png": "[encoded data removed]",
      "text/plain": [
       "<Figure size 432x288 with 1 Axes>"
      ]
     },
     "metadata": {
      "needs_background": "light"
     },
     "output_type": "display_data"
    },
    {
     "data": {
      "image/png": "[encoded data removed]",
      "text/plain": [
       "<Figure size 432x288 with 1 Axes>"
      ]
     },
     "metadata": {
      "needs_background": "light"
     },
     "output_type": "display_data"
    },
    {
     "data": {
      "image/png": "[encoded data removed]",
      "text/plain": [
       "<Figure size 432x288 with 1 Axes>"
      ]
     },
     "metadata": {
      "needs_background": "light"
     },
     "output_type": "display_data"
    },
    {
     "data": {
      "image/png": "[encoded data removed]",
      "text/plain": [
       "<Figure size 432x288 with 1 Axes>"
      ]
     },
     "metadata": {
      "needs_background": "light"
     },
     "output_type": "display_data"
    },
    {
     "data": {
      "image/png": "[encoded data removed]",
      "text/plain": [
       "<Figure size 432x288 with 1 Axes>"
      ]
     },
     "metadata": {
      "needs_background": "light"
     },
     "output_type": "display_data"
    },
    {
     "data": {
      "image/png": "[encoded data removed]",
      "text/plain": [
       "<Figure size 432x288 with 1 Axes>"
      ]
     },
     "metadata": {
      "needs_background": "light"
     },
     "output_type": "display_data"
    }
   ],
   "source": [
    "# Show Scatterplot of all features against indicator variable to discern any immediate relationships\n",
    "features = len(df.columns) - 1\n",
    "for i in range(features):\n",
    "    fig = pyplot.figure()\n",
    "    #mask  = y == 1\n",
    "    pyplot.scatter(df.iloc[:,i], df.iloc[:,-1])\n",
    "\n",
    "   \n",
    "    # add axes labels\n",
    "    pyplot.xlabel(df.columns[i])\n",
    "    pyplot.ylabel(df.columns[-1])\n",
    "    #pyplot.legend(['Sweep', 'Not a Sweep'])\n",
    "    pass"
   ]
  },
  {
   "cell_type": "code",
   "execution_count": 14,
   "metadata": {},
   "outputs": [],
   "source": [
    "# Create matrix of feature variables and our dependent variable\n",
    "X, y =  df.iloc[:,:-1], df.loc[:,'Indicator']\n",
    "\n",
    "# convert y to np.array of 0s and 1s\n",
    "y = np.array(y.astype(int))\n"
   ]
  },
  {
   "cell_type": "code",
   "execution_count": 15,
   "metadata": {},
   "outputs": [],
   "source": [
    "#train the data \n",
    "X_train, X_test, y_train, y_test = train_test_split(X, y, test_size=0.2)\n"
   ]
  },
  {
   "cell_type": "code",
   "execution_count": 16,
   "metadata": {},
   "outputs": [
    {
     "data": {
      "text/plain": [
       "(13307, 8)"
      ]
     },
     "execution_count": 16,
     "metadata": {},
     "output_type": "execute_result"
    }
   ],
   "source": [
    "X_test.shape"
   ]
  },
  {
   "cell_type": "code",
   "execution_count": 17,
   "metadata": {},
   "outputs": [],
   "source": [
    "# Setup the data matrix appropriately, and add ones for the intercept term\n",
    "m_train, n_train = X_train.shape\n",
    "m_test, n_test = X_test.shape\n",
    "# Add intercept term to X\n",
    "X_train = np.concatenate([np.ones((m_train, 1)), X_train], axis=1)\n",
    "X_test = np.concatenate([np.ones((m_test, 1)), X_test], axis=1)\n",
    "\n"
   ]
  },
  {
   "cell_type": "code",
   "execution_count": 18,
   "metadata": {},
   "outputs": [
    {
     "name": "stderr",
     "output_type": "stream",
     "text": [
      "C:\\Users\\belincoln\\AppData\\Local\\Continuum\\anaconda3\\lib\\site-packages\\sklearn\\linear_model\\logistic.py:432: FutureWarning: Default solver will be changed to 'lbfgs' in 0.22. Specify a solver to silence this warning.\n",
      "  FutureWarning)\n"
     ]
    }
   ],
   "source": [
    "log_model = LogisticRegression().fit(X_train, y_train)"
   ]
  },
  {
   "cell_type": "code",
   "execution_count": 19,
   "metadata": {},
   "outputs": [
    {
     "data": {
      "text/plain": [
       "array([[-1.84848423e-08,  1.73826897e-08, -4.74973198e-05,\n",
       "        -3.63175467e-08, -1.24784882e-07, -2.62022254e-08,\n",
       "        -1.61427996e-08, -1.59975128e-08, -1.73016011e-08]])"
      ]
     },
     "execution_count": 19,
     "metadata": {},
     "output_type": "execute_result"
    }
   ],
   "source": [
    "log_model.coef_"
   ]
  },
  {
   "cell_type": "code",
   "execution_count": 20,
   "metadata": {},
   "outputs": [],
   "source": [
    "theta = log_model.coef_[0]"
   ]
  },
  {
   "cell_type": "code",
   "execution_count": 21,
   "metadata": {},
   "outputs": [
    {
     "name": "stdout",
     "output_type": "stream",
     "text": [
      "-1.848484228959751e-08\n"
     ]
    }
   ],
   "source": [
    "print(theta[0])"
   ]
  },
  {
   "cell_type": "code",
   "execution_count": 22,
   "metadata": {},
   "outputs": [],
   "source": [
    "def sigmoid(z):\n",
    "    \"\"\"\n",
    "    Compute sigmoid function given the input z.\n",
    "    \n",
    "    Parameters\n",
    "    ----------\n",
    "    z : array_like\n",
    "        The input to the sigmoid function. This can be a 1-D vector \n",
    "        or a 2-D matrix. \n",
    "    \n",
    "    Returns\n",
    "    -------\n",
    "    g : array_like\n",
    "        The computed sigmoid function. g has the same shape as z, since\n",
    "        the sigmoid is computed element-wise on z.\n",
    "        \n",
    "    Instructions\n",
    "    ------------\n",
    "    Compute the sigmoid of each value of z (z can be a matrix, vector or scalar).\n",
    "    \"\"\"\n",
    "    # convert input to a numpy array\n",
    "    z = np.array(z)\n",
    "    \n",
    "    # You need to return the following variables correctly \n",
    "    g = np.zeros(z.shape)\n",
    "\n",
    "    temp = 1 + np.power(np.e,-z)\n",
    "    g = 1 / temp\n",
    "    \n",
    "\n",
    "    return g"
   ]
  },
  {
   "cell_type": "code",
   "execution_count": 23,
   "metadata": {},
   "outputs": [
    {
     "name": "stderr",
     "output_type": "stream",
     "text": [
      "C:\\Users\\belincoln\\AppData\\Local\\Continuum\\anaconda3\\lib\\site-packages\\ipykernel_launcher.py:27: RuntimeWarning: overflow encountered in power\n"
     ]
    }
   ],
   "source": [
    "pred = sigmoid(np.dot(X_test,theta))"
   ]
  },
  {
   "cell_type": "code",
   "execution_count": 24,
   "metadata": {},
   "outputs": [
    {
     "data": {
      "text/plain": [
       "<matplotlib.collections.PathCollection at 0x24bf5c280c8>"
      ]
     },
     "execution_count": 24,
     "metadata": {},
     "output_type": "execute_result"
    },
    {
     "data": {
      "image/png": "[encoded data removed]",
      "text/plain": [
       "<Figure size 432x288 with 1 Axes>"
      ]
     },
     "metadata": {
      "needs_background": "light"
     },
     "output_type": "display_data"
    }
   ],
   "source": [
    "fig = pyplot.figure\n",
    "pyplot.scatter(np.arange(len(pred)), pred)"
   ]
  },
  {
   "cell_type": "code",
   "execution_count": null,
   "metadata": {},
   "outputs": [],
   "source": []
  },
  {
   "cell_type": "code",
   "execution_count": 25,
   "metadata": {},
   "outputs": [
    {
     "name": "stderr",
     "output_type": "stream",
     "text": [
      "C:\\Users\\belincoln\\AppData\\Local\\Continuum\\anaconda3\\lib\\site-packages\\ipykernel_launcher.py:27: RuntimeWarning: overflow encountered in power\n"
     ]
    }
   ],
   "source": [
    "# Now we will test our model using the test_set\n",
    "pred = sigmoid(np.dot(X_test,theta))"
   ]
  },
  {
   "cell_type": "code",
   "execution_count": 26,
   "metadata": {},
   "outputs": [],
   "source": [
    "# Convert probabilty of de-obligation into prediction\n",
    "pred = pred > .5\n",
    "# Convert to int\n",
    "pred = np.array(pred.astype(int))"
   ]
  },
  {
   "cell_type": "code",
   "execution_count": 27,
   "metadata": {},
   "outputs": [],
   "source": [
    "test = pred == y_test"
   ]
  },
  {
   "cell_type": "code",
   "execution_count": 28,
   "metadata": {},
   "outputs": [
    {
     "data": {
      "text/plain": [
       "0.9661832118433907"
      ]
     },
     "execution_count": 28,
     "metadata": {},
     "output_type": "execute_result"
    }
   ],
   "source": [
    "test.sum()/len(test)"
   ]
  },
  {
   "cell_type": "code",
   "execution_count": 29,
   "metadata": {},
   "outputs": [],
   "source": [
    "# Really what we are looking for here \n",
    "# is how many times a de-obligation occured and we were able to predict it?"
   ]
  },
  {
   "cell_type": "code",
   "execution_count": 30,
   "metadata": {},
   "outputs": [],
   "source": [
    "# Also percentage of false positives: how many times did we predict a de-obligation and \n",
    "# it did not occur?"
   ]
  },
  {
   "cell_type": "code",
   "execution_count": 31,
   "metadata": {},
   "outputs": [],
   "source": [
    "data = {'predicted value' : pred, 'test value': y_test}\n",
    "df = pd.DataFrame(data)"
   ]
  },
  {
   "cell_type": "code",
   "execution_count": 32,
   "metadata": {},
   "outputs": [
    {
     "name": "stdout",
     "output_type": "stream",
     "text": [
      "Size of Test set: 13307\n",
      "Percentage of significant de-obligations: 0.09070414067783873\n",
      "Number of significant de-obligations in test set: 1207\n",
      "Number of predicted significant de-obligations: 1145\n",
      "Percentage of de-obligations correctly predicted: 0.9486329743164872\n",
      "\n"
     ]
    }
   ],
   "source": [
    "correct_preds = df[df['test value'] == 1]\n",
    "correct_preds2 = correct_preds[correct_preds['predicted value'] ==1]\n",
    "print('Size of Test set: ' + str(len(df)))\n",
    "print('Percentage of significant de-obligations: ' + str(len(correct_preds)/len(df)))\n",
    "print('Number of significant de-obligations in test set: ' + str(len(correct_preds)))\n",
    "print('Number of predicted significant de-obligations: ' + str(len(correct_preds2)))\n",
    "print('Percentage of de-obligations correctly predicted: ' + str(len(correct_preds2)/len(correct_preds)))\n",
    "print('')"
   ]
  },
  {
   "cell_type": "code",
   "execution_count": 33,
   "metadata": {},
   "outputs": [
    {
     "name": "stdout",
     "output_type": "stream",
     "text": [
      "Number of False Positives: 388\n",
      "Rate of False Positives: 0.0291575862328098\n"
     ]
    }
   ],
   "source": [
    "# Show the rate of False Positives: Times the model predicted a de-obligation, yet there wasn't one\n",
    "\n",
    "false_pos = df[df['predicted value'] == 1]\n",
    "false_pos2 = false_pos[false_pos['test value'] == 0]\n",
    "\n",
    "print('Number of False Positives: ' + str(len(false_pos2)))\n",
    "print('Rate of False Positives: ' + str(len(false_pos2)/len(df)))"
   ]
  },
  {
   "cell_type": "code",
   "execution_count": 34,
   "metadata": {},
   "outputs": [
    {
     "name": "stdout",
     "output_type": "stream",
     "text": [
      "Number of False Negatives: 62\n",
      "Rate of False Negative: 0.004659201923799504\n"
     ]
    }
   ],
   "source": [
    "# Rate of False Negatives: A de-obligation occurs, but the model did not predict it. \n",
    "false_neg = df[df['predicted value'] == 0]\n",
    "false_neg2 = false_neg[false_neg['test value'] == 1]\n",
    "print('Number of False Negatives: ' + str(len(false_neg2)))\n",
    "print('Rate of False Negative: ' + str(len(false_neg2)/len(df)))"
   ]
  }
 ],
 "metadata": {
  "kernelspec": {
   "display_name": "Python 3",
   "language": "python",
   "name": "python3"
  },
  "language_info": {
   "codemirror_mode": {
    "name": "ipython",
    "version": 3
   },
   "file_extension": ".py",
   "mimetype": "text/x-python",
   "name": "python",
   "nbconvert_exporter": "python",
   "pygments_lexer": "ipython3",
   "version": "3.7.4"
  }
 },
 "nbformat": 4,
 "nbformat_minor": 2
}
