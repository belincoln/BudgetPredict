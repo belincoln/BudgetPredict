{
 "cells": [
  {
   "cell_type": "code",
   "execution_count": 123,
   "metadata": {},
   "outputs": [],
   "source": [
    "#%store -r df"
   ]
  },
  {
   "cell_type": "code",
   "execution_count": 1,
   "metadata": {},
   "outputs": [],
   "source": [
    "# used for manipulating directory paths\n",
    "import os\n",
    "\n",
    "# Scientific and vector computation for python\n",
    "import numpy as np\n",
    "import pandas as pd\n",
    "\n",
    "# Plotting library\n",
    "from matplotlib import pyplot\n",
    "\n",
    "# import function to split data into train and test dfs\n",
    "from sklearn.model_selection import train_test_split\n",
    "\n",
    "# Optimization module in scipy\n",
    "from scipy import optimize"
   ]
  },
  {
   "cell_type": "code",
   "execution_count": null,
   "metadata": {},
   "outputs": [],
   "source": [
    "# tells matplotlib to embed plots within the notebook\n",
    "#%matplotlib inline"
   ]
  },
  {
   "cell_type": "code",
   "execution_count": 3,
   "metadata": {},
   "outputs": [
    {
     "name": "stdout",
     "output_type": "stream",
     "text": [
      "C:\\Users\\belincoln\\repos\\BudgetPredict\\data\n"
     ]
    }
   ],
   "source": [
    "os.chdir('C:\\\\Users\\\\belincoln\\\\repos\\\\BudgetPredict')\n",
    "# Set working directory to the data folder so you can correctly read in the csv files\n",
    "%cd data"
   ]
  },
  {
   "cell_type": "code",
   "execution_count": 4,
   "metadata": {},
   "outputs": [],
   "source": [
    "# Read data from DHS Contracts\n",
    "df = pd.read_csv('FY2019_070_Contracts_Full_20200110_1.csv', header = 0, usecols = ['contract_transaction_unique_key', \n",
    "                        'federal_action_obligation','total_dollars_obligated', 'base_and_exercised_options_value', \n",
    "                        'current_total_value_of_award', 'base_and_all_options_value','potential_total_value_of_award'],\n",
    "                 dtype = {'contract_transaction_unique_key':'str','federal_action_obligation': 'float',\n",
    "                        'total_dollars_obligated': 'float', 'base_and_exercised_options_value': 'float', \n",
    "                        'current_total_value_of_award': 'float', 'base_and_all_options_value': 'float',\n",
    "                        'potential_total_value_of_award': 'float'})"
   ]
  },
  {
   "cell_type": "code",
   "execution_count": 5,
   "metadata": {},
   "outputs": [
    {
     "data": {
      "text/html": [
       "<div>\n",
       "<style scoped>\n",
       "    .dataframe tbody tr th:only-of-type {\n",
       "        vertical-align: middle;\n",
       "    }\n",
       "\n",
       "    .dataframe tbody tr th {\n",
       "        vertical-align: top;\n",
       "    }\n",
       "\n",
       "    .dataframe thead th {\n",
       "        text-align: right;\n",
       "    }\n",
       "</style>\n",
       "<table border=\"1\" class=\"dataframe\">\n",
       "  <thead>\n",
       "    <tr style=\"text-align: right;\">\n",
       "      <th></th>\n",
       "      <th>contract_transaction_unique_key</th>\n",
       "      <th>federal_action_obligation</th>\n",
       "      <th>total_dollars_obligated</th>\n",
       "      <th>base_and_exercised_options_value</th>\n",
       "      <th>current_total_value_of_award</th>\n",
       "      <th>base_and_all_options_value</th>\n",
       "      <th>potential_total_value_of_award</th>\n",
       "    </tr>\n",
       "  </thead>\n",
       "  <tbody>\n",
       "    <tr>\n",
       "      <td>0</td>\n",
       "      <td>7012_7012_HSCEMS16F00057_P00005_HSCEMS12A00018_0</td>\n",
       "      <td>-7702.86</td>\n",
       "      <td>6003953.42</td>\n",
       "      <td>-7702.86</td>\n",
       "      <td>6059478.42</td>\n",
       "      <td>-148339.00</td>\n",
       "      <td>6067181.28</td>\n",
       "    </tr>\n",
       "    <tr>\n",
       "      <td>1</td>\n",
       "      <td>7022_7022_HSFE2015J0271_P00002_HSFE2013D0161_0</td>\n",
       "      <td>0.00</td>\n",
       "      <td>104830.31</td>\n",
       "      <td>0.00</td>\n",
       "      <td>104830.31</td>\n",
       "      <td>0.00</td>\n",
       "      <td>104830.31</td>\n",
       "    </tr>\n",
       "    <tr>\n",
       "      <td>2</td>\n",
       "      <td>7008_-NONE-_70Z02918PX0808600_P00001_-NONE-_0</td>\n",
       "      <td>-1566.00</td>\n",
       "      <td>2088.00</td>\n",
       "      <td>-1566.00</td>\n",
       "      <td>2088.00</td>\n",
       "      <td>-1566.00</td>\n",
       "      <td>2088.00</td>\n",
       "    </tr>\n",
       "    <tr>\n",
       "      <td>3</td>\n",
       "      <td>7008_-NONE-_70Z03818PW0000011_P00001_-NONE-_0</td>\n",
       "      <td>0.00</td>\n",
       "      <td>1152695.02</td>\n",
       "      <td>0.00</td>\n",
       "      <td>1152695.02</td>\n",
       "      <td>0.00</td>\n",
       "      <td>1152695.02</td>\n",
       "    </tr>\n",
       "    <tr>\n",
       "      <td>4</td>\n",
       "      <td>7008_-NONE-_70Z08018PP45K8500_P00001_-NONE-_0</td>\n",
       "      <td>-2208.12</td>\n",
       "      <td>13654.38</td>\n",
       "      <td>-2208.12</td>\n",
       "      <td>13654.38</td>\n",
       "      <td>-2208.12</td>\n",
       "      <td>13654.38</td>\n",
       "    </tr>\n",
       "    <tr>\n",
       "      <td>...</td>\n",
       "      <td>...</td>\n",
       "      <td>...</td>\n",
       "      <td>...</td>\n",
       "      <td>...</td>\n",
       "      <td>...</td>\n",
       "      <td>...</td>\n",
       "      <td>...</td>\n",
       "    </tr>\n",
       "    <tr>\n",
       "      <td>66528</td>\n",
       "      <td>7008_-NONE-_70Z03819PD0000080_P00001_-NONE-_0</td>\n",
       "      <td>0.00</td>\n",
       "      <td>17640.36</td>\n",
       "      <td>0.00</td>\n",
       "      <td>17640.36</td>\n",
       "      <td>0.00</td>\n",
       "      <td>17640.36</td>\n",
       "    </tr>\n",
       "    <tr>\n",
       "      <td>66529</td>\n",
       "      <td>7008_-NONE-_70Z08019P29577B00_P00001_-NONE-_0</td>\n",
       "      <td>-8132.53</td>\n",
       "      <td>7800.16</td>\n",
       "      <td>-8132.53</td>\n",
       "      <td>7800.16</td>\n",
       "      <td>-8132.53</td>\n",
       "      <td>7800.16</td>\n",
       "    </tr>\n",
       "    <tr>\n",
       "      <td>66530</td>\n",
       "      <td>7014_7014_HSBP1015F00038_P00001_HSBP1013A00012_0</td>\n",
       "      <td>-3840.20</td>\n",
       "      <td>513427.20</td>\n",
       "      <td>-3840.20</td>\n",
       "      <td>513427.20</td>\n",
       "      <td>0.00</td>\n",
       "      <td>517267.40</td>\n",
       "    </tr>\n",
       "    <tr>\n",
       "      <td>66531</td>\n",
       "      <td>7014_7014_HSBP1015F00113_P00001_HSBP1013A00012_0</td>\n",
       "      <td>-159391.97</td>\n",
       "      <td>2757666.44</td>\n",
       "      <td>-159391.97</td>\n",
       "      <td>2757666.44</td>\n",
       "      <td>-159391.97</td>\n",
       "      <td>2757666.44</td>\n",
       "    </tr>\n",
       "    <tr>\n",
       "      <td>66532</td>\n",
       "      <td>7003_7001_HSSCCG14F00581_P00011_HSHQDC13A00039_0</td>\n",
       "      <td>-6170.50</td>\n",
       "      <td>5601815.63</td>\n",
       "      <td>-6170.50</td>\n",
       "      <td>5601815.63</td>\n",
       "      <td>-6170.50</td>\n",
       "      <td>11164500.09</td>\n",
       "    </tr>\n",
       "  </tbody>\n",
       "</table>\n",
       "<p>66533 rows × 7 columns</p>\n",
       "</div>"
      ],
      "text/plain": [
       "                        contract_transaction_unique_key  \\\n",
       "0      7012_7012_HSCEMS16F00057_P00005_HSCEMS12A00018_0   \n",
       "1        7022_7022_HSFE2015J0271_P00002_HSFE2013D0161_0   \n",
       "2         7008_-NONE-_70Z02918PX0808600_P00001_-NONE-_0   \n",
       "3         7008_-NONE-_70Z03818PW0000011_P00001_-NONE-_0   \n",
       "4         7008_-NONE-_70Z08018PP45K8500_P00001_-NONE-_0   \n",
       "...                                                 ...   \n",
       "66528     7008_-NONE-_70Z03819PD0000080_P00001_-NONE-_0   \n",
       "66529     7008_-NONE-_70Z08019P29577B00_P00001_-NONE-_0   \n",
       "66530  7014_7014_HSBP1015F00038_P00001_HSBP1013A00012_0   \n",
       "66531  7014_7014_HSBP1015F00113_P00001_HSBP1013A00012_0   \n",
       "66532  7003_7001_HSSCCG14F00581_P00011_HSHQDC13A00039_0   \n",
       "\n",
       "       federal_action_obligation  total_dollars_obligated  \\\n",
       "0                       -7702.86               6003953.42   \n",
       "1                           0.00                104830.31   \n",
       "2                       -1566.00                  2088.00   \n",
       "3                           0.00               1152695.02   \n",
       "4                       -2208.12                 13654.38   \n",
       "...                          ...                      ...   \n",
       "66528                       0.00                 17640.36   \n",
       "66529                   -8132.53                  7800.16   \n",
       "66530                   -3840.20                513427.20   \n",
       "66531                 -159391.97               2757666.44   \n",
       "66532                   -6170.50               5601815.63   \n",
       "\n",
       "       base_and_exercised_options_value  current_total_value_of_award  \\\n",
       "0                              -7702.86                    6059478.42   \n",
       "1                                  0.00                     104830.31   \n",
       "2                              -1566.00                       2088.00   \n",
       "3                                  0.00                    1152695.02   \n",
       "4                              -2208.12                      13654.38   \n",
       "...                                 ...                           ...   \n",
       "66528                              0.00                      17640.36   \n",
       "66529                          -8132.53                       7800.16   \n",
       "66530                          -3840.20                     513427.20   \n",
       "66531                        -159391.97                    2757666.44   \n",
       "66532                          -6170.50                    5601815.63   \n",
       "\n",
       "       base_and_all_options_value  potential_total_value_of_award  \n",
       "0                      -148339.00                      6067181.28  \n",
       "1                            0.00                       104830.31  \n",
       "2                        -1566.00                         2088.00  \n",
       "3                            0.00                      1152695.02  \n",
       "4                        -2208.12                        13654.38  \n",
       "...                           ...                             ...  \n",
       "66528                        0.00                        17640.36  \n",
       "66529                    -8132.53                         7800.16  \n",
       "66530                        0.00                       517267.40  \n",
       "66531                  -159391.97                      2757666.44  \n",
       "66532                    -6170.50                     11164500.09  \n",
       "\n",
       "[66533 rows x 7 columns]"
      ]
     },
     "execution_count": 5,
     "metadata": {},
     "output_type": "execute_result"
    }
   ],
   "source": [
    "df"
   ]
  },
  {
   "cell_type": "code",
   "execution_count": 6,
   "metadata": {},
   "outputs": [],
   "source": [
    "# Create 3 new features for analysis\n",
    "df['Percent awarded over potential total awarded'] = df['current_total_value_of_award'] / df['potential_total_value_of_award']\n",
    "df['Percent Cumulatively Obligated over potential total value of award'] = df['total_dollars_obligated'] / df['potential_total_value_of_award']\n",
    "df['Percent Cumulatively Obligated over total value already awarded'] = df['total_dollars_obligated'] / df['current_total_value_of_award']\n",
    "\n",
    "# Create Indicator Variable\n",
    "df['Indicator'] = df['federal_action_obligation']<-1000\n",
    "\n",
    "# set index to each transaction key\n",
    "df.set_index('contract_transaction_unique_key', inplace = True)"
   ]
  },
  {
   "cell_type": "code",
   "execution_count": 7,
   "metadata": {},
   "outputs": [],
   "source": [
    "df.drop('federal_action_obligation', axis =1, inplace = True)\n",
    "df = df.fillna(0)"
   ]
  },
  {
   "cell_type": "code",
   "execution_count": 8,
   "metadata": {},
   "outputs": [
    {
     "data": {
      "text/plain": [
       "Index(['total_dollars_obligated', 'base_and_exercised_options_value',\n",
       "       'current_total_value_of_award', 'base_and_all_options_value',\n",
       "       'potential_total_value_of_award',\n",
       "       'Percent awarded over potential total awarded',\n",
       "       'Percent Cumulatively Obligated over potential total value of award',\n",
       "       'Percent Cumulatively Obligated over total value already awarded',\n",
       "       'Indicator'],\n",
       "      dtype='object')"
      ]
     },
     "execution_count": 8,
     "metadata": {},
     "output_type": "execute_result"
    }
   ],
   "source": [
    "df.columns"
   ]
  },
  {
   "cell_type": "code",
   "execution_count": 9,
   "metadata": {},
   "outputs": [
    {
     "data": {
      "text/plain": [
       "(66533, 9)"
      ]
     },
     "execution_count": 9,
     "metadata": {},
     "output_type": "execute_result"
    }
   ],
   "source": [
    "df.shape"
   ]
  },
  {
   "cell_type": "code",
   "execution_count": 10,
   "metadata": {},
   "outputs": [
    {
     "data": {
      "text/plain": [
       "total_dollars_obligated                                               float64\n",
       "base_and_exercised_options_value                                      float64\n",
       "current_total_value_of_award                                          float64\n",
       "base_and_all_options_value                                            float64\n",
       "potential_total_value_of_award                                        float64\n",
       "Percent awarded over potential total awarded                          float64\n",
       "Percent Cumulatively Obligated over potential total value of award    float64\n",
       "Percent Cumulatively Obligated over total value already awarded       float64\n",
       "Indicator                                                                bool\n",
       "dtype: object"
      ]
     },
     "execution_count": 10,
     "metadata": {},
     "output_type": "execute_result"
    }
   ],
   "source": [
    "df.dtypes"
   ]
  },
  {
   "cell_type": "code",
   "execution_count": 11,
   "metadata": {},
   "outputs": [
    {
     "data": {
      "text/plain": [
       "0.08897840169539928"
      ]
     },
     "execution_count": 11,
     "metadata": {},
     "output_type": "execute_result"
    }
   ],
   "source": [
    "df['Indicator'].sum()/len(df)"
   ]
  },
  {
   "cell_type": "markdown",
   "metadata": {},
   "source": [
    "# Beginning of Regression Analysis"
   ]
  },
  {
   "cell_type": "code",
   "execution_count": 12,
   "metadata": {},
   "outputs": [
    {
     "data": {
      "image/png": "[encoded data removed]",
      "text/plain": [
       "<Figure size 432x288 with 1 Axes>"
      ]
     },
     "metadata": {
      "needs_background": "light"
     },
     "output_type": "display_data"
    },
    {
     "data": {
      "image/png": "[encoded data removed]",
      "text/plain": [
       "<Figure size 432x288 with 1 Axes>"
      ]
     },
     "metadata": {
      "needs_background": "light"
     },
     "output_type": "display_data"
    },
    {
     "data": {
      "image/png": "[encoded data removed]",
      "text/plain": [
       "<Figure size 432x288 with 1 Axes>"
      ]
     },
     "metadata": {
      "needs_background": "light"
     },
     "output_type": "display_data"
    },
    {
     "data": {
      "image/png": "[encoded data removed]",
      "text/plain": [
       "<Figure size 432x288 with 1 Axes>"
      ]
     },
     "metadata": {
      "needs_background": "light"
     },
     "output_type": "display_data"
    },
    {
     "data": {
      "image/png": "[encoded data removed]",
      "text/plain": [
       "<Figure size 432x288 with 1 Axes>"
      ]
     },
     "metadata": {
      "needs_background": "light"
     },
     "output_type": "display_data"
    },
    {
     "data": {
      "image/png": "[encoded data removed]",
      "text/plain": [
       "<Figure size 432x288 with 1 Axes>"
      ]
     },
     "metadata": {
      "needs_background": "light"
     },
     "output_type": "display_data"
    },
    {
     "data": {
      "image/png": "[encoded data removed]",
      "text/plain": [
       "<Figure size 432x288 with 1 Axes>"
      ]
     },
     "metadata": {
      "needs_background": "light"
     },
     "output_type": "display_data"
    },
    {
     "data": {
      "image/png": "[encoded data removed]",
      "text/plain": [
       "<Figure size 432x288 with 1 Axes>"
      ]
     },
     "metadata": {
      "needs_background": "light"
     },
     "output_type": "display_data"
    }
   ],
   "source": [
    "# Show Scatterplot of all features against indicator variable to discern any immediate relationships\n",
    "features = len(df.columns) - 1\n",
    "for i in range(features):\n",
    "    fig = pyplot.figure()\n",
    "    #mask  = y == 1\n",
    "    pyplot.scatter(df.iloc[:,i], df.iloc[:,-1])\n",
    "\n",
    "   \n",
    "    # add axes labels\n",
    "    pyplot.xlabel(df.columns[i])\n",
    "    pyplot.ylabel(df.columns[-1])\n",
    "    #pyplot.legend(['Sweep', 'Not a Sweep'])\n",
    "    pass"
   ]
  },
  {
   "cell_type": "code",
   "execution_count": 13,
   "metadata": {},
   "outputs": [],
   "source": [
    "# Create matrix of feature variables and our dependent variable\n",
    "X, y =  df.iloc[:,:-1], df.loc[:,'Indicator']\n",
    "\n",
    "# convert y to np.array of 0s and 1s\n",
    "y = np.array(y.astype(int))\n"
   ]
  },
  {
   "cell_type": "code",
   "execution_count": 14,
   "metadata": {},
   "outputs": [],
   "source": [
    "#train the data \n",
    "X, X_test, y, y_test = train_test_split(X, y, test_size=0.2)\n"
   ]
  },
  {
   "cell_type": "code",
   "execution_count": 15,
   "metadata": {},
   "outputs": [
    {
     "data": {
      "text/plain": [
       "(13307, 8)"
      ]
     },
     "execution_count": 15,
     "metadata": {},
     "output_type": "execute_result"
    }
   ],
   "source": [
    "X_test.shape"
   ]
  },
  {
   "cell_type": "code",
   "execution_count": 16,
   "metadata": {},
   "outputs": [],
   "source": [
    "# Setup the data matrix appropriately, and add ones for the intercept term\n",
    "m, n = X.shape\n",
    "m_test, n_test = X_test.shape\n",
    "# Add intercept term to X\n",
    "X = np.concatenate([np.ones((m, 1)), X], axis=1)\n",
    "X_test = np.concatenate([np.ones((m_test, 1)), X_test], axis=1)\n",
    "\n"
   ]
  },
  {
   "cell_type": "markdown",
   "metadata": {},
   "source": [
    "<a id=\"section1\"></a>\n",
    "\n",
    "#### Sigmoid function\n",
    "\n",
    "the logistic regression hypothesis is defined as:\n",
    "\n",
    "$$ h_\\theta(x) = g(\\theta^T x)$$\n",
    "\n",
    "where function $g$ is the sigmoid function. The sigmoid function is defined as: \n",
    "\n",
    "$$g(z) = \\frac{1}{1+e^{-z}}$$.\n",
    "\n",
    " For large positive values of `x`, the sigmoid should be close to 1, while for large negative values, the sigmoid should be close to 0. Evaluating `sigmoid(0)` should give you exactly 0.5. \n",
    " \n",
    " This is used for classification models (rather than regresssion models).\n",
    " \n",
    "<a id=\"sigmoid\"></a>"
   ]
  },
  {
   "cell_type": "code",
   "execution_count": 17,
   "metadata": {},
   "outputs": [],
   "source": [
    "def sigmoid(z):\n",
    "    \"\"\"\n",
    "    Compute sigmoid function given the input z.\n",
    "    \n",
    "    Parameters\n",
    "    ----------\n",
    "    z : array_like\n",
    "        The input to the sigmoid function. This can be a 1-D vector \n",
    "        or a 2-D matrix. \n",
    "    \n",
    "    Returns\n",
    "    -------\n",
    "    g : array_like\n",
    "        The computed sigmoid function. g has the same shape as z, since\n",
    "        the sigmoid is computed element-wise on z.\n",
    "        \n",
    "    Instructions\n",
    "    ------------\n",
    "    Compute the sigmoid of each value of z (z can be a matrix, vector or scalar).\n",
    "    \"\"\"\n",
    "    # convert input to a numpy array\n",
    "    z = np.array(z)\n",
    "    \n",
    "    # You need to return the following variables correctly \n",
    "    g = np.zeros(z.shape)\n",
    "\n",
    "    temp = 1 + np.power(np.e,-z)\n",
    "    g = 1 / temp\n",
    "    \n",
    "\n",
    "    return g"
   ]
  },
  {
   "cell_type": "markdown",
   "metadata": {},
   "source": [
    "Develop a function `costFunction` to return the cost and gradient. Recall that the cost function in logistic regression is\n",
    "\n",
    "$$ J(\\theta) = \\frac{1}{m} \\sum_{i=1}^{m} \\left[ -y^{(i)} \\log\\left(h_\\theta\\left( x^{(i)} \\right) \\right) - \\left( 1 - y^{(i)}\\right) \\log \\left( 1 - h_\\theta\\left( x^{(i)} \\right) \\right) \\right]$$\n",
    "\n",
    "and the gradient (derivative) of the cost is a vector of the same length as $\\theta$ where the $j^{th}$\n",
    "element (for $j = 0, 1, \\cdots , n$) is defined as follows:\n",
    "\n",
    "$$ \\frac{\\partial J(\\theta)}{\\partial \\theta_j} = \\frac{1}{m} \\sum_{i=1}^m \\left( h_\\theta \\left( x^{(i)} \\right) - y^{(i)} \\right) x_j^{(i)} $$\n",
    "\n",
    "Note that while this gradient looks identical to the linear regression gradient, the formula is actually different because linear and logistic regression have different definitions of $h_\\theta(x)$.\n"
   ]
  },
  {
   "cell_type": "code",
   "execution_count": 18,
   "metadata": {},
   "outputs": [],
   "source": [
    "def costFunction(theta, X, y):\n",
    "    \"\"\"\n",
    "    Compute cost and gradient for logistic regression. \n",
    "    \n",
    "    Parameters\n",
    "    ----------\n",
    "    theta : array_like\n",
    "        The parameters for logistic regression. This a vector\n",
    "        of shape (n+1, ).\n",
    "    \n",
    "    X : array_like\n",
    "        The input dataset of shape (m x n+1) where m is the total number\n",
    "        of data points and n is the number of features. We assume the \n",
    "        intercept has already been added to the input.\n",
    "    \n",
    "    y : arra_like\n",
    "        Labels for the input. This is a vector of shape (m, ).\n",
    "    \n",
    "    Returns\n",
    "    -------\n",
    "    J : float\n",
    "        The computed value for the cost function. \n",
    "    \n",
    "    grad : array_like\n",
    "        A vector of shape (n+1, ) which is the gradient of the cost\n",
    "        function with respect to theta, at the current values of theta.\n",
    "        \n",
    "    Instructions\n",
    "    ------------\n",
    "    Compute the cost of a particular choice of theta. You should set J to \n",
    "    the cost. Compute the partial derivatives and set grad to the partial\n",
    "    derivatives of the cost w.r.t. each parameter in theta.\n",
    "    \"\"\"\n",
    "    # Initialize some useful values\n",
    "    m = y.size  # number of training examples\n",
    "\n",
    "    # You need to return the following variables correctly \n",
    "    J = 0\n",
    "    grad = np.zeros(theta.shape)\n",
    "\n",
    "    # ====================== YOUR CODE HERE ======================\n",
    "\n",
    "    h = sigmoid(np.dot(X,theta))\n",
    "    temp = -y*np.log(h) - (1-y)*np.log(1-h)\n",
    "    J = (1/m)*np.sum(temp)\n",
    "    grad = (1/m)*np.dot(X.T,(h-y))\n",
    "    # =============================================================\n",
    "    return J, grad"
   ]
  },
  {
   "cell_type": "code",
   "execution_count": 21,
   "metadata": {},
   "outputs": [
    {
     "name": "stdout",
     "output_type": "stream",
     "text": [
      "n = 8\n",
      "[0. 0. 0. 0. 0. 0. 0. 0. 0.]\n",
      "Cost at initial theta (zeros):0.6931471805599452\n",
      "Gradient at initial theta (zeros):\n",
      "[4.10325781e-01 1.60317469e+06 1.44346434e+05 1.63852013e+06\n",
      " 1.18047786e+06 1.10487328e+07 3.50808947e-01 3.46327773e-01\n",
      " 3.82286539e-01]\n",
      "Cost at test theta: nan\n",
      "Gradient at test theta: [8.92405187e-01 3.70416834e+06 2.76418370e+05 3.77845078e+06\n",
      " 2.35640405e+06 2.28996301e+07 7.68151292e-01 7.58909989e-01\n",
      " 8.35666971e-01]\n"
     ]
    },
    {
     "name": "stderr",
     "output_type": "stream",
     "text": [
      "C:\\Users\\belincoln\\AppData\\Local\\Continuum\\anaconda3\\lib\\site-packages\\ipykernel_launcher.py:27: RuntimeWarning: overflow encountered in power\n",
      "C:\\Users\\belincoln\\AppData\\Local\\Continuum\\anaconda3\\lib\\site-packages\\ipykernel_launcher.py:44: RuntimeWarning: divide by zero encountered in log\n",
      "C:\\Users\\belincoln\\AppData\\Local\\Continuum\\anaconda3\\lib\\site-packages\\ipykernel_launcher.py:44: RuntimeWarning: invalid value encountered in multiply\n"
     ]
    }
   ],
   "source": [
    "# Initialize fitting parameters\n",
    "print('n = ' + str(n))\n",
    "initial_theta = np.zeros(n+1)\n",
    "print(initial_theta)\n",
    "cost, grad = costFunction(initial_theta, X, y)\n",
    "\n",
    "print('Cost at initial theta (zeros):' + str(cost))\n",
    "\n",
    "\n",
    "print('Gradient at initial theta (zeros):')\n",
    "print(grad)\n",
    "\n",
    "\n",
    "# Compute and display cost and gradient with non-zero theta\n",
    "test_theta = np.array([1, 2, 3,4,5,6,7,8,9])\n",
    "cost, grad = costFunction(test_theta, X, y)\n",
    "\n",
    "print('Cost at test theta: {:.3f}'.format(cost))\n",
    "\n",
    "\n",
    "print('Gradient at test theta: ' + str(grad))\n"
   ]
  },
  {
   "cell_type": "code",
   "execution_count": 22,
   "metadata": {},
   "outputs": [
    {
     "name": "stderr",
     "output_type": "stream",
     "text": [
      "C:\\Users\\belincoln\\AppData\\Local\\Continuum\\anaconda3\\lib\\site-packages\\ipykernel_launcher.py:27: RuntimeWarning: overflow encountered in power\n",
      "C:\\Users\\belincoln\\AppData\\Local\\Continuum\\anaconda3\\lib\\site-packages\\ipykernel_launcher.py:44: RuntimeWarning: divide by zero encountered in log\n",
      "C:\\Users\\belincoln\\AppData\\Local\\Continuum\\anaconda3\\lib\\site-packages\\ipykernel_launcher.py:44: RuntimeWarning: invalid value encountered in multiply\n"
     ]
    },
    {
     "name": "stdout",
     "output_type": "stream",
     "text": [
      "Cost at theta found by optimize.minimize: 0.6735221309524552\n",
      "theta:\n",
      "[-8.37705232e-16 -2.21396104e-09 -2.69200137e-10 -2.27120938e-09\n",
      " -1.67732656e-09 -1.49911113e-08 -7.22329155e-16 -7.13193215e-16\n",
      " -7.85117677e-16]\n"
     ]
    }
   ],
   "source": [
    "# set options for optimize.minimize\n",
    "options= {'maxiter': 400}\n",
    "\n",
    "# see documention for scipy's optimize.minimize  for description about\n",
    "# the different parameters\n",
    "# The function returns an object `OptimizeResult`\n",
    "# We use truncated Newton algorithm for optimization which is \n",
    "# equivalent to MATLAB's fminunc\n",
    "# See https://stackoverflow.com/questions/18801002/fminunc-alternate-in-numpy\n",
    "res = optimize.minimize(costFunction,\n",
    "                        initial_theta,\n",
    "                        (X, y),\n",
    "                        jac=True,\n",
    "                        method='TNC',\n",
    "                        options=options)\n",
    "\n",
    "# the fun property of `OptimizeResult` object returns\n",
    "# the value of costFunction at optimized theta\n",
    "cost = res.fun\n",
    "\n",
    "# the optimized theta is in the x property\n",
    "theta = res.x\n",
    "\n",
    "# Print theta to screen\n",
    "print('Cost at theta found by optimize.minimize: ' + str(cost))\n",
    "\n",
    "\n",
    "print('theta:')\n",
    "print(theta)\n"
   ]
  },
  {
   "cell_type": "code",
   "execution_count": 23,
   "metadata": {},
   "outputs": [
    {
     "name": "stdout",
     "output_type": "stream",
     "text": [
      "[-8.37705232e-16 -2.21396104e-09 -2.69200137e-10 -2.27120938e-09\n",
      " -1.67732656e-09 -1.49911113e-08 -7.22329155e-16 -7.13193215e-16\n",
      " -7.85117677e-16]\n"
     ]
    }
   ],
   "source": [
    "print(theta)"
   ]
  },
  {
   "cell_type": "code",
   "execution_count": 24,
   "metadata": {},
   "outputs": [],
   "source": [
    "pred = sigmoid(np.dot(X,theta))"
   ]
  },
  {
   "cell_type": "code",
   "execution_count": 25,
   "metadata": {},
   "outputs": [
    {
     "data": {
      "text/plain": [
       "<matplotlib.collections.PathCollection at 0x1d88240d9c8>"
      ]
     },
     "execution_count": 25,
     "metadata": {},
     "output_type": "execute_result"
    },
    {
     "data": {
      "image/png": "[encoded data removed]",
      "text/plain": [
       "<Figure size 432x288 with 1 Axes>"
      ]
     },
     "metadata": {
      "needs_background": "light"
     },
     "output_type": "display_data"
    }
   ],
   "source": [
    "fig = pyplot.figure\n",
    "pyplot.scatter(np.arange(len(pred)), pred)"
   ]
  },
  {
   "cell_type": "code",
   "execution_count": 26,
   "metadata": {},
   "outputs": [],
   "source": [
    "# Now we will test our model using the test_set\n",
    "pred = sigmoid(np.dot(X_test,theta))"
   ]
  },
  {
   "cell_type": "code",
   "execution_count": 27,
   "metadata": {},
   "outputs": [],
   "source": [
    "# Convert probabilty of de-obligation into prediction\n",
    "pred = pred > .5\n",
    "# Convert to int\n",
    "pred = np.array(pred.astype(int))"
   ]
  },
  {
   "cell_type": "code",
   "execution_count": 28,
   "metadata": {},
   "outputs": [],
   "source": [
    "test = pred == y_test"
   ]
  },
  {
   "cell_type": "code",
   "execution_count": 29,
   "metadata": {},
   "outputs": [
    {
     "data": {
      "text/plain": [
       "0.9213947546404149"
      ]
     },
     "execution_count": 29,
     "metadata": {},
     "output_type": "execute_result"
    }
   ],
   "source": [
    "test.sum()/len(test)"
   ]
  },
  {
   "cell_type": "code",
   "execution_count": 30,
   "metadata": {},
   "outputs": [],
   "source": [
    "# Really what we are looking for here \n",
    "# is how many times a de-obligation occured and we were able to predict it?"
   ]
  },
  {
   "cell_type": "code",
   "execution_count": 31,
   "metadata": {},
   "outputs": [],
   "source": [
    "# Also percentage of false positives: how many times did we predict a de-obligation and \n",
    "# it did not occur?"
   ]
  },
  {
   "cell_type": "code",
   "execution_count": 35,
   "metadata": {},
   "outputs": [],
   "source": [
    "data = {'predicted value' : pred, 'test value': y_test}\n",
    "df = pd.DataFrame(data)"
   ]
  },
  {
   "cell_type": "code",
   "execution_count": 51,
   "metadata": {},
   "outputs": [
    {
     "name": "stdout",
     "output_type": "stream",
     "text": [
      "Size of Test set: 13307\n",
      "Percentage of significant de-obligations: 0.08619523559029083\n",
      "Number of significant de-obligations in test set: 1147\n",
      "Number of predicted significant de-obligations: 122\n",
      "Percentage of de-obligations correctly predicted: 0.10636442894507411\n",
      "\n"
     ]
    }
   ],
   "source": [
    "correct_preds = df[df['test value'] == 1]\n",
    "correct_preds2 = correct_preds[correct_preds['predicted value'] ==1]\n",
    "print('Size of Test set: ' + str(len(df)))\n",
    "print('Percentage of significant de-obligations: ' + str(len(correct_preds)/len(df)))\n",
    "print('Number of significant de-obligations in test set: ' + str(len(correct_preds)))\n",
    "print('Number of predicted significant de-obligations: ' + str(len(correct_preds2)))\n",
    "print('Percentage of de-obligations correctly predicted: ' + str(len(correct_preds2)/len(correct_preds)))\n",
    "print('')"
   ]
  },
  {
   "cell_type": "code",
   "execution_count": 47,
   "metadata": {},
   "outputs": [
    {
     "name": "stdout",
     "output_type": "stream",
     "text": [
      "Number of False Positives: 21\n",
      "Rate of False Positives: 0.0015781167806417674\n"
     ]
    }
   ],
   "source": [
    "# Show the rate of False Positives: Times the model predicted a de-obligation, yet there wasn't one\n",
    "\n",
    "false_pos = df[df['predicted value'] == 1]\n",
    "false_pos2 = false_pos[false_pos['test value'] == 0]\n",
    "\n",
    "print('Number of False Positives: ' + str(len(false_pos2)))\n",
    "print('Rate of False Positives: ' + str(len(false_pos2)/len(df)))"
   ]
  },
  {
   "cell_type": "code",
   "execution_count": 53,
   "metadata": {},
   "outputs": [
    {
     "name": "stdout",
     "output_type": "stream",
     "text": [
      "Number of False Negatives: 1025\n",
      "Rate of False Negative: 0.07702712857894341\n"
     ]
    }
   ],
   "source": [
    "# Rate of False Negatives: A de-obligation occurs, but the model did not predict it. \n",
    "false_neg = df[df['predicted value'] == 0]\n",
    "false_neg2 = false_neg[false_neg['test value'] == 1]\n",
    "print('Number of False Negatives: ' + str(len(false_neg2)))\n",
    "print('Rate of False Negative: ' + str(len(false_neg2)/len(df)))"
   ]
  },
  {
   "cell_type": "code",
   "execution_count": null,
   "metadata": {},
   "outputs": [],
   "source": []
  },
  {
   "cell_type": "code",
   "execution_count": null,
   "metadata": {},
   "outputs": [],
   "source": []
  },
  {
   "cell_type": "code",
   "execution_count": null,
   "metadata": {},
   "outputs": [],
   "source": []
  },
  {
   "cell_type": "code",
   "execution_count": null,
   "metadata": {},
   "outputs": [],
   "source": []
  },
  {
   "cell_type": "code",
   "execution_count": null,
   "metadata": {},
   "outputs": [],
   "source": []
  },
  {
   "cell_type": "code",
   "execution_count": 148,
   "metadata": {},
   "outputs": [
    {
     "name": "stdout",
     "output_type": "stream",
     "text": [
      "[1.00000000e+00 4.13471230e+06 2.47127487e+05 4.19468708e+06\n",
      " 2.69949669e+06 2.33603345e+07 8.49200999e-01 8.40037984e-01\n",
      " 9.22452059e-01]\n"
     ]
    }
   ],
   "source": [
    "# This isn't necessary\n",
    "\n",
    "\n",
    "def  featureNormalize(X):\n",
    "    \"\"\"\n",
    "    Normalizes the features in X. returns a normalized version of X where\n",
    "    the mean value of each feature is 0 and the standard deviation\n",
    "    is 1. This is often a good preprocessing step to do when working with\n",
    "    learning algorithms.\n",
    "    \n",
    "    Parameters\n",
    "    ----------\n",
    "    X : array_like\n",
    "        The dataset of shape (m x n).\n",
    "    \n",
    "    Returns\n",
    "    -------\n",
    "    X_norm : array_like\n",
    "        The normalized dataset of shape (m x n).\n",
    "    \n",
    "    Instructions\n",
    "    ------------\n",
    "    First, for each feature dimension, compute the mean of the feature\n",
    "    and subtract it from the dataset, storing the mean value in mu. \n",
    "    Next, compute the  standard deviation of each feature and divide\n",
    "    each feature by it's standard deviation, storing the standard deviation \n",
    "    in sigma. \n",
    "    \n",
    "    Note that X is a matrix where each column is a feature and each row is\n",
    "    an example. You needto perform the normalization separately for each feature. \n",
    "    \n",
    "    Hint\n",
    "    ----\n",
    "    You might find the 'np.mean' and 'np.std' functions useful.\n",
    "    \"\"\"\n",
    "    # You need to set these values correctly\n",
    "    X_norm = X.copy()\n",
    "    mu = np.zeros(X.shape[1])\n",
    "    sigma = np.zeros(X.shape[1])\n",
    "\n",
    "    # =========================== YOUR CODE HERE =====================\n",
    "    mu = np.mean(X,axis=0)\n",
    "    sigma = np.std(X,axis=0)\n",
    "    X_norm = (X-mu)/sigma\n",
    "    # ================================================================\n",
    "    return X_norm, mu, sigma\n",
    "print(np.mean(X,axis=0))\n",
    "# X_norm, mu, sigma = featureNormalize(X)"
   ]
  },
  {
   "cell_type": "code",
   "execution_count": 149,
   "metadata": {
    "scrolled": false
   },
   "outputs": [
    {
     "data": {
      "text/plain": [
       "\"\\nfeatures = len(df.columns) - 2\\nfor i in range(features):\\n    fig = pyplot.figure()\\n    mask  = y == 1\\n    pyplot.plot(X[mask].iloc[:,i], X[mask].iloc[:, i+1], 'k*', lw=2, ms=10)\\n    pyplot.plot(X[~mask].iloc[:, i], X[~mask].iloc[:, i+1], 'ko', mfc='y', ms=8, mec='k', mew=1)\\n   \\n    # add axes labels\\n    pyplot.xlabel(df.columns[i])\\n    pyplot.ylabel(df.columns[i+1])\\n    pyplot.legend(['Sweep', 'Not a Sweep'])\\n    pass\\n\""
      ]
     },
     "execution_count": 149,
     "metadata": {},
     "output_type": "execute_result"
    }
   ],
   "source": [
    "# This produces a scatter plot with each of the features, \n",
    "# but does not cover each permutation of features\n",
    "# 10 min runtime, I should rethink this\n",
    "\n",
    "'''\n",
    "features = len(df.columns) - 2\n",
    "for i in range(features):\n",
    "    fig = pyplot.figure()\n",
    "    mask  = y == 1\n",
    "    pyplot.plot(X[mask].iloc[:,i], X[mask].iloc[:, i+1], 'k*', lw=2, ms=10)\n",
    "    pyplot.plot(X[~mask].iloc[:, i], X[~mask].iloc[:, i+1], 'ko', mfc='y', ms=8, mec='k', mew=1)\n",
    "   \n",
    "    # add axes labels\n",
    "    pyplot.xlabel(df.columns[i])\n",
    "    pyplot.ylabel(df.columns[i+1])\n",
    "    pyplot.legend(['Sweep', 'Not a Sweep'])\n",
    "    pass\n",
    "'''"
   ]
  }
 ],
 "metadata": {
  "kernelspec": {
   "display_name": "Python 3",
   "language": "python",
   "name": "python3"
  },
  "language_info": {
   "codemirror_mode": {
    "name": "ipython",
    "version": 3
   },
   "file_extension": ".py",
   "mimetype": "text/x-python",
   "name": "python",
   "nbconvert_exporter": "python",
   "pygments_lexer": "ipython3",
   "version": "3.7.4"
  }
 },
 "nbformat": 4,
 "nbformat_minor": 2
}
