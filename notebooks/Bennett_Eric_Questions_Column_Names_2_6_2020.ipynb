{
 "cells": [
  {
   "cell_type": "code",
   "execution_count": 163,
   "metadata": {},
   "outputs": [],
   "source": [
    "#%store -r df"
   ]
  },
  {
   "cell_type": "code",
   "execution_count": 1,
   "metadata": {},
   "outputs": [],
   "source": [
    "# used for manipulating directory paths\n",
    "import os\n",
    "\n",
    "# Scientific and vector computation for python\n",
    "import numpy as np\n",
    "import pandas as pd\n",
    "\n",
    "# Plotting library\n",
    "from matplotlib import pyplot\n",
    "\n",
    "# Optimization module in scipy\n",
    "from scipy import optimize"
   ]
  },
  {
   "cell_type": "code",
   "execution_count": 2,
   "metadata": {},
   "outputs": [],
   "source": [
    "# tells matplotlib to embed plots within the notebook\n",
    "#%matplotlib inline"
   ]
  },
  {
   "cell_type": "code",
   "execution_count": 3,
   "metadata": {},
   "outputs": [
    {
     "name": "stdout",
     "output_type": "stream",
     "text": [
      "C:\\Users\\belincoln\\repos\\BudgetPredict\\data\n"
     ]
    }
   ],
   "source": [
    "os.chdir('C:\\\\Users\\\\belincoln\\\\repos\\\\BudgetPredict')\n",
    "# Set working directory to the data folder so you can correctly read in the csv files\n",
    "%cd data"
   ]
  },
  {
   "cell_type": "code",
   "execution_count": 4,
   "metadata": {},
   "outputs": [],
   "source": [
    "# Read data from DHS Contracts\n",
    "df = pd.read_csv('FY2019_070_Contracts_Full_20200110_1.csv', header = 0, usecols = ['contract_transaction_unique_key', \n",
    "                        'federal_action_obligation','total_dollars_obligated', 'base_and_exercised_options_value', \n",
    "                        'current_total_value_of_award', 'base_and_all_options_value','potential_total_value_of_award'],\n",
    "                 dtype = {'contract_transaction_unique_key':'str','federal_action_obligation': 'float',\n",
    "                        'total_dollars_obligated': 'float', 'base_and_exercised_options_value': 'float', \n",
    "                        'current_total_value_of_award': 'float', 'base_and_all_options_value': 'float',\n",
    "                        'potential_total_value_of_award': 'float'})"
   ]
  },
  {
   "cell_type": "code",
   "execution_count": 5,
   "metadata": {},
   "outputs": [],
   "source": [
    "# Create 3 new features for analysis\n",
    "df['Percent awarded over potential total awarded'] = df['current_total_value_of_award'] / df['potential_total_value_of_award']\n",
    "df['Percent Cumulatively Obligated over potential total value of award'] = df['total_dollars_obligated'] / df['potential_total_value_of_award']\n",
    "df['Percent Cumulatively Obligated over total value already awarded'] = df['total_dollars_obligated'] / df['current_total_value_of_award']\n",
    "\n",
    "# Create Indicator Variable\n",
    "df['Indicator'] = df['federal_action_obligation']<-1000\n",
    "\n",
    "# set index to each transaction key\n",
    "df.set_index('contract_transaction_unique_key', inplace = True)"
   ]
  },
  {
   "cell_type": "markdown",
   "metadata": {},
   "source": [
    "# Data Dictionary for Column Headers from USASPENDING.GOV\n",
    "\n",
    "#### federal_action_obligation: \n",
    "\n",
    "Amount of Federal government’s obligation, de-obligation, or liability for an award transaction.\n",
    "\n",
    "#### total_dollars_obligated: This doesn't make sense to me\n",
    "\n",
    "This is a system generated element providing the sum of all the amounts entered in the \"Action Obligation\" field for a particular PIID and Agency. Example: Contract has 9 Modifications under \"Transaction Number\" as '1' and 9 modifications with the same PIID under \"Transaction Number\" as '2'. The base contracts and all the modifications have \"Action Obligation\" as $10 each. The value for the field \"Total Obligated Amount\" when the either of the bases or the modification is retrieved through atom feeds will be $200 ($100 under Transaction Number 1 + $100 under Transaction Number 2). \"Total Obligated Amount\" is generated irrespective of the \"Transaction Number\" on the Awards.\n",
    "\n",
    "#### base_and_exercised_options_value\n",
    "The change (from this transaction only) to the current contract value (i.e., the base contract and any options that have been exercised).\n",
    "\n",
    "#### current_total_value_of_award\n",
    "\n",
    "Total amount obligated to date on an award. For a contract, this amount includes the base and exercised options. For a non-loan financial assistance award (AssistanceType ≠ 07 or 08), this is the sum of all the FederalActionObligation values in transactions with the same AwardingSubTierAgencyCode and FAIN (for RecordType = 2 or 3) or AwardingSubTierAgencyCode and URI (for RecordType = 1). For a loan award (AssistanceType = 07 or 08), this is the sum of all OriginalLoanSubsidyCost values in transactions with the same AwardingSubTierAgencyCode and FAIN (for RecordType = 2 or 3) or AwardingSubTierAgencyCode and URI (for RecordType = 1). In the subaward data context, this element refers to the total amount obligated to date on the prime award.\n",
    "\n",
    "#### base_and_all_options_value\n",
    "\n",
    "The change (from this transaction only) to the potential contract value (i.e., the base contract and any exercised or unexercised options).\n",
    "\n",
    "#### potential_total_value_of_award\n",
    "\n",
    "Total amount that could be obligated on a contract, if the base and all options are exercised.\n"
   ]
  },
  {
   "cell_type": "code",
   "execution_count": 169,
   "metadata": {},
   "outputs": [
    {
     "name": "stdout",
     "output_type": "stream",
     "text": [
      "federal_action_obligation                                             -75532042.2\n",
      "total_dollars_obligated                                                       0.0\n",
      "base_and_exercised_options_value                                      -75532042.2\n",
      "current_total_value_of_award                                                  0.0\n",
      "base_and_all_options_value                                           -108425811.2\n",
      "potential_total_value_of_award                                                0.0\n",
      "Percent awarded over potential total awarded                                  0.0\n",
      "Percent Cumulatively Obligated over potential total value of award            0.0\n",
      "Percent Cumulatively Obligated over total value already awarded               0.0\n",
      "Indicator                                                                     0.0\n",
      "dtype: float64\n"
     ]
    }
   ],
   "source": [
    "print(df.min())\n",
    "\n",
    "# Why do these two have negative values you think?\n",
    "    # Because it was a deobligation!\n",
    "\n",
    "# df['base_and_all_options_value'][df['base_and_all_options_value'] < 0]\n"
   ]
  },
  {
   "cell_type": "markdown",
   "metadata": {},
   "source": [
    "### Note\n",
    "Possibly: take out transactions that don't meet inequality"
   ]
  },
  {
   "cell_type": "code",
   "execution_count": 7,
   "metadata": {},
   "outputs": [
    {
     "name": "stdout",
     "output_type": "stream",
     "text": [
      "False\n",
      "0.04829182510934424\n"
     ]
    },
    {
     "data": {
      "text/plain": [
       "Index(['7008_-NONE-_HSCG3816DL00004_P00009_-NONE-_-NONE-',\n",
       "       '7013_-NONE-_HSTS0514AMED077_P00001_-NONE-_-NONE-',\n",
       "       '7008_-NONE-_70Z03818DB2000003_P00002_-NONE-_-NONE-',\n",
       "       '7008_-NONE-_70Z03819DB2000001_0_-NONE-_-NONE-',\n",
       "       '7008_-NONE-_70Z03819DM0000001_0_-NONE-_-NONE-',\n",
       "       '7012_-NONE-_HSCEDM17D00009_P00008_-NONE-_-NONE-',\n",
       "       '7008_-NONE-_HSCG2317DPXC002_P00003_-NONE-_-NONE-',\n",
       "       '7008_-NONE-_HSCG3815D202051_P00005_-NONE-_-NONE-',\n",
       "       '7008_-NONE-_HSCG4016D60308_P00007_-NONE-_-NONE-',\n",
       "       '7015_-NONE-_HSFLAR16D00001_P00006_-NONE-_-NONE-',\n",
       "       ...\n",
       "       '7012_-NONE-_70CDCR18D00000004_P00002_-NONE-_-NONE-',\n",
       "       '7008_-NONE-_HSCG8817DPMV093_P00004_-NONE-_-NONE-',\n",
       "       '7008_-NONE-_HSCG8817DPMV093_P00005_-NONE-_-NONE-',\n",
       "       '7008_-NONE-_70Z08419DBHQ00400_P00001_-NONE-_-NONE-',\n",
       "       '7022_-NONE-_HSFE4014A0167_P00005_-NONE-_-NONE-',\n",
       "       '7022_-NONE-_HSFE4014A0168_P00005_-NONE-_-NONE-',\n",
       "       '7022_-NONE-_HSFE4014A0184_P00005_-NONE-_-NONE-',\n",
       "       '7022_-NONE-_HSFELA15A0084_P00004_-NONE-_-NONE-',\n",
       "       '7001_-NONE-_HSHQDC17A00012_P00002_-NONE-_-NONE-',\n",
       "       '7008_-NONE-_70Z04019D57050B00_0_-NONE-_-NONE-'],\n",
       "      dtype='object', name='contract_transaction_unique_key', length=3213)"
      ]
     },
     "execution_count": 7,
     "metadata": {},
     "output_type": "execute_result"
    }
   ],
   "source": [
    "# Is total_dollars_obligated < current_total_value_of_award < potential_value_of_award?\n",
    "test = df['total_dollars_obligated'] <= df['current_total_value_of_award'] \n",
    "\n",
    "# test if this is true for all transactions\n",
    "print(not any(test))\n",
    "\n",
    "# shows the percentage of transactions where this inequality does nto hold\n",
    "print((len(df) - test.sum()) / len(df))\n",
    "\n",
    "# Show indexes where this inequality does not hold\n",
    "df[test == False].index"
   ]
  },
  {
   "cell_type": "code",
   "execution_count": 11,
   "metadata": {},
   "outputs": [
    {
     "name": "stdout",
     "output_type": "stream",
     "text": [
      "False\n",
      "0.04829182510934424\n"
     ]
    },
    {
     "data": {
      "text/plain": [
       "Index(['7008_-NONE-_HSCG3816DL00004_P00009_-NONE-_-NONE-',\n",
       "       '7013_-NONE-_HSTS0514AMED077_P00001_-NONE-_-NONE-',\n",
       "       '7008_-NONE-_70Z03818DB2000003_P00002_-NONE-_-NONE-',\n",
       "       '7008_-NONE-_70Z03819DB2000001_0_-NONE-_-NONE-',\n",
       "       '7008_-NONE-_70Z03819DM0000001_0_-NONE-_-NONE-',\n",
       "       '7012_-NONE-_HSCEDM17D00009_P00008_-NONE-_-NONE-',\n",
       "       '7008_-NONE-_HSCG2317DPXC002_P00003_-NONE-_-NONE-',\n",
       "       '7008_-NONE-_HSCG3815D202051_P00005_-NONE-_-NONE-',\n",
       "       '7008_-NONE-_HSCG4016D60308_P00007_-NONE-_-NONE-',\n",
       "       '7015_-NONE-_HSFLAR16D00001_P00006_-NONE-_-NONE-',\n",
       "       ...\n",
       "       '7012_-NONE-_70CDCR18D00000004_P00002_-NONE-_-NONE-',\n",
       "       '7008_-NONE-_HSCG8817DPMV093_P00004_-NONE-_-NONE-',\n",
       "       '7008_-NONE-_HSCG8817DPMV093_P00005_-NONE-_-NONE-',\n",
       "       '7008_-NONE-_70Z08419DBHQ00400_P00001_-NONE-_-NONE-',\n",
       "       '7022_-NONE-_HSFE4014A0167_P00005_-NONE-_-NONE-',\n",
       "       '7022_-NONE-_HSFE4014A0168_P00005_-NONE-_-NONE-',\n",
       "       '7022_-NONE-_HSFE4014A0184_P00005_-NONE-_-NONE-',\n",
       "       '7022_-NONE-_HSFELA15A0084_P00004_-NONE-_-NONE-',\n",
       "       '7001_-NONE-_HSHQDC17A00012_P00002_-NONE-_-NONE-',\n",
       "       '7008_-NONE-_70Z04019D57050B00_0_-NONE-_-NONE-'],\n",
       "      dtype='object', name='contract_transaction_unique_key', length=3213)"
      ]
     },
     "execution_count": 11,
     "metadata": {},
     "output_type": "execute_result"
    }
   ],
   "source": [
    "# Is total_dollars_obligated < current_total_value_of_award < potential_value_of_award?\n",
    "test2 = df['current_total_value_of_award'] <= df['potential_total_value_of_award']\n",
    "\n",
    "# test if this is true for all transactions\n",
    "print(not any(test2))\n",
    "\n",
    "# shows the percentage of transactions where this inequality does nto hold\n",
    "print((len(df) - test2.sum()) / len(df))\n",
    "\n",
    "# Show indexes where this inequality does not hold\n",
    "df[test2 == False].index"
   ]
  },
  {
   "cell_type": "markdown",
   "metadata": {},
   "source": [
    "# NOTE\n",
    "Check to see if the transactions that fail the first test also fail the second test."
   ]
  },
  {
   "cell_type": "code",
   "execution_count": null,
   "metadata": {},
   "outputs": [],
   "source": []
  }
 ],
 "metadata": {
  "kernelspec": {
   "display_name": "Python 3",
   "language": "python",
   "name": "python3"
  },
  "language_info": {
   "codemirror_mode": {
    "name": "ipython",
    "version": 3
   },
   "file_extension": ".py",
   "mimetype": "text/x-python",
   "name": "python",
   "nbconvert_exporter": "python",
   "pygments_lexer": "ipython3",
   "version": "3.7.4"
  }
 },
 "nbformat": 4,
 "nbformat_minor": 2
}
