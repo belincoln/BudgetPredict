{
 "cells": [
  {
   "cell_type": "code",
   "execution_count": 1,
   "metadata": {},
   "outputs": [],
   "source": [
    "from sklearn.ensemble import RandomForestClassifier\n",
    "import numpy as np\n",
    "from sklearn.model_selection import train_test_split\n",
    "import pandas as pd"
   ]
  },
  {
   "cell_type": "code",
   "execution_count": 2,
   "metadata": {},
   "outputs": [
    {
     "name": "stderr",
     "output_type": "stream",
     "text": [
      "C:\\Users\\jecraft\\AppData\\Local\\Continuum\\anaconda3\\lib\\site-packages\\IPython\\core\\interactiveshell.py:3058: DtypeWarning: Columns (5) have mixed types. Specify dtype option on import or set low_memory=False.\n",
      "  interactivity=interactivity, compiler=compiler, result=result)\n"
     ]
    }
   ],
   "source": [
    "data = pd.read_csv(r'C:\\Users\\jecraft\\Documents\\Initiatives\\BTI Initiative\\Code\\Github\\USA Spending Repository\\BudgetPredict\\data\\FY2019_070_Contracts_Full_20200110_1.csv')"
   ]
  },
  {
   "cell_type": "code",
   "execution_count": 3,
   "metadata": {},
   "outputs": [
    {
     "data": {
      "text/html": [
       "<div>\n",
       "<style scoped>\n",
       "    .dataframe tbody tr th:only-of-type {\n",
       "        vertical-align: middle;\n",
       "    }\n",
       "\n",
       "    .dataframe tbody tr th {\n",
       "        vertical-align: top;\n",
       "    }\n",
       "\n",
       "    .dataframe thead th {\n",
       "        text-align: right;\n",
       "    }\n",
       "</style>\n",
       "<table border=\"1\" class=\"dataframe\">\n",
       "  <thead>\n",
       "    <tr style=\"text-align: right;\">\n",
       "      <th></th>\n",
       "      <th>contract_transaction_unique_key</th>\n",
       "      <th>contract_award_unique_key</th>\n",
       "      <th>award_id_piid</th>\n",
       "      <th>modification_number</th>\n",
       "      <th>transaction_number</th>\n",
       "      <th>parent_award_agency_id</th>\n",
       "      <th>parent_award_agency_name</th>\n",
       "      <th>parent_award_id</th>\n",
       "      <th>parent_award_modification_number</th>\n",
       "      <th>federal_action_obligation</th>\n",
       "      <th>total_dollars_obligated</th>\n",
       "      <th>base_and_exercised_options_value</th>\n",
       "      <th>current_total_value_of_award</th>\n",
       "      <th>base_and_all_options_value</th>\n",
       "      <th>potential_total_value_of_award</th>\n",
       "      <th>action_date</th>\n",
       "      <th>action_date_fiscal_year</th>\n",
       "      <th>period_of_performance_start_date</th>\n",
       "      <th>period_of_performance_current_end_date</th>\n",
       "    </tr>\n",
       "  </thead>\n",
       "  <tbody>\n",
       "    <tr>\n",
       "      <td>0</td>\n",
       "      <td>7012_7012_HSCEMS16F00057_P00005_HSCEMS12A00018_0</td>\n",
       "      <td>CONT_AWD_HSCEMS16F00057_7012_HSCEMS12A00018_7012</td>\n",
       "      <td>HSCEMS16F00057</td>\n",
       "      <td>P00005</td>\n",
       "      <td>0.0</td>\n",
       "      <td>7012</td>\n",
       "      <td>U.S. IMMIGRATION AND CUSTOMS ENFORCEMENT</td>\n",
       "      <td>HSCEMS12A00018</td>\n",
       "      <td>P00004</td>\n",
       "      <td>-7702.86</td>\n",
       "      <td>6003953.42</td>\n",
       "      <td>-7702.86</td>\n",
       "      <td>6059478.42</td>\n",
       "      <td>-148339.00</td>\n",
       "      <td>6067181.28</td>\n",
       "      <td>10/19/2018</td>\n",
       "      <td>2019</td>\n",
       "      <td>10/19/2018 0:00</td>\n",
       "      <td>9/29/2018 0:00</td>\n",
       "    </tr>\n",
       "    <tr>\n",
       "      <td>1</td>\n",
       "      <td>7022_7022_HSFE2015J0271_P00002_HSFE2013D0161_0</td>\n",
       "      <td>CONT_AWD_HSFE2015J0271_7022_HSFE2013D0161_7022</td>\n",
       "      <td>HSFE2015J0271</td>\n",
       "      <td>P00002</td>\n",
       "      <td>0.0</td>\n",
       "      <td>7022</td>\n",
       "      <td>FEDERAL EMERGENCY MANAGEMENT AGENCY</td>\n",
       "      <td>HSFE2013D0161</td>\n",
       "      <td>P00003</td>\n",
       "      <td>0.00</td>\n",
       "      <td>104830.31</td>\n",
       "      <td>0.00</td>\n",
       "      <td>104830.31</td>\n",
       "      <td>0.00</td>\n",
       "      <td>104830.31</td>\n",
       "      <td>3/27/2019</td>\n",
       "      <td>2019</td>\n",
       "      <td>3/27/2019 0:00</td>\n",
       "      <td>9/28/2016 0:00</td>\n",
       "    </tr>\n",
       "    <tr>\n",
       "      <td>2</td>\n",
       "      <td>7008_-NONE-_70Z02918PX0808600_P00001_-NONE-_0</td>\n",
       "      <td>CONT_AWD_70Z02918PX0808600_7008_-NONE-_-NONE-</td>\n",
       "      <td>70Z02918PX0808600</td>\n",
       "      <td>P00001</td>\n",
       "      <td>0.0</td>\n",
       "      <td>NaN</td>\n",
       "      <td>NaN</td>\n",
       "      <td>NaN</td>\n",
       "      <td>NaN</td>\n",
       "      <td>-1566.00</td>\n",
       "      <td>2088.00</td>\n",
       "      <td>-1566.00</td>\n",
       "      <td>2088.00</td>\n",
       "      <td>-1566.00</td>\n",
       "      <td>2088.00</td>\n",
       "      <td>10/17/2018</td>\n",
       "      <td>2019</td>\n",
       "      <td>10/17/2018 0:00</td>\n",
       "      <td>6/30/2018 0:00</td>\n",
       "    </tr>\n",
       "    <tr>\n",
       "      <td>3</td>\n",
       "      <td>7008_-NONE-_70Z03818PW0000011_P00001_-NONE-_0</td>\n",
       "      <td>CONT_AWD_70Z03818PW0000011_7008_-NONE-_-NONE-</td>\n",
       "      <td>70Z03818PW0000011</td>\n",
       "      <td>P00001</td>\n",
       "      <td>0.0</td>\n",
       "      <td>NaN</td>\n",
       "      <td>NaN</td>\n",
       "      <td>NaN</td>\n",
       "      <td>NaN</td>\n",
       "      <td>0.00</td>\n",
       "      <td>1152695.02</td>\n",
       "      <td>0.00</td>\n",
       "      <td>1152695.02</td>\n",
       "      <td>0.00</td>\n",
       "      <td>1152695.02</td>\n",
       "      <td>10/13/2018</td>\n",
       "      <td>2019</td>\n",
       "      <td>10/13/2018 0:00</td>\n",
       "      <td>1/21/2021 0:00</td>\n",
       "    </tr>\n",
       "    <tr>\n",
       "      <td>4</td>\n",
       "      <td>7008_-NONE-_70Z08018PP45K8500_P00001_-NONE-_0</td>\n",
       "      <td>CONT_AWD_70Z08018PP45K8500_7008_-NONE-_-NONE-</td>\n",
       "      <td>70Z08018PP45K8500</td>\n",
       "      <td>P00001</td>\n",
       "      <td>0.0</td>\n",
       "      <td>NaN</td>\n",
       "      <td>NaN</td>\n",
       "      <td>NaN</td>\n",
       "      <td>NaN</td>\n",
       "      <td>-2208.12</td>\n",
       "      <td>13654.38</td>\n",
       "      <td>-2208.12</td>\n",
       "      <td>13654.38</td>\n",
       "      <td>-2208.12</td>\n",
       "      <td>13654.38</td>\n",
       "      <td>10/18/2018</td>\n",
       "      <td>2019</td>\n",
       "      <td>10/18/2018 0:00</td>\n",
       "      <td>7/23/2018 0:00</td>\n",
       "    </tr>\n",
       "  </tbody>\n",
       "</table>\n",
       "</div>"
      ],
      "text/plain": [
       "                    contract_transaction_unique_key  \\\n",
       "0  7012_7012_HSCEMS16F00057_P00005_HSCEMS12A00018_0   \n",
       "1    7022_7022_HSFE2015J0271_P00002_HSFE2013D0161_0   \n",
       "2     7008_-NONE-_70Z02918PX0808600_P00001_-NONE-_0   \n",
       "3     7008_-NONE-_70Z03818PW0000011_P00001_-NONE-_0   \n",
       "4     7008_-NONE-_70Z08018PP45K8500_P00001_-NONE-_0   \n",
       "\n",
       "                          contract_award_unique_key      award_id_piid  \\\n",
       "0  CONT_AWD_HSCEMS16F00057_7012_HSCEMS12A00018_7012     HSCEMS16F00057   \n",
       "1    CONT_AWD_HSFE2015J0271_7022_HSFE2013D0161_7022      HSFE2015J0271   \n",
       "2     CONT_AWD_70Z02918PX0808600_7008_-NONE-_-NONE-  70Z02918PX0808600   \n",
       "3     CONT_AWD_70Z03818PW0000011_7008_-NONE-_-NONE-  70Z03818PW0000011   \n",
       "4     CONT_AWD_70Z08018PP45K8500_7008_-NONE-_-NONE-  70Z08018PP45K8500   \n",
       "\n",
       "  modification_number  transaction_number parent_award_agency_id  \\\n",
       "0              P00005                 0.0                   7012   \n",
       "1              P00002                 0.0                   7022   \n",
       "2              P00001                 0.0                    NaN   \n",
       "3              P00001                 0.0                    NaN   \n",
       "4              P00001                 0.0                    NaN   \n",
       "\n",
       "                   parent_award_agency_name parent_award_id  \\\n",
       "0  U.S. IMMIGRATION AND CUSTOMS ENFORCEMENT  HSCEMS12A00018   \n",
       "1       FEDERAL EMERGENCY MANAGEMENT AGENCY   HSFE2013D0161   \n",
       "2                                       NaN             NaN   \n",
       "3                                       NaN             NaN   \n",
       "4                                       NaN             NaN   \n",
       "\n",
       "  parent_award_modification_number  federal_action_obligation  \\\n",
       "0                           P00004                   -7702.86   \n",
       "1                           P00003                       0.00   \n",
       "2                              NaN                   -1566.00   \n",
       "3                              NaN                       0.00   \n",
       "4                              NaN                   -2208.12   \n",
       "\n",
       "   total_dollars_obligated  base_and_exercised_options_value  \\\n",
       "0               6003953.42                          -7702.86   \n",
       "1                104830.31                              0.00   \n",
       "2                  2088.00                          -1566.00   \n",
       "3               1152695.02                              0.00   \n",
       "4                 13654.38                          -2208.12   \n",
       "\n",
       "   current_total_value_of_award  base_and_all_options_value  \\\n",
       "0                    6059478.42                  -148339.00   \n",
       "1                     104830.31                        0.00   \n",
       "2                       2088.00                    -1566.00   \n",
       "3                    1152695.02                        0.00   \n",
       "4                      13654.38                    -2208.12   \n",
       "\n",
       "   potential_total_value_of_award action_date  action_date_fiscal_year  \\\n",
       "0                      6067181.28  10/19/2018                     2019   \n",
       "1                       104830.31   3/27/2019                     2019   \n",
       "2                         2088.00  10/17/2018                     2019   \n",
       "3                      1152695.02  10/13/2018                     2019   \n",
       "4                        13654.38  10/18/2018                     2019   \n",
       "\n",
       "  period_of_performance_start_date period_of_performance_current_end_date  \n",
       "0                  10/19/2018 0:00                         9/29/2018 0:00  \n",
       "1                   3/27/2019 0:00                         9/28/2016 0:00  \n",
       "2                  10/17/2018 0:00                         6/30/2018 0:00  \n",
       "3                  10/13/2018 0:00                         1/21/2021 0:00  \n",
       "4                  10/18/2018 0:00                         7/23/2018 0:00  "
      ]
     },
     "execution_count": 3,
     "metadata": {},
     "output_type": "execute_result"
    }
   ],
   "source": [
    "data.head(5)"
   ]
  },
  {
   "cell_type": "code",
   "execution_count": 4,
   "metadata": {},
   "outputs": [
    {
     "data": {
      "text/plain": [
       "Index(['contract_transaction_unique_key', 'contract_award_unique_key',\n",
       "       'award_id_piid', 'modification_number', 'transaction_number',\n",
       "       'parent_award_agency_id', 'parent_award_agency_name', 'parent_award_id',\n",
       "       'parent_award_modification_number', 'federal_action_obligation',\n",
       "       'total_dollars_obligated', 'base_and_exercised_options_value',\n",
       "       'current_total_value_of_award', 'base_and_all_options_value',\n",
       "       'potential_total_value_of_award', 'action_date',\n",
       "       'action_date_fiscal_year', 'period_of_performance_start_date',\n",
       "       'period_of_performance_current_end_date'],\n",
       "      dtype='object')"
      ]
     },
     "execution_count": 4,
     "metadata": {},
     "output_type": "execute_result"
    }
   ],
   "source": [
    "data.columns"
   ]
  },
  {
   "cell_type": "code",
   "execution_count": 5,
   "metadata": {},
   "outputs": [],
   "source": [
    "key_columns = pd.DataFrame(data, columns = ['federal_action_obligation',\n",
    "       'total_dollars_obligated','base_and_exercised_options_value',\n",
    "       'current_total_value_of_award','base_and_all_options_value',\n",
    "       'potential_total_value_of_award']) "
   ]
  },
  {
   "cell_type": "code",
   "execution_count": 6,
   "metadata": {},
   "outputs": [
    {
     "data": {
      "text/plain": [
       "Index(['federal_action_obligation', 'total_dollars_obligated',\n",
       "       'base_and_exercised_options_value', 'current_total_value_of_award',\n",
       "       'base_and_all_options_value', 'potential_total_value_of_award'],\n",
       "      dtype='object')"
      ]
     },
     "execution_count": 6,
     "metadata": {},
     "output_type": "execute_result"
    }
   ],
   "source": [
    "key_columns.columns"
   ]
  },
  {
   "cell_type": "code",
   "execution_count": 7,
   "metadata": {},
   "outputs": [
    {
     "data": {
      "text/html": [
       "<div>\n",
       "<style scoped>\n",
       "    .dataframe tbody tr th:only-of-type {\n",
       "        vertical-align: middle;\n",
       "    }\n",
       "\n",
       "    .dataframe tbody tr th {\n",
       "        vertical-align: top;\n",
       "    }\n",
       "\n",
       "    .dataframe thead th {\n",
       "        text-align: right;\n",
       "    }\n",
       "</style>\n",
       "<table border=\"1\" class=\"dataframe\">\n",
       "  <thead>\n",
       "    <tr style=\"text-align: right;\">\n",
       "      <th></th>\n",
       "      <th>federal_action_obligation</th>\n",
       "      <th>total_dollars_obligated</th>\n",
       "      <th>base_and_exercised_options_value</th>\n",
       "      <th>current_total_value_of_award</th>\n",
       "      <th>base_and_all_options_value</th>\n",
       "      <th>potential_total_value_of_award</th>\n",
       "    </tr>\n",
       "  </thead>\n",
       "  <tbody>\n",
       "    <tr>\n",
       "      <td>0</td>\n",
       "      <td>-7702.86</td>\n",
       "      <td>6003953.42</td>\n",
       "      <td>-7702.86</td>\n",
       "      <td>6059478.42</td>\n",
       "      <td>-148339.00</td>\n",
       "      <td>6067181.28</td>\n",
       "    </tr>\n",
       "    <tr>\n",
       "      <td>1</td>\n",
       "      <td>0.00</td>\n",
       "      <td>104830.31</td>\n",
       "      <td>0.00</td>\n",
       "      <td>104830.31</td>\n",
       "      <td>0.00</td>\n",
       "      <td>104830.31</td>\n",
       "    </tr>\n",
       "    <tr>\n",
       "      <td>2</td>\n",
       "      <td>-1566.00</td>\n",
       "      <td>2088.00</td>\n",
       "      <td>-1566.00</td>\n",
       "      <td>2088.00</td>\n",
       "      <td>-1566.00</td>\n",
       "      <td>2088.00</td>\n",
       "    </tr>\n",
       "    <tr>\n",
       "      <td>3</td>\n",
       "      <td>0.00</td>\n",
       "      <td>1152695.02</td>\n",
       "      <td>0.00</td>\n",
       "      <td>1152695.02</td>\n",
       "      <td>0.00</td>\n",
       "      <td>1152695.02</td>\n",
       "    </tr>\n",
       "    <tr>\n",
       "      <td>4</td>\n",
       "      <td>-2208.12</td>\n",
       "      <td>13654.38</td>\n",
       "      <td>-2208.12</td>\n",
       "      <td>13654.38</td>\n",
       "      <td>-2208.12</td>\n",
       "      <td>13654.38</td>\n",
       "    </tr>\n",
       "  </tbody>\n",
       "</table>\n",
       "</div>"
      ],
      "text/plain": [
       "   federal_action_obligation  total_dollars_obligated  \\\n",
       "0                   -7702.86               6003953.42   \n",
       "1                       0.00                104830.31   \n",
       "2                   -1566.00                  2088.00   \n",
       "3                       0.00               1152695.02   \n",
       "4                   -2208.12                 13654.38   \n",
       "\n",
       "   base_and_exercised_options_value  current_total_value_of_award  \\\n",
       "0                          -7702.86                    6059478.42   \n",
       "1                              0.00                     104830.31   \n",
       "2                          -1566.00                       2088.00   \n",
       "3                              0.00                    1152695.02   \n",
       "4                          -2208.12                      13654.38   \n",
       "\n",
       "   base_and_all_options_value  potential_total_value_of_award  \n",
       "0                  -148339.00                      6067181.28  \n",
       "1                        0.00                       104830.31  \n",
       "2                    -1566.00                         2088.00  \n",
       "3                        0.00                      1152695.02  \n",
       "4                    -2208.12                        13654.38  "
      ]
     },
     "execution_count": 7,
     "metadata": {},
     "output_type": "execute_result"
    }
   ],
   "source": [
    "key_columns.head()"
   ]
  },
  {
   "cell_type": "code",
   "execution_count": 8,
   "metadata": {},
   "outputs": [],
   "source": [
    "#create three new features  to be included in analysis\n",
    "key_columns['percent awarded over total amount'] = key_columns.current_total_value_of_award/ key_columns.potential_total_value_of_award\n",
    "key_columns['percent obligated of potential total award value'] = key_columns.total_dollars_obligated/ key_columns.potential_total_value_of_award\n",
    "key_columns['percent obligated of total awarded value'] = key_columns.total_dollars_obligated/ key_columns.current_total_value_of_award\n"
   ]
  },
  {
   "cell_type": "code",
   "execution_count": 9,
   "metadata": {},
   "outputs": [
    {
     "data": {
      "text/plain": [
       "Index(['federal_action_obligation', 'total_dollars_obligated',\n",
       "       'base_and_exercised_options_value', 'current_total_value_of_award',\n",
       "       'base_and_all_options_value', 'potential_total_value_of_award',\n",
       "       'percent awarded over total amount',\n",
       "       'percent obligated of potential total award value',\n",
       "       'percent obligated of total awarded value'],\n",
       "      dtype='object')"
      ]
     },
     "execution_count": 9,
     "metadata": {},
     "output_type": "execute_result"
    }
   ],
   "source": [
    "key_columns.columns"
   ]
  },
  {
   "cell_type": "code",
   "execution_count": 10,
   "metadata": {},
   "outputs": [
    {
     "data": {
      "text/html": [
       "<div>\n",
       "<style scoped>\n",
       "    .dataframe tbody tr th:only-of-type {\n",
       "        vertical-align: middle;\n",
       "    }\n",
       "\n",
       "    .dataframe tbody tr th {\n",
       "        vertical-align: top;\n",
       "    }\n",
       "\n",
       "    .dataframe thead th {\n",
       "        text-align: right;\n",
       "    }\n",
       "</style>\n",
       "<table border=\"1\" class=\"dataframe\">\n",
       "  <thead>\n",
       "    <tr style=\"text-align: right;\">\n",
       "      <th></th>\n",
       "      <th>federal_action_obligation</th>\n",
       "      <th>base_and_exercised_options_value</th>\n",
       "      <th>current_total_value_of_award</th>\n",
       "      <th>total_dollars_obligated</th>\n",
       "      <th>base_and_all_options_value</th>\n",
       "      <th>potential_total_value_of_award</th>\n",
       "      <th>percent obligated of total awarded value</th>\n",
       "      <th>percent obligated of potential total award value</th>\n",
       "      <th>percent awarded over total amount</th>\n",
       "    </tr>\n",
       "  </thead>\n",
       "  <tbody>\n",
       "    <tr>\n",
       "      <td>federal_action_obligation</td>\n",
       "      <td>1.0</td>\n",
       "      <td>0.9828</td>\n",
       "      <td>0.164765</td>\n",
       "      <td>0.164635</td>\n",
       "      <td>0.046858</td>\n",
       "      <td>0.025938</td>\n",
       "      <td>-0.002213</td>\n",
       "      <td>-0.013916</td>\n",
       "      <td>-0.029564</td>\n",
       "    </tr>\n",
       "  </tbody>\n",
       "</table>\n",
       "</div>"
      ],
      "text/plain": [
       "                           federal_action_obligation  \\\n",
       "federal_action_obligation                        1.0   \n",
       "\n",
       "                           base_and_exercised_options_value  \\\n",
       "federal_action_obligation                            0.9828   \n",
       "\n",
       "                           current_total_value_of_award  \\\n",
       "federal_action_obligation                      0.164765   \n",
       "\n",
       "                           total_dollars_obligated  \\\n",
       "federal_action_obligation                 0.164635   \n",
       "\n",
       "                           base_and_all_options_value  \\\n",
       "federal_action_obligation                    0.046858   \n",
       "\n",
       "                           potential_total_value_of_award  \\\n",
       "federal_action_obligation                        0.025938   \n",
       "\n",
       "                           percent obligated of total awarded value  \\\n",
       "federal_action_obligation                                 -0.002213   \n",
       "\n",
       "                           percent obligated of potential total award value  \\\n",
       "federal_action_obligation                                         -0.013916   \n",
       "\n",
       "                           percent awarded over total amount  \n",
       "federal_action_obligation                          -0.029564  "
      ]
     },
     "execution_count": 10,
     "metadata": {},
     "output_type": "execute_result"
    }
   ],
   "source": [
    "#looking at correlations\n",
    "corr = key_columns.corr().loc[['federal_action_obligation']]\n",
    "corr2 = corr.sort_values('federal_action_obligation',axis=1,ascending=False)\n",
    "corr2"
   ]
  },
  {
   "cell_type": "code",
   "execution_count": 12,
   "metadata": {
    "scrolled": true
   },
   "outputs": [
    {
     "data": {
      "text/html": [
       "<div>\n",
       "<style scoped>\n",
       "    .dataframe tbody tr th:only-of-type {\n",
       "        vertical-align: middle;\n",
       "    }\n",
       "\n",
       "    .dataframe tbody tr th {\n",
       "        vertical-align: top;\n",
       "    }\n",
       "\n",
       "    .dataframe thead th {\n",
       "        text-align: right;\n",
       "    }\n",
       "</style>\n",
       "<table border=\"1\" class=\"dataframe\">\n",
       "  <thead>\n",
       "    <tr style=\"text-align: right;\">\n",
       "      <th></th>\n",
       "      <th>federal_action_obligation</th>\n",
       "      <th>total_dollars_obligated</th>\n",
       "      <th>base_and_exercised_options_value</th>\n",
       "      <th>current_total_value_of_award</th>\n",
       "      <th>base_and_all_options_value</th>\n",
       "      <th>potential_total_value_of_award</th>\n",
       "      <th>percent awarded over total amount</th>\n",
       "      <th>percent obligated of potential total award value</th>\n",
       "      <th>percent obligated of total awarded value</th>\n",
       "      <th>significant deobligation</th>\n",
       "    </tr>\n",
       "  </thead>\n",
       "  <tbody>\n",
       "    <tr>\n",
       "      <td>0</td>\n",
       "      <td>-7702.86</td>\n",
       "      <td>6003953.42</td>\n",
       "      <td>-7702.86</td>\n",
       "      <td>6059478.42</td>\n",
       "      <td>-148339.00</td>\n",
       "      <td>6067181.28</td>\n",
       "      <td>0.99873</td>\n",
       "      <td>0.989579</td>\n",
       "      <td>0.990837</td>\n",
       "      <td>1</td>\n",
       "    </tr>\n",
       "    <tr>\n",
       "      <td>1</td>\n",
       "      <td>0.00</td>\n",
       "      <td>104830.31</td>\n",
       "      <td>0.00</td>\n",
       "      <td>104830.31</td>\n",
       "      <td>0.00</td>\n",
       "      <td>104830.31</td>\n",
       "      <td>1.00000</td>\n",
       "      <td>1.000000</td>\n",
       "      <td>1.000000</td>\n",
       "      <td>0</td>\n",
       "    </tr>\n",
       "    <tr>\n",
       "      <td>2</td>\n",
       "      <td>-1566.00</td>\n",
       "      <td>2088.00</td>\n",
       "      <td>-1566.00</td>\n",
       "      <td>2088.00</td>\n",
       "      <td>-1566.00</td>\n",
       "      <td>2088.00</td>\n",
       "      <td>1.00000</td>\n",
       "      <td>1.000000</td>\n",
       "      <td>1.000000</td>\n",
       "      <td>1</td>\n",
       "    </tr>\n",
       "    <tr>\n",
       "      <td>3</td>\n",
       "      <td>0.00</td>\n",
       "      <td>1152695.02</td>\n",
       "      <td>0.00</td>\n",
       "      <td>1152695.02</td>\n",
       "      <td>0.00</td>\n",
       "      <td>1152695.02</td>\n",
       "      <td>1.00000</td>\n",
       "      <td>1.000000</td>\n",
       "      <td>1.000000</td>\n",
       "      <td>0</td>\n",
       "    </tr>\n",
       "    <tr>\n",
       "      <td>4</td>\n",
       "      <td>-2208.12</td>\n",
       "      <td>13654.38</td>\n",
       "      <td>-2208.12</td>\n",
       "      <td>13654.38</td>\n",
       "      <td>-2208.12</td>\n",
       "      <td>13654.38</td>\n",
       "      <td>1.00000</td>\n",
       "      <td>1.000000</td>\n",
       "      <td>1.000000</td>\n",
       "      <td>1</td>\n",
       "    </tr>\n",
       "  </tbody>\n",
       "</table>\n",
       "</div>"
      ],
      "text/plain": [
       "   federal_action_obligation  total_dollars_obligated  \\\n",
       "0                   -7702.86               6003953.42   \n",
       "1                       0.00                104830.31   \n",
       "2                   -1566.00                  2088.00   \n",
       "3                       0.00               1152695.02   \n",
       "4                   -2208.12                 13654.38   \n",
       "\n",
       "   base_and_exercised_options_value  current_total_value_of_award  \\\n",
       "0                          -7702.86                    6059478.42   \n",
       "1                              0.00                     104830.31   \n",
       "2                          -1566.00                       2088.00   \n",
       "3                              0.00                    1152695.02   \n",
       "4                          -2208.12                      13654.38   \n",
       "\n",
       "   base_and_all_options_value  potential_total_value_of_award  \\\n",
       "0                  -148339.00                      6067181.28   \n",
       "1                        0.00                       104830.31   \n",
       "2                    -1566.00                         2088.00   \n",
       "3                        0.00                      1152695.02   \n",
       "4                    -2208.12                        13654.38   \n",
       "\n",
       "   percent awarded over total amount  \\\n",
       "0                            0.99873   \n",
       "1                            1.00000   \n",
       "2                            1.00000   \n",
       "3                            1.00000   \n",
       "4                            1.00000   \n",
       "\n",
       "   percent obligated of potential total award value  \\\n",
       "0                                          0.989579   \n",
       "1                                          1.000000   \n",
       "2                                          1.000000   \n",
       "3                                          1.000000   \n",
       "4                                          1.000000   \n",
       "\n",
       "   percent obligated of total awarded value  significant deobligation  \n",
       "0                                  0.990837                         1  \n",
       "1                                  1.000000                         0  \n",
       "2                                  1.000000                         1  \n",
       "3                                  1.000000                         0  \n",
       "4                                  1.000000                         1  "
      ]
     },
     "execution_count": 12,
     "metadata": {},
     "output_type": "execute_result"
    }
   ],
   "source": [
    "#create binary variable\n",
    "def over_thresh(fao):\n",
    "    if fao < -1000:\n",
    "        return 1\n",
    "    else:\n",
    "        return 0\n",
    "\n",
    "key_columns['significant deobligation'] = key_columns.apply(lambda x : over_thresh(x['federal_action_obligation']), axis=1)\n",
    "key_columns.head(5)"
   ]
  },
  {
   "cell_type": "code",
   "execution_count": 13,
   "metadata": {},
   "outputs": [
    {
     "data": {
      "text/html": [
       "<div>\n",
       "<style scoped>\n",
       "    .dataframe tbody tr th:only-of-type {\n",
       "        vertical-align: middle;\n",
       "    }\n",
       "\n",
       "    .dataframe tbody tr th {\n",
       "        vertical-align: top;\n",
       "    }\n",
       "\n",
       "    .dataframe thead th {\n",
       "        text-align: right;\n",
       "    }\n",
       "</style>\n",
       "<table border=\"1\" class=\"dataframe\">\n",
       "  <thead>\n",
       "    <tr style=\"text-align: right;\">\n",
       "      <th></th>\n",
       "      <th>federal_action_obligation</th>\n",
       "      <th>total_dollars_obligated</th>\n",
       "      <th>base_and_exercised_options_value</th>\n",
       "      <th>current_total_value_of_award</th>\n",
       "      <th>base_and_all_options_value</th>\n",
       "      <th>potential_total_value_of_award</th>\n",
       "      <th>percent awarded over total amount</th>\n",
       "      <th>percent obligated of potential total award value</th>\n",
       "      <th>percent obligated of total awarded value</th>\n",
       "      <th>significant deobligation</th>\n",
       "    </tr>\n",
       "  </thead>\n",
       "  <tbody>\n",
       "    <tr>\n",
       "      <td>62489</td>\n",
       "      <td>-75532042.20</td>\n",
       "      <td>17797957.8</td>\n",
       "      <td>-75532042.20</td>\n",
       "      <td>17797957.8</td>\n",
       "      <td>-75532042.20</td>\n",
       "      <td>193477957.8</td>\n",
       "      <td>0.091990</td>\n",
       "      <td>0.091990</td>\n",
       "      <td>1.0</td>\n",
       "      <td>1</td>\n",
       "    </tr>\n",
       "    <tr>\n",
       "      <td>1148</td>\n",
       "      <td>-64745000.00</td>\n",
       "      <td>5255000.0</td>\n",
       "      <td>-64745000.00</td>\n",
       "      <td>5255000.0</td>\n",
       "      <td>-64745000.00</td>\n",
       "      <td>5255000.0</td>\n",
       "      <td>1.000000</td>\n",
       "      <td>1.000000</td>\n",
       "      <td>1.0</td>\n",
       "      <td>1</td>\n",
       "    </tr>\n",
       "    <tr>\n",
       "      <td>3229</td>\n",
       "      <td>-28188433.68</td>\n",
       "      <td>0.0</td>\n",
       "      <td>-28188433.68</td>\n",
       "      <td>0.0</td>\n",
       "      <td>-28188433.68</td>\n",
       "      <td>0.0</td>\n",
       "      <td>NaN</td>\n",
       "      <td>NaN</td>\n",
       "      <td>NaN</td>\n",
       "      <td>1</td>\n",
       "    </tr>\n",
       "    <tr>\n",
       "      <td>55316</td>\n",
       "      <td>-24144275.00</td>\n",
       "      <td>16425925.0</td>\n",
       "      <td>-24144275.00</td>\n",
       "      <td>16425925.0</td>\n",
       "      <td>-24144275.00</td>\n",
       "      <td>16763425.0</td>\n",
       "      <td>0.979867</td>\n",
       "      <td>0.979867</td>\n",
       "      <td>1.0</td>\n",
       "      <td>1</td>\n",
       "    </tr>\n",
       "    <tr>\n",
       "      <td>60186</td>\n",
       "      <td>-22699500.00</td>\n",
       "      <td>25500.0</td>\n",
       "      <td>-22699500.00</td>\n",
       "      <td>25500.0</td>\n",
       "      <td>-22699500.00</td>\n",
       "      <td>522500.0</td>\n",
       "      <td>0.048804</td>\n",
       "      <td>0.048804</td>\n",
       "      <td>1.0</td>\n",
       "      <td>1</td>\n",
       "    </tr>\n",
       "  </tbody>\n",
       "</table>\n",
       "</div>"
      ],
      "text/plain": [
       "       federal_action_obligation  total_dollars_obligated  \\\n",
       "62489               -75532042.20               17797957.8   \n",
       "1148                -64745000.00                5255000.0   \n",
       "3229                -28188433.68                      0.0   \n",
       "55316               -24144275.00               16425925.0   \n",
       "60186               -22699500.00                  25500.0   \n",
       "\n",
       "       base_and_exercised_options_value  current_total_value_of_award  \\\n",
       "62489                      -75532042.20                    17797957.8   \n",
       "1148                       -64745000.00                     5255000.0   \n",
       "3229                       -28188433.68                           0.0   \n",
       "55316                      -24144275.00                    16425925.0   \n",
       "60186                      -22699500.00                       25500.0   \n",
       "\n",
       "       base_and_all_options_value  potential_total_value_of_award  \\\n",
       "62489                -75532042.20                     193477957.8   \n",
       "1148                 -64745000.00                       5255000.0   \n",
       "3229                 -28188433.68                             0.0   \n",
       "55316                -24144275.00                      16763425.0   \n",
       "60186                -22699500.00                        522500.0   \n",
       "\n",
       "       percent awarded over total amount  \\\n",
       "62489                           0.091990   \n",
       "1148                            1.000000   \n",
       "3229                                 NaN   \n",
       "55316                           0.979867   \n",
       "60186                           0.048804   \n",
       "\n",
       "       percent obligated of potential total award value  \\\n",
       "62489                                          0.091990   \n",
       "1148                                           1.000000   \n",
       "3229                                                NaN   \n",
       "55316                                          0.979867   \n",
       "60186                                          0.048804   \n",
       "\n",
       "       percent obligated of total awarded value  significant deobligation  \n",
       "62489                                       1.0                         1  \n",
       "1148                                        1.0                         1  \n",
       "3229                                        NaN                         1  \n",
       "55316                                       1.0                         1  \n",
       "60186                                       1.0                         1  "
      ]
     },
     "execution_count": 13,
     "metadata": {},
     "output_type": "execute_result"
    }
   ],
   "source": [
    "key_columns.sort_values(\"federal_action_obligation\",axis = 0, ascending = True).head(5)"
   ]
  },
  {
   "cell_type": "code",
   "execution_count": 19,
   "metadata": {},
   "outputs": [
    {
     "data": {
      "text/plain": [
       "<matplotlib.axes._subplots.AxesSubplot at 0x243d27f0908>"
      ]
     },
     "execution_count": 19,
     "metadata": {},
     "output_type": "execute_result"
    },
    {
     "data": {
      "image/png": "[encoded data removed]",
      "text/plain": [
       "<Figure size 1440x864 with 2 Axes>"
      ]
     },
     "metadata": {
      "needs_background": "light"
     },
     "output_type": "display_data"
    }
   ],
   "source": [
    "import seaborn as sns\n",
    "import matplotlib.pyplot as plt\n",
    "plt.figure(figsize = (20,12))\n",
    "sns.heatmap(key_columns.corr(), annot=True)"
   ]
  },
  {
   "cell_type": "markdown",
   "metadata": {},
   "source": [
    "Looking at this heatmap we can see that there are some strong correlations between features, but not necessarily with the target variable. The feature most highly correlated is the percent obligated of total award value."
   ]
  },
  {
   "cell_type": "code",
   "execution_count": 24,
   "metadata": {},
   "outputs": [
    {
     "data": {
      "text/html": [
       "<div>\n",
       "<style scoped>\n",
       "    .dataframe tbody tr th:only-of-type {\n",
       "        vertical-align: middle;\n",
       "    }\n",
       "\n",
       "    .dataframe tbody tr th {\n",
       "        vertical-align: top;\n",
       "    }\n",
       "\n",
       "    .dataframe thead th {\n",
       "        text-align: right;\n",
       "    }\n",
       "</style>\n",
       "<table border=\"1\" class=\"dataframe\">\n",
       "  <thead>\n",
       "    <tr style=\"text-align: right;\">\n",
       "      <th></th>\n",
       "      <th>federal_action_obligation</th>\n",
       "      <th>total_dollars_obligated</th>\n",
       "      <th>base_and_exercised_options_value</th>\n",
       "      <th>current_total_value_of_award</th>\n",
       "      <th>base_and_all_options_value</th>\n",
       "      <th>potential_total_value_of_award</th>\n",
       "      <th>percent awarded over total amount</th>\n",
       "      <th>percent obligated of potential total award value</th>\n",
       "      <th>percent obligated of total awarded value</th>\n",
       "    </tr>\n",
       "  </thead>\n",
       "  <tbody>\n",
       "    <tr>\n",
       "      <td>0</td>\n",
       "      <td>-7702.86</td>\n",
       "      <td>6003953.42</td>\n",
       "      <td>-7702.86</td>\n",
       "      <td>6059478.42</td>\n",
       "      <td>-148339.00</td>\n",
       "      <td>6067181.28</td>\n",
       "      <td>0.99873</td>\n",
       "      <td>0.989579</td>\n",
       "      <td>0.990837</td>\n",
       "    </tr>\n",
       "    <tr>\n",
       "      <td>1</td>\n",
       "      <td>0.00</td>\n",
       "      <td>104830.31</td>\n",
       "      <td>0.00</td>\n",
       "      <td>104830.31</td>\n",
       "      <td>0.00</td>\n",
       "      <td>104830.31</td>\n",
       "      <td>1.00000</td>\n",
       "      <td>1.000000</td>\n",
       "      <td>1.000000</td>\n",
       "    </tr>\n",
       "    <tr>\n",
       "      <td>2</td>\n",
       "      <td>-1566.00</td>\n",
       "      <td>2088.00</td>\n",
       "      <td>-1566.00</td>\n",
       "      <td>2088.00</td>\n",
       "      <td>-1566.00</td>\n",
       "      <td>2088.00</td>\n",
       "      <td>1.00000</td>\n",
       "      <td>1.000000</td>\n",
       "      <td>1.000000</td>\n",
       "    </tr>\n",
       "    <tr>\n",
       "      <td>3</td>\n",
       "      <td>0.00</td>\n",
       "      <td>1152695.02</td>\n",
       "      <td>0.00</td>\n",
       "      <td>1152695.02</td>\n",
       "      <td>0.00</td>\n",
       "      <td>1152695.02</td>\n",
       "      <td>1.00000</td>\n",
       "      <td>1.000000</td>\n",
       "      <td>1.000000</td>\n",
       "    </tr>\n",
       "    <tr>\n",
       "      <td>4</td>\n",
       "      <td>-2208.12</td>\n",
       "      <td>13654.38</td>\n",
       "      <td>-2208.12</td>\n",
       "      <td>13654.38</td>\n",
       "      <td>-2208.12</td>\n",
       "      <td>13654.38</td>\n",
       "      <td>1.00000</td>\n",
       "      <td>1.000000</td>\n",
       "      <td>1.000000</td>\n",
       "    </tr>\n",
       "  </tbody>\n",
       "</table>\n",
       "</div>"
      ],
      "text/plain": [
       "   federal_action_obligation  total_dollars_obligated  \\\n",
       "0                   -7702.86               6003953.42   \n",
       "1                       0.00                104830.31   \n",
       "2                   -1566.00                  2088.00   \n",
       "3                       0.00               1152695.02   \n",
       "4                   -2208.12                 13654.38   \n",
       "\n",
       "   base_and_exercised_options_value  current_total_value_of_award  \\\n",
       "0                          -7702.86                    6059478.42   \n",
       "1                              0.00                     104830.31   \n",
       "2                          -1566.00                       2088.00   \n",
       "3                              0.00                    1152695.02   \n",
       "4                          -2208.12                      13654.38   \n",
       "\n",
       "   base_and_all_options_value  potential_total_value_of_award  \\\n",
       "0                  -148339.00                      6067181.28   \n",
       "1                        0.00                       104830.31   \n",
       "2                    -1566.00                         2088.00   \n",
       "3                        0.00                      1152695.02   \n",
       "4                    -2208.12                        13654.38   \n",
       "\n",
       "   percent awarded over total amount  \\\n",
       "0                            0.99873   \n",
       "1                            1.00000   \n",
       "2                            1.00000   \n",
       "3                            1.00000   \n",
       "4                            1.00000   \n",
       "\n",
       "   percent obligated of potential total award value  \\\n",
       "0                                          0.989579   \n",
       "1                                          1.000000   \n",
       "2                                          1.000000   \n",
       "3                                          1.000000   \n",
       "4                                          1.000000   \n",
       "\n",
       "   percent obligated of total awarded value  \n",
       "0                                  0.990837  \n",
       "1                                  1.000000  \n",
       "2                                  1.000000  \n",
       "3                                  1.000000  \n",
       "4                                  1.000000  "
      ]
     },
     "execution_count": 24,
     "metadata": {},
     "output_type": "execute_result"
    }
   ],
   "source": [
    "key_columns.fillna(0, inplace=True)\n",
    "X = key_columns.drop(['significant deobligation'], axis = 1)\n",
    "X.head(5)"
   ]
  },
  {
   "cell_type": "code",
   "execution_count": 25,
   "metadata": {},
   "outputs": [
    {
     "data": {
      "text/plain": [
       "0    1\n",
       "1    0\n",
       "2    1\n",
       "3    0\n",
       "4    1\n",
       "Name: significant deobligation, dtype: int64"
      ]
     },
     "execution_count": 25,
     "metadata": {},
     "output_type": "execute_result"
    }
   ],
   "source": [
    "#split data into feature and target\n",
    "y = key_columns['significant deobligation']\n",
    "y.head(5)"
   ]
  },
  {
   "cell_type": "markdown",
   "metadata": {},
   "source": [
    "I received errors when trying to run this at first with the error being \"Input contains NaN, infinity or a value too large for dtype('float64')\". With that said, I adjusted the code to make the NaN values **0** as a dummy set so we would know it was not real. I was weary on making it '0' but figured it was better than making it the mean as some posts suggested."
   ]
  },
  {
   "cell_type": "code",
   "execution_count": 26,
   "metadata": {},
   "outputs": [
    {
     "name": "stdout",
     "output_type": "stream",
     "text": [
      "(53226, 9) (53226,)\n",
      "(13307, 9) (13307,)\n"
     ]
    }
   ],
   "source": [
    "#train the data \n",
    "X_train, X_test, y_train, y_test = train_test_split(features, target, test_size=0.2)\n",
    "print (X_train.shape, y_train.shape)\n",
    "print (X_test.shape, y_test.shape)"
   ]
  },
  {
   "cell_type": "code",
   "execution_count": 28,
   "metadata": {},
   "outputs": [
    {
     "name": "stderr",
     "output_type": "stream",
     "text": [
      "C:\\Users\\jecraft\\AppData\\Local\\Continuum\\anaconda3\\lib\\site-packages\\sklearn\\svm\\base.py:193: FutureWarning: The default value of gamma will change from 'auto' to 'scale' in version 0.22 to account better for unscaled features. Set gamma explicitly to 'auto' or 'scale' to avoid this warning.\n",
      "  \"avoid this warning.\", FutureWarning)\n"
     ]
    },
    {
     "data": {
      "text/plain": [
       "SVC(C=1.0, cache_size=200, class_weight=None, coef0=0.0,\n",
       "    decision_function_shape='ovr', degree=3, gamma='auto_deprecated',\n",
       "    kernel='rbf', max_iter=-1, probability=False, random_state=None,\n",
       "    shrinking=True, tol=0.001, verbose=False)"
      ]
     },
     "execution_count": 28,
     "metadata": {},
     "output_type": "execute_result"
    }
   ],
   "source": [
    "from sklearn.svm import SVC\n",
    "svc_model = SVC()\n",
    "svc_model.fit(X_train, y_train)\n",
    "#taking a long time to run"
   ]
  },
  {
   "cell_type": "code",
   "execution_count": 30,
   "metadata": {},
   "outputs": [
    {
     "name": "stdout",
     "output_type": "stream",
     "text": [
      "[0 0 0 ... 0 0 0]\n"
     ]
    }
   ],
   "source": [
    "y_predict = svc_model.predict(X_test)\n",
    "print(y_predict)"
   ]
  },
  {
   "cell_type": "code",
   "execution_count": 34,
   "metadata": {},
   "outputs": [
    {
     "name": "stdout",
     "output_type": "stream",
     "text": [
      "                   predicted significant deobligation  predicted obligated\n",
      "deobligated funds                                  29                 1130\n",
      "obligated                                           0                12148\n"
     ]
    }
   ],
   "source": [
    "from sklearn.metrics import classification_report, confusion_matrix\n",
    "cm = np.array(confusion_matrix(y_test, y_predict, labels = [1,0]))\n",
    "confusion = pd.DataFrame(cm, index=['deobligated funds','obligated'],\n",
    "                         columns = ['predicted significant deobligation','predicted obligated'])\n",
    "print(confusion)"
   ]
  },
  {
   "cell_type": "markdown",
   "metadata": {},
   "source": [
    "1 = significant deobligation\n",
    "0 = obligated (values greater than -1,000 for federal authorized amounts)\n",
    "\n",
    "True Negative = 29 (i.e. - cases where the model is **CORRECTLY** predicting significant deobligations)\n",
    "False Negative = 0 (i.e. - cases where the model **INCORRECTLY** predicts a significant deobligation as obligated)\n",
    "False Positive = 1130 (i.e - cases where the model **INCORRECTLY** predicts a obligated value as a significant deobligation)\n",
    "True Positive = 12148 ( i.e. - cases where the model is **CORRECTLY** predicting obligated values as obligated)\n",
    "\n",
    "The model is not great currently due to the false positives, but it looks like it isn't running into situations where we are saying a significant deobligation occured. "
   ]
  },
  {
   "cell_type": "code",
   "execution_count": 35,
   "metadata": {},
   "outputs": [
    {
     "data": {
      "text/plain": [
       "<matplotlib.axes._subplots.AxesSubplot at 0x243d2e9b908>"
      ]
     },
     "execution_count": 35,
     "metadata": {},
     "output_type": "execute_result"
    },
    {
     "data": {
      "image/png": "[encoded data removed]",
      "text/plain": [
       "<Figure size 432x288 with 2 Axes>"
      ]
     },
     "metadata": {
      "needs_background": "light"
     },
     "output_type": "display_data"
    }
   ],
   "source": [
    "sns.heatmap(confusion, annot=True)"
   ]
  },
  {
   "cell_type": "code",
   "execution_count": 37,
   "metadata": {},
   "outputs": [
    {
     "name": "stdout",
     "output_type": "stream",
     "text": [
      "              precision    recall  f1-score   support\n",
      "\n",
      "           0       0.91      1.00      0.96     12148\n",
      "           1       1.00      0.03      0.05      1159\n",
      "\n",
      "    accuracy                           0.92     13307\n",
      "   macro avg       0.96      0.51      0.50     13307\n",
      "weighted avg       0.92      0.92      0.88     13307\n",
      "\n"
     ]
    }
   ],
   "source": [
    "print(classification_report(y_test,y_predict))"
   ]
  },
  {
   "cell_type": "markdown",
   "metadata": {},
   "source": [
    "Not feeling too confident that I did this correctly but if so, this model seems to be pretty accurate!"
   ]
  },
  {
   "cell_type": "code",
   "execution_count": null,
   "metadata": {},
   "outputs": [],
   "source": []
  }
 ],
 "metadata": {
  "kernelspec": {
   "display_name": "Python 3",
   "language": "python",
   "name": "python3"
  },
  "language_info": {
   "codemirror_mode": {
    "name": "ipython",
    "version": 3
   },
   "file_extension": ".py",
   "mimetype": "text/x-python",
   "name": "python",
   "nbconvert_exporter": "python",
   "pygments_lexer": "ipython3",
   "version": "3.7.4"
  }
 },
 "nbformat": 4,
 "nbformat_minor": 2
}
