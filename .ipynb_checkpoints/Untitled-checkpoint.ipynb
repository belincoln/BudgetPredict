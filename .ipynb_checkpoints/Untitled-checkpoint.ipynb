{
 "cells": [
  {
   "cell_type": "code",
   "execution_count": null,
   "metadata": {},
   "outputs": [],
   "source": [
    "import pandas as pd\n",
    "\n",
    "data = pd.read_csv('FY2019_070_Contracts_Full_20200110_1.csv')\n",
    "\n",
    "print(data.shape)\n",
    "\n",
    "def over_thresh(fao):\n",
    "    if fao < -7000:\n",
    "        return 1\n",
    "    else:\n",
    "        return 0\n",
    "\n",
    "data['over_under'] = data.apply(lambda x : over_thresh(x['federal_action_obligation']), axis = 1)\n"
   ]
  }
 ],
 "metadata": {
  "kernelspec": {
   "display_name": "Python 3",
   "language": "python",
   "name": "python3"
  },
  "language_info": {
   "codemirror_mode": {
    "name": "ipython",
    "version": 3
   },
   "file_extension": ".py",
   "mimetype": "text/x-python",
   "name": "python",
   "nbconvert_exporter": "python",
   "pygments_lexer": "ipython3",
   "version": "3.7.4"
  }
 },
 "nbformat": 4,
 "nbformat_minor": 2
}
